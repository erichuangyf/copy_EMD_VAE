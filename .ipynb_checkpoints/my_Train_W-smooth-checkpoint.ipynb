{
 "cells": [
  {
   "cell_type": "markdown",
   "metadata": {},
   "source": [
    "# Train on W-jets"
   ]
  },
  {
   "cell_type": "code",
   "execution_count": 2,
   "metadata": {
    "tags": []
   },
   "outputs": [
    {
     "name": "stdout",
     "output_type": "stream",
     "text": [
      "1 Physical GPUs, 1 Logical GPUs\n",
      "WARNING:tensorflow:Collective ops is not configured at program startup. Some performance features may not be enabled.\n",
      "INFO:tensorflow:Using MirroredStrategy with devices ('/device:GPU:0',)\n",
      "INFO:tensorflow:Single-worker MultiWorkerMirroredStrategy with local_devices = ('/device:GPU:0',), communication = CommunicationImplementation.AUTO\n"
     ]
    }
   ],
   "source": [
    "import tensorflow as tf\n",
    "\n",
    "gpus = tf.config.experimental.list_physical_devices('GPU')\n",
    "if gpus:\n",
    "  try:\n",
    "    # Currently, memory growth needs to be the same across GPUs\n",
    "    for gpu in gpus:\n",
    "      tf.config.experimental.set_memory_growth(gpu, True)\n",
    "    logical_gpus = tf.config.experimental.list_logical_devices('GPU')\n",
    "    print(len(gpus), \"Physical GPUs,\", len(logical_gpus), \"Logical GPUs\")\n",
    "  except RuntimeError as e:\n",
    "    # Memory growth must be set before GPUs have been initialized\n",
    "    print(e)\n",
    "\n",
    "import tensorflow.keras as keras\n",
    "import tensorflow.keras.backend as K\n",
    "# from tensorflow.keras.layers import Input, Dense, Activation, BatchNormalization\n",
    "# from tensorflow.keras.layers import Conv1D\n",
    "# from tensorflow.keras.layers import Flatten, Reshape, Lambda\n",
    "# from tensorflow.keras.utils import plot_model\n",
    "# from tensorflow.keras import Model\n",
    "\n",
    "import os\n",
    "import os.path as osp\n",
    "import sys\n",
    "\n",
    "import numpy as np\n",
    "#from scipy import linalg as LA\n",
    "\n",
    "import matplotlib\n",
    "import matplotlib.pyplot as plt\n",
    "\n",
    "%load_ext autoreload\n",
    "%autoreload 2\n",
    "\n",
    "from utils.tf_sinkhorn import ground_distance_tf_nograd, sinkhorn_knopp_tf_scaling_stabilized_class\n",
    "import utils.VAE_model_tools\n",
    "from utils.VAE_model_tools import build_and_compile_annealing_vae, betaVAEModel, reset_metrics\n",
    "\n",
    "import pandas\n",
    "import matplotlib.pyplot as plt\n",
    "\n",
    "import h5py\n",
    "import pickle"
   ]
  },
  {
   "cell_type": "code",
   "execution_count": 4,
   "metadata": {},
   "outputs": [],
   "source": [
    "def create_dir(dir_path):\n",
    "    ''' Creates a directory (or nested directories) if they don't exist.\n",
    "    '''\n",
    "    if not osp.exists(dir_path):\n",
    "        os.makedirs(dir_path)\n",
    "\n",
    "    return dir_path\n",
    "\n",
    "def ptetaphiE_to_Epxpypz(jets):\n",
    "    pt = jets[:,:,0]\n",
    "    eta = jets[:,:,1]\n",
    "    phi = jets[:,:,2]\n",
    "    E = jets[:,:,3]\n",
    "    \n",
    "    px = pt * np.cos(phi)\n",
    "    py = pt * np.sin(phi)\n",
    "    pz = pt * np.sinh(eta)\n",
    "    \n",
    "    newjets = np.zeros(jets.shape)\n",
    "    newjets[:,:,0] = E\n",
    "    newjets[:,:,1] = px\n",
    "    newjets[:,:,2] = py\n",
    "    newjets[:,:,3] = pz\n",
    "    \n",
    "    return newjets\n",
    "\n",
    "def ptetaphiE_to_ptyphim(jets):\n",
    "    pt = jets[:,:,0]\n",
    "    eta = jets[:,:,1]\n",
    "    phi = jets[:,:,2]\n",
    "    E = jets[:,:,3]\n",
    "    \n",
    "    pz = pt * np.sinh(eta)\n",
    "    y = 0.5*np.nan_to_num(np.log((E+pz)/(E-pz)))\n",
    "    \n",
    "    msqr = np.square(E)-np.square(pt)-np.square(pz)\n",
    "    msqr[np.abs(msqr) < 1e-6] = 0\n",
    "    m = np.sqrt(msqr)\n",
    "    \n",
    "    newjets = np.zeros(jets.shape)\n",
    "    newjets[:,:,0] = pt\n",
    "    newjets[:,:,1] = y\n",
    "    newjets[:,:,2] = phi\n",
    "    newjets[:,:,3] = m\n",
    "    \n",
    "    return newjets\n",
    "    \n",
    "def ptyphim_to_ptetaphiE(jets):\n",
    "    \n",
    "    pt = jets[:,:,0]\n",
    "    y = jets[:,:,1]\n",
    "    phi = jets[:,:,2]\n",
    "    m = jets[:,:,3]\n",
    "    \n",
    "    eta = np.nan_to_num(np.arcsinh(np.sinh(y)*np.sqrt(1+np.square(m/pt))))\n",
    "    pz = pt * np.sinh(eta)\n",
    "    E = np.sqrt(np.square(pz)+np.square(pt)+np.square(m))\n",
    "    \n",
    "    newjets = np.zeros(jets.shape)\n",
    "    newjets[:,:,0] = pt\n",
    "    newjets[:,:,1] = eta\n",
    "    newjets[:,:,2] = phi\n",
    "    newjets[:,:,3] = E\n",
    "    \n",
    "    return newjets\n",
    "    \n",
    "def center_jets_ptetaphiE(jets):\n",
    "    cartesian_jets = ptetaphiE_to_Epxpypz(jets)\n",
    "    sumjet_cartesian = np.sum(cartesian_jets,axis=1)\n",
    "    \n",
    "    sumjet_phi = np.arctan2(sumjet_cartesian[:,2],sumjet_cartesian[:,1])\n",
    "    sumjet_y = 0.5*np.log((sumjet_cartesian[:,0] + sumjet_cartesian[:,-1])/(sumjet_cartesian[:,0] - sumjet_cartesian[:,-1]))\n",
    "    \n",
    "    ptyphim_jets = ptetaphiE_to_ptyphim(jets)\n",
    "    #print(ptyphim_jets[:3,:,:])\n",
    "    \n",
    "    transformed_jets = np.copy(ptyphim_jets)\n",
    "    transformed_jets[:,:,1] = ptyphim_jets[:,:,1] - sumjet_y[:,None]\n",
    "    transformed_jets[:,:,2] = ptyphim_jets[:,:,2] - sumjet_phi[:,None]\n",
    "    transformed_jets[:,:,2] = transformed_jets[:,:,2] + np.pi\n",
    "    transformed_jets[:,:,2] = np.mod(transformed_jets[:,:,2],2*np.pi)\n",
    "    transformed_jets[:,:,2] = transformed_jets[:,:,2] - np.pi\n",
    "\n",
    "    transformed_jets[transformed_jets[:,:,0] == 0] = 0\n",
    "    \n",
    "    newjets = ptyphim_to_ptetaphiE(transformed_jets)\n",
    "    return newjets\n",
    "    "
   ]
  },
  {
   "cell_type": "markdown",
   "metadata": {},
   "source": [
    "## Load and preprocess train/val data"
   ]
  },
  {
   "cell_type": "code",
   "execution_count": 5,
   "metadata": {
    "tags": []
   },
   "outputs": [
    {
     "name": "stdout",
     "output_type": "stream",
     "text": [
      "(602055, 200)\n",
      "Memory in GB: 1.803235039114952\n"
     ]
    }
   ],
   "source": [
    "# path to file\n",
    "fn =  '/global/home/users/yifengh3/data/monoW-data-3.h5'\n",
    "# fn =  '/media/jcollins/MAGIC!/monoW-data-3.h5'\n",
    "\n",
    "# Option 1: Load everything into memory\n",
    "df = pandas.read_hdf(fn,stop=1000000)\n",
    "print(df.shape)\n",
    "print(\"Memory in GB:\",sum(df.memory_usage(deep=True)) / (1024**3)+sum(df.memory_usage(deep=True)) / (1024**3))"
   ]
  },
  {
   "cell_type": "code",
   "execution_count": 6,
   "metadata": {},
   "outputs": [
    {
     "name": "stderr",
     "output_type": "stream",
     "text": [
      "<ipython-input-4-1fefca2ae6f7>:34: RuntimeWarning: invalid value encountered in true_divide\n",
      "  y = 0.5*np.nan_to_num(np.log((E+pz)/(E-pz)))\n",
      "<ipython-input-4-1fefca2ae6f7>:55: RuntimeWarning: invalid value encountered in true_divide\n",
      "  eta = np.nan_to_num(np.arcsinh(np.sinh(y)*np.sqrt(1+np.square(m/pt))))\n"
     ]
    }
   ],
   "source": [
    "# Data file contains, for each event, 50 particles (with zero padding), each particle with pT, eta, phi, E.\n",
    "data = df.values.reshape((-1,50,4))\n",
    "\n",
    "# Normalize pTs so that HT = 1\n",
    "HT = np.sum(data[:,:,0],axis=-1)\n",
    "data[:,:,0] = data[:,:,0]/HT[:,None]\n",
    "data[:,:,-1] = data[:,:,-1]/HT[:,None]\n",
    "\n",
    "# Center jet (optional)\n",
    "data = center_jets_ptetaphiE(data)\n",
    "\n",
    "# Inputs x to NN will be: pT, eta, cos(phi), sin(phi), log E\n",
    "# Separated phi into cos and sin for continuity around full detector, so make things easier for NN.\n",
    "# Also adding the log E is mainly because it seems like it should make things easier for NN, since there is an exponential spread in particle energies.\n",
    "# Feel free to change these choices as desired. E.g. px, py might be equally as good as pt, sin, cos.\n",
    "sig_input = np.zeros((len(data),50,5))\n",
    "sig_input[:,:,:2] = data[:,:,:2]\n",
    "sig_input[:,:,2] = np.cos(data[:,:,2])\n",
    "sig_input[:,:,3] = np.sin(data[:,:,2])\n",
    "sig_input[:,:,4] = np.log(data[:,:,3]+1e-8)\n",
    "\n",
    "\n",
    "data_x = sig_input\n",
    "# Event 'labels' y are [pT, eta, phi], which is used to calculate EMD to output which is also pT, eta, phi.\n",
    "data_y = data[:,:,:3]\n",
    "\n",
    "\n",
    "train_x = data_x[:500000]\n",
    "train_y = data_y[:500000]\n",
    "valid_x = data_x[500000:600000]\n",
    "valid_y = data_y[500000:600000]"
   ]
  },
  {
   "cell_type": "code",
   "execution_count": 12,
   "metadata": {
    "scrolled": false,
    "tags": []
   },
   "outputs": [
    {
     "name": "stdout",
     "output_type": "stream",
     "text": [
      "Model: \"VAE\"\n",
      "__________________________________________________________________________________________________\n",
      "Layer (type)                    Output Shape         Param #     Connected to                     \n",
      "==================================================================================================\n",
      "inputs (InputLayer)             [(None, 50, 5)]      0                                            \n",
      "__________________________________________________________________________________________________\n",
      "conv1d_4 (Conv1D)               (None, 50, 1024)     6144        inputs[0][0]                     \n",
      "__________________________________________________________________________________________________\n",
      "re_lu_12 (ReLU)                 (None, 50, 1024)     0           conv1d_4[0][0]                   \n",
      "__________________________________________________________________________________________________\n",
      "conv1d_5 (Conv1D)               (None, 50, 1024)     1049600     re_lu_12[0][0]                   \n",
      "__________________________________________________________________________________________________\n",
      "re_lu_13 (ReLU)                 (None, 50, 1024)     0           conv1d_5[0][0]                   \n",
      "__________________________________________________________________________________________________\n",
      "conv1d_6 (Conv1D)               (None, 50, 1028)     1053700     re_lu_13[0][0]                   \n",
      "__________________________________________________________________________________________________\n",
      "re_lu_14 (ReLU)                 (None, 50, 1028)     0           conv1d_6[0][0]                   \n",
      "__________________________________________________________________________________________________\n",
      "conv1d_7 (Conv1D)               (None, 50, 1024)     1053696     re_lu_14[0][0]                   \n",
      "__________________________________________________________________________________________________\n",
      "re_lu_15 (ReLU)                 (None, 50, 1024)     0           conv1d_7[0][0]                   \n",
      "__________________________________________________________________________________________________\n",
      "tf.math.reduce_sum_1 (TFOpLambd (None, 1024)         0           re_lu_15[0][0]                   \n",
      "__________________________________________________________________________________________________\n",
      "dense_9 (Dense)                 (None, 1028)         1053700     tf.math.reduce_sum_1[0][0]       \n",
      "__________________________________________________________________________________________________\n",
      "re_lu_16 (ReLU)                 (None, 1028)         0           dense_9[0][0]                    \n",
      "__________________________________________________________________________________________________\n",
      "dense_10 (Dense)                (None, 1028)         1057812     re_lu_16[0][0]                   \n",
      "__________________________________________________________________________________________________\n",
      "re_lu_17 (ReLU)                 (None, 1028)         0           dense_10[0][0]                   \n",
      "__________________________________________________________________________________________________\n",
      "dense_11 (Dense)                (None, 1028)         1057812     re_lu_17[0][0]                   \n",
      "__________________________________________________________________________________________________\n",
      "re_lu_18 (ReLU)                 (None, 1028)         0           dense_11[0][0]                   \n",
      "__________________________________________________________________________________________________\n",
      "dense_12 (Dense)                (None, 512)          526848      re_lu_18[0][0]                   \n",
      "__________________________________________________________________________________________________\n",
      "re_lu_19 (ReLU)                 (None, 512)          0           dense_12[0][0]                   \n",
      "__________________________________________________________________________________________________\n",
      "z_mean (Dense)                  (None, 128)          65664       re_lu_19[0][0]                   \n",
      "__________________________________________________________________________________________________\n",
      "z_log_var (Dense)               (None, 128)          65664       re_lu_19[0][0]                   \n",
      "__________________________________________________________________________________________________\n",
      "encoder (Functional)            multiple             6990640     inputs[0][0]                     \n",
      "__________________________________________________________________________________________________\n",
      "tf.stack_1 (TFOpLambda)         (2, None, 128)       0           z_mean[0][0]                     \n",
      "                                                                 z_log_var[0][0]                  \n",
      "__________________________________________________________________________________________________\n",
      "decoder (Functional)            (None, 50, 3)        380360      encoder[0][2]                    \n",
      "__________________________________________________________________________________________________\n",
      "encoder_gauss_distribution (Dis multiple             0           tf.stack_1[0][0]                 \n",
      "==================================================================================================\n",
      "Total params: 7,371,001\n",
      "Trainable params: 7,371,000\n",
      "Non-trainable params: 1\n",
      "__________________________________________________________________________________________________\n",
      "WARNING:tensorflow:AutoGraph could not transform <function build_and_compile_annealing_vae.<locals>.recon_loss at 0x7fe6c44fbca0> and will run it as-is.\n",
      "Please report this to the TensorFlow team. When filing the bug, set the verbosity to 10 (on Linux, `export AUTOGRAPH_VERBOSITY=10`) and attach the full output.\n",
      "Cause: module 'gast' has no attribute 'Index'\n",
      "To silence this warning, decorate the function with @tf.autograph.experimental.do_not_convert\n",
      "WARNING: AutoGraph could not transform <function build_and_compile_annealing_vae.<locals>.recon_loss at 0x7fe6c44fbca0> and will run it as-is.\n",
      "Please report this to the TensorFlow team. When filing the bug, set the verbosity to 10 (on Linux, `export AUTOGRAPH_VERBOSITY=10`) and attach the full output.\n",
      "Cause: module 'gast' has no attribute 'Index'\n",
      "To silence this warning, decorate the function with @tf.autograph.experimental.do_not_convert\n",
      "1/1 [==============================] - 4s 4s/step - loss: 3112.0137 - recon_loss: 2.6613 - KL loss: 3110.6831 - beta: 1.0000 - val_loss: 150237.0469 - val_recon_loss: 12.4178 - val_KL loss: 150230.8438 - val_beta: 1.0000\n"
     ]
    }
   ],
   "source": [
    "output_dir = './output/'\n",
    "\n",
    "experiment_name = 'W-test_smooth'\n",
    "train_output_dir = create_dir(osp.join(output_dir, experiment_name))\n",
    "vae, encoder, decoder = build_and_compile_annealing_vae(optimizer=keras.optimizers.Adam(lr=0.001,clipnorm=0.1),\n",
    "                                    encoder_conv_layers = [1024,1024,1028,1024],\n",
    "                                    dense_size = [1028,1028,1028,512],\n",
    "                                    decoder = [2048,2048,1028,512,512],\n",
    "                                    numItermaxinner = 40,   # EMD approximation params\n",
    "                                    numIter=10,\n",
    "                                    reg_init = 1.,\n",
    "                                    reg_final = 0.01,\n",
    "                                    stopThr=1e-3,\n",
    "                                    num_inputs=5,           # Size of x (e.g. pT, eta, sin, cos, log E)\n",
    "                                    num_particles_in=50)    # Num particles per event.\n",
    "\n",
    "batch_size=100\n",
    "save_period=2\n",
    "\n",
    "reduceLR = keras.callbacks.ReduceLROnPlateau(monitor='loss', factor=0.1, patience=2, verbose=1, mode='auto', min_delta=1e-4, cooldown=0, min_lr=0)\n",
    "modelcheckpoint = keras.callbacks.ModelCheckpoint(train_output_dir + '/model_weights_{epoch:02d}.hdf5', save_freq = save_period*5000, save_weights_only=True)\n",
    "reset_metrics_inst = reset_metrics()\n",
    "\n",
    "callbacks=[tf.keras.callbacks.CSVLogger(train_output_dir + '/log.csv', separator=\",\", append=True),\n",
    "            reduceLR,\n",
    "            modelcheckpoint,\n",
    "            reset_metrics_inst]\n",
    "\n",
    "\n",
    "# Need to train on at least one example before model params can be loaded for annoying reasons.\n",
    "\n",
    "history = vae.fit(x=train_x[:10], y=train_y[:10], batch_size=batch_size,\n",
    "                epochs=1,verbose=1,#initial_epoch=int(vae.optimizer.iterations/numbatches),\n",
    "                validation_data = (valid_x[:10],valid_y[:10]),\n",
    "                callbacks = callbacks\n",
    "              )"
   ]
  },
  {
   "cell_type": "code",
   "execution_count": 22,
   "metadata": {
    "scrolled": false
   },
   "outputs": [
    {
     "name": "stdout",
     "output_type": "stream",
     "text": [
      "10/10 [==============================] - 1s 99ms/step - loss: 14034072.6364 - recon_loss: 0.2807 - KL loss: 10.7357 - beta: 1.0000e-04 - val_loss: 4466860.0000 - val_recon_loss: 0.0893 - val_KL loss: 80.9163 - val_beta: 1.0000e-04\n",
      "10/10 [==============================] - 1s 112ms/step - loss: 797692.3011 - recon_loss: 0.0565 - KL loss: 172.7263 - beta: 1.8821e-04 - val_loss: 300122.0312 - val_recon_loss: 0.0212 - val_KL loss: 520.5480 - val_beta: 1.8821e-04\n",
      "10/10 [==============================] - 1s 102ms/step - loss: 83451.5923 - recon_loss: 0.0208 - KL loss: 580.2442 - beta: 3.5424e-04 - val_loss: 70104.5078 - val_recon_loss: 0.0174 - val_KL loss: 698.8943 - val_beta: 3.5424e-04\n",
      "10/10 [==============================] - 1s 98ms/step - loss: 19043.5360 - recon_loss: 0.0163 - KL loss: 677.3378 - beta: 6.6673e-04 - val_loss: 18210.3691 - val_recon_loss: 0.0156 - val_KL loss: 609.1655 - val_beta: 6.6673e-04\n",
      "10/10 [==============================] - 1s 103ms/step - loss: 5178.1443 - recon_loss: 0.0145 - KL loss: 581.4078 - beta: 0.0013 - val_loss: 5023.4580 - val_recon_loss: 0.0144 - val_KL loss: 450.3717 - val_beta: 0.0013\n",
      "10/10 [==============================] - 1s 113ms/step - loss: 1729.9551 - recon_loss: 0.0147 - KL loss: 408.0349 - beta: 0.0024 - val_loss: 1687.8040 - val_recon_loss: 0.0154 - val_KL loss: 305.3618 - val_beta: 0.0024\n",
      "10/10 [==============================] - 1s 105ms/step - loss: 641.7789 - recon_loss: 0.0150 - KL loss: 261.2873 - beta: 0.0044 - val_loss: 616.0528 - val_recon_loss: 0.0173 - val_KL loss: 177.0611 - val_beta: 0.0044\n",
      "10/10 [==============================] - 1s 102ms/step - loss: 284.8110 - recon_loss: 0.0183 - KL loss: 153.9518 - beta: 0.0084 - val_loss: 256.1173 - val_recon_loss: 0.0224 - val_KL loss: 96.2144 - val_beta: 0.0084\n",
      "10/10 [==============================] - 1s 105ms/step - loss: 131.7226 - recon_loss: 0.0255 - KL loss: 80.3572 - beta: 0.0157 - val_loss: 112.7339 - val_recon_loss: 0.0299 - val_KL loss: 52.3532 - val_beta: 0.0157\n",
      "10/10 [==============================] - 1s 104ms/step - loss: 63.0168 - recon_loss: 0.0308 - KL loss: 45.5020 - beta: 0.0296 - val_loss: 44.2591 - val_recon_loss: 0.0524 - val_KL loss: 14.4357 - val_beta: 0.0296\n",
      "10/10 [==============================] - 1s 96ms/step - loss: 19.8706 - recon_loss: 0.0612 - KL loss: 10.0402 - beta: 0.0558 - val_loss: 13.7115 - val_recon_loss: 0.0677 - val_KL loss: 2.8394 - val_beta: 0.0558\n",
      "10/10 [==============================] - 1s 97ms/step - loss: 4.9423 - recon_loss: 0.0688 - KL loss: 1.8198 - beta: 0.1050 - val_loss: 3.1324 - val_recon_loss: 0.0638 - val_KL loss: 0.2381 - val_beta: 0.1050\n",
      "10/10 [==============================] - 1s 100ms/step - loss: 0.8522 - recon_loss: 0.0553 - KL loss: 0.1440 - beta: 0.1976 - val_loss: 0.5458 - val_recon_loss: 0.0409 - val_KL loss: 0.0222 - val_beta: 0.1976\n",
      "10/10 [==============================] - 1s 95ms/step - loss: 0.1511 - recon_loss: 0.0379 - KL loss: 0.0140 - beta: 0.3719 - val_loss: 0.1026 - val_recon_loss: 0.0282 - val_KL loss: 8.2470e-04 - val_beta: 0.3719\n",
      "10/10 [==============================] - 1s 102ms/step - loss: 0.0284 - recon_loss: 0.0271 - KL loss: 6.9469e-04 - beta: 0.7000 - val_loss: 0.0239 - val_recon_loss: 0.0226 - val_KL loss: 8.2374e-04 - val_beta: 0.7000\n",
      "10/10 [==============================] - 1s 107ms/step - loss: 0.0558 - recon_loss: 0.0213 - KL loss: 7.0084e-04 - beta: 0.4393 - val_loss: 0.0492 - val_recon_loss: 0.0188 - val_KL loss: 5.4527e-04 - val_beta: 0.4393\n",
      "10/10 [==============================] - 1s 103ms/step - loss: 0.1235 - recon_loss: 0.0187 - KL loss: 5.3198e-04 - beta: 0.2756 - val_loss: 0.1146 - val_recon_loss: 0.0173 - val_KL loss: 5.3408e-04 - val_beta: 0.2756\n",
      "10/10 [==============================] - 1s 104ms/step - loss: 0.2838 - recon_loss: 0.0170 - KL loss: 5.2396e-04 - beta: 0.1730 - val_loss: 0.2604 - val_recon_loss: 0.0155 - val_KL loss: 0.0013 - val_beta: 0.1730\n",
      "10/10 [==============================] - 1s 100ms/step - loss: 0.6540 - recon_loss: 0.0154 - KL loss: 8.0384e-04 - beta: 0.1085 - val_loss: 0.6506 - val_recon_loss: 0.0153 - val_KL loss: 5.0148e-04 - val_beta: 0.1085\n",
      "10/10 [==============================] - 1s 100ms/step - loss: 1.5883 - recon_loss: 0.0147 - KL loss: 5.2918e-04 - beta: 0.0681 - val_loss: 1.5437 - val_recon_loss: 0.0143 - val_KL loss: 4.6215e-04 - val_beta: 0.0681\n",
      "10/10 [==============================] - 1s 100ms/step - loss: 3.8709 - recon_loss: 0.0141 - KL loss: 0.0030 - beta: 0.0427 - val_loss: 4.0440 - val_recon_loss: 0.0148 - val_KL loss: 0.0012 - val_beta: 0.0427\n",
      "10/10 [==============================] - 1s 99ms/step - loss: 9.7166 - recon_loss: 0.0140 - KL loss: 0.0100 - beta: 0.0268 - val_loss: 9.6760 - val_recon_loss: 0.0139 - val_KL loss: 0.0022 - val_beta: 0.0268\n",
      "10/10 [==============================] - 1s 90ms/step - loss: 24.2968 - recon_loss: 0.0137 - KL loss: 0.0355 - beta: 0.0168 - val_loss: 24.2947 - val_recon_loss: 0.0137 - val_KL loss: 0.0593 - val_beta: 0.0168\n",
      "10/10 [==============================] - 1s 94ms/step - loss: 61.0798 - recon_loss: 0.0136 - KL loss: 0.0984 - beta: 0.0106 - val_loss: 60.5750 - val_recon_loss: 0.0135 - val_KL loss: 0.1759 - val_beta: 0.0106\n",
      "10/10 [==============================] - 1s 94ms/step - loss: 154.3513 - recon_loss: 0.0135 - KL loss: 0.2666 - beta: 0.0066 - val_loss: 150.6484 - val_recon_loss: 0.0132 - val_KL loss: 0.7329 - val_beta: 0.0066\n",
      "10/10 [==============================] - 1s 91ms/step - loss: 369.5092 - recon_loss: 0.0127 - KL loss: 1.0616 - beta: 0.0042 - val_loss: 372.6558 - val_recon_loss: 0.0128 - val_KL loss: 2.1831 - val_beta: 0.0042\n",
      "10/10 [==============================] - 1s 92ms/step - loss: 945.8952 - recon_loss: 0.0128 - KL loss: 2.8189 - beta: 0.0026 - val_loss: 950.8694 - val_recon_loss: 0.0129 - val_KL loss: 4.2992 - val_beta: 0.0026\n",
      "10/10 [==============================] - 1s 88ms/step - loss: 2385.9634 - recon_loss: 0.0128 - KL loss: 4.6391 - beta: 0.0016 - val_loss: 2466.0657 - val_recon_loss: 0.0132 - val_KL loss: 6.6804 - val_beta: 0.0016\n",
      "10/10 [==============================] - 1s 95ms/step - loss: 6049.3834 - recon_loss: 0.0128 - KL loss: 7.7885 - beta: 0.0010 - val_loss: 6067.8799 - val_recon_loss: 0.0128 - val_KL loss: 12.5648 - val_beta: 0.0010\n",
      "10/10 [==============================] - 1s 96ms/step - loss: 15244.9981 - recon_loss: 0.0127 - KL loss: 14.2569 - beta: 6.4490e-04 - val_loss: 14961.3057 - val_recon_loss: 0.0124 - val_KL loss: 19.4007 - val_beta: 6.4490e-04\n",
      "10/10 [==============================] - 1s 97ms/step - loss: 38101.6644 - recon_loss: 0.0125 - KL loss: 19.9539 - beta: 4.0469e-04 - val_loss: 39738.5195 - val_recon_loss: 0.0130 - val_KL loss: 18.8068 - val_beta: 4.0469e-04\n",
      "10/10 [==============================] - 1s 95ms/step - loss: 95550.8075 - recon_loss: 0.0123 - KL loss: 19.8072 - beta: 2.5395e-04 - val_loss: 99416.6562 - val_recon_loss: 0.0128 - val_KL loss: 26.3321 - val_beta: 2.5395e-04\n",
      "10/10 [==============================] - 1s 92ms/step - loss: 235202.5980 - recon_loss: 0.0119 - KL loss: 29.5736 - beta: 1.5936e-04 - val_loss: 244157.3906 - val_recon_loss: 0.0124 - val_KL loss: 38.5117 - val_beta: 1.5936e-04\n",
      "10/10 [==============================] - 1s 95ms/step - loss: 610911.4773 - recon_loss: 0.0122 - KL loss: 39.4131 - beta: 1.0000e-04 - val_loss: 621506.0625 - val_recon_loss: 0.0124 - val_KL loss: 41.9884 - val_beta: 1.0000e-04\n"
     ]
    }
   ],
   "source": [
    "init_epoch = 0\n",
    "steps_per_epoch = 10\n",
    "epoch_per_beta = 1\n",
    "# save_period = 10\n",
    "total_epoch = 0\n",
    "changing_level = 100\n",
    "beta_space = np.concatenate((np.logspace(-4,np.log10(0.7),changing_level),\n",
    "               np.logspace(np.log10(0.7),-4,changing_level)[1:]))\n",
    "\n",
    "reduceLR = keras.callbacks.ReduceLROnPlateau(monitor='val_loss', factor=np.sqrt(0.1), patience=5, verbose=1, mode='auto', min_delta=1e-4, cooldown=0, min_lr=1e-8)\n",
    "# earlystop = tf.keras.callbacks.EarlyStopping(\n",
    "#     monitor='epoch',min_delta=epoch_per_beta,patience=0,mode=\"max\")\n",
    "\n",
    "for beta in beta_space:\n",
    "    callbacks=[tf.keras.callbacks.CSVLogger(train_output_dir + '/log.csv', separator=\",\", append=True),\n",
    "            reduceLR,\n",
    "            reset_metrics_inst]\n",
    "    vae.beta.assign(beta)\n",
    "    K.set_value(vae.optimizer.lr,3e-5)\n",
    "    \n",
    "    my_history = vae.fit(x=train_x, y=train_y, batch_size=batch_size,\n",
    "                epochs=epoch_per_beta,verbose=1,\n",
    "                validation_data = (valid_x[:200*batch_size],valid_y[:200*batch_size]),\n",
    "                callbacks = callbacks,\n",
    "                initial_epoch=init_epoch,\n",
    "                steps_per_epoch = steps_per_epoch\n",
    "              )\n",
    "    total_epoch+=epoch_per_beta\n",
    "    init_epoch = my_history.epoch[-1]\n",
    "    vae.save_weights(train_output_dir + '/model_weights_end_' + str(total_epoch) + '_' + \"{:.1e}\".format(beta) + '.hdf5')"
   ]
  },
  {
   "cell_type": "code",
   "execution_count": 20,
   "metadata": {},
   "outputs": [
    {
     "data": {
      "text/plain": [
       "[<matplotlib.lines.Line2D at 0x7fe69c1a3190>]"
      ]
     },
     "execution_count": 20,
     "metadata": {},
     "output_type": "execute_result"
    },
    {
     "data": {
      "image/png": "[encoded data removed]",
      "text/plain": [
       "<Figure size 432x288 with 1 Axes>"
      ]
     },
     "metadata": {
      "needs_background": "light"
     },
     "output_type": "display_data"
    }
   ],
   "source": [
    "beta_space=np.concatenate((np.logspace(-4,np.log10(0.7),15),\n",
    "               np.logspace(np.log10(0.7),-4,20)[1:]))\n",
    "plt.plot(beta_space)"
   ]
  },
  {
   "cell_type": "code",
   "execution_count": 15,
   "metadata": {},
   "outputs": [
    {
     "name": "stdout",
     "output_type": "stream",
     "text": [
      "log.csv                            model_weights_end_4_6.7e-04.hdf5\r\n",
      "model_weights_end_0_1.0e-04.hdf5   model_weights_end_5_1.3e-03.hdf5\r\n",
      "model_weights_end_10_3.0e-02.hdf5  model_weights_end_6_2.4e-03.hdf5\r\n",
      "model_weights_end_1_1.0e-04.hdf5   model_weights_end_7_4.4e-03.hdf5\r\n",
      "model_weights_end_11_5.6e-02.hdf5  model_weights_end_8_8.4e-03.hdf5\r\n",
      "model_weights_end_2_1.9e-04.hdf5   model_weights_end_9_1.6e-02.hdf5\r\n",
      "model_weights_end_3_3.5e-04.hdf5\r\n"
     ]
    }
   ],
   "source": [
    "%ls output/W-test_smooth"
   ]
  },
  {
   "cell_type": "code",
   "execution_count": null,
   "metadata": {
    "scrolled": true
   },
   "outputs": [],
   "source": [
    "# init_epoch = 544\n",
    "steps_per_epoch = 1000\n",
    "save_period = 10\n",
    "\n",
    "\n",
    "reduceLR = keras.callbacks.ReduceLROnPlateau(monitor='val_val_loss', factor=np.sqrt(0.1), patience=5, verbose=1, mode='auto', min_delta=1e-4, cooldown=0, min_lr=1e-8)\n",
    "earlystop = tf.keras.callbacks.EarlyStopping(\n",
    "    monitor='val_val_loss', min_delta=0., patience=10, verbose=0, mode='auto',\n",
    "    baseline=None, restore_best_weights=False\n",
    ")\n",
    "\n",
    "\n",
    "for beta in np.concatenate((np.logspace(-4,np.log10(0.7),15),\n",
    "               np.logspace(np.log10(0.7),-5,20)[1:],\n",
    "                np.logspace(-5,np.log10(0.7),20)[1:])):\n",
    "    modelcheckpoint = keras.callbacks.ModelCheckpoint('/media/sda1/train-W' + '/model_weights_{epoch:02d}_' + \"{:.1e}\".format(beta) + '.hdf5', save_freq = save_period*steps_per_epoch, save_weights_only=True)\n",
    "    callbacks=[tf.keras.callbacks.CSVLogger(train_output_dir + '/log.csv', separator=\",\", append=True),\n",
    "            reduceLR,earlystop,\n",
    "            modelcheckpoint,\n",
    "            reset_metrics_inst]\n",
    "    vae.beta.assign(beta)\n",
    "    K.set_value(vae.optimizer.lr,3e-5)\n",
    "    \n",
    "    my_history = vae.fit(x=train_x, y=train_y, batch_size=batch_size,\n",
    "                epochs=10000,verbose=1,\n",
    "                validation_data = (valid_x[:200*batch_size],valid_y[:200*batch_size]),\n",
    "                callbacks = callbacks,\n",
    "                initial_epoch=init_epoch,\n",
    "                steps_per_epoch = steps_per_epoch\n",
    "              )\n",
    "    init_epoch = my_history.epoch[-1]\n",
    "    vae.save_weights(train_output_dir + '/model_weights_end_' + str(init_epoch) + '_' + \"{:.1e}\".format(beta) + '.hdf5')"
   ]
  },
  {
   "cell_type": "code",
   "execution_count": null,
   "metadata": {},
   "outputs": [],
   "source": [
    "my_history"
   ]
  },
  {
   "cell_type": "code",
   "execution_count": null,
   "metadata": {},
   "outputs": [],
   "source": [
    "data[344577]"
   ]
  },
  {
   "cell_type": "code",
   "execution_count": null,
   "metadata": {},
   "outputs": [],
   "source": [
    "train_x[344599:344699]"
   ]
  },
  {
   "cell_type": "code",
   "execution_count": null,
   "metadata": {},
   "outputs": [],
   "source": [
    "train_output_dir + '/model_weights_{epoch:02d}_' + str(beta) + '.hdf5'"
   ]
  }
 ],
 "metadata": {
  "kernelspec": {
   "display_name": "Python 3",
   "language": "python",
   "name": "python3"
  },
  "language_info": {
   "codemirror_mode": {
    "name": "ipython",
    "version": 3
   },
   "file_extension": ".py",
   "mimetype": "text/x-python",
   "name": "python",
   "nbconvert_exporter": "python",
   "pygments_lexer": "ipython3",
   "version": "3.8.8"
  }
 },
 "nbformat": 4,
 "nbformat_minor": 2
}
