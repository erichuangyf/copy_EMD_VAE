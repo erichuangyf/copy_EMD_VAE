{
 "cells": [
  {
   "cell_type": "markdown",
   "id": "4ef50705",
   "metadata": {},
   "source": [
    "# Import and Initialization"
   ]
  },
  {
   "cell_type": "code",
   "execution_count": 1,
   "id": "05a505b0",
   "metadata": {},
   "outputs": [],
   "source": [
    "%load_ext autoreload\n",
    "%autoreload 2\n",
    "\n",
    "import tensorflow as tf\n",
    "\n",
    "# standard library imports\n",
    "from __future__ import absolute_import, division, print_function\n",
    "\n",
    "# standard numerical library imports\n",
    "import numpy as np\n",
    "\n",
    "# energyflow imports\n",
    "import energyflow as ef\n",
    "from energyflow.archs import PFN\n",
    "from energyflow.datasets import qg_jets\n",
    "from energyflow.utils import data_split, remap_pids, to_categorical\n",
    "\n",
    "from sklearn.metrics import roc_auc_score, roc_curve\n",
    "import matplotlib.pyplot as plt\n",
    "\n",
    "\n",
    "import pandas\n",
    "import h5py\n",
    "import pickle\n",
    "\n",
    "import datetime"
   ]
  },
  {
   "cell_type": "code",
   "execution_count": 2,
   "id": "45667e4d",
   "metadata": {},
   "outputs": [],
   "source": [
    "# configs\n",
    "train, val, test = 0.6, 0.3, 0.1\n",
    "Phi_sizes, F_sizes = (256, 256, 256), (256, 256, 256)\n",
    "num_epoch = 500\n",
    "batch_size = 1000"
   ]
  },
  {
   "cell_type": "markdown",
   "id": "8c5aa5d4",
   "metadata": {},
   "source": [
    "# Load and Process Data"
   ]
  },
  {
   "cell_type": "code",
   "execution_count": 3,
   "id": "25276321",
   "metadata": {},
   "outputs": [],
   "source": [
    "signals = [\"/global/home/users/yifengh3/VAE/data/B_signal.h5\",\n",
    "          \"/global/home/users/yifengh3/VAE/data/h_signal.h5\"]\n",
    "background_file = \"/global/home/users/yifengh3/VAE/data/B_background.h5\"\n",
    "signal_data = [pandas.read_hdf(file) for file in signals]\n",
    "background_data = pandas.read_hdf(background_file)"
   ]
  },
  {
   "cell_type": "code",
   "execution_count": 4,
   "id": "646d74c9",
   "metadata": {},
   "outputs": [
    {
     "name": "stdout",
     "output_type": "stream",
     "text": [
      "backgroubackground_datand data shape: (2000000, 150)\n"
     ]
    }
   ],
   "source": [
    "print(\"backgroubackground_datand data shape: {}\".format(background_data.shape))"
   ]
  },
  {
   "cell_type": "code",
   "execution_count": 5,
   "id": "e582ac98",
   "metadata": {},
   "outputs": [],
   "source": [
    "# assign labels to signal and background data, 0 for background,  1 for b-signal, and so on\n",
    "# (updated since we might get multiple signals) \n",
    "labeled_background_data = np.append(background_data,np.zeros((background_data.shape[0],1)),axis=1)\n",
    "labeled_signal = []\n",
    "for label,data in enumerate(signal_data,start=1):\n",
    "    labeled_signal.append(\n",
    "        np.append(data,label*np.ones((data.shape[0],1)),axis=1))"
   ]
  },
  {
   "cell_type": "code",
   "execution_count": 6,
   "id": "8540cc44",
   "metadata": {},
   "outputs": [],
   "source": [
    "# mix two data array into one signal array\n",
    "data = np.concatenate((labeled_background_data,*labeled_signal))\n",
    "\n",
    "#and shuffle the data\n",
    "np.random.shuffle(data)"
   ]
  },
  {
   "cell_type": "code",
   "execution_count": 7,
   "id": "34eaf99c",
   "metadata": {},
   "outputs": [],
   "source": [
    "X = data[:,:-1]\n",
    "y = data[:,-1]"
   ]
  },
  {
   "cell_type": "code",
   "execution_count": 8,
   "id": "d078bbf6",
   "metadata": {},
   "outputs": [
    {
     "name": "stdout",
     "output_type": "stream",
     "text": [
      "shape of X: (2100000, 150)\n",
      "shape of Y: (2100000,)\n"
     ]
    }
   ],
   "source": [
    "print(\"shape of X: {}\".format(X.shape))\n",
    "print(\"shape of Y: {}\".format(y.shape))"
   ]
  },
  {
   "cell_type": "code",
   "execution_count": 9,
   "id": "ea34616a",
   "metadata": {},
   "outputs": [
    {
     "name": "stdout",
     "output_type": "stream",
     "text": [
      "weight of background : 0.35\n",
      "weight of signal #1 : 14.000000000000002\n",
      "weight of signal #2 : 14.000000000000002\n"
     ]
    }
   ],
   "source": [
    "# Scaling by total/num_of_class helps keep the loss to a similar magnitude.\n",
    "# The sum of the weights of all examples stays the same.\n",
    "total = X.shape[0]\n",
    "num_of_class = 1 + len(signals)\n",
    "background_weight = (1 / background_data.shape[0]) * (total / num_of_class)\n",
    "signal_weights = [ ((1 / signal.shape[0]) * (total / num_of_class)) for signal in signal_data]\n",
    "\n",
    "class_weight = {0: background_weight}\n",
    "print(\"weight of background : {}\".format(background_weight))\n",
    "\n",
    "for index,weight in enumerate(signal_weights,start=1):\n",
    "    class_weight[index]=weight\n",
    "    print(\"weight of signal #{} : {}\".format(index,weight))\n"
   ]
  },
  {
   "cell_type": "code",
   "execution_count": 10,
   "id": "c3e0e641",
   "metadata": {},
   "outputs": [],
   "source": [
    "# To categorical as stipulated in example\n",
    "Y = to_categorical(y, num_classes=num_of_class)\n",
    "\n",
    "# Reshape X to shape (number of jets, 50, 3)\n",
    "X = X.reshape(-1,50,3)"
   ]
  },
  {
   "cell_type": "code",
   "execution_count": 11,
   "id": "6a6fe36d",
   "metadata": {},
   "outputs": [
    {
     "name": "stderr",
     "output_type": "stream",
     "text": [
      "100%|██████████| 2100000/2100000 [02:00<00:00, 17364.88it/s]\n"
     ]
    }
   ],
   "source": [
    "# normalizing jets\n",
    "# copied from example\n",
    "import tqdm\n",
    "for x in tqdm.tqdm(X):\n",
    "    # now add the status bar :)\n",
    "    mask = x[:,0] > 0\n",
    "    yphi_avg = np.average(x[mask,1:3], weights=x[mask,0], axis=0)\n",
    "    x[mask,1:3] -= yphi_avg\n",
    "    x[mask,0] /= x[:,0].sum()"
   ]
  },
  {
   "cell_type": "code",
   "execution_count": 12,
   "id": "c3e18f2d",
   "metadata": {},
   "outputs": [
    {
     "name": "stdout",
     "output_type": "stream",
     "text": [
      "Finished preprocessing\n",
      "shape of X: (2100000, 50, 3)\n",
      "shape of Y: (2100000, 3)\n"
     ]
    }
   ],
   "source": [
    "print('Finished preprocessing')\n",
    "print(\"shape of X: {}\".format(X.shape))\n",
    "print(\"shape of Y: {}\".format(Y.shape))"
   ]
  },
  {
   "cell_type": "code",
   "execution_count": 13,
   "id": "939de622",
   "metadata": {},
   "outputs": [],
   "source": [
    "# do train/val/test split \n",
    "(X_train, X_val, X_test,\n",
    " Y_train, Y_val, Y_test) = data_split(X, Y, val=val, test=test)"
   ]
  },
  {
   "cell_type": "markdown",
   "id": "bc6339cd",
   "metadata": {},
   "source": [
    "# Build and Train the Model"
   ]
  },
  {
   "cell_type": "code",
   "execution_count": 14,
   "id": "4876d9dc",
   "metadata": {},
   "outputs": [
    {
     "name": "stdout",
     "output_type": "stream",
     "text": [
      "Model summary:\n",
      "Model: \"model\"\n",
      "__________________________________________________________________________________________________\n",
      "Layer (type)                    Output Shape         Param #     Connected to                     \n",
      "==================================================================================================\n",
      "input (InputLayer)              [(None, None, 3)]    0                                            \n",
      "__________________________________________________________________________________________________\n",
      "tdist_0 (TimeDistributed)       (None, None, 256)    1024        input[0][0]                      \n",
      "__________________________________________________________________________________________________\n",
      "activation (Activation)         (None, None, 256)    0           tdist_0[0][0]                    \n",
      "__________________________________________________________________________________________________\n",
      "tdist_1 (TimeDistributed)       (None, None, 256)    65792       activation[0][0]                 \n",
      "__________________________________________________________________________________________________\n",
      "activation_1 (Activation)       (None, None, 256)    0           tdist_1[0][0]                    \n",
      "__________________________________________________________________________________________________\n",
      "tdist_2 (TimeDistributed)       (None, None, 256)    65792       activation_1[0][0]               \n",
      "__________________________________________________________________________________________________\n",
      "mask (Lambda)                   (None, None)         0           input[0][0]                      \n",
      "__________________________________________________________________________________________________\n",
      "activation_2 (Activation)       (None, None, 256)    0           tdist_2[0][0]                    \n",
      "__________________________________________________________________________________________________\n",
      "sum (Dot)                       (None, 256)          0           mask[0][0]                       \n",
      "                                                                 activation_2[0][0]               \n",
      "__________________________________________________________________________________________________\n",
      "dense_0 (Dense)                 (None, 256)          65792       sum[0][0]                        \n",
      "__________________________________________________________________________________________________\n",
      "activation_3 (Activation)       (None, 256)          0           dense_0[0][0]                    \n",
      "__________________________________________________________________________________________________\n",
      "dense_1 (Dense)                 (None, 256)          65792       activation_3[0][0]               \n",
      "__________________________________________________________________________________________________\n",
      "activation_4 (Activation)       (None, 256)          0           dense_1[0][0]                    \n",
      "__________________________________________________________________________________________________\n",
      "dense_2 (Dense)                 (None, 256)          65792       activation_4[0][0]               \n",
      "__________________________________________________________________________________________________\n",
      "activation_5 (Activation)       (None, 256)          0           dense_2[0][0]                    \n",
      "__________________________________________________________________________________________________\n",
      "output (Dense)                  (None, 3)            771         activation_5[0][0]               \n",
      "__________________________________________________________________________________________________\n",
      "activation_6 (Activation)       (None, 3)            0           output[0][0]                     \n",
      "==================================================================================================\n",
      "Total params: 330,755\n",
      "Trainable params: 330,755\n",
      "Non-trainable params: 0\n",
      "__________________________________________________________________________________________________\n"
     ]
    }
   ],
   "source": [
    "print('Model summary:')\n",
    "\n",
    "# build architecture\n",
    "pfn = PFN(input_dim=X.shape[-1], Phi_sizes=Phi_sizes, F_sizes=F_sizes, output_dim=3,\n",
    "          loss=\"categorical_crossentropy\",metrics=['accuracy',tf.keras.metrics.AUC()])"
   ]
  },
  {
   "cell_type": "code",
   "execution_count": 15,
   "id": "b559b182",
   "metadata": {
    "scrolled": true
   },
   "outputs": [
    {
     "name": "stdout",
     "output_type": "stream",
     "text": [
      "Epoch 1/500\n",
      "1260/1260 [==============================] - 14s 11ms/step - loss: 7.7970 - accuracy: 0.3282 - auc: 0.5023 - val_loss: 1.1299 - val_accuracy: 0.1918 - val_auc: 0.4058\n",
      "Epoch 2/500\n",
      "1260/1260 [==============================] - 13s 10ms/step - loss: 1.1150 - accuracy: 0.3073 - auc: 0.5065 - val_loss: 1.1107 - val_accuracy: 0.0506 - val_auc: 0.4916\n",
      "Epoch 3/500\n",
      "1260/1260 [==============================] - 13s 10ms/step - loss: 1.1040 - accuracy: 0.3065 - auc: 0.5137 - val_loss: 1.1752 - val_accuracy: 0.0264 - val_auc: 0.4524\n",
      "Epoch 4/500\n",
      "1260/1260 [==============================] - 13s 10ms/step - loss: 1.1060 - accuracy: 0.3187 - auc: 0.5133 - val_loss: 1.1280 - val_accuracy: 0.1273 - val_auc: 0.3223\n",
      "Epoch 5/500\n",
      "1260/1260 [==============================] - 13s 10ms/step - loss: 1.1014 - accuracy: 0.2926 - auc: 0.5006 - val_loss: 1.1823 - val_accuracy: 0.0280 - val_auc: 0.0569\n",
      "Epoch 6/500\n",
      "1260/1260 [==============================] - 13s 10ms/step - loss: 1.1015 - accuracy: 0.2853 - auc: 0.4987 - val_loss: 1.0419 - val_accuracy: 0.8969 - val_auc: 0.9373\n",
      "Epoch 7/500\n",
      "1260/1260 [==============================] - 13s 10ms/step - loss: 1.0956 - accuracy: 0.3182 - auc: 0.5512 - val_loss: 1.1351 - val_accuracy: 0.0242 - val_auc: 0.2848\n",
      "Epoch 8/500\n",
      "1260/1260 [==============================] - 13s 10ms/step - loss: 1.0994 - accuracy: 0.2731 - auc: 0.5100 - val_loss: 1.0872 - val_accuracy: 0.8233 - val_auc: 0.8366\n",
      "Epoch 9/500\n",
      "1260/1260 [==============================] - 13s 10ms/step - loss: 1.0945 - accuracy: 0.4632 - auc: 0.6410 - val_loss: 1.1129 - val_accuracy: 0.0240 - val_auc: 0.0360\n",
      "Epoch 10/500\n",
      "1260/1260 [==============================] - 13s 10ms/step - loss: 1.0994 - accuracy: 0.3052 - auc: 0.4007 - val_loss: 1.1587 - val_accuracy: 0.0238 - val_auc: 0.1174\n",
      "Epoch 11/500\n",
      "1260/1260 [==============================] - 13s 10ms/step - loss: 1.1012 - accuracy: 0.1969 - auc: 0.4694 - val_loss: 1.0862 - val_accuracy: 0.9521 - val_auc: 0.7320\n",
      "\n",
      "Epoch 00011: ReduceLROnPlateau reducing learning rate to 0.000630957374449059.\n",
      "Epoch 12/500\n",
      "1260/1260 [==============================] - 13s 10ms/step - loss: 1.0952 - accuracy: 0.5141 - auc: 0.7027 - val_loss: 1.1047 - val_accuracy: 0.0246 - val_auc: 0.4361\n",
      "Epoch 13/500\n",
      "1260/1260 [==============================] - 13s 10ms/step - loss: 1.1011 - accuracy: 0.2517 - auc: 0.4638 - val_loss: 1.1029 - val_accuracy: 0.0246 - val_auc: 0.4730\n",
      "Epoch 14/500\n",
      "1260/1260 [==============================] - 13s 10ms/step - loss: 1.0974 - accuracy: 0.2174 - auc: 0.5709 - val_loss: 1.0915 - val_accuracy: 0.9491 - val_auc: 0.7290\n",
      "Epoch 15/500\n",
      "1260/1260 [==============================] - 13s 10ms/step - loss: 1.0921 - accuracy: 0.7333 - auc: 0.7557 - val_loss: 1.0883 - val_accuracy: 0.9349 - val_auc: 0.7374\n",
      "Epoch 16/500\n",
      "1260/1260 [==============================] - 13s 10ms/step - loss: 1.0911 - accuracy: 0.4592 - auc: 0.7074 - val_loss: 1.1088 - val_accuracy: 0.7562 - val_auc: 0.7153\n",
      "\n",
      "Epoch 00016: ReduceLROnPlateau reducing learning rate to 0.0003981071838171537.\n",
      "Epoch 17/500\n",
      "1260/1260 [==============================] - 13s 10ms/step - loss: 1.0960 - accuracy: 0.7819 - auc: 0.7360 - val_loss: 1.1032 - val_accuracy: 0.0255 - val_auc: 0.4803\n",
      "Epoch 18/500\n",
      "1260/1260 [==============================] - 13s 10ms/step - loss: 1.0901 - accuracy: 0.2361 - auc: 0.5799 - val_loss: 1.1376 - val_accuracy: 0.2993 - val_auc: 0.4380\n",
      "Epoch 19/500\n",
      "1260/1260 [==============================] - 13s 10ms/step - loss: 1.0793 - accuracy: 0.2904 - auc: 0.5922 - val_loss: 1.0547 - val_accuracy: 0.1875 - val_auc: 0.6017\n",
      "Epoch 20/500\n",
      "1260/1260 [==============================] - 13s 10ms/step - loss: 1.0729 - accuracy: 0.4143 - auc: 0.6077 - val_loss: 1.0381 - val_accuracy: 0.7611 - val_auc: 0.7853\n",
      "Epoch 21/500\n",
      "1260/1260 [==============================] - 13s 10ms/step - loss: 1.0734 - accuracy: 0.3328 - auc: 0.6132 - val_loss: 1.0685 - val_accuracy: 0.3097 - val_auc: 0.6259\n",
      "Epoch 22/500\n",
      "1260/1260 [==============================] - 13s 10ms/step - loss: 1.0720 - accuracy: 0.1575 - auc: 0.5865 - val_loss: 1.0382 - val_accuracy: 0.6890 - val_auc: 0.6666\n",
      "Epoch 23/500\n",
      "1260/1260 [==============================] - 13s 10ms/step - loss: 1.0663 - accuracy: 0.4582 - auc: 0.6118 - val_loss: 1.0742 - val_accuracy: 0.2551 - val_auc: 0.6042\n",
      "Epoch 24/500\n",
      "1260/1260 [==============================] - 13s 10ms/step - loss: 1.0622 - accuracy: 0.3452 - auc: 0.6091 - val_loss: 1.0725 - val_accuracy: 0.6352 - val_auc: 0.6311\n",
      "Epoch 25/500\n",
      "1260/1260 [==============================] - 13s 10ms/step - loss: 1.0636 - accuracy: 0.4869 - auc: 0.6166 - val_loss: 1.0456 - val_accuracy: 0.4870 - val_auc: 0.6648\n",
      "\n",
      "Epoch 00025: ReduceLROnPlateau reducing learning rate to 0.0002511886574257803.\n",
      "Epoch 26/500\n",
      "1260/1260 [==============================] - 13s 10ms/step - loss: 1.0586 - accuracy: 0.4211 - auc: 0.6093 - val_loss: 1.0303 - val_accuracy: 0.5942 - val_auc: 0.6831\n",
      "Epoch 27/500\n",
      "1260/1260 [==============================] - 13s 10ms/step - loss: 1.0572 - accuracy: 0.4414 - auc: 0.6138 - val_loss: 1.0669 - val_accuracy: 0.4626 - val_auc: 0.6179\n",
      "Epoch 28/500\n",
      "1260/1260 [==============================] - 13s 10ms/step - loss: 1.0521 - accuracy: 0.4566 - auc: 0.6185 - val_loss: 1.0584 - val_accuracy: 0.2481 - val_auc: 0.6196\n",
      "Epoch 29/500\n",
      "1260/1260 [==============================] - 13s 10ms/step - loss: 1.0556 - accuracy: 0.3219 - auc: 0.6015 - val_loss: 1.0871 - val_accuracy: 0.2584 - val_auc: 0.5922\n",
      "Epoch 30/500\n",
      "1260/1260 [==============================] - 13s 10ms/step - loss: 1.0588 - accuracy: 0.3380 - auc: 0.6016 - val_loss: 1.0764 - val_accuracy: 0.3517 - val_auc: 0.6042\n",
      "Epoch 31/500\n",
      "1260/1260 [==============================] - 13s 10ms/step - loss: 1.0509 - accuracy: 0.3794 - auc: 0.6124 - val_loss: 1.0579 - val_accuracy: 0.4172 - val_auc: 0.6300\n",
      "\n",
      "Epoch 00031: ReduceLROnPlateau reducing learning rate to 0.00015848933651346973.\n",
      "Epoch 32/500\n",
      "1260/1260 [==============================] - 13s 10ms/step - loss: 1.0544 - accuracy: 0.4335 - auc: 0.6123 - val_loss: 1.0710 - val_accuracy: 0.3770 - val_auc: 0.6091\n",
      "Epoch 33/500\n",
      "1260/1260 [==============================] - 13s 10ms/step - loss: 1.0576 - accuracy: 0.3662 - auc: 0.6049 - val_loss: 1.0501 - val_accuracy: 0.5149 - val_auc: 0.6472\n",
      "Epoch 34/500\n",
      "1260/1260 [==============================] - 13s 10ms/step - loss: 1.0545 - accuracy: 0.4113 - auc: 0.6090 - val_loss: 1.0610 - val_accuracy: 0.4311 - val_auc: 0.6284\n",
      "Epoch 35/500\n",
      "1260/1260 [==============================] - 13s 10ms/step - loss: 1.0515 - accuracy: 0.3636 - auc: 0.6094 - val_loss: 1.0347 - val_accuracy: 0.4378 - val_auc: 0.6578\n",
      "Epoch 36/500\n",
      "1260/1260 [==============================] - 13s 10ms/step - loss: 1.0479 - accuracy: 0.3865 - auc: 0.6124 - val_loss: 1.0986 - val_accuracy: 0.2373 - val_auc: 0.5701\n",
      "\n",
      "Epoch 00036: ReduceLROnPlateau reducing learning rate to 0.00010000000838432616.\n",
      "Epoch 37/500\n",
      "1260/1260 [==============================] - 13s 10ms/step - loss: 1.0500 - accuracy: 0.3053 - auc: 0.6064 - val_loss: 1.0915 - val_accuracy: 0.3249 - val_auc: 0.5795\n",
      "Epoch 38/500\n",
      "1260/1260 [==============================] - 13s 10ms/step - loss: 1.0537 - accuracy: 0.2825 - auc: 0.6036 - val_loss: 1.0953 - val_accuracy: 0.2978 - val_auc: 0.5649\n",
      "Epoch 39/500\n",
      "1260/1260 [==============================] - 13s 10ms/step - loss: 1.0482 - accuracy: 0.3508 - auc: 0.6082 - val_loss: 1.0700 - val_accuracy: 0.3217 - val_auc: 0.6059\n",
      "Epoch 40/500\n",
      "1260/1260 [==============================] - 13s 10ms/step - loss: 1.0459 - accuracy: 0.3226 - auc: 0.6106 - val_loss: 1.0779 - val_accuracy: 0.2805 - val_auc: 0.5942\n",
      "Epoch 41/500\n",
      "1260/1260 [==============================] - 13s 10ms/step - loss: 1.0448 - accuracy: 0.3237 - auc: 0.6068 - val_loss: 1.0684 - val_accuracy: 0.2858 - val_auc: 0.6079\n",
      "\n",
      "Epoch 00041: ReduceLROnPlateau reducing learning rate to 6.30957374449059e-05.\n",
      "Epoch 42/500\n",
      "1260/1260 [==============================] - 13s 10ms/step - loss: 1.0412 - accuracy: 0.3480 - auc: 0.6070 - val_loss: 1.0532 - val_accuracy: 0.2679 - val_auc: 0.6208\n",
      "Epoch 43/500\n",
      "1260/1260 [==============================] - 13s 10ms/step - loss: 1.0456 - accuracy: 0.3182 - auc: 0.6057 - val_loss: 1.0654 - val_accuracy: 0.2658 - val_auc: 0.6039\n"
     ]
    },
    {
     "name": "stdout",
     "output_type": "stream",
     "text": [
      "Epoch 44/500\n",
      "1260/1260 [==============================] - 13s 10ms/step - loss: 1.0460 - accuracy: 0.3182 - auc: 0.6031 - val_loss: 1.0622 - val_accuracy: 0.3074 - val_auc: 0.6114\n",
      "Epoch 45/500\n",
      "1260/1260 [==============================] - 13s 10ms/step - loss: 1.0505 - accuracy: 0.2630 - auc: 0.6010 - val_loss: 1.0759 - val_accuracy: 0.3252 - val_auc: 0.5994\n",
      "Epoch 46/500\n",
      "1260/1260 [==============================] - 13s 10ms/step - loss: 1.0413 - accuracy: 0.3185 - auc: 0.6078 - val_loss: 1.0476 - val_accuracy: 0.3653 - val_auc: 0.6350\n",
      "\n",
      "Epoch 00046: ReduceLROnPlateau reducing learning rate to 3.981071838171537e-05.\n",
      "Epoch 47/500\n",
      "1260/1260 [==============================] - 13s 10ms/step - loss: 1.0405 - accuracy: 0.3506 - auc: 0.6133 - val_loss: 1.0863 - val_accuracy: 0.2580 - val_auc: 0.5808\n",
      "Epoch 48/500\n",
      "1260/1260 [==============================] - 13s 10ms/step - loss: 1.0465 - accuracy: 0.2811 - auc: 0.6035 - val_loss: 1.0817 - val_accuracy: 0.3131 - val_auc: 0.5888\n",
      "Epoch 49/500\n",
      "1260/1260 [==============================] - 13s 10ms/step - loss: 1.0450 - accuracy: 0.3249 - auc: 0.6065 - val_loss: 1.0474 - val_accuracy: 0.3208 - val_auc: 0.6267\n",
      "Epoch 50/500\n",
      "1260/1260 [==============================] - 13s 10ms/step - loss: 1.0403 - accuracy: 0.3072 - auc: 0.6100 - val_loss: 1.0790 - val_accuracy: 0.3232 - val_auc: 0.5923\n",
      "Epoch 51/500\n",
      "1260/1260 [==============================] - 13s 10ms/step - loss: 1.0409 - accuracy: 0.3236 - auc: 0.6075 - val_loss: 1.0552 - val_accuracy: 0.3260 - val_auc: 0.6223\n",
      "\n",
      "Epoch 00051: ReduceLROnPlateau reducing learning rate to 2.5118865283496142e-05.\n",
      "Epoch 52/500\n",
      "1260/1260 [==============================] - 13s 10ms/step - loss: 1.0399 - accuracy: 0.3111 - auc: 0.6095 - val_loss: 1.0711 - val_accuracy: 0.3170 - val_auc: 0.6023\n",
      "Epoch 53/500\n",
      "1260/1260 [==============================] - 13s 10ms/step - loss: 1.0482 - accuracy: 0.3143 - auc: 0.6024 - val_loss: 1.0556 - val_accuracy: 0.3441 - val_auc: 0.6214\n",
      "Epoch 54/500\n",
      "1260/1260 [==============================] - 13s 10ms/step - loss: 1.0373 - accuracy: 0.3350 - auc: 0.6083 - val_loss: 1.0759 - val_accuracy: 0.3018 - val_auc: 0.5948\n",
      "Epoch 55/500\n",
      "1260/1260 [==============================] - 13s 10ms/step - loss: 1.0437 - accuracy: 0.3215 - auc: 0.6056 - val_loss: 1.0724 - val_accuracy: 0.2996 - val_auc: 0.5998\n",
      "Epoch 56/500\n",
      "1260/1260 [==============================] - 13s 10ms/step - loss: 1.0363 - accuracy: 0.3323 - auc: 0.6103 - val_loss: 1.0791 - val_accuracy: 0.2949 - val_auc: 0.5908\n",
      "\n",
      "Epoch 00056: ReduceLROnPlateau reducing learning rate to 1.5848932274101303e-05.\n",
      "Epoch 57/500\n",
      "1260/1260 [==============================] - 13s 10ms/step - loss: 1.0443 - accuracy: 0.2948 - auc: 0.6045 - val_loss: 1.0675 - val_accuracy: 0.3300 - val_auc: 0.6075\n",
      "Epoch 58/500\n",
      "1260/1260 [==============================] - 13s 10ms/step - loss: 1.0422 - accuracy: 0.3244 - auc: 0.6089 - val_loss: 1.0614 - val_accuracy: 0.3270 - val_auc: 0.6146\n",
      "Epoch 59/500\n",
      "1260/1260 [==============================] - 13s 10ms/step - loss: 1.0398 - accuracy: 0.3309 - auc: 0.6084 - val_loss: 1.0788 - val_accuracy: 0.2960 - val_auc: 0.5936\n",
      "Epoch 60/500\n",
      "1260/1260 [==============================] - 13s 10ms/step - loss: 1.0400 - accuracy: 0.3110 - auc: 0.6048 - val_loss: 1.0757 - val_accuracy: 0.3021 - val_auc: 0.5963\n",
      "Epoch 61/500\n",
      "1260/1260 [==============================] - 13s 10ms/step - loss: 1.0437 - accuracy: 0.3139 - auc: 0.6045 - val_loss: 1.0701 - val_accuracy: 0.3177 - val_auc: 0.6037\n",
      "\n",
      "Epoch 00061: ReduceLROnPlateau reducing learning rate to 1.0000000608891671e-05.\n",
      "Epoch 62/500\n",
      "1260/1260 [==============================] - 13s 10ms/step - loss: 1.0389 - accuracy: 0.3207 - auc: 0.6077 - val_loss: 1.0708 - val_accuracy: 0.3222 - val_auc: 0.6031\n",
      "Epoch 63/500\n",
      "1260/1260 [==============================] - 13s 10ms/step - loss: 1.0382 - accuracy: 0.3286 - auc: 0.6097 - val_loss: 1.0693 - val_accuracy: 0.3092 - val_auc: 0.6037\n",
      "Epoch 64/500\n",
      "1260/1260 [==============================] - 13s 10ms/step - loss: 1.0367 - accuracy: 0.3234 - auc: 0.6077 - val_loss: 1.0666 - val_accuracy: 0.3247 - val_auc: 0.6078\n",
      "Epoch 65/500\n",
      "1260/1260 [==============================] - 13s 10ms/step - loss: 1.0434 - accuracy: 0.3194 - auc: 0.6083 - val_loss: 1.0626 - val_accuracy: 0.3229 - val_auc: 0.6123\n",
      "Epoch 66/500\n",
      "1260/1260 [==============================] - 13s 10ms/step - loss: 1.0390 - accuracy: 0.3207 - auc: 0.6085 - val_loss: 1.0654 - val_accuracy: 0.3324 - val_auc: 0.6096\n",
      "\n",
      "Epoch 00066: ReduceLROnPlateau reducing learning rate to 1e-05.\n",
      "Epoch 00066: early stopping\n"
     ]
    }
   ],
   "source": [
    "# now train the model\n",
    "\n",
    "reduce_lr = tf.keras.callbacks.ReduceLROnPlateau(monitor='val_loss', \n",
    "                              factor=0.1**(1/5), patience=5, min_lr=1e-5,\n",
    "                                                verbose=1)\n",
    "\n",
    "early_stop = tf.keras.callbacks.EarlyStopping(monitor='val_loss', patience=40, \n",
    "                                              verbose=1)\n",
    "\n",
    "callbacks = [reduce_lr,early_stop]\n",
    "\n",
    "hist1 = pfn.fit(X_train, Y_train,\n",
    "        epochs=num_epoch,\n",
    "        batch_size=batch_size,\n",
    "        validation_data=(X_val, Y_val),\n",
    "        class_weight=class_weight,\n",
    "        callbacks=callbacks,\n",
    "        verbose=1)"
   ]
  },
  {
   "cell_type": "markdown",
   "id": "0fac1861",
   "metadata": {},
   "source": [
    "# Analyze the Model"
   ]
  },
  {
   "cell_type": "code",
   "execution_count": 16,
   "id": "531ee50e",
   "metadata": {},
   "outputs": [],
   "source": [
    "# get predictions on test data\n",
    "preds = pfn.predict(X_test)\n",
    "\n",
    "# get ROC curve\n",
    "num_classes = preds.shape[1]\n",
    "aucs = np.zeros(num_classes)\n",
    "for i in range(num_classes):\n",
    "    aucs[i] = roc_auc_score(Y_test[:, i], preds[:, i])"
   ]
  },
  {
   "cell_type": "code",
   "execution_count": 17,
   "id": "df257ea1",
   "metadata": {},
   "outputs": [
    {
     "data": {
      "text/plain": [
       "array([0.57812143, 0.66432231, 0.511907  ])"
      ]
     },
     "execution_count": 17,
     "metadata": {},
     "output_type": "execute_result"
    }
   ],
   "source": [
    "aucs"
   ]
  },
  {
   "cell_type": "code",
   "execution_count": 19,
   "id": "9190f668",
   "metadata": {},
   "outputs": [
    {
     "data": {
      "image/png": "[encoded data removed]",
      "text/plain": [
       "<Figure size 288x288 with 1 Axes>"
      ]
     },
     "metadata": {
      "needs_background": "light"
     },
     "output_type": "display_data"
    }
   ],
   "source": [
    "plt.plot(hist1.history[\"loss\"],label=\"loss\")\n",
    "plt.plot(hist1.history[\"val_loss\"],label=\"validation loss\")\n",
    "plt.legend()\n",
    "plt.show()"
   ]
  },
  {
   "cell_type": "code",
   "execution_count": 24,
   "id": "bcf5a3ff",
   "metadata": {},
   "outputs": [
    {
     "data": {
      "image/png": "[encoded data removed]",
      "text/plain": [
       "<Figure size 288x288 with 1 Axes>"
      ]
     },
     "metadata": {
      "needs_background": "light"
     },
     "output_type": "display_data"
    }
   ],
   "source": [
    "plt.plot(hist1.history[\"accuracy\"],label=\"accuracy\")\n",
    "plt.plot(hist1.history[\"val_accuracy\"],label=\"validation accuracy\")\n",
    "plt.legend()\n",
    "plt.show()"
   ]
  },
  {
   "cell_type": "code",
   "execution_count": 25,
   "id": "9d88ef52",
   "metadata": {},
   "outputs": [
    {
     "data": {
      "image/png": "[encoded data removed]",
      "text/plain": [
       "<Figure size 288x288 with 1 Axes>"
      ]
     },
     "metadata": {
      "needs_background": "light"
     },
     "output_type": "display_data"
    }
   ],
   "source": [
    "plt.plot(hist1.history[\"auc\"],label=\"auc\")\n",
    "plt.plot(hist1.history[\"val_auc\"],label=\"val_auc\")\n",
    "plt.legend()\n",
    "plt.show()"
   ]
  },
  {
   "cell_type": "code",
   "execution_count": 26,
   "id": "61907b78",
   "metadata": {},
   "outputs": [
    {
     "data": {
      "image/png": "[encoded data removed]",
      "text/plain": [
       "<Figure size 288x288 with 1 Axes>"
      ]
     },
     "metadata": {
      "needs_background": "light"
     },
     "output_type": "display_data"
    }
   ],
   "source": [
    "plt.plot(hist1.history[\"lr\"],label=\"lr\")\n",
    "plt.legend()\n",
    "plt.show()"
   ]
  },
  {
   "cell_type": "code",
   "execution_count": 27,
   "id": "a6ba574f",
   "metadata": {},
   "outputs": [],
   "source": [
    "pfn.save_weights(\"./muti_class_checkpoint\")"
   ]
  },
  {
   "cell_type": "code",
   "execution_count": null,
   "id": "df6aaca1",
   "metadata": {},
   "outputs": [],
   "source": []
  }
 ],
 "metadata": {
  "kernelspec": {
   "display_name": "Python 3",
   "language": "python",
   "name": "python3"
  },
  "language_info": {
   "codemirror_mode": {
    "name": "ipython",
    "version": 3
   },
   "file_extension": ".py",
   "mimetype": "text/x-python",
   "name": "python",
   "nbconvert_exporter": "python",
   "pygments_lexer": "ipython3",
   "version": "3.8.8"
  }
 },
 "nbformat": 4,
 "nbformat_minor": 5
}
