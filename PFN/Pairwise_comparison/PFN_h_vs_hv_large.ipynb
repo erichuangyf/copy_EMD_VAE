{
 "cells": [
  {
   "cell_type": "markdown",
   "id": "4ef50705",
   "metadata": {},
   "source": [
    "# Import and Initialization"
   ]
  },
  {
   "cell_type": "code",
   "execution_count": 1,
   "id": "05a505b0",
   "metadata": {},
   "outputs": [
    {
     "name": "stderr",
     "output_type": "stream",
     "text": [
      "2022-04-28 14:56:15.167286: I tensorflow/stream_executor/platform/default/dso_loader.cc:49] Successfully opened dynamic library libcudart.so.10.1\n"
     ]
    }
   ],
   "source": [
    "%load_ext autoreload\n",
    "%autoreload 2\n",
    "\n",
    "import tensorflow as tf\n",
    "\n",
    "# standard library imports\n",
    "from __future__ import absolute_import, division, print_function\n",
    "\n",
    "# standard numerical library imports\n",
    "import numpy as np\n",
    "\n",
    "# energyflow imports\n",
    "import energyflow as ef\n",
    "from energyflow.archs import PFN\n",
    "from energyflow.datasets import qg_jets\n",
    "from energyflow.utils import data_split, remap_pids, to_categorical\n",
    "\n",
    "from sklearn.metrics import roc_auc_score, roc_curve\n",
    "import matplotlib.pyplot as plt\n",
    "\n",
    "\n",
    "import pandas\n",
    "import h5py\n",
    "import pickle\n",
    "\n",
    "import datetime"
   ]
  },
  {
   "cell_type": "code",
   "execution_count": 2,
   "id": "45667e4d",
   "metadata": {},
   "outputs": [],
   "source": [
    "# configs\n",
    "train, val, test = 0.6, 0.3, 0.1\n",
    "Phi_sizes, F_sizes = (256, 256, 256), (256, 256, 256)\n",
    "num_epoch = 500\n",
    "batch_size = 1000"
   ]
  },
  {
   "cell_type": "markdown",
   "id": "8c5aa5d4",
   "metadata": {},
   "source": [
    "# Load and Process Data"
   ]
  },
  {
   "cell_type": "code",
   "execution_count": 3,
   "id": "25276321",
   "metadata": {},
   "outputs": [],
   "source": [
    "signal_1_df = \"/global/home/users/yifengh3/VAE/new_data/h_signal_big.h5\"\n",
    "signal_2_df = \"/global/home/users/yifengh3/VAE/new_data/hv_signal_big.h5\"\n",
    "signal_1 = pandas.read_hdf(signal_1_df)\n",
    "signal_2 = pandas.read_hdf(signal_2_df)"
   ]
  },
  {
   "cell_type": "code",
   "execution_count": 4,
   "id": "646d74c9",
   "metadata": {},
   "outputs": [
    {
     "name": "stdout",
     "output_type": "stream",
     "text": [
      "signal_1 data shape: (173692, 200)\n",
      "signal_2 data shape: (157772, 200)\n"
     ]
    }
   ],
   "source": [
    "print(\"signal_1 data shape: {}\".format(signal_1.shape))\n",
    "print(\"signal_2 data shape: {}\".format(signal_2.shape))"
   ]
  },
  {
   "cell_type": "code",
   "execution_count": 5,
   "id": "e582ac98",
   "metadata": {},
   "outputs": [],
   "source": [
    "# assign labels to signal and background data, 0 for sig1,  1 for sig2\n",
    "# (updated since we might get multiple signals) \n",
    "labeled_sig1 = np.append(signal_1,np.zeros((signal_1.shape[0],1)),axis=1)\n",
    "labeled_sig2 = np.append(signal_2,np.ones((signal_2.shape[0],1)),axis=1)"
   ]
  },
  {
   "cell_type": "code",
   "execution_count": 6,
   "id": "8540cc44",
   "metadata": {},
   "outputs": [],
   "source": [
    "# mix two data array into one signal array\n",
    "data = np.concatenate((labeled_sig1,labeled_sig2))\n",
    "\n",
    "#and shuffle the data\n",
    "np.random.shuffle(data)"
   ]
  },
  {
   "cell_type": "code",
   "execution_count": 7,
   "id": "34eaf99c",
   "metadata": {},
   "outputs": [],
   "source": [
    "X = data[:,:-1]\n",
    "y = data[:,-1]"
   ]
  },
  {
   "cell_type": "code",
   "execution_count": 8,
   "id": "d078bbf6",
   "metadata": {},
   "outputs": [
    {
     "name": "stdout",
     "output_type": "stream",
     "text": [
      "shape of X: (331464, 200)\n",
      "shape of Y: (331464,)\n"
     ]
    }
   ],
   "source": [
    "print(\"shape of X: {}\".format(X.shape))\n",
    "print(\"shape of Y: {}\".format(y.shape))"
   ]
  },
  {
   "cell_type": "code",
   "execution_count": 9,
   "id": "ea34616a",
   "metadata": {},
   "outputs": [
    {
     "name": "stdout",
     "output_type": "stream",
     "text": [
      "Weight for background: 0.95\n",
      "Weight for signal: 1.05\n"
     ]
    }
   ],
   "source": [
    "# Scaling by total/2 helps keep the loss to a similar magnitude.\n",
    "# The sum of the weights of all examples stays the same.\n",
    "total = labeled_sig1.shape[0] + labeled_sig2.shape[0]\n",
    "weight_for_0 = (1 / labeled_sig1.shape[0]) * (total / 2.0)\n",
    "weight_for_1 = (1 / labeled_sig2.shape[0]) * (total / 2.0)\n",
    "\n",
    "\n",
    "class_weight = {0: weight_for_0, 1: weight_for_1}\n",
    "\n",
    "print('Weight for background: {:.2f}'.format(weight_for_0))\n",
    "print('Weight for signal: {:.2f}'.format(weight_for_1))"
   ]
  },
  {
   "cell_type": "code",
   "execution_count": 10,
   "id": "c3e0e641",
   "metadata": {},
   "outputs": [],
   "source": [
    "# To categorical as stipulated in example\n",
    "Y = to_categorical(y, num_classes=2)\n",
    "\n",
    "# Reshape X to shape (number of jets, 50, 4)\n",
    "X = X.reshape(-1,50,4)\n",
    "\n",
    "# ignore the pid info\n",
    "X = X[:,:,:3]"
   ]
  },
  {
   "cell_type": "code",
   "execution_count": 11,
   "id": "3f3e9fdd",
   "metadata": {},
   "outputs": [
    {
     "name": "stdout",
     "output_type": "stream",
     "text": [
      "(331464, 50, 3)\n"
     ]
    }
   ],
   "source": [
    "print(X.shape)"
   ]
  },
  {
   "cell_type": "code",
   "execution_count": 12,
   "id": "6a6fe36d",
   "metadata": {},
   "outputs": [
    {
     "name": "stderr",
     "output_type": "stream",
     "text": [
      "100%|████████████████████████████████| 331464/331464 [00:18<00:00, 18290.34it/s]\n"
     ]
    }
   ],
   "source": [
    "# normalizing jets\n",
    "# copied from example\n",
    "import tqdm\n",
    "for x in tqdm.tqdm(X):\n",
    "    # now add the status bar :)\n",
    "    mask = x[:,0] > 0\n",
    "    yphi_avg = np.average(x[mask,1:3], weights=x[mask,0], axis=0)\n",
    "    x[mask,1:3] -= yphi_avg\n",
    "    x[mask,0] /= x[:,0].sum()"
   ]
  },
  {
   "cell_type": "code",
   "execution_count": 13,
   "id": "c3e18f2d",
   "metadata": {},
   "outputs": [
    {
     "name": "stdout",
     "output_type": "stream",
     "text": [
      "Finished preprocessing\n",
      "shape of X: (331464, 50, 3)\n",
      "shape of Y: (331464,)\n"
     ]
    }
   ],
   "source": [
    "print('Finished preprocessing')\n",
    "print(\"shape of X: {}\".format(X.shape))\n",
    "print(\"shape of Y: {}\".format(y.shape))"
   ]
  },
  {
   "cell_type": "code",
   "execution_count": 14,
   "id": "939de622",
   "metadata": {},
   "outputs": [],
   "source": [
    "# do train/val/test split \n",
    "(X_train, X_val, X_test,\n",
    " Y_train, Y_val, Y_test) = data_split(X, Y, val=val, test=test)"
   ]
  },
  {
   "cell_type": "markdown",
   "id": "bc6339cd",
   "metadata": {},
   "source": [
    "# Build and Train the Model"
   ]
  },
  {
   "cell_type": "code",
   "execution_count": 15,
   "id": "4876d9dc",
   "metadata": {},
   "outputs": [
    {
     "name": "stdout",
     "output_type": "stream",
     "text": [
      "Model summary:\n"
     ]
    },
    {
     "name": "stderr",
     "output_type": "stream",
     "text": [
      "2022-04-28 14:56:42.790929: I tensorflow/compiler/jit/xla_cpu_device.cc:41] Not creating XLA devices, tf_xla_enable_xla_devices not set\n",
      "2022-04-28 14:56:42.791905: I tensorflow/stream_executor/platform/default/dso_loader.cc:49] Successfully opened dynamic library libcuda.so.1\n",
      "2022-04-28 14:56:42.823244: I tensorflow/core/common_runtime/gpu/gpu_device.cc:1720] Found device 0 with properties: \n",
      "pciBusID: 0000:81:00.0 name: Quadro RTX 6000 computeCapability: 7.5\n",
      "coreClock: 1.77GHz coreCount: 72 deviceMemorySize: 23.65GiB deviceMemoryBandwidth: 625.94GiB/s\n",
      "2022-04-28 14:56:42.823266: I tensorflow/stream_executor/platform/default/dso_loader.cc:49] Successfully opened dynamic library libcudart.so.10.1\n",
      "2022-04-28 14:56:42.826218: I tensorflow/stream_executor/platform/default/dso_loader.cc:49] Successfully opened dynamic library libcublas.so.10\n",
      "2022-04-28 14:56:42.826250: I tensorflow/stream_executor/platform/default/dso_loader.cc:49] Successfully opened dynamic library libcublasLt.so.10\n",
      "2022-04-28 14:56:42.828281: I tensorflow/stream_executor/platform/default/dso_loader.cc:49] Successfully opened dynamic library libcufft.so.10\n",
      "2022-04-28 14:56:42.829189: I tensorflow/stream_executor/platform/default/dso_loader.cc:49] Successfully opened dynamic library libcurand.so.10\n",
      "2022-04-28 14:56:42.831460: I tensorflow/stream_executor/platform/default/dso_loader.cc:49] Successfully opened dynamic library libcusolver.so.10\n",
      "2022-04-28 14:56:42.832333: I tensorflow/stream_executor/platform/default/dso_loader.cc:49] Successfully opened dynamic library libcusparse.so.10\n",
      "2022-04-28 14:56:42.836237: I tensorflow/stream_executor/platform/default/dso_loader.cc:49] Successfully opened dynamic library libcudnn.so.7\n",
      "2022-04-28 14:56:42.838919: I tensorflow/core/common_runtime/gpu/gpu_device.cc:1862] Adding visible gpu devices: 0\n",
      "2022-04-28 14:56:42.839348: I tensorflow/core/platform/cpu_feature_guard.cc:142] This TensorFlow binary is optimized with oneAPI Deep Neural Network Library (oneDNN) to use the following CPU instructions in performance-critical operations:  SSE4.1 SSE4.2 AVX AVX2 FMA\n",
      "To enable them in other operations, rebuild TensorFlow with the appropriate compiler flags.\n",
      "2022-04-28 14:56:42.842191: I tensorflow/core/common_runtime/gpu/gpu_device.cc:1720] Found device 0 with properties: \n",
      "pciBusID: 0000:81:00.0 name: Quadro RTX 6000 computeCapability: 7.5\n",
      "coreClock: 1.77GHz coreCount: 72 deviceMemorySize: 23.65GiB deviceMemoryBandwidth: 625.94GiB/s\n",
      "2022-04-28 14:56:42.842210: I tensorflow/stream_executor/platform/default/dso_loader.cc:49] Successfully opened dynamic library libcudart.so.10.1\n",
      "2022-04-28 14:56:42.842229: I tensorflow/stream_executor/platform/default/dso_loader.cc:49] Successfully opened dynamic library libcublas.so.10\n",
      "2022-04-28 14:56:42.842241: I tensorflow/stream_executor/platform/default/dso_loader.cc:49] Successfully opened dynamic library libcublasLt.so.10\n",
      "2022-04-28 14:56:42.842252: I tensorflow/stream_executor/platform/default/dso_loader.cc:49] Successfully opened dynamic library libcufft.so.10\n",
      "2022-04-28 14:56:42.842263: I tensorflow/stream_executor/platform/default/dso_loader.cc:49] Successfully opened dynamic library libcurand.so.10\n",
      "2022-04-28 14:56:42.842273: I tensorflow/stream_executor/platform/default/dso_loader.cc:49] Successfully opened dynamic library libcusolver.so.10\n",
      "2022-04-28 14:56:42.842284: I tensorflow/stream_executor/platform/default/dso_loader.cc:49] Successfully opened dynamic library libcusparse.so.10\n",
      "2022-04-28 14:56:42.842294: I tensorflow/stream_executor/platform/default/dso_loader.cc:49] Successfully opened dynamic library libcudnn.so.7\n",
      "2022-04-28 14:56:42.844751: I tensorflow/core/common_runtime/gpu/gpu_device.cc:1862] Adding visible gpu devices: 0\n",
      "2022-04-28 14:56:42.844778: I tensorflow/stream_executor/platform/default/dso_loader.cc:49] Successfully opened dynamic library libcudart.so.10.1\n",
      "2022-04-28 14:56:43.386557: I tensorflow/core/common_runtime/gpu/gpu_device.cc:1261] Device interconnect StreamExecutor with strength 1 edge matrix:\n",
      "2022-04-28 14:56:43.386605: I tensorflow/core/common_runtime/gpu/gpu_device.cc:1267]      0 \n",
      "2022-04-28 14:56:43.386615: I tensorflow/core/common_runtime/gpu/gpu_device.cc:1280] 0:   N \n",
      "2022-04-28 14:56:43.390592: I tensorflow/core/common_runtime/gpu/gpu_device.cc:1406] Created TensorFlow device (/job:localhost/replica:0/task:0/device:GPU:0 with 22017 MB memory) -> physical GPU (device: 0, name: Quadro RTX 6000, pci bus id: 0000:81:00.0, compute capability: 7.5)\n",
      "2022-04-28 14:56:43.390906: I tensorflow/compiler/jit/xla_gpu_device.cc:99] Not creating XLA devices, tf_xla_enable_xla_devices not set\n"
     ]
    },
    {
     "name": "stdout",
     "output_type": "stream",
     "text": [
      "Model: \"model\"\n",
      "__________________________________________________________________________________________________\n",
      "Layer (type)                    Output Shape         Param #     Connected to                     \n",
      "==================================================================================================\n",
      "input (InputLayer)              [(None, None, 3)]    0                                            \n",
      "__________________________________________________________________________________________________\n",
      "tdist_0 (TimeDistributed)       (None, None, 256)    1024        input[0][0]                      \n",
      "__________________________________________________________________________________________________\n",
      "activation (Activation)         (None, None, 256)    0           tdist_0[0][0]                    \n",
      "__________________________________________________________________________________________________\n",
      "tdist_1 (TimeDistributed)       (None, None, 256)    65792       activation[0][0]                 \n",
      "__________________________________________________________________________________________________\n",
      "activation_1 (Activation)       (None, None, 256)    0           tdist_1[0][0]                    \n",
      "__________________________________________________________________________________________________\n",
      "tdist_2 (TimeDistributed)       (None, None, 256)    65792       activation_1[0][0]               \n",
      "__________________________________________________________________________________________________\n",
      "mask (Lambda)                   (None, None)         0           input[0][0]                      \n",
      "__________________________________________________________________________________________________\n",
      "activation_2 (Activation)       (None, None, 256)    0           tdist_2[0][0]                    \n",
      "__________________________________________________________________________________________________\n",
      "sum (Dot)                       (None, 256)          0           mask[0][0]                       \n",
      "                                                                 activation_2[0][0]               \n",
      "__________________________________________________________________________________________________\n",
      "dense_0 (Dense)                 (None, 256)          65792       sum[0][0]                        \n",
      "__________________________________________________________________________________________________\n",
      "activation_3 (Activation)       (None, 256)          0           dense_0[0][0]                    \n",
      "__________________________________________________________________________________________________\n",
      "dense_1 (Dense)                 (None, 256)          65792       activation_3[0][0]               \n",
      "__________________________________________________________________________________________________\n",
      "activation_4 (Activation)       (None, 256)          0           dense_1[0][0]                    \n",
      "__________________________________________________________________________________________________\n",
      "dense_2 (Dense)                 (None, 256)          65792       activation_4[0][0]               \n",
      "__________________________________________________________________________________________________\n",
      "activation_5 (Activation)       (None, 256)          0           dense_2[0][0]                    \n",
      "__________________________________________________________________________________________________\n",
      "output (Dense)                  (None, 2)            514         activation_5[0][0]               \n",
      "__________________________________________________________________________________________________\n",
      "activation_6 (Activation)       (None, 2)            0           output[0][0]                     \n",
      "==================================================================================================\n",
      "Total params: 330,498\n",
      "Trainable params: 330,498\n",
      "Non-trainable params: 0\n",
      "__________________________________________________________________________________________________\n"
     ]
    }
   ],
   "source": [
    "print('Model summary:')\n",
    "\n",
    "# build architecture\n",
    "pfn = PFN(input_dim=X.shape[-1], Phi_sizes=Phi_sizes, F_sizes=F_sizes)"
   ]
  },
  {
   "cell_type": "code",
   "execution_count": 16,
   "id": "b559b182",
   "metadata": {
    "scrolled": true
   },
   "outputs": [
    {
     "name": "stderr",
     "output_type": "stream",
     "text": [
      "2022-04-28 14:56:43.949596: I tensorflow/compiler/mlir/mlir_graph_optimization_pass.cc:116] None of the MLIR optimization passes are enabled (registered 2)\n",
      "2022-04-28 14:56:43.950070: I tensorflow/core/platform/profile_utils/cpu_utils.cc:112] CPU Frequency: 2994530000 Hz\n"
     ]
    },
    {
     "name": "stdout",
     "output_type": "stream",
     "text": [
      "Epoch 1/500\n"
     ]
    },
    {
     "name": "stderr",
     "output_type": "stream",
     "text": [
      "2022-04-28 14:56:44.350828: I tensorflow/stream_executor/platform/default/dso_loader.cc:49] Successfully opened dynamic library libcublas.so.10\n"
     ]
    },
    {
     "name": "stdout",
     "output_type": "stream",
     "text": [
      "199/199 [==============================] - 3s 13ms/step - loss: 19.5899 - acc: 0.5519 - val_loss: 0.5280 - val_acc: 0.7359\n",
      "Epoch 2/500\n",
      "199/199 [==============================] - 2s 10ms/step - loss: 0.5677 - acc: 0.7129 - val_loss: 0.6250 - val_acc: 0.6777\n",
      "Epoch 3/500\n",
      "199/199 [==============================] - 2s 10ms/step - loss: 0.5428 - acc: 0.7485 - val_loss: 0.4342 - val_acc: 0.7949\n",
      "Epoch 4/500\n",
      "199/199 [==============================] - 2s 10ms/step - loss: 0.4501 - acc: 0.7881 - val_loss: 0.3939 - val_acc: 0.8201\n",
      "Epoch 5/500\n",
      "199/199 [==============================] - 2s 10ms/step - loss: 0.4173 - acc: 0.8057 - val_loss: 0.3697 - val_acc: 0.8358\n",
      "Epoch 6/500\n",
      "199/199 [==============================] - 2s 10ms/step - loss: 0.3614 - acc: 0.8408 - val_loss: 0.3644 - val_acc: 0.8380\n",
      "Epoch 7/500\n",
      "199/199 [==============================] - 2s 10ms/step - loss: 0.3326 - acc: 0.8564 - val_loss: 0.2916 - val_acc: 0.8784\n",
      "Epoch 8/500\n",
      "199/199 [==============================] - 2s 10ms/step - loss: 0.3116 - acc: 0.8680 - val_loss: 0.3624 - val_acc: 0.8374\n",
      "Epoch 9/500\n",
      "199/199 [==============================] - 2s 10ms/step - loss: 0.3132 - acc: 0.8680 - val_loss: 0.2848 - val_acc: 0.8819\n",
      "Epoch 10/500\n",
      "199/199 [==============================] - 2s 10ms/step - loss: 0.2982 - acc: 0.8739 - val_loss: 0.2853 - val_acc: 0.8803\n",
      "Epoch 11/500\n",
      "199/199 [==============================] - 2s 10ms/step - loss: 0.2719 - acc: 0.8862 - val_loss: 0.2875 - val_acc: 0.8801\n",
      "Epoch 12/500\n",
      "199/199 [==============================] - 2s 10ms/step - loss: 0.2729 - acc: 0.8846 - val_loss: 0.2506 - val_acc: 0.8951\n",
      "Epoch 13/500\n",
      "199/199 [==============================] - 2s 10ms/step - loss: 0.2555 - acc: 0.8929 - val_loss: 0.2372 - val_acc: 0.9027\n",
      "Epoch 14/500\n",
      "199/199 [==============================] - 2s 10ms/step - loss: 0.2435 - acc: 0.8982 - val_loss: 0.2251 - val_acc: 0.9065\n",
      "Epoch 15/500\n",
      "199/199 [==============================] - 2s 10ms/step - loss: 0.2180 - acc: 0.9098 - val_loss: 0.2365 - val_acc: 0.9047\n",
      "Epoch 16/500\n",
      "199/199 [==============================] - 2s 10ms/step - loss: 0.2169 - acc: 0.9104 - val_loss: 0.1856 - val_acc: 0.9248\n",
      "Epoch 17/500\n",
      "199/199 [==============================] - 2s 10ms/step - loss: 0.1961 - acc: 0.9201 - val_loss: 0.1681 - val_acc: 0.9340\n",
      "Epoch 18/500\n",
      "199/199 [==============================] - 2s 10ms/step - loss: 0.1691 - acc: 0.9326 - val_loss: 0.2336 - val_acc: 0.9043\n",
      "Epoch 19/500\n",
      "199/199 [==============================] - 2s 10ms/step - loss: 0.1504 - acc: 0.9400 - val_loss: 0.1284 - val_acc: 0.9506\n",
      "Epoch 20/500\n",
      "199/199 [==============================] - 2s 10ms/step - loss: 0.1511 - acc: 0.9407 - val_loss: 0.1378 - val_acc: 0.9453\n",
      "Epoch 21/500\n",
      "199/199 [==============================] - 2s 10ms/step - loss: 0.1325 - acc: 0.9490 - val_loss: 0.1529 - val_acc: 0.9389\n",
      "Epoch 22/500\n",
      "199/199 [==============================] - 2s 10ms/step - loss: 0.1342 - acc: 0.9481 - val_loss: 0.1133 - val_acc: 0.9561\n",
      "Epoch 23/500\n",
      "199/199 [==============================] - 2s 10ms/step - loss: 0.1151 - acc: 0.9550 - val_loss: 0.1089 - val_acc: 0.9577\n",
      "Epoch 24/500\n",
      "199/199 [==============================] - 2s 10ms/step - loss: 0.1070 - acc: 0.9590 - val_loss: 0.1131 - val_acc: 0.9562\n",
      "Epoch 25/500\n",
      "199/199 [==============================] - 2s 10ms/step - loss: 0.1048 - acc: 0.9589 - val_loss: 0.1296 - val_acc: 0.9487\n",
      "Epoch 26/500\n",
      "199/199 [==============================] - 2s 10ms/step - loss: 0.1105 - acc: 0.9572 - val_loss: 0.1055 - val_acc: 0.9585\n",
      "Epoch 27/500\n",
      "199/199 [==============================] - 2s 10ms/step - loss: 0.1022 - acc: 0.9607 - val_loss: 0.1238 - val_acc: 0.9512\n",
      "Epoch 28/500\n",
      "199/199 [==============================] - 2s 10ms/step - loss: 0.1036 - acc: 0.9602 - val_loss: 0.1070 - val_acc: 0.9583\n",
      "Epoch 29/500\n",
      "199/199 [==============================] - 2s 10ms/step - loss: 0.1015 - acc: 0.9615 - val_loss: 0.0876 - val_acc: 0.9668\n",
      "Epoch 30/500\n",
      "199/199 [==============================] - 2s 10ms/step - loss: 0.0930 - acc: 0.9640 - val_loss: 0.0916 - val_acc: 0.9645\n",
      "Epoch 31/500\n",
      "199/199 [==============================] - 2s 10ms/step - loss: 0.0915 - acc: 0.9647 - val_loss: 0.1009 - val_acc: 0.9617\n",
      "Epoch 32/500\n",
      "199/199 [==============================] - 2s 10ms/step - loss: 0.0941 - acc: 0.9638 - val_loss: 0.0864 - val_acc: 0.9672\n",
      "Epoch 33/500\n",
      "199/199 [==============================] - 2s 10ms/step - loss: 0.0868 - acc: 0.9670 - val_loss: 0.0908 - val_acc: 0.9655\n",
      "Epoch 34/500\n",
      "199/199 [==============================] - 2s 10ms/step - loss: 0.0939 - acc: 0.9639 - val_loss: 0.1058 - val_acc: 0.9587\n",
      "Epoch 35/500\n",
      "199/199 [==============================] - 2s 10ms/step - loss: 0.0880 - acc: 0.9663 - val_loss: 0.0925 - val_acc: 0.9643\n",
      "Epoch 36/500\n",
      "199/199 [==============================] - 2s 10ms/step - loss: 0.0829 - acc: 0.9678 - val_loss: 0.0967 - val_acc: 0.9625\n",
      "Epoch 37/500\n",
      "199/199 [==============================] - 2s 10ms/step - loss: 0.0843 - acc: 0.9681 - val_loss: 0.0921 - val_acc: 0.9653\n",
      "\n",
      "Epoch 00037: ReduceLROnPlateau reducing learning rate to 0.000630957374449059.\n",
      "Epoch 38/500\n",
      "199/199 [==============================] - 2s 10ms/step - loss: 0.0732 - acc: 0.9720 - val_loss: 0.0849 - val_acc: 0.9688\n",
      "Epoch 39/500\n",
      "199/199 [==============================] - 2s 10ms/step - loss: 0.0728 - acc: 0.9725 - val_loss: 0.0726 - val_acc: 0.9724\n",
      "Epoch 40/500\n",
      "199/199 [==============================] - 2s 10ms/step - loss: 0.0687 - acc: 0.9738 - val_loss: 0.0760 - val_acc: 0.9714\n",
      "Epoch 41/500\n",
      "199/199 [==============================] - 2s 10ms/step - loss: 0.0704 - acc: 0.9737 - val_loss: 0.0763 - val_acc: 0.9718\n",
      "Epoch 42/500\n",
      "199/199 [==============================] - 2s 10ms/step - loss: 0.0675 - acc: 0.9747 - val_loss: 0.0726 - val_acc: 0.9730\n",
      "Epoch 43/500\n",
      "199/199 [==============================] - 2s 10ms/step - loss: 0.0670 - acc: 0.9745 - val_loss: 0.0733 - val_acc: 0.9725\n",
      "Epoch 44/500\n",
      "199/199 [==============================] - 2s 10ms/step - loss: 0.0735 - acc: 0.9720 - val_loss: 0.0670 - val_acc: 0.9749\n",
      "Epoch 45/500\n",
      "199/199 [==============================] - 2s 10ms/step - loss: 0.0637 - acc: 0.9753 - val_loss: 0.0772 - val_acc: 0.9708\n",
      "Epoch 46/500\n",
      "199/199 [==============================] - 2s 10ms/step - loss: 0.0709 - acc: 0.9730 - val_loss: 0.0700 - val_acc: 0.9739\n",
      "Epoch 47/500\n",
      "199/199 [==============================] - 2s 10ms/step - loss: 0.0671 - acc: 0.9746 - val_loss: 0.0746 - val_acc: 0.9723\n",
      "Epoch 48/500\n",
      "199/199 [==============================] - 2s 10ms/step - loss: 0.0682 - acc: 0.9738 - val_loss: 0.1333 - val_acc: 0.9526\n",
      "Epoch 49/500\n",
      "199/199 [==============================] - 2s 10ms/step - loss: 0.0742 - acc: 0.9715 - val_loss: 0.0644 - val_acc: 0.9762\n",
      "Epoch 50/500\n",
      "199/199 [==============================] - 2s 10ms/step - loss: 0.0653 - acc: 0.9753 - val_loss: 0.0677 - val_acc: 0.9750\n",
      "Epoch 51/500\n",
      "199/199 [==============================] - 2s 10ms/step - loss: 0.0642 - acc: 0.9757 - val_loss: 0.0806 - val_acc: 0.9695\n",
      "Epoch 52/500\n",
      "199/199 [==============================] - 2s 10ms/step - loss: 0.0621 - acc: 0.9767 - val_loss: 0.0897 - val_acc: 0.9659\n",
      "Epoch 53/500\n",
      "199/199 [==============================] - 2s 10ms/step - loss: 0.0679 - acc: 0.9745 - val_loss: 0.0713 - val_acc: 0.9740\n",
      "Epoch 54/500\n",
      "199/199 [==============================] - 2s 10ms/step - loss: 0.0601 - acc: 0.9773 - val_loss: 0.0804 - val_acc: 0.9700\n",
      "\n",
      "Epoch 00054: ReduceLROnPlateau reducing learning rate to 0.0003981071838171537.\n",
      "Epoch 55/500\n",
      "199/199 [==============================] - 2s 10ms/step - loss: 0.0556 - acc: 0.9789 - val_loss: 0.0668 - val_acc: 0.9751\n",
      "Epoch 56/500\n",
      "199/199 [==============================] - 2s 10ms/step - loss: 0.0514 - acc: 0.9807 - val_loss: 0.0627 - val_acc: 0.9768\n",
      "Epoch 57/500\n",
      "199/199 [==============================] - 2s 10ms/step - loss: 0.0522 - acc: 0.9802 - val_loss: 0.0771 - val_acc: 0.9719\n",
      "Epoch 58/500\n",
      "199/199 [==============================] - 2s 10ms/step - loss: 0.0535 - acc: 0.9797 - val_loss: 0.0642 - val_acc: 0.9765\n",
      "Epoch 59/500\n",
      "199/199 [==============================] - 2s 10ms/step - loss: 0.0530 - acc: 0.9803 - val_loss: 0.0688 - val_acc: 0.9745\n",
      "Epoch 60/500\n"
     ]
    },
    {
     "name": "stdout",
     "output_type": "stream",
     "text": [
      "199/199 [==============================] - 2s 10ms/step - loss: 0.0532 - acc: 0.9802 - val_loss: 0.0687 - val_acc: 0.9749\n",
      "Epoch 61/500\n",
      "199/199 [==============================] - 2s 10ms/step - loss: 0.0549 - acc: 0.9793 - val_loss: 0.0763 - val_acc: 0.9724\n",
      "\n",
      "Epoch 00061: ReduceLROnPlateau reducing learning rate to 0.0002511886574257803.\n",
      "Epoch 62/500\n",
      "199/199 [==============================] - 2s 10ms/step - loss: 0.0484 - acc: 0.9820 - val_loss: 0.0615 - val_acc: 0.9777\n",
      "Epoch 63/500\n",
      "199/199 [==============================] - 2s 10ms/step - loss: 0.0447 - acc: 0.9832 - val_loss: 0.0679 - val_acc: 0.9749\n",
      "Epoch 64/500\n",
      "199/199 [==============================] - 2s 10ms/step - loss: 0.0460 - acc: 0.9826 - val_loss: 0.0636 - val_acc: 0.9766\n",
      "Epoch 65/500\n",
      "199/199 [==============================] - 2s 10ms/step - loss: 0.0468 - acc: 0.9827 - val_loss: 0.0626 - val_acc: 0.9773\n",
      "Epoch 66/500\n",
      "199/199 [==============================] - 2s 10ms/step - loss: 0.0450 - acc: 0.9830 - val_loss: 0.0595 - val_acc: 0.9785\n",
      "Epoch 67/500\n",
      "199/199 [==============================] - 2s 10ms/step - loss: 0.0442 - acc: 0.9835 - val_loss: 0.0662 - val_acc: 0.9759\n",
      "Epoch 68/500\n",
      "199/199 [==============================] - 2s 10ms/step - loss: 0.0437 - acc: 0.9837 - val_loss: 0.0650 - val_acc: 0.9763\n",
      "Epoch 69/500\n",
      "199/199 [==============================] - 2s 10ms/step - loss: 0.0425 - acc: 0.9842 - val_loss: 0.0590 - val_acc: 0.9789\n",
      "Epoch 70/500\n",
      "199/199 [==============================] - 2s 10ms/step - loss: 0.0427 - acc: 0.9843 - val_loss: 0.0622 - val_acc: 0.9770\n",
      "Epoch 71/500\n",
      "199/199 [==============================] - 2s 10ms/step - loss: 0.0425 - acc: 0.9844 - val_loss: 0.0646 - val_acc: 0.9773\n",
      "Epoch 72/500\n",
      "199/199 [==============================] - 2s 10ms/step - loss: 0.0408 - acc: 0.9846 - val_loss: 0.0611 - val_acc: 0.9780\n",
      "Epoch 73/500\n",
      "199/199 [==============================] - 2s 10ms/step - loss: 0.0418 - acc: 0.9842 - val_loss: 0.0610 - val_acc: 0.9779\n",
      "Epoch 74/500\n",
      "199/199 [==============================] - 2s 10ms/step - loss: 0.0402 - acc: 0.9849 - val_loss: 0.0644 - val_acc: 0.9776\n",
      "\n",
      "Epoch 00074: ReduceLROnPlateau reducing learning rate to 0.00015848933651346973.\n",
      "Epoch 75/500\n",
      "199/199 [==============================] - 2s 10ms/step - loss: 0.0372 - acc: 0.9862 - val_loss: 0.0618 - val_acc: 0.9783\n",
      "Epoch 76/500\n",
      "199/199 [==============================] - 2s 10ms/step - loss: 0.0361 - acc: 0.9867 - val_loss: 0.0618 - val_acc: 0.9782\n",
      "Epoch 77/500\n",
      "199/199 [==============================] - 2s 10ms/step - loss: 0.0343 - acc: 0.9876 - val_loss: 0.0621 - val_acc: 0.9780\n",
      "Epoch 78/500\n",
      "199/199 [==============================] - 2s 10ms/step - loss: 0.0358 - acc: 0.9869 - val_loss: 0.0652 - val_acc: 0.9780\n",
      "Epoch 79/500\n",
      "199/199 [==============================] - 2s 10ms/step - loss: 0.0353 - acc: 0.9870 - val_loss: 0.0593 - val_acc: 0.9790\n",
      "\n",
      "Epoch 00079: ReduceLROnPlateau reducing learning rate to 0.00010000000838432616.\n",
      "Epoch 80/500\n",
      "199/199 [==============================] - 2s 10ms/step - loss: 0.0310 - acc: 0.9888 - val_loss: 0.0589 - val_acc: 0.9792\n",
      "Epoch 81/500\n",
      "199/199 [==============================] - 2s 10ms/step - loss: 0.0305 - acc: 0.9892 - val_loss: 0.0599 - val_acc: 0.9792\n",
      "Epoch 82/500\n",
      "199/199 [==============================] - 2s 10ms/step - loss: 0.0289 - acc: 0.9899 - val_loss: 0.0607 - val_acc: 0.9793\n",
      "Epoch 83/500\n",
      "199/199 [==============================] - 2s 10ms/step - loss: 0.0294 - acc: 0.9893 - val_loss: 0.0605 - val_acc: 0.9789\n",
      "Epoch 84/500\n",
      "199/199 [==============================] - 2s 10ms/step - loss: 0.0301 - acc: 0.9890 - val_loss: 0.0610 - val_acc: 0.9792\n",
      "\n",
      "Epoch 00084: ReduceLROnPlateau reducing learning rate to 6.30957374449059e-05.\n",
      "Epoch 85/500\n",
      "199/199 [==============================] - 2s 10ms/step - loss: 0.0276 - acc: 0.9904 - val_loss: 0.0606 - val_acc: 0.9792\n",
      "Epoch 86/500\n",
      "199/199 [==============================] - 2s 10ms/step - loss: 0.0265 - acc: 0.9905 - val_loss: 0.0599 - val_acc: 0.9792\n",
      "Epoch 87/500\n",
      "199/199 [==============================] - 2s 10ms/step - loss: 0.0267 - acc: 0.9906 - val_loss: 0.0603 - val_acc: 0.9792\n",
      "Epoch 88/500\n",
      "199/199 [==============================] - 2s 10ms/step - loss: 0.0266 - acc: 0.9907 - val_loss: 0.0602 - val_acc: 0.9794\n",
      "Epoch 89/500\n",
      "199/199 [==============================] - 2s 10ms/step - loss: 0.0260 - acc: 0.9908 - val_loss: 0.0601 - val_acc: 0.9794\n",
      "\n",
      "Epoch 00089: ReduceLROnPlateau reducing learning rate to 3.981071838171537e-05.\n",
      "Epoch 90/500\n",
      "199/199 [==============================] - 2s 10ms/step - loss: 0.0238 - acc: 0.9919 - val_loss: 0.0606 - val_acc: 0.9791\n",
      "Epoch 91/500\n",
      "199/199 [==============================] - 2s 10ms/step - loss: 0.0245 - acc: 0.9914 - val_loss: 0.0611 - val_acc: 0.9790\n",
      "Epoch 92/500\n",
      "199/199 [==============================] - 2s 10ms/step - loss: 0.0241 - acc: 0.9915 - val_loss: 0.0616 - val_acc: 0.9792\n",
      "Epoch 93/500\n",
      "199/199 [==============================] - 2s 10ms/step - loss: 0.0245 - acc: 0.9915 - val_loss: 0.0607 - val_acc: 0.9793\n",
      "Epoch 94/500\n",
      "199/199 [==============================] - 2s 10ms/step - loss: 0.0235 - acc: 0.9918 - val_loss: 0.0607 - val_acc: 0.9797\n",
      "\n",
      "Epoch 00094: ReduceLROnPlateau reducing learning rate to 2.5118865283496142e-05.\n",
      "Epoch 95/500\n",
      "199/199 [==============================] - 2s 10ms/step - loss: 0.0230 - acc: 0.9922 - val_loss: 0.0613 - val_acc: 0.9795\n",
      "Epoch 96/500\n",
      "199/199 [==============================] - 2s 10ms/step - loss: 0.0232 - acc: 0.9919 - val_loss: 0.0611 - val_acc: 0.9794\n",
      "Epoch 97/500\n",
      "199/199 [==============================] - 2s 10ms/step - loss: 0.0228 - acc: 0.9923 - val_loss: 0.0610 - val_acc: 0.9796\n",
      "Epoch 98/500\n",
      "199/199 [==============================] - 2s 10ms/step - loss: 0.0233 - acc: 0.9920 - val_loss: 0.0611 - val_acc: 0.9795\n",
      "Epoch 99/500\n",
      "199/199 [==============================] - 2s 10ms/step - loss: 0.0223 - acc: 0.9927 - val_loss: 0.0611 - val_acc: 0.9796\n",
      "\n",
      "Epoch 00099: ReduceLROnPlateau reducing learning rate to 1.5848932274101303e-05.\n",
      "Epoch 100/500\n",
      "199/199 [==============================] - 2s 10ms/step - loss: 0.0219 - acc: 0.9925 - val_loss: 0.0610 - val_acc: 0.9798\n",
      "Epoch 101/500\n",
      "199/199 [==============================] - 2s 10ms/step - loss: 0.0215 - acc: 0.9925 - val_loss: 0.0616 - val_acc: 0.9796\n",
      "Epoch 102/500\n",
      "199/199 [==============================] - 2s 10ms/step - loss: 0.0217 - acc: 0.9927 - val_loss: 0.0614 - val_acc: 0.9797\n",
      "Epoch 103/500\n",
      "199/199 [==============================] - 2s 10ms/step - loss: 0.0222 - acc: 0.9923 - val_loss: 0.0624 - val_acc: 0.9793\n",
      "Epoch 104/500\n",
      "199/199 [==============================] - 2s 10ms/step - loss: 0.0213 - acc: 0.9925 - val_loss: 0.0618 - val_acc: 0.9795\n",
      "\n",
      "Epoch 00104: ReduceLROnPlateau reducing learning rate to 1.0000000608891671e-05.\n",
      "Epoch 105/500\n",
      "199/199 [==============================] - 2s 10ms/step - loss: 0.0216 - acc: 0.9927 - val_loss: 0.0615 - val_acc: 0.9795\n",
      "Epoch 106/500\n",
      "199/199 [==============================] - 2s 10ms/step - loss: 0.0212 - acc: 0.9931 - val_loss: 0.0617 - val_acc: 0.9796\n",
      "Epoch 107/500\n",
      "199/199 [==============================] - 2s 10ms/step - loss: 0.0212 - acc: 0.9929 - val_loss: 0.0624 - val_acc: 0.9797\n",
      "Epoch 108/500\n",
      "199/199 [==============================] - 2s 10ms/step - loss: 0.0216 - acc: 0.9926 - val_loss: 0.0618 - val_acc: 0.9797\n",
      "Epoch 109/500\n",
      "199/199 [==============================] - 2s 10ms/step - loss: 0.0209 - acc: 0.9930 - val_loss: 0.0617 - val_acc: 0.9796\n",
      "\n",
      "Epoch 00109: ReduceLROnPlateau reducing learning rate to 1e-05.\n",
      "Epoch 110/500\n",
      "199/199 [==============================] - 2s 10ms/step - loss: 0.0208 - acc: 0.9929 - val_loss: 0.0618 - val_acc: 0.9795\n",
      "Epoch 111/500\n",
      "199/199 [==============================] - 2s 10ms/step - loss: 0.0211 - acc: 0.9930 - val_loss: 0.0622 - val_acc: 0.9795\n",
      "Epoch 112/500\n",
      "199/199 [==============================] - 2s 10ms/step - loss: 0.0207 - acc: 0.9932 - val_loss: 0.0618 - val_acc: 0.9796\n",
      "Epoch 113/500\n",
      "199/199 [==============================] - 2s 10ms/step - loss: 0.0206 - acc: 0.9931 - val_loss: 0.0623 - val_acc: 0.9794\n",
      "Epoch 114/500\n",
      "199/199 [==============================] - 2s 10ms/step - loss: 0.0207 - acc: 0.9930 - val_loss: 0.0623 - val_acc: 0.9797\n",
      "Epoch 115/500\n"
     ]
    },
    {
     "name": "stdout",
     "output_type": "stream",
     "text": [
      "199/199 [==============================] - 2s 10ms/step - loss: 0.0208 - acc: 0.9931 - val_loss: 0.0623 - val_acc: 0.9795\n",
      "Epoch 116/500\n",
      "199/199 [==============================] - 2s 10ms/step - loss: 0.0209 - acc: 0.9930 - val_loss: 0.0624 - val_acc: 0.9796\n",
      "Epoch 117/500\n",
      "199/199 [==============================] - 2s 10ms/step - loss: 0.0208 - acc: 0.9930 - val_loss: 0.0626 - val_acc: 0.9797\n",
      "Epoch 118/500\n",
      "199/199 [==============================] - 2s 10ms/step - loss: 0.0205 - acc: 0.9933 - val_loss: 0.0624 - val_acc: 0.9796\n",
      "Epoch 119/500\n",
      "199/199 [==============================] - 2s 10ms/step - loss: 0.0205 - acc: 0.9932 - val_loss: 0.0623 - val_acc: 0.9795\n",
      "Epoch 120/500\n",
      "199/199 [==============================] - 2s 10ms/step - loss: 0.0200 - acc: 0.9935 - val_loss: 0.0624 - val_acc: 0.9795\n",
      "Epoch 121/500\n",
      "199/199 [==============================] - 2s 10ms/step - loss: 0.0202 - acc: 0.9933 - val_loss: 0.0625 - val_acc: 0.9794\n",
      "Epoch 122/500\n",
      "199/199 [==============================] - 2s 10ms/step - loss: 0.0201 - acc: 0.9934 - val_loss: 0.0626 - val_acc: 0.9796\n",
      "Epoch 123/500\n",
      "199/199 [==============================] - 2s 10ms/step - loss: 0.0198 - acc: 0.9934 - val_loss: 0.0629 - val_acc: 0.9794\n",
      "Epoch 124/500\n",
      "199/199 [==============================] - 2s 10ms/step - loss: 0.0203 - acc: 0.9934 - val_loss: 0.0631 - val_acc: 0.9796\n",
      "Epoch 125/500\n",
      "199/199 [==============================] - 2s 10ms/step - loss: 0.0205 - acc: 0.9933 - val_loss: 0.0628 - val_acc: 0.9796\n",
      "Epoch 126/500\n",
      "199/199 [==============================] - 2s 10ms/step - loss: 0.0202 - acc: 0.9932 - val_loss: 0.0634 - val_acc: 0.9794\n",
      "Epoch 127/500\n",
      "199/199 [==============================] - 2s 10ms/step - loss: 0.0200 - acc: 0.9931 - val_loss: 0.0630 - val_acc: 0.9794\n",
      "Epoch 128/500\n",
      "199/199 [==============================] - 2s 10ms/step - loss: 0.0200 - acc: 0.9936 - val_loss: 0.0633 - val_acc: 0.9793\n",
      "Epoch 129/500\n",
      "199/199 [==============================] - 2s 10ms/step - loss: 0.0202 - acc: 0.9931 - val_loss: 0.0636 - val_acc: 0.9795\n",
      "Epoch 130/500\n",
      "199/199 [==============================] - 2s 10ms/step - loss: 0.0195 - acc: 0.9935 - val_loss: 0.0634 - val_acc: 0.9795\n",
      "Epoch 00130: early stopping\n"
     ]
    }
   ],
   "source": [
    "# now train the model\n",
    "\n",
    "reduce_lr = tf.keras.callbacks.ReduceLROnPlateau(monitor='val_loss', \n",
    "                              factor=0.1**(1/5), patience=5, min_lr=1e-5,\n",
    "                                                verbose=1)\n",
    "\n",
    "early_stop = tf.keras.callbacks.EarlyStopping(monitor='val_loss', patience=50, \n",
    "                                              verbose=1)\n",
    "\n",
    "callbacks = [reduce_lr,early_stop]\n",
    "\n",
    "hist1 = pfn.fit(X_train, Y_train,\n",
    "        epochs=num_epoch,\n",
    "        batch_size=batch_size,\n",
    "        validation_data=(X_val, Y_val),\n",
    "        class_weight=class_weight,\n",
    "        callbacks=callbacks,\n",
    "        verbose=1)"
   ]
  },
  {
   "cell_type": "markdown",
   "id": "0fac1861",
   "metadata": {},
   "source": [
    "# Analyze the Model"
   ]
  },
  {
   "cell_type": "code",
   "execution_count": 17,
   "id": "531ee50e",
   "metadata": {},
   "outputs": [
    {
     "name": "stdout",
     "output_type": "stream",
     "text": [
      "\n",
      "PFN AUC: 0.9979610657949393\n",
      "\n"
     ]
    }
   ],
   "source": [
    "# get predictions on test data\n",
    "preds = pfn.predict(X_test, batch_size=10000)\n",
    "\n",
    "# get ROC curve\n",
    "pfn_fp, pfn_tp, threshs = roc_curve(Y_test[:,1], preds[:,1])\n",
    "\n",
    "# get area under the ROC curve\n",
    "auc = roc_auc_score(Y_test[:,1], preds[:,1])\n",
    "print()\n",
    "print('PFN AUC:', auc)\n",
    "print()"
   ]
  },
  {
   "cell_type": "code",
   "execution_count": 18,
   "id": "403ff086",
   "metadata": {},
   "outputs": [
    {
     "data": {
      "image/png": "[encoded data removed]",
      "text/plain": [
       "<Figure size 288x288 with 1 Axes>"
      ]
     },
     "metadata": {
      "needs_background": "light"
     },
     "output_type": "display_data"
    }
   ],
   "source": [
    "# get multiplicity and mass for comparison\n",
    "masses = np.asarray([ef.ms_from_p4s(ef.p4s_from_ptyphims(x).sum(axis=0)) for x in X])\n",
    "mults = np.asarray([np.count_nonzero(x[:,0]) for x in X])\n",
    "mass_fp, mass_tp, threshs = roc_curve(Y[:,1], -masses)\n",
    "mult_fp, mult_tp, threshs = roc_curve(Y[:,1], -mults)\n",
    "\n",
    "# some nicer plot settings \n",
    "plt.rcParams['figure.figsize'] = (4,4)\n",
    "plt.rcParams['font.family'] = 'serif'\n",
    "plt.rcParams['figure.autolayout'] = True\n",
    "\n",
    "# plot the ROC curves\n",
    "plt.plot(pfn_tp, 1-pfn_fp, '-', color='black', label='PFN')\n",
    "plt.plot(mass_tp, 1-mass_fp, '-', color='blue', label='Jet Mass')\n",
    "plt.plot(mult_tp, 1-mult_fp, '-', color='red', label='Multiplicity')\n",
    "\n",
    "# axes labels\n",
    "plt.xlabel('Quark Jet Efficiency')\n",
    "plt.ylabel('Gluon Jet Rejection')\n",
    "\n",
    "# axes limits\n",
    "plt.xlim(0, 1)\n",
    "plt.ylim(0, 1)\n",
    "\n",
    "# make legend and show plot\n",
    "plt.legend(loc='lower left', frameon=False)\n",
    "plt.show()\n"
   ]
  },
  {
   "cell_type": "code",
   "execution_count": 19,
   "id": "9190f668",
   "metadata": {},
   "outputs": [
    {
     "data": {
      "image/png": "[encoded data removed]",
      "text/plain": [
       "<Figure size 288x288 with 1 Axes>"
      ]
     },
     "metadata": {
      "needs_background": "light"
     },
     "output_type": "display_data"
    }
   ],
   "source": [
    "plt.plot(hist1.history[\"loss\"],label=\"loss\")\n",
    "plt.plot(hist1.history[\"val_loss\"],label=\"validation loss\")\n",
    "plt.legend()\n",
    "plt.show()"
   ]
  },
  {
   "cell_type": "code",
   "execution_count": 20,
   "id": "bcf5a3ff",
   "metadata": {},
   "outputs": [
    {
     "data": {
      "image/png": "[encoded data removed]",
      "text/plain": [
       "<Figure size 288x288 with 1 Axes>"
      ]
     },
     "metadata": {
      "needs_background": "light"
     },
     "output_type": "display_data"
    }
   ],
   "source": [
    "plt.plot(hist1.history[\"acc\"],label=\"acc\")\n",
    "plt.plot(hist1.history[\"val_acc\"],label=\"validation acc\")\n",
    "plt.legend()\n",
    "plt.show()"
   ]
  },
  {
   "cell_type": "code",
   "execution_count": null,
   "id": "0a1abd7d",
   "metadata": {},
   "outputs": [],
   "source": []
  }
 ],
 "metadata": {
  "kernelspec": {
   "display_name": "Python 3 (ipykernel)",
   "language": "python",
   "name": "python3"
  },
  "language_info": {
   "codemirror_mode": {
    "name": "ipython",
    "version": 3
   },
   "file_extension": ".py",
   "mimetype": "text/x-python",
   "name": "python",
   "nbconvert_exporter": "python",
   "pygments_lexer": "ipython3",
   "version": "3.8.12"
  }
 },
 "nbformat": 4,
 "nbformat_minor": 5
}
