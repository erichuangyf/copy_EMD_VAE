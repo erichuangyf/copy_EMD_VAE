{
 "cells": [
  {
   "cell_type": "markdown",
   "id": "4ef50705",
   "metadata": {},
   "source": [
    "# Import and Initialization"
   ]
  },
  {
   "cell_type": "code",
   "execution_count": 1,
   "id": "05a505b0",
   "metadata": {},
   "outputs": [
    {
     "name": "stderr",
     "output_type": "stream",
     "text": [
      "2022-05-03 19:35:42.945002: I tensorflow/stream_executor/platform/default/dso_loader.cc:49] Successfully opened dynamic library libcudart.so.10.1\n"
     ]
    }
   ],
   "source": [
    "%load_ext autoreload\n",
    "%autoreload 2\n",
    "\n",
    "import tensorflow as tf\n",
    "\n",
    "# standard library imports\n",
    "from __future__ import absolute_import, division, print_function\n",
    "\n",
    "# standard numerical library imports\n",
    "import numpy as np\n",
    "\n",
    "# energyflow imports\n",
    "import energyflow as ef\n",
    "from energyflow.archs import PFN\n",
    "from energyflow.datasets import qg_jets\n",
    "from energyflow.utils import data_split, remap_pids, to_categorical\n",
    "\n",
    "from sklearn.metrics import roc_auc_score, roc_curve\n",
    "import matplotlib.pyplot as plt\n",
    "\n",
    "\n",
    "import pandas\n",
    "import h5py\n",
    "import pickle\n",
    "\n",
    "import datetime"
   ]
  },
  {
   "cell_type": "code",
   "execution_count": 2,
   "id": "45667e4d",
   "metadata": {},
   "outputs": [],
   "source": [
    "# configs\n",
    "train, val, test = 0.6, 0.3, 0.1\n",
    "Phi_sizes, F_sizes = (256, 256, 256), (256, 256, 256)\n",
    "num_epoch = 500\n",
    "batch_size = 1000\n",
    "muon_feature_number = 6"
   ]
  },
  {
   "cell_type": "markdown",
   "id": "8c5aa5d4",
   "metadata": {},
   "source": [
    "# Load and Process Data"
   ]
  },
  {
   "cell_type": "code",
   "execution_count": 3,
   "id": "25276321",
   "metadata": {},
   "outputs": [],
   "source": [
    "signal_1_df = \"/global/home/users/yifengh3/VAE/new_data/h_signal_big.h5\"\n",
    "signal_2_df = \"/global/home/users/yifengh3/VAE/new_data/hv_signal_big.h5\"\n",
    "signal_1_muon_df = \"/global/home/users/yifengh3/VAE/new_data/muon_data/h_signal_big_muons.h5\"\n",
    "signal_2_muon_df = \"/global/home/users/yifengh3/VAE/new_data/muon_data/hv_signal_big_muons.h5\"\n",
    "signal_1 = pandas.read_hdf(signal_1_df)\n",
    "signal_2 = pandas.read_hdf(signal_2_df)\n",
    "raw_signal_1_muon = pandas.read_hdf(signal_1_muon_df)\n",
    "raw_signal_2_muon = pandas.read_hdf(signal_2_muon_df)"
   ]
  },
  {
   "cell_type": "code",
   "execution_count": 4,
   "id": "646d74c9",
   "metadata": {},
   "outputs": [
    {
     "name": "stdout",
     "output_type": "stream",
     "text": [
      "signal_1 data shape: (173692, 200)\n",
      "signal_2 data shape: (157772, 200)\n",
      "signal_1 muon data shape: (173692, 8)\n",
      "signal_2 muon data shape: (157772, 8)\n"
     ]
    }
   ],
   "source": [
    "print(\"signal_1 data shape: {}\".format(signal_1.shape))\n",
    "print(\"signal_2 data shape: {}\".format(signal_2.shape))\n",
    "print(\"signal_1 muon data shape: {}\".format(raw_signal_1_muon.shape))\n",
    "print(\"signal_2 muon data shape: {}\".format(raw_signal_2_muon.shape))"
   ]
  },
  {
   "cell_type": "code",
   "execution_count": 5,
   "id": "3edf6b5e",
   "metadata": {},
   "outputs": [],
   "source": [
    "# no longer needed\n",
    "# #Truncate the nan inside muon data\n",
    "# signal_1_muon = raw_signal_1_muon.to_numpy()[:,:8]\n",
    "# signal_2_muon = raw_signal_2_muon.to_numpy()[:,:8]\n",
    "signal_1_muon, signal_2_muon = raw_signal_1_muon, raw_signal_2_muon"
   ]
  },
  {
   "cell_type": "code",
   "execution_count": 6,
   "id": "8c1b8120",
   "metadata": {},
   "outputs": [
    {
     "name": "stdout",
     "output_type": "stream",
     "text": [
      "signal_1 muon data shape: (173692, 8)\n",
      "signal_2 muon data shape: (157772, 8)\n"
     ]
    }
   ],
   "source": [
    "print(\"signal_1 muon data shape: {}\".format(signal_1_muon.shape))\n",
    "print(\"signal_2 muon data shape: {}\".format(signal_2_muon.shape))"
   ]
  },
  {
   "cell_type": "code",
   "execution_count": 7,
   "id": "dabd209a",
   "metadata": {},
   "outputs": [],
   "source": [
    "# mix two data array into one signal array\n",
    "signal_1_combined = np.hstack((signal_1,signal_1_muon))\n",
    "signal_2_combined =  np.hstack((signal_2,signal_2_muon))"
   ]
  },
  {
   "cell_type": "code",
   "execution_count": 8,
   "id": "e582ac98",
   "metadata": {},
   "outputs": [],
   "source": [
    "# assign labels to signal and background data, 0 for sig1,  1 for sig2\n",
    "# (updated since we might get multiple signals) \n",
    "labeled_sig1 = np.append(signal_1_combined,np.zeros((signal_1.shape[0],1)),axis=1)\n",
    "labeled_sig2 = np.append(signal_2_combined,np.ones((signal_2.shape[0],1)),axis=1)\n",
    "\n",
    "data = np.concatenate([labeled_sig1,labeled_sig2])"
   ]
  },
  {
   "cell_type": "code",
   "execution_count": 9,
   "id": "8540cc44",
   "metadata": {},
   "outputs": [
    {
     "name": "stdout",
     "output_type": "stream",
     "text": [
      "(331464, 209)\n"
     ]
    }
   ],
   "source": [
    "print(data.shape)"
   ]
  },
  {
   "cell_type": "code",
   "execution_count": 10,
   "id": "34eaf99c",
   "metadata": {},
   "outputs": [],
   "source": [
    "X = data[:,:-1]\n",
    "y = data[:,-1]"
   ]
  },
  {
   "cell_type": "code",
   "execution_count": 11,
   "id": "d078bbf6",
   "metadata": {},
   "outputs": [
    {
     "name": "stdout",
     "output_type": "stream",
     "text": [
      "shape of X: (331464, 208)\n",
      "shape of Y: (331464,)\n"
     ]
    }
   ],
   "source": [
    "print(\"shape of X: {}\".format(X.shape))\n",
    "print(\"shape of Y: {}\".format(y.shape))"
   ]
  },
  {
   "cell_type": "code",
   "execution_count": 12,
   "id": "ea34616a",
   "metadata": {},
   "outputs": [
    {
     "name": "stdout",
     "output_type": "stream",
     "text": [
      "Weight for background: 0.95\n",
      "Weight for signal: 1.05\n"
     ]
    }
   ],
   "source": [
    "# Scaling by total/2 helps keep the loss to a similar magnitude.\n",
    "# The sum of the weights of all examples stays the same.\n",
    "total = labeled_sig1.shape[0] + labeled_sig2.shape[0]\n",
    "weight_for_0 = (1 / labeled_sig1.shape[0]) * (total / 2.0)\n",
    "weight_for_1 = (1 / labeled_sig2.shape[0]) * (total / 2.0)\n",
    "\n",
    "\n",
    "class_weight = {0: weight_for_0, 1: weight_for_1}\n",
    "\n",
    "print('Weight for background: {:.2f}'.format(weight_for_0))\n",
    "print('Weight for signal: {:.2f}'.format(weight_for_1))"
   ]
  },
  {
   "cell_type": "code",
   "execution_count": 13,
   "id": "c3e0e641",
   "metadata": {},
   "outputs": [],
   "source": [
    "# To categorical as stipulated in example\n",
    "Y = to_categorical(y, num_classes=2)\n",
    "\n",
    "# Reshape X to shape (number of jets, 50, 4)\n",
    "X = X.reshape(-1,52,4)\n",
    "\n",
    "# ignore the pid info\n",
    "X = X[:,:,:3]"
   ]
  },
  {
   "cell_type": "code",
   "execution_count": 14,
   "id": "4937293a",
   "metadata": {},
   "outputs": [],
   "source": [
    "X = X.astype(\"float64\")"
   ]
  },
  {
   "cell_type": "code",
   "execution_count": 15,
   "id": "3f3e9fdd",
   "metadata": {},
   "outputs": [
    {
     "name": "stdout",
     "output_type": "stream",
     "text": [
      "(331464, 52, 3)\n"
     ]
    }
   ],
   "source": [
    "print(X.shape)"
   ]
  },
  {
   "cell_type": "code",
   "execution_count": 16,
   "id": "6a6fe36d",
   "metadata": {},
   "outputs": [],
   "source": [
    "# # normalizing jets\n",
    "# # copied from example\n",
    "# import tqdm\n",
    "# for x in tqdm.tqdm(X):\n",
    "#     # now add the status bar :)\n",
    "#     mask = x[:,0] > 0\n",
    "#     yphi_avg = np.average(x[mask,1:3], weights=x[mask,0], axis=0)\n",
    "#     x[mask,1:3] -= yphi_avg\n",
    "#     x[mask,0] /= x[:,0].sum()"
   ]
  },
  {
   "cell_type": "code",
   "execution_count": 17,
   "id": "939de622",
   "metadata": {},
   "outputs": [],
   "source": [
    "# do train/val/test split \n",
    "(X_train, X_val, X_test,\n",
    " Y_train, Y_val, Y_test) = data_split(X, Y, val=val, test=test, shuffle=True)"
   ]
  },
  {
   "cell_type": "code",
   "execution_count": 18,
   "id": "c3e18f2d",
   "metadata": {},
   "outputs": [],
   "source": [
    "def to_combined_data(X):\n",
    "    return [X[:,:50],X[:,-2:].reshape([-1,6])]"
   ]
  },
  {
   "cell_type": "code",
   "execution_count": 19,
   "id": "0dca6a74",
   "metadata": {},
   "outputs": [],
   "source": [
    "(X_train, X_val, X_test) = (to_combined_data(X_train),to_combined_data(X_val),to_combined_data(X_test))"
   ]
  },
  {
   "cell_type": "code",
   "execution_count": 20,
   "id": "74dd70db",
   "metadata": {},
   "outputs": [
    {
     "name": "stdout",
     "output_type": "stream",
     "text": [
      "(198879, 50, 3) (198879, 6)\n"
     ]
    }
   ],
   "source": [
    "print(X_train[0].shape,X_train[1].shape)"
   ]
  },
  {
   "cell_type": "markdown",
   "id": "bc6339cd",
   "metadata": {},
   "source": [
    "# Build and Train the Model"
   ]
  },
  {
   "cell_type": "code",
   "execution_count": 21,
   "id": "4876d9dc",
   "metadata": {},
   "outputs": [
    {
     "name": "stdout",
     "output_type": "stream",
     "text": [
      "Model summary:\n"
     ]
    },
    {
     "name": "stderr",
     "output_type": "stream",
     "text": [
      "2022-05-03 19:35:46.758647: I tensorflow/compiler/jit/xla_cpu_device.cc:41] Not creating XLA devices, tf_xla_enable_xla_devices not set\n",
      "2022-05-03 19:35:46.759835: I tensorflow/stream_executor/platform/default/dso_loader.cc:49] Successfully opened dynamic library libcuda.so.1\n",
      "2022-05-03 19:35:46.791406: I tensorflow/core/common_runtime/gpu/gpu_device.cc:1720] Found device 0 with properties: \n",
      "pciBusID: 0000:81:00.0 name: Quadro RTX 6000 computeCapability: 7.5\n",
      "coreClock: 1.77GHz coreCount: 72 deviceMemorySize: 23.65GiB deviceMemoryBandwidth: 625.94GiB/s\n",
      "2022-05-03 19:35:46.791428: I tensorflow/stream_executor/platform/default/dso_loader.cc:49] Successfully opened dynamic library libcudart.so.10.1\n",
      "2022-05-03 19:35:46.792972: I tensorflow/stream_executor/platform/default/dso_loader.cc:49] Successfully opened dynamic library libcublas.so.10\n",
      "2022-05-03 19:35:46.793003: I tensorflow/stream_executor/platform/default/dso_loader.cc:49] Successfully opened dynamic library libcublasLt.so.10\n",
      "2022-05-03 19:35:46.794548: I tensorflow/stream_executor/platform/default/dso_loader.cc:49] Successfully opened dynamic library libcufft.so.10\n",
      "2022-05-03 19:35:46.794762: I tensorflow/stream_executor/platform/default/dso_loader.cc:49] Successfully opened dynamic library libcurand.so.10\n",
      "2022-05-03 19:35:46.796126: I tensorflow/stream_executor/platform/default/dso_loader.cc:49] Successfully opened dynamic library libcusolver.so.10\n",
      "2022-05-03 19:35:46.796752: I tensorflow/stream_executor/platform/default/dso_loader.cc:49] Successfully opened dynamic library libcusparse.so.10\n",
      "2022-05-03 19:35:46.799585: I tensorflow/stream_executor/platform/default/dso_loader.cc:49] Successfully opened dynamic library libcudnn.so.7\n",
      "2022-05-03 19:35:46.802239: I tensorflow/core/common_runtime/gpu/gpu_device.cc:1862] Adding visible gpu devices: 0\n",
      "2022-05-03 19:35:46.802625: I tensorflow/core/platform/cpu_feature_guard.cc:142] This TensorFlow binary is optimized with oneAPI Deep Neural Network Library (oneDNN) to use the following CPU instructions in performance-critical operations:  SSE4.1 SSE4.2 AVX AVX2 FMA\n",
      "To enable them in other operations, rebuild TensorFlow with the appropriate compiler flags.\n",
      "2022-05-03 19:35:46.805616: I tensorflow/core/common_runtime/gpu/gpu_device.cc:1720] Found device 0 with properties: \n",
      "pciBusID: 0000:81:00.0 name: Quadro RTX 6000 computeCapability: 7.5\n",
      "coreClock: 1.77GHz coreCount: 72 deviceMemorySize: 23.65GiB deviceMemoryBandwidth: 625.94GiB/s\n",
      "2022-05-03 19:35:46.805635: I tensorflow/stream_executor/platform/default/dso_loader.cc:49] Successfully opened dynamic library libcudart.so.10.1\n",
      "2022-05-03 19:35:46.805653: I tensorflow/stream_executor/platform/default/dso_loader.cc:49] Successfully opened dynamic library libcublas.so.10\n",
      "2022-05-03 19:35:46.805666: I tensorflow/stream_executor/platform/default/dso_loader.cc:49] Successfully opened dynamic library libcublasLt.so.10\n",
      "2022-05-03 19:35:46.805676: I tensorflow/stream_executor/platform/default/dso_loader.cc:49] Successfully opened dynamic library libcufft.so.10\n",
      "2022-05-03 19:35:46.805686: I tensorflow/stream_executor/platform/default/dso_loader.cc:49] Successfully opened dynamic library libcurand.so.10\n",
      "2022-05-03 19:35:46.805696: I tensorflow/stream_executor/platform/default/dso_loader.cc:49] Successfully opened dynamic library libcusolver.so.10\n",
      "2022-05-03 19:35:46.805705: I tensorflow/stream_executor/platform/default/dso_loader.cc:49] Successfully opened dynamic library libcusparse.so.10\n",
      "2022-05-03 19:35:46.805716: I tensorflow/stream_executor/platform/default/dso_loader.cc:49] Successfully opened dynamic library libcudnn.so.7\n",
      "2022-05-03 19:35:46.808195: I tensorflow/core/common_runtime/gpu/gpu_device.cc:1862] Adding visible gpu devices: 0\n",
      "2022-05-03 19:35:46.808242: I tensorflow/stream_executor/platform/default/dso_loader.cc:49] Successfully opened dynamic library libcudart.so.10.1\n",
      "2022-05-03 19:35:47.358303: I tensorflow/core/common_runtime/gpu/gpu_device.cc:1261] Device interconnect StreamExecutor with strength 1 edge matrix:\n",
      "2022-05-03 19:35:47.358349: I tensorflow/core/common_runtime/gpu/gpu_device.cc:1267]      0 \n",
      "2022-05-03 19:35:47.358359: I tensorflow/core/common_runtime/gpu/gpu_device.cc:1280] 0:   N \n",
      "2022-05-03 19:35:47.362362: I tensorflow/core/common_runtime/gpu/gpu_device.cc:1406] Created TensorFlow device (/job:localhost/replica:0/task:0/device:GPU:0 with 22017 MB memory) -> physical GPU (device: 0, name: Quadro RTX 6000, pci bus id: 0000:81:00.0, compute capability: 7.5)\n",
      "2022-05-03 19:35:47.362694: I tensorflow/compiler/jit/xla_gpu_device.cc:99] Not creating XLA devices, tf_xla_enable_xla_devices not set\n"
     ]
    },
    {
     "name": "stdout",
     "output_type": "stream",
     "text": [
      "Model: \"model\"\n",
      "__________________________________________________________________________________________________\n",
      "Layer (type)                    Output Shape         Param #     Connected to                     \n",
      "==================================================================================================\n",
      "input (InputLayer)              [(None, None, 3)]    0                                            \n",
      "__________________________________________________________________________________________________\n",
      "tdist_0 (TimeDistributed)       (None, None, 256)    1024        input[0][0]                      \n",
      "__________________________________________________________________________________________________\n",
      "activation (Activation)         (None, None, 256)    0           tdist_0[0][0]                    \n",
      "__________________________________________________________________________________________________\n",
      "tdist_1 (TimeDistributed)       (None, None, 256)    65792       activation[0][0]                 \n",
      "__________________________________________________________________________________________________\n",
      "activation_1 (Activation)       (None, None, 256)    0           tdist_1[0][0]                    \n",
      "__________________________________________________________________________________________________\n",
      "tdist_2 (TimeDistributed)       (None, None, 256)    65792       activation_1[0][0]               \n",
      "__________________________________________________________________________________________________\n",
      "mask (Lambda)                   (None, None)         0           input[0][0]                      \n",
      "__________________________________________________________________________________________________\n",
      "activation_2 (Activation)       (None, None, 256)    0           tdist_2[0][0]                    \n",
      "__________________________________________________________________________________________________\n",
      "sum (Dot)                       (None, 256)          0           mask[0][0]                       \n",
      "                                                                 activation_2[0][0]               \n",
      "__________________________________________________________________________________________________\n",
      "num_global_features (InputLayer [(None, 6)]          0                                            \n",
      "__________________________________________________________________________________________________\n",
      "concat (Concatenate)            (None, 262)          0           sum[0][0]                        \n",
      "                                                                 num_global_features[0][0]        \n",
      "__________________________________________________________________________________________________\n",
      "dense_0 (Dense)                 (None, 256)          67328       concat[0][0]                     \n",
      "__________________________________________________________________________________________________\n",
      "activation_3 (Activation)       (None, 256)          0           dense_0[0][0]                    \n",
      "__________________________________________________________________________________________________\n",
      "dense_1 (Dense)                 (None, 256)          65792       activation_3[0][0]               \n",
      "__________________________________________________________________________________________________\n",
      "activation_4 (Activation)       (None, 256)          0           dense_1[0][0]                    \n",
      "__________________________________________________________________________________________________\n",
      "dense_2 (Dense)                 (None, 256)          65792       activation_4[0][0]               \n",
      "__________________________________________________________________________________________________\n",
      "activation_5 (Activation)       (None, 256)          0           dense_2[0][0]                    \n",
      "__________________________________________________________________________________________________\n",
      "output (Dense)                  (None, 2)            514         activation_5[0][0]               \n",
      "__________________________________________________________________________________________________\n",
      "activation_6 (Activation)       (None, 2)            0           output[0][0]                     \n",
      "==================================================================================================\n",
      "Total params: 332,034\n",
      "Trainable params: 332,034\n",
      "Non-trainable params: 0\n",
      "__________________________________________________________________________________________________\n"
     ]
    }
   ],
   "source": [
    "print('Model summary:')\n",
    "\n",
    "# build architecture\n",
    "pfn = PFN(input_dim=X.shape[-1], Phi_sizes=Phi_sizes, F_sizes=F_sizes, num_global_features = muon_feature_number)"
   ]
  },
  {
   "cell_type": "code",
   "execution_count": 22,
   "id": "b559b182",
   "metadata": {
    "scrolled": true
   },
   "outputs": [
    {
     "name": "stdout",
     "output_type": "stream",
     "text": [
      "Epoch 1/500\n"
     ]
    },
    {
     "name": "stderr",
     "output_type": "stream",
     "text": [
      "2022-05-03 19:35:47.804931: I tensorflow/compiler/mlir/mlir_graph_optimization_pass.cc:116] None of the MLIR optimization passes are enabled (registered 2)\n",
      "2022-05-03 19:35:47.805407: I tensorflow/core/platform/profile_utils/cpu_utils.cc:112] CPU Frequency: 2994530000 Hz\n"
     ]
    },
    {
     "name": "stdout",
     "output_type": "stream",
     "text": [
      "\r",
      "  1/199 [..............................] - ETA: 1:55 - loss: 143.2981 - acc: 0.4960"
     ]
    },
    {
     "name": "stderr",
     "output_type": "stream",
     "text": [
      "2022-05-03 19:35:48.220603: I tensorflow/stream_executor/platform/default/dso_loader.cc:49] Successfully opened dynamic library libcublas.so.10\n"
     ]
    },
    {
     "name": "stdout",
     "output_type": "stream",
     "text": [
      "199/199 [==============================] - 3s 12ms/step - loss: 59.1950 - acc: 0.6144 - val_loss: 1.0078 - val_acc: 0.7723\n",
      "Epoch 2/500\n",
      "199/199 [==============================] - 2s 11ms/step - loss: 0.5405 - acc: 0.8411 - val_loss: 0.4362 - val_acc: 0.8795\n",
      "Epoch 3/500\n",
      "199/199 [==============================] - 2s 10ms/step - loss: 0.4403 - acc: 0.8755 - val_loss: 0.1915 - val_acc: 0.9279\n",
      "Epoch 4/500\n",
      "199/199 [==============================] - 2s 10ms/step - loss: 0.2031 - acc: 0.9250 - val_loss: 0.1880 - val_acc: 0.9311\n",
      "Epoch 5/500\n",
      "199/199 [==============================] - 2s 10ms/step - loss: 0.2028 - acc: 0.9250 - val_loss: 0.1792 - val_acc: 0.9326\n",
      "Epoch 6/500\n",
      "199/199 [==============================] - 2s 11ms/step - loss: 0.2103 - acc: 0.9220 - val_loss: 0.1672 - val_acc: 0.9363\n",
      "Epoch 7/500\n",
      "199/199 [==============================] - 2s 10ms/step - loss: 0.1843 - acc: 0.9305 - val_loss: 0.1656 - val_acc: 0.9347\n",
      "Epoch 8/500\n",
      "199/199 [==============================] - 2s 10ms/step - loss: 0.1830 - acc: 0.9301 - val_loss: 0.1713 - val_acc: 0.9361\n",
      "Epoch 9/500\n",
      "199/199 [==============================] - 2s 10ms/step - loss: 0.1646 - acc: 0.9367 - val_loss: 0.1856 - val_acc: 0.9306\n",
      "Epoch 10/500\n",
      "199/199 [==============================] - 2s 10ms/step - loss: 0.1720 - acc: 0.9340 - val_loss: 0.1476 - val_acc: 0.9426\n",
      "Epoch 11/500\n",
      "199/199 [==============================] - 2s 10ms/step - loss: 0.1758 - acc: 0.9335 - val_loss: 0.1456 - val_acc: 0.9437\n",
      "Epoch 12/500\n",
      "199/199 [==============================] - 2s 10ms/step - loss: 0.2522 - acc: 0.9152 - val_loss: 0.1615 - val_acc: 0.9392\n",
      "Epoch 13/500\n",
      "199/199 [==============================] - 2s 10ms/step - loss: 0.1633 - acc: 0.9366 - val_loss: 0.1445 - val_acc: 0.9435\n",
      "Epoch 14/500\n",
      "199/199 [==============================] - 2s 10ms/step - loss: 0.1485 - acc: 0.9414 - val_loss: 0.1378 - val_acc: 0.9456\n",
      "Epoch 15/500\n",
      "199/199 [==============================] - 2s 10ms/step - loss: 0.1403 - acc: 0.9448 - val_loss: 0.1614 - val_acc: 0.9368\n",
      "Epoch 16/500\n",
      "199/199 [==============================] - 2s 10ms/step - loss: 0.1436 - acc: 0.9439 - val_loss: 0.1510 - val_acc: 0.9399\n",
      "Epoch 17/500\n",
      "199/199 [==============================] - 2s 10ms/step - loss: 0.1380 - acc: 0.9457 - val_loss: 0.1511 - val_acc: 0.9417\n",
      "Epoch 18/500\n",
      "199/199 [==============================] - 2s 10ms/step - loss: 0.1384 - acc: 0.9450 - val_loss: 0.1348 - val_acc: 0.9474\n",
      "Epoch 19/500\n",
      "199/199 [==============================] - 2s 10ms/step - loss: 0.1331 - acc: 0.9477 - val_loss: 0.1486 - val_acc: 0.9412\n",
      "Epoch 20/500\n",
      "199/199 [==============================] - 2s 10ms/step - loss: 0.1394 - acc: 0.9448 - val_loss: 0.2010 - val_acc: 0.9248\n",
      "Epoch 21/500\n",
      "199/199 [==============================] - 2s 10ms/step - loss: 0.1383 - acc: 0.9455 - val_loss: 0.1292 - val_acc: 0.9495\n",
      "Epoch 22/500\n",
      "199/199 [==============================] - 2s 10ms/step - loss: 0.1336 - acc: 0.9469 - val_loss: 0.1323 - val_acc: 0.9485\n",
      "Epoch 23/500\n",
      "199/199 [==============================] - 2s 10ms/step - loss: 0.1312 - acc: 0.9486 - val_loss: 0.1286 - val_acc: 0.9498\n",
      "Epoch 24/500\n",
      "199/199 [==============================] - 2s 10ms/step - loss: 0.1269 - acc: 0.9495 - val_loss: 0.1385 - val_acc: 0.9447\n",
      "Epoch 25/500\n",
      "199/199 [==============================] - 2s 10ms/step - loss: 0.1312 - acc: 0.9482 - val_loss: 0.1897 - val_acc: 0.9241\n",
      "Epoch 26/500\n",
      "199/199 [==============================] - 2s 10ms/step - loss: 0.1339 - acc: 0.9475 - val_loss: 0.1608 - val_acc: 0.9382\n",
      "Epoch 27/500\n",
      "199/199 [==============================] - 2s 10ms/step - loss: 0.1278 - acc: 0.9500 - val_loss: 0.1248 - val_acc: 0.9510\n",
      "Epoch 28/500\n",
      "199/199 [==============================] - 2s 10ms/step - loss: 0.1268 - acc: 0.9502 - val_loss: 0.1204 - val_acc: 0.9533\n",
      "Epoch 29/500\n",
      "199/199 [==============================] - 2s 10ms/step - loss: 0.1249 - acc: 0.9514 - val_loss: 0.1213 - val_acc: 0.9519\n",
      "Epoch 30/500\n",
      "199/199 [==============================] - 2s 10ms/step - loss: 0.1171 - acc: 0.9536 - val_loss: 0.1124 - val_acc: 0.9553\n",
      "Epoch 31/500\n",
      "199/199 [==============================] - 2s 10ms/step - loss: 0.1108 - acc: 0.9567 - val_loss: 0.1109 - val_acc: 0.9567\n",
      "Epoch 32/500\n",
      "199/199 [==============================] - 2s 10ms/step - loss: 0.1150 - acc: 0.9549 - val_loss: 0.1113 - val_acc: 0.9568\n",
      "Epoch 33/500\n",
      "199/199 [==============================] - 2s 10ms/step - loss: 0.1150 - acc: 0.9553 - val_loss: 0.1119 - val_acc: 0.9565\n",
      "Epoch 34/500\n",
      "199/199 [==============================] - 2s 10ms/step - loss: 0.1096 - acc: 0.9569 - val_loss: 0.1138 - val_acc: 0.9558\n",
      "Epoch 35/500\n",
      "199/199 [==============================] - 2s 10ms/step - loss: 0.1095 - acc: 0.9575 - val_loss: 0.1148 - val_acc: 0.9547\n",
      "Epoch 36/500\n",
      "199/199 [==============================] - 2s 10ms/step - loss: 0.1109 - acc: 0.9570 - val_loss: 0.1089 - val_acc: 0.9579\n",
      "Epoch 37/500\n",
      "199/199 [==============================] - 2s 10ms/step - loss: 0.1114 - acc: 0.9567 - val_loss: 0.1106 - val_acc: 0.9569\n",
      "Epoch 38/500\n",
      "199/199 [==============================] - 2s 10ms/step - loss: 0.1054 - acc: 0.9591 - val_loss: 0.1050 - val_acc: 0.9599\n",
      "Epoch 39/500\n",
      "199/199 [==============================] - 2s 10ms/step - loss: 0.1044 - acc: 0.9597 - val_loss: 0.0997 - val_acc: 0.9610\n",
      "Epoch 40/500\n",
      "199/199 [==============================] - 2s 10ms/step - loss: 0.0988 - acc: 0.9621 - val_loss: 0.1046 - val_acc: 0.9597\n",
      "Epoch 41/500\n",
      "199/199 [==============================] - 2s 10ms/step - loss: 0.1006 - acc: 0.9608 - val_loss: 0.1079 - val_acc: 0.9597\n",
      "Epoch 42/500\n",
      "199/199 [==============================] - 2s 10ms/step - loss: 0.0943 - acc: 0.9633 - val_loss: 0.0868 - val_acc: 0.9670\n",
      "Epoch 43/500\n",
      "199/199 [==============================] - 2s 10ms/step - loss: 0.0897 - acc: 0.9658 - val_loss: 0.0970 - val_acc: 0.9623\n",
      "Epoch 44/500\n",
      "199/199 [==============================] - 2s 10ms/step - loss: 0.0919 - acc: 0.9643 - val_loss: 0.0835 - val_acc: 0.9678\n",
      "Epoch 45/500\n",
      "199/199 [==============================] - 2s 10ms/step - loss: 0.0813 - acc: 0.9682 - val_loss: 0.0840 - val_acc: 0.9679\n",
      "Epoch 46/500\n",
      "199/199 [==============================] - 2s 10ms/step - loss: 0.0925 - acc: 0.9645 - val_loss: 0.0740 - val_acc: 0.9715\n",
      "Epoch 47/500\n",
      "199/199 [==============================] - 2s 10ms/step - loss: 0.0746 - acc: 0.9717 - val_loss: 0.0853 - val_acc: 0.9679\n",
      "Epoch 48/500\n",
      "199/199 [==============================] - 2s 10ms/step - loss: 0.0763 - acc: 0.9705 - val_loss: 0.0691 - val_acc: 0.9735\n",
      "Epoch 49/500\n",
      "199/199 [==============================] - 2s 10ms/step - loss: 0.0698 - acc: 0.9731 - val_loss: 0.0655 - val_acc: 0.9750\n",
      "Epoch 50/500\n",
      "199/199 [==============================] - 2s 10ms/step - loss: 0.0692 - acc: 0.9737 - val_loss: 0.0854 - val_acc: 0.9667\n",
      "Epoch 51/500\n",
      "199/199 [==============================] - 2s 10ms/step - loss: 0.0680 - acc: 0.9733 - val_loss: 0.0769 - val_acc: 0.9712\n",
      "Epoch 52/500\n",
      "199/199 [==============================] - 2s 10ms/step - loss: 0.0695 - acc: 0.9737 - val_loss: 0.0677 - val_acc: 0.9742\n",
      "Epoch 53/500\n",
      "199/199 [==============================] - 2s 10ms/step - loss: 0.0583 - acc: 0.9776 - val_loss: 0.0738 - val_acc: 0.9720\n",
      "Epoch 54/500\n",
      "199/199 [==============================] - 2s 10ms/step - loss: 0.0609 - acc: 0.9770 - val_loss: 0.0585 - val_acc: 0.9779\n",
      "Epoch 55/500\n",
      "199/199 [==============================] - 2s 10ms/step - loss: 0.0663 - acc: 0.9743 - val_loss: 0.0694 - val_acc: 0.9736\n",
      "Epoch 56/500\n",
      "199/199 [==============================] - 2s 10ms/step - loss: 0.0588 - acc: 0.9775 - val_loss: 0.0730 - val_acc: 0.9729\n",
      "Epoch 57/500\n",
      "199/199 [==============================] - 2s 10ms/step - loss: 0.0583 - acc: 0.9774 - val_loss: 0.0610 - val_acc: 0.9769\n",
      "Epoch 58/500\n",
      "199/199 [==============================] - 2s 10ms/step - loss: 0.0561 - acc: 0.9781 - val_loss: 0.0526 - val_acc: 0.9805\n",
      "Epoch 59/500\n",
      "199/199 [==============================] - 2s 10ms/step - loss: 0.0525 - acc: 0.9798 - val_loss: 0.0653 - val_acc: 0.9753\n",
      "Epoch 60/500\n",
      "199/199 [==============================] - 2s 10ms/step - loss: 0.0565 - acc: 0.9782 - val_loss: 0.0640 - val_acc: 0.9760\n",
      "Epoch 61/500\n",
      "199/199 [==============================] - 2s 10ms/step - loss: 0.0508 - acc: 0.9806 - val_loss: 0.0556 - val_acc: 0.9792\n"
     ]
    },
    {
     "name": "stdout",
     "output_type": "stream",
     "text": [
      "Epoch 62/500\n",
      "199/199 [==============================] - 2s 10ms/step - loss: 0.0519 - acc: 0.9799 - val_loss: 0.0661 - val_acc: 0.9746\n",
      "Epoch 63/500\n",
      "199/199 [==============================] - 2s 10ms/step - loss: 0.0495 - acc: 0.9807 - val_loss: 0.0515 - val_acc: 0.9809\n",
      "Epoch 64/500\n",
      "199/199 [==============================] - 2s 10ms/step - loss: 0.0514 - acc: 0.9805 - val_loss: 0.0580 - val_acc: 0.9782\n",
      "Epoch 65/500\n",
      "199/199 [==============================] - 2s 10ms/step - loss: 0.0542 - acc: 0.9794 - val_loss: 0.0604 - val_acc: 0.9777\n",
      "Epoch 66/500\n",
      "199/199 [==============================] - 2s 10ms/step - loss: 0.0492 - acc: 0.9816 - val_loss: 0.0521 - val_acc: 0.9809\n",
      "Epoch 67/500\n",
      "199/199 [==============================] - 2s 10ms/step - loss: 0.0457 - acc: 0.9823 - val_loss: 0.0499 - val_acc: 0.9815\n",
      "Epoch 68/500\n",
      "199/199 [==============================] - 2s 10ms/step - loss: 0.0455 - acc: 0.9825 - val_loss: 0.0556 - val_acc: 0.9793\n",
      "Epoch 69/500\n",
      "199/199 [==============================] - 2s 10ms/step - loss: 0.0425 - acc: 0.9836 - val_loss: 0.0714 - val_acc: 0.9719\n",
      "Epoch 70/500\n",
      "199/199 [==============================] - 2s 10ms/step - loss: 0.0466 - acc: 0.9820 - val_loss: 0.0504 - val_acc: 0.9818\n",
      "Epoch 71/500\n",
      "199/199 [==============================] - 2s 10ms/step - loss: 0.0436 - acc: 0.9836 - val_loss: 0.0521 - val_acc: 0.9809\n",
      "Epoch 72/500\n",
      "199/199 [==============================] - 2s 10ms/step - loss: 0.0416 - acc: 0.9839 - val_loss: 0.0507 - val_acc: 0.9812\n",
      "\n",
      "Epoch 00072: ReduceLROnPlateau reducing learning rate to 0.000630957374449059.\n",
      "Epoch 73/500\n",
      "199/199 [==============================] - 2s 10ms/step - loss: 0.0373 - acc: 0.9858 - val_loss: 0.0469 - val_acc: 0.9833\n",
      "Epoch 74/500\n",
      "199/199 [==============================] - 2s 10ms/step - loss: 0.0387 - acc: 0.9852 - val_loss: 0.0443 - val_acc: 0.9842\n",
      "Epoch 75/500\n",
      "199/199 [==============================] - 2s 10ms/step - loss: 0.0333 - acc: 0.9870 - val_loss: 0.0453 - val_acc: 0.9835\n",
      "Epoch 76/500\n",
      "199/199 [==============================] - 2s 10ms/step - loss: 0.0319 - acc: 0.9879 - val_loss: 0.0574 - val_acc: 0.9793\n",
      "Epoch 77/500\n",
      "199/199 [==============================] - 2s 10ms/step - loss: 0.0356 - acc: 0.9863 - val_loss: 0.0522 - val_acc: 0.9809\n",
      "Epoch 78/500\n",
      "199/199 [==============================] - 2s 10ms/step - loss: 0.0334 - acc: 0.9869 - val_loss: 0.0453 - val_acc: 0.9833\n",
      "Epoch 79/500\n",
      "199/199 [==============================] - 2s 10ms/step - loss: 0.0305 - acc: 0.9883 - val_loss: 0.0460 - val_acc: 0.9833\n",
      "\n",
      "Epoch 00079: ReduceLROnPlateau reducing learning rate to 0.0003981071838171537.\n",
      "Epoch 80/500\n",
      "199/199 [==============================] - 2s 10ms/step - loss: 0.0278 - acc: 0.9893 - val_loss: 0.0443 - val_acc: 0.9845\n",
      "Epoch 81/500\n",
      "199/199 [==============================] - 2s 10ms/step - loss: 0.0263 - acc: 0.9901 - val_loss: 0.0439 - val_acc: 0.9846\n",
      "Epoch 82/500\n",
      "199/199 [==============================] - 2s 10ms/step - loss: 0.0256 - acc: 0.9902 - val_loss: 0.0443 - val_acc: 0.9852\n",
      "Epoch 83/500\n",
      "199/199 [==============================] - 2s 10ms/step - loss: 0.0246 - acc: 0.9905 - val_loss: 0.0446 - val_acc: 0.9851\n",
      "Epoch 84/500\n",
      "199/199 [==============================] - 2s 10ms/step - loss: 0.0240 - acc: 0.9908 - val_loss: 0.0484 - val_acc: 0.9844\n",
      "Epoch 85/500\n",
      "199/199 [==============================] - 2s 10ms/step - loss: 0.0271 - acc: 0.9894 - val_loss: 0.0491 - val_acc: 0.9834\n",
      "Epoch 86/500\n",
      "199/199 [==============================] - 2s 10ms/step - loss: 0.0250 - acc: 0.9904 - val_loss: 0.0474 - val_acc: 0.9841\n",
      "\n",
      "Epoch 00086: ReduceLROnPlateau reducing learning rate to 0.0002511886574257803.\n",
      "Epoch 87/500\n",
      "199/199 [==============================] - 2s 10ms/step - loss: 0.0214 - acc: 0.9915 - val_loss: 0.0467 - val_acc: 0.9846\n",
      "Epoch 88/500\n",
      "199/199 [==============================] - 2s 10ms/step - loss: 0.0180 - acc: 0.9931 - val_loss: 0.0509 - val_acc: 0.9839\n",
      "Epoch 89/500\n",
      "199/199 [==============================] - 2s 10ms/step - loss: 0.0182 - acc: 0.9929 - val_loss: 0.0477 - val_acc: 0.9847\n",
      "Epoch 90/500\n",
      "199/199 [==============================] - 2s 10ms/step - loss: 0.0178 - acc: 0.9932 - val_loss: 0.0495 - val_acc: 0.9845\n",
      "Epoch 91/500\n",
      "199/199 [==============================] - 2s 10ms/step - loss: 0.0170 - acc: 0.9935 - val_loss: 0.0490 - val_acc: 0.9849\n",
      "\n",
      "Epoch 00091: ReduceLROnPlateau reducing learning rate to 0.00015848933651346973.\n",
      "Epoch 92/500\n",
      "199/199 [==============================] - 2s 10ms/step - loss: 0.0147 - acc: 0.9944 - val_loss: 0.0489 - val_acc: 0.9854\n",
      "Epoch 93/500\n",
      "199/199 [==============================] - 2s 10ms/step - loss: 0.0131 - acc: 0.9951 - val_loss: 0.0496 - val_acc: 0.9852\n",
      "Epoch 94/500\n",
      "199/199 [==============================] - 2s 10ms/step - loss: 0.0131 - acc: 0.9953 - val_loss: 0.0546 - val_acc: 0.9837\n",
      "Epoch 95/500\n",
      "199/199 [==============================] - 2s 10ms/step - loss: 0.0140 - acc: 0.9948 - val_loss: 0.0524 - val_acc: 0.9849\n",
      "Epoch 96/500\n",
      "199/199 [==============================] - 2s 10ms/step - loss: 0.0119 - acc: 0.9955 - val_loss: 0.0516 - val_acc: 0.9852\n",
      "\n",
      "Epoch 00096: ReduceLROnPlateau reducing learning rate to 0.00010000000838432616.\n",
      "Epoch 97/500\n",
      "199/199 [==============================] - 2s 10ms/step - loss: 0.0103 - acc: 0.9964 - val_loss: 0.0527 - val_acc: 0.9850\n",
      "Epoch 98/500\n",
      "199/199 [==============================] - 2s 10ms/step - loss: 0.0099 - acc: 0.9965 - val_loss: 0.0523 - val_acc: 0.9855\n",
      "Epoch 99/500\n",
      "199/199 [==============================] - 2s 10ms/step - loss: 0.0095 - acc: 0.9967 - val_loss: 0.0538 - val_acc: 0.9854\n",
      "Epoch 100/500\n",
      "199/199 [==============================] - 2s 10ms/step - loss: 0.0094 - acc: 0.9968 - val_loss: 0.0536 - val_acc: 0.9852\n",
      "Epoch 101/500\n",
      "199/199 [==============================] - 2s 10ms/step - loss: 0.0091 - acc: 0.9970 - val_loss: 0.0548 - val_acc: 0.9854\n",
      "\n",
      "Epoch 00101: ReduceLROnPlateau reducing learning rate to 6.30957374449059e-05.\n",
      "Epoch 102/500\n",
      "199/199 [==============================] - 2s 10ms/step - loss: 0.0081 - acc: 0.9973 - val_loss: 0.0571 - val_acc: 0.9854\n",
      "Epoch 103/500\n",
      "199/199 [==============================] - 2s 10ms/step - loss: 0.0077 - acc: 0.9975 - val_loss: 0.0561 - val_acc: 0.9854\n",
      "Epoch 104/500\n",
      "199/199 [==============================] - 2s 10ms/step - loss: 0.0071 - acc: 0.9979 - val_loss: 0.0571 - val_acc: 0.9853\n",
      "Epoch 105/500\n",
      "199/199 [==============================] - 2s 10ms/step - loss: 0.0070 - acc: 0.9979 - val_loss: 0.0575 - val_acc: 0.9856\n",
      "Epoch 106/500\n",
      "199/199 [==============================] - 2s 10ms/step - loss: 0.0070 - acc: 0.9979 - val_loss: 0.0596 - val_acc: 0.9851\n",
      "\n",
      "Epoch 00106: ReduceLROnPlateau reducing learning rate to 3.981071838171537e-05.\n",
      "Epoch 107/500\n",
      "199/199 [==============================] - 2s 10ms/step - loss: 0.0066 - acc: 0.9980 - val_loss: 0.0588 - val_acc: 0.9854\n",
      "Epoch 108/500\n",
      "199/199 [==============================] - 2s 10ms/step - loss: 0.0061 - acc: 0.9982 - val_loss: 0.0592 - val_acc: 0.9853\n",
      "Epoch 109/500\n",
      "199/199 [==============================] - 2s 10ms/step - loss: 0.0056 - acc: 0.9985 - val_loss: 0.0599 - val_acc: 0.9855\n",
      "Epoch 110/500\n",
      "199/199 [==============================] - 2s 10ms/step - loss: 0.0058 - acc: 0.9983 - val_loss: 0.0604 - val_acc: 0.9855\n",
      "Epoch 111/500\n",
      "199/199 [==============================] - 2s 10ms/step - loss: 0.0056 - acc: 0.9984 - val_loss: 0.0615 - val_acc: 0.9853\n",
      "\n",
      "Epoch 00111: ReduceLROnPlateau reducing learning rate to 2.5118865283496142e-05.\n",
      "Epoch 00111: early stopping\n"
     ]
    }
   ],
   "source": [
    "# now train the model\n",
    "\n",
    "reduce_lr = tf.keras.callbacks.ReduceLROnPlateau(monitor='val_loss', \n",
    "                              factor=0.1**(1/5), patience=5, min_lr=1e-5,\n",
    "                                                verbose=1)\n",
    "\n",
    "early_stop = tf.keras.callbacks.EarlyStopping(monitor='val_loss', patience=30, \n",
    "                                              verbose=1)\n",
    "\n",
    "callbacks = [reduce_lr,early_stop]\n",
    "\n",
    "hist1 = pfn.fit(X_train, Y_train,\n",
    "        epochs=num_epoch,\n",
    "        batch_size=batch_size,\n",
    "        validation_data=(X_val, Y_val),\n",
    "        class_weight=class_weight,\n",
    "        callbacks=callbacks,\n",
    "        verbose=1)"
   ]
  },
  {
   "cell_type": "markdown",
   "id": "0fac1861",
   "metadata": {},
   "source": [
    "# Analyze the Model"
   ]
  },
  {
   "cell_type": "code",
   "execution_count": 23,
   "id": "531ee50e",
   "metadata": {},
   "outputs": [
    {
     "name": "stdout",
     "output_type": "stream",
     "text": [
      "\n",
      "PFN AUC: 0.9982977224797005\n",
      "\n"
     ]
    }
   ],
   "source": [
    "# get predictions on test data\n",
    "preds = pfn.predict(X_test, batch_size=10000)\n",
    "\n",
    "# get ROC curve\n",
    "pfn_fp, pfn_tp, threshs = roc_curve(Y_test[:,1], preds[:,1])\n",
    "\n",
    "# get area under the ROC curve\n",
    "auc = roc_auc_score(Y_test[:,1], preds[:,1])\n",
    "print()\n",
    "print('PFN AUC:', auc)\n",
    "print()"
   ]
  },
  {
   "cell_type": "code",
   "execution_count": 24,
   "id": "9190f668",
   "metadata": {},
   "outputs": [
    {
     "data": {
      "image/png": "[encoded data removed]",
      "text/plain": [
       "<Figure size 432x288 with 1 Axes>"
      ]
     },
     "metadata": {
      "needs_background": "light"
     },
     "output_type": "display_data"
    }
   ],
   "source": [
    "plt.plot(hist1.history[\"loss\"],label=\"loss\")\n",
    "plt.plot(hist1.history[\"val_loss\"],label=\"validation loss\")\n",
    "plt.legend()\n",
    "plt.show()"
   ]
  },
  {
   "cell_type": "code",
   "execution_count": 25,
   "id": "bcf5a3ff",
   "metadata": {},
   "outputs": [
    {
     "data": {
      "image/png": "[encoded data removed]",
      "text/plain": [
       "<Figure size 432x288 with 1 Axes>"
      ]
     },
     "metadata": {
      "needs_background": "light"
     },
     "output_type": "display_data"
    }
   ],
   "source": [
    "plt.plot(hist1.history[\"acc\"],label=\"acc\")\n",
    "plt.plot(hist1.history[\"val_acc\"],label=\"validation acc\")\n",
    "plt.legend()\n",
    "plt.show()"
   ]
  },
  {
   "cell_type": "code",
   "execution_count": 26,
   "id": "0a1abd7d",
   "metadata": {},
   "outputs": [
    {
     "data": {
      "image/png": "[encoded data removed]",
      "text/plain": [
       "<Figure size 288x288 with 1 Axes>"
      ]
     },
     "metadata": {
      "needs_background": "light"
     },
     "output_type": "display_data"
    }
   ],
   "source": [
    "# get multiplicity and mass for comparison\n",
    "preds = pfn.predict(X_test, batch_size=1000)\n",
    "pfn_fp, pfn_tp, threshs = roc_curve(Y_test[:,1], preds[:,1])\n",
    "\n",
    "# some nicer plot settings \n",
    "plt.rcParams['figure.figsize'] = (4,4)\n",
    "plt.rcParams['font.family'] = 'serif'\n",
    "plt.rcParams['figure.autolayout'] = True\n",
    "\n",
    "# plot the ROC curves\n",
    "plt.plot(pfn_tp, 1-pfn_fp, '-', color='black', label='ROC')\n",
    "\n",
    "plt.legend(loc='lower left', frameon=False)\n",
    "\n",
    "plt.show()"
   ]
  },
  {
   "cell_type": "code",
   "execution_count": null,
   "id": "0d9936df",
   "metadata": {},
   "outputs": [],
   "source": []
  }
 ],
 "metadata": {
  "kernelspec": {
   "display_name": "Python 3 (ipykernel)",
   "language": "python",
   "name": "python3"
  },
  "language_info": {
   "codemirror_mode": {
    "name": "ipython",
    "version": 3
   },
   "file_extension": ".py",
   "mimetype": "text/x-python",
   "name": "python",
   "nbconvert_exporter": "python",
   "pygments_lexer": "ipython3",
   "version": "3.8.12"
  }
 },
 "nbformat": 4,
 "nbformat_minor": 5
}
