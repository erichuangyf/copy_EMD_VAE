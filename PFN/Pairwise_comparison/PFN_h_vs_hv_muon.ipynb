{
 "cells": [
  {
   "cell_type": "markdown",
   "id": "4ef50705",
   "metadata": {},
   "source": [
    "# Import and Initialization"
   ]
  },
  {
   "cell_type": "code",
   "execution_count": 1,
   "id": "05a505b0",
   "metadata": {},
   "outputs": [
    {
     "name": "stderr",
     "output_type": "stream",
     "text": [
      "2022-05-05 15:54:30.693459: I tensorflow/stream_executor/platform/default/dso_loader.cc:49] Successfully opened dynamic library libcudart.so.10.1\n"
     ]
    }
   ],
   "source": [
    "%load_ext autoreload\n",
    "%autoreload 2\n",
    "\n",
    "import tensorflow as tf\n",
    "\n",
    "# standard library imports\n",
    "from __future__ import absolute_import, division, print_function\n",
    "\n",
    "# standard numerical library imports\n",
    "import numpy as np\n",
    "\n",
    "# energyflow imports\n",
    "import energyflow as ef\n",
    "from energyflow.archs import PFN\n",
    "from energyflow.datasets import qg_jets\n",
    "from energyflow.utils import data_split, remap_pids, to_categorical\n",
    "\n",
    "from sklearn.metrics import roc_auc_score, roc_curve\n",
    "import matplotlib.pyplot as plt\n",
    "\n",
    "\n",
    "import pandas\n",
    "import h5py\n",
    "import pickle\n",
    "\n",
    "import datetime"
   ]
  },
  {
   "cell_type": "code",
   "execution_count": 2,
   "id": "45667e4d",
   "metadata": {},
   "outputs": [],
   "source": [
    "# configs\n",
    "train, val, test = 0.6, 0.3, 0.1\n",
    "Phi_sizes, F_sizes = (256, 256, 256), (256, 256, 256)\n",
    "num_epoch = 500\n",
    "batch_size = 1000"
   ]
  },
  {
   "cell_type": "markdown",
   "id": "8c5aa5d4",
   "metadata": {},
   "source": [
    "# Load and Process Data"
   ]
  },
  {
   "cell_type": "code",
   "execution_count": 3,
   "id": "25276321",
   "metadata": {},
   "outputs": [],
   "source": [
    "signal_1_df = \"/global/home/users/yifengh3/VAE/new_data/muon_data/h_signal_big_muons.h5\"\n",
    "signal_2_df = \"/global/home/users/yifengh3/VAE/new_data/muon_data/hv_signal_big_muons.h5\"\n",
    "raw_signal_1 = pandas.read_hdf(signal_1_df)\n",
    "raw_signal_2 = pandas.read_hdf(signal_2_df)"
   ]
  },
  {
   "cell_type": "code",
   "execution_count": 4,
   "id": "646d74c9",
   "metadata": {},
   "outputs": [
    {
     "name": "stdout",
     "output_type": "stream",
     "text": [
      "signal_1 data shape: (173692, 8)\n",
      "signal_2 data shape: (157772, 8)\n"
     ]
    }
   ],
   "source": [
    "print(\"signal_1 data shape: {}\".format(raw_signal_1.shape))\n",
    "print(\"signal_2 data shape: {}\".format(raw_signal_2.shape))"
   ]
  },
  {
   "cell_type": "code",
   "execution_count": 5,
   "id": "a75f65a8",
   "metadata": {},
   "outputs": [
    {
     "data": {
      "text/html": [
       "<div>\n",
       "<style scoped>\n",
       "    .dataframe tbody tr th:only-of-type {\n",
       "        vertical-align: middle;\n",
       "    }\n",
       "\n",
       "    .dataframe tbody tr th {\n",
       "        vertical-align: top;\n",
       "    }\n",
       "\n",
       "    .dataframe thead th {\n",
       "        text-align: right;\n",
       "    }\n",
       "</style>\n",
       "<table border=\"1\" class=\"dataframe\">\n",
       "  <thead>\n",
       "    <tr style=\"text-align: right;\">\n",
       "      <th></th>\n",
       "      <th>pT0</th>\n",
       "      <th>eta0</th>\n",
       "      <th>phi0</th>\n",
       "      <th>E0</th>\n",
       "      <th>pT1</th>\n",
       "      <th>eta1</th>\n",
       "      <th>phi1</th>\n",
       "      <th>E1</th>\n",
       "    </tr>\n",
       "  </thead>\n",
       "  <tbody>\n",
       "    <tr>\n",
       "      <th>0</th>\n",
       "      <td>13.0</td>\n",
       "      <td>62.4740</td>\n",
       "      <td>-1.701850</td>\n",
       "      <td>62.4740</td>\n",
       "      <td>-13.0</td>\n",
       "      <td>40.94240</td>\n",
       "      <td>-1.718690</td>\n",
       "      <td>40.94240</td>\n",
       "    </tr>\n",
       "    <tr>\n",
       "      <th>1</th>\n",
       "      <td>13.0</td>\n",
       "      <td>13.4565</td>\n",
       "      <td>-0.243036</td>\n",
       "      <td>13.4565</td>\n",
       "      <td>-13.0</td>\n",
       "      <td>33.92570</td>\n",
       "      <td>-0.287077</td>\n",
       "      <td>33.92570</td>\n",
       "    </tr>\n",
       "    <tr>\n",
       "      <th>2</th>\n",
       "      <td>13.0</td>\n",
       "      <td>66.1971</td>\n",
       "      <td>-0.342065</td>\n",
       "      <td>66.1971</td>\n",
       "      <td>-13.0</td>\n",
       "      <td>4.71550</td>\n",
       "      <td>-0.290955</td>\n",
       "      <td>4.71550</td>\n",
       "    </tr>\n",
       "    <tr>\n",
       "      <th>3</th>\n",
       "      <td>13.0</td>\n",
       "      <td>50.8922</td>\n",
       "      <td>-1.790440</td>\n",
       "      <td>50.8922</td>\n",
       "      <td>-13.0</td>\n",
       "      <td>12.91650</td>\n",
       "      <td>-1.806460</td>\n",
       "      <td>12.91650</td>\n",
       "    </tr>\n",
       "    <tr>\n",
       "      <th>4</th>\n",
       "      <td>13.0</td>\n",
       "      <td>59.7630</td>\n",
       "      <td>-1.344120</td>\n",
       "      <td>59.7630</td>\n",
       "      <td>-13.0</td>\n",
       "      <td>16.97240</td>\n",
       "      <td>-1.327890</td>\n",
       "      <td>16.97240</td>\n",
       "    </tr>\n",
       "    <tr>\n",
       "      <th>...</th>\n",
       "      <td>...</td>\n",
       "      <td>...</td>\n",
       "      <td>...</td>\n",
       "      <td>...</td>\n",
       "      <td>...</td>\n",
       "      <td>...</td>\n",
       "      <td>...</td>\n",
       "      <td>...</td>\n",
       "    </tr>\n",
       "    <tr>\n",
       "      <th>6881</th>\n",
       "      <td>13.0</td>\n",
       "      <td>31.9867</td>\n",
       "      <td>-2.338530</td>\n",
       "      <td>31.9867</td>\n",
       "      <td>-13.0</td>\n",
       "      <td>20.39380</td>\n",
       "      <td>-2.300500</td>\n",
       "      <td>20.39380</td>\n",
       "    </tr>\n",
       "    <tr>\n",
       "      <th>6882</th>\n",
       "      <td>13.0</td>\n",
       "      <td>47.7360</td>\n",
       "      <td>-2.012180</td>\n",
       "      <td>47.7360</td>\n",
       "      <td>-13.0</td>\n",
       "      <td>8.02589</td>\n",
       "      <td>-1.974860</td>\n",
       "      <td>8.02589</td>\n",
       "    </tr>\n",
       "    <tr>\n",
       "      <th>6883</th>\n",
       "      <td>13.0</td>\n",
       "      <td>51.4818</td>\n",
       "      <td>0.027498</td>\n",
       "      <td>51.4818</td>\n",
       "      <td>-13.0</td>\n",
       "      <td>59.43760</td>\n",
       "      <td>0.043301</td>\n",
       "      <td>59.43760</td>\n",
       "    </tr>\n",
       "    <tr>\n",
       "      <th>6884</th>\n",
       "      <td>13.0</td>\n",
       "      <td>22.5427</td>\n",
       "      <td>1.615810</td>\n",
       "      <td>22.5427</td>\n",
       "      <td>-13.0</td>\n",
       "      <td>36.42490</td>\n",
       "      <td>1.648680</td>\n",
       "      <td>36.42490</td>\n",
       "    </tr>\n",
       "    <tr>\n",
       "      <th>6885</th>\n",
       "      <td>13.0</td>\n",
       "      <td>36.0875</td>\n",
       "      <td>0.576722</td>\n",
       "      <td>36.0875</td>\n",
       "      <td>-13.0</td>\n",
       "      <td>20.93080</td>\n",
       "      <td>0.580795</td>\n",
       "      <td>20.93080</td>\n",
       "    </tr>\n",
       "  </tbody>\n",
       "</table>\n",
       "<p>173692 rows × 8 columns</p>\n",
       "</div>"
      ],
      "text/plain": [
       "       pT0     eta0      phi0       E0   pT1      eta1      phi1        E1\n",
       "0     13.0  62.4740 -1.701850  62.4740 -13.0  40.94240 -1.718690  40.94240\n",
       "1     13.0  13.4565 -0.243036  13.4565 -13.0  33.92570 -0.287077  33.92570\n",
       "2     13.0  66.1971 -0.342065  66.1971 -13.0   4.71550 -0.290955   4.71550\n",
       "3     13.0  50.8922 -1.790440  50.8922 -13.0  12.91650 -1.806460  12.91650\n",
       "4     13.0  59.7630 -1.344120  59.7630 -13.0  16.97240 -1.327890  16.97240\n",
       "...    ...      ...       ...      ...   ...       ...       ...       ...\n",
       "6881  13.0  31.9867 -2.338530  31.9867 -13.0  20.39380 -2.300500  20.39380\n",
       "6882  13.0  47.7360 -2.012180  47.7360 -13.0   8.02589 -1.974860   8.02589\n",
       "6883  13.0  51.4818  0.027498  51.4818 -13.0  59.43760  0.043301  59.43760\n",
       "6884  13.0  22.5427  1.615810  22.5427 -13.0  36.42490  1.648680  36.42490\n",
       "6885  13.0  36.0875  0.576722  36.0875 -13.0  20.93080  0.580795  20.93080\n",
       "\n",
       "[173692 rows x 8 columns]"
      ]
     },
     "execution_count": 5,
     "metadata": {},
     "output_type": "execute_result"
    }
   ],
   "source": [
    "raw_signal_1"
   ]
  },
  {
   "cell_type": "code",
   "execution_count": 6,
   "id": "3edf6b5e",
   "metadata": {},
   "outputs": [],
   "source": [
    "#Truncate the nan\n",
    "signal_1 = raw_signal_1.to_numpy()[:,:8]\n",
    "signal_2 = raw_signal_2.to_numpy()[:,:8]"
   ]
  },
  {
   "cell_type": "code",
   "execution_count": 7,
   "id": "6235130e",
   "metadata": {},
   "outputs": [
    {
     "data": {
      "text/plain": [
       "array([ 1.30000000e+01,  3.27471798e+01,  1.18269860e-03,  3.27471798e+01,\n",
       "       -1.30000000e+01,  3.27521130e+01,  1.05764062e-03,  3.27521130e+01])"
      ]
     },
     "execution_count": 7,
     "metadata": {},
     "output_type": "execute_result"
    }
   ],
   "source": [
    "np.mean(signal_1,axis=0)"
   ]
  },
  {
   "cell_type": "code",
   "execution_count": 8,
   "id": "8c1b8120",
   "metadata": {},
   "outputs": [
    {
     "name": "stdout",
     "output_type": "stream",
     "text": [
      "signal_1 data shape: (173692, 8)\n",
      "signal_2 data shape: (157772, 8)\n"
     ]
    }
   ],
   "source": [
    "print(\"signal_1 data shape: {}\".format(signal_1.shape))\n",
    "print(\"signal_2 data shape: {}\".format(signal_2.shape))"
   ]
  },
  {
   "cell_type": "code",
   "execution_count": 9,
   "id": "e582ac98",
   "metadata": {},
   "outputs": [],
   "source": [
    "# assign labels to signal and background data, 0 for sig1,  1 for sig2\n",
    "# (updated since we might get multiple signals) \n",
    "labeled_sig1 = np.append(signal_1,np.zeros((signal_1.shape[0],1)),axis=1)\n",
    "labeled_sig2 = np.append(signal_2,np.ones((signal_2.shape[0],1)),axis=1)"
   ]
  },
  {
   "cell_type": "code",
   "execution_count": 10,
   "id": "8540cc44",
   "metadata": {},
   "outputs": [],
   "source": [
    "# mix two data array into one signal array\n",
    "data = np.concatenate((labeled_sig1,labeled_sig2))\n",
    "\n",
    "#and shuffle the data\n",
    "np.random.shuffle(data)"
   ]
  },
  {
   "cell_type": "code",
   "execution_count": 11,
   "id": "34eaf99c",
   "metadata": {},
   "outputs": [],
   "source": [
    "X = data[:,:-1]\n",
    "y = data[:,-1]"
   ]
  },
  {
   "cell_type": "code",
   "execution_count": 12,
   "id": "d078bbf6",
   "metadata": {},
   "outputs": [
    {
     "name": "stdout",
     "output_type": "stream",
     "text": [
      "shape of X: (331464, 8)\n",
      "shape of Y: (331464,)\n"
     ]
    }
   ],
   "source": [
    "print(\"shape of X: {}\".format(X.shape))\n",
    "print(\"shape of Y: {}\".format(y.shape))"
   ]
  },
  {
   "cell_type": "code",
   "execution_count": 13,
   "id": "ea34616a",
   "metadata": {},
   "outputs": [
    {
     "name": "stdout",
     "output_type": "stream",
     "text": [
      "Weight for background: 0.95\n",
      "Weight for signal: 1.05\n"
     ]
    }
   ],
   "source": [
    "# Scaling by total/2 helps keep the loss to a similar magnitude.\n",
    "# The sum of the weights of all examples stays the same.\n",
    "total = labeled_sig1.shape[0] + labeled_sig2.shape[0]\n",
    "weight_for_0 = (1 / labeled_sig1.shape[0]) * (total / 2.0)\n",
    "weight_for_1 = (1 / labeled_sig2.shape[0]) * (total / 2.0)\n",
    "\n",
    "\n",
    "class_weight = {0: weight_for_0, 1: weight_for_1}\n",
    "\n",
    "print('Weight for background: {:.2f}'.format(weight_for_0))\n",
    "print('Weight for signal: {:.2f}'.format(weight_for_1))"
   ]
  },
  {
   "cell_type": "code",
   "execution_count": 14,
   "id": "c3e0e641",
   "metadata": {},
   "outputs": [],
   "source": [
    "# To categorical as stipulated in example\n",
    "Y = to_categorical(y, num_classes=2)\n",
    "\n",
    "# Reshape X to shape (number of jets, 50, 4)\n",
    "X = X.reshape(-1,2,4)\n",
    "\n",
    "# ignore the pid info\n",
    "X = X[:,:,:3]"
   ]
  },
  {
   "cell_type": "code",
   "execution_count": 15,
   "id": "3f3e9fdd",
   "metadata": {},
   "outputs": [
    {
     "name": "stdout",
     "output_type": "stream",
     "text": [
      "(331464, 2, 3)\n"
     ]
    }
   ],
   "source": [
    "print(X.shape)"
   ]
  },
  {
   "cell_type": "code",
   "execution_count": 16,
   "id": "6a6fe36d",
   "metadata": {},
   "outputs": [],
   "source": [
    "# # normalizing jets\n",
    "# # copied from example\n",
    "# import tqdm\n",
    "# for x in tqdm.tqdm(X):\n",
    "#     # now add the status bar :)\n",
    "#     mask = x[:,0] > 0\n",
    "#     yphi_avg = np.average(x[mask,1:3], weights=x[mask,0], axis=0)\n",
    "#     x[mask,1:3] -= yphi_avg\n",
    "#     x[mask,0] /= x[:,0].sum()"
   ]
  },
  {
   "cell_type": "code",
   "execution_count": 17,
   "id": "c3e18f2d",
   "metadata": {},
   "outputs": [
    {
     "name": "stdout",
     "output_type": "stream",
     "text": [
      "Finished preprocessing\n",
      "shape of X: (331464, 2, 3)\n",
      "shape of Y: (331464,)\n"
     ]
    }
   ],
   "source": [
    "print('Finished preprocessing')\n",
    "print(\"shape of X: {}\".format(X.shape))\n",
    "print(\"shape of Y: {}\".format(y.shape))"
   ]
  },
  {
   "cell_type": "code",
   "execution_count": 18,
   "id": "3f573cd4",
   "metadata": {},
   "outputs": [],
   "source": [
    "X = X.astype('float64')"
   ]
  },
  {
   "cell_type": "code",
   "execution_count": 19,
   "id": "939de622",
   "metadata": {},
   "outputs": [],
   "source": [
    "# do train/val/test split \n",
    "(X_train, X_val, X_test,\n",
    " Y_train, Y_val, Y_test) = data_split(X, Y, val=val, test=test)"
   ]
  },
  {
   "cell_type": "markdown",
   "id": "bc6339cd",
   "metadata": {},
   "source": [
    "# Build and Train the Model"
   ]
  },
  {
   "cell_type": "code",
   "execution_count": 20,
   "id": "4876d9dc",
   "metadata": {},
   "outputs": [
    {
     "name": "stdout",
     "output_type": "stream",
     "text": [
      "Model summary:\n"
     ]
    },
    {
     "name": "stderr",
     "output_type": "stream",
     "text": [
      "2022-05-05 15:54:33.657411: I tensorflow/compiler/jit/xla_cpu_device.cc:41] Not creating XLA devices, tf_xla_enable_xla_devices not set\n",
      "2022-05-05 15:54:33.658284: I tensorflow/stream_executor/platform/default/dso_loader.cc:49] Successfully opened dynamic library libcuda.so.1\n",
      "2022-05-05 15:54:33.694080: I tensorflow/core/common_runtime/gpu/gpu_device.cc:1720] Found device 0 with properties: \n",
      "pciBusID: 0000:81:00.0 name: Quadro RTX 6000 computeCapability: 7.5\n",
      "coreClock: 1.77GHz coreCount: 72 deviceMemorySize: 23.65GiB deviceMemoryBandwidth: 625.94GiB/s\n",
      "2022-05-05 15:54:33.694113: I tensorflow/stream_executor/platform/default/dso_loader.cc:49] Successfully opened dynamic library libcudart.so.10.1\n",
      "2022-05-05 15:54:33.695476: I tensorflow/stream_executor/platform/default/dso_loader.cc:49] Successfully opened dynamic library libcublas.so.10\n",
      "2022-05-05 15:54:33.695504: I tensorflow/stream_executor/platform/default/dso_loader.cc:49] Successfully opened dynamic library libcublasLt.so.10\n",
      "2022-05-05 15:54:33.697021: I tensorflow/stream_executor/platform/default/dso_loader.cc:49] Successfully opened dynamic library libcufft.so.10\n",
      "2022-05-05 15:54:33.697228: I tensorflow/stream_executor/platform/default/dso_loader.cc:49] Successfully opened dynamic library libcurand.so.10\n",
      "2022-05-05 15:54:33.698504: I tensorflow/stream_executor/platform/default/dso_loader.cc:49] Successfully opened dynamic library libcusolver.so.10\n",
      "2022-05-05 15:54:33.699069: I tensorflow/stream_executor/platform/default/dso_loader.cc:49] Successfully opened dynamic library libcusparse.so.10\n",
      "2022-05-05 15:54:33.701778: I tensorflow/stream_executor/platform/default/dso_loader.cc:49] Successfully opened dynamic library libcudnn.so.7\n",
      "2022-05-05 15:54:33.704389: I tensorflow/core/common_runtime/gpu/gpu_device.cc:1862] Adding visible gpu devices: 0\n",
      "2022-05-05 15:54:33.704767: I tensorflow/core/platform/cpu_feature_guard.cc:142] This TensorFlow binary is optimized with oneAPI Deep Neural Network Library (oneDNN) to use the following CPU instructions in performance-critical operations:  SSE4.1 SSE4.2 AVX AVX2 FMA\n",
      "To enable them in other operations, rebuild TensorFlow with the appropriate compiler flags.\n",
      "2022-05-05 15:54:33.708115: I tensorflow/core/common_runtime/gpu/gpu_device.cc:1720] Found device 0 with properties: \n",
      "pciBusID: 0000:81:00.0 name: Quadro RTX 6000 computeCapability: 7.5\n",
      "coreClock: 1.77GHz coreCount: 72 deviceMemorySize: 23.65GiB deviceMemoryBandwidth: 625.94GiB/s\n",
      "2022-05-05 15:54:33.708134: I tensorflow/stream_executor/platform/default/dso_loader.cc:49] Successfully opened dynamic library libcudart.so.10.1\n",
      "2022-05-05 15:54:33.708150: I tensorflow/stream_executor/platform/default/dso_loader.cc:49] Successfully opened dynamic library libcublas.so.10\n",
      "2022-05-05 15:54:33.708162: I tensorflow/stream_executor/platform/default/dso_loader.cc:49] Successfully opened dynamic library libcublasLt.so.10\n",
      "2022-05-05 15:54:33.708172: I tensorflow/stream_executor/platform/default/dso_loader.cc:49] Successfully opened dynamic library libcufft.so.10\n",
      "2022-05-05 15:54:33.708182: I tensorflow/stream_executor/platform/default/dso_loader.cc:49] Successfully opened dynamic library libcurand.so.10\n",
      "2022-05-05 15:54:33.708191: I tensorflow/stream_executor/platform/default/dso_loader.cc:49] Successfully opened dynamic library libcusolver.so.10\n",
      "2022-05-05 15:54:33.708201: I tensorflow/stream_executor/platform/default/dso_loader.cc:49] Successfully opened dynamic library libcusparse.so.10\n",
      "2022-05-05 15:54:33.708211: I tensorflow/stream_executor/platform/default/dso_loader.cc:49] Successfully opened dynamic library libcudnn.so.7\n",
      "2022-05-05 15:54:33.710777: I tensorflow/core/common_runtime/gpu/gpu_device.cc:1862] Adding visible gpu devices: 0\n",
      "2022-05-05 15:54:33.710805: I tensorflow/stream_executor/platform/default/dso_loader.cc:49] Successfully opened dynamic library libcudart.so.10.1\n",
      "2022-05-05 15:54:34.284515: I tensorflow/core/common_runtime/gpu/gpu_device.cc:1261] Device interconnect StreamExecutor with strength 1 edge matrix:\n",
      "2022-05-05 15:54:34.284566: I tensorflow/core/common_runtime/gpu/gpu_device.cc:1267]      0 \n",
      "2022-05-05 15:54:34.284575: I tensorflow/core/common_runtime/gpu/gpu_device.cc:1280] 0:   N \n",
      "2022-05-05 15:54:34.288660: I tensorflow/core/common_runtime/gpu/gpu_device.cc:1406] Created TensorFlow device (/job:localhost/replica:0/task:0/device:GPU:0 with 22017 MB memory) -> physical GPU (device: 0, name: Quadro RTX 6000, pci bus id: 0000:81:00.0, compute capability: 7.5)\n",
      "2022-05-05 15:54:34.289004: I tensorflow/compiler/jit/xla_gpu_device.cc:99] Not creating XLA devices, tf_xla_enable_xla_devices not set\n"
     ]
    },
    {
     "name": "stdout",
     "output_type": "stream",
     "text": [
      "Model: \"model\"\n",
      "__________________________________________________________________________________________________\n",
      "Layer (type)                    Output Shape         Param #     Connected to                     \n",
      "==================================================================================================\n",
      "input (InputLayer)              [(None, None, 3)]    0                                            \n",
      "__________________________________________________________________________________________________\n",
      "tdist_0 (TimeDistributed)       (None, None, 256)    1024        input[0][0]                      \n",
      "__________________________________________________________________________________________________\n",
      "activation (Activation)         (None, None, 256)    0           tdist_0[0][0]                    \n",
      "__________________________________________________________________________________________________\n",
      "tdist_1 (TimeDistributed)       (None, None, 256)    65792       activation[0][0]                 \n",
      "__________________________________________________________________________________________________\n",
      "activation_1 (Activation)       (None, None, 256)    0           tdist_1[0][0]                    \n",
      "__________________________________________________________________________________________________\n",
      "tdist_2 (TimeDistributed)       (None, None, 256)    65792       activation_1[0][0]               \n",
      "__________________________________________________________________________________________________\n",
      "mask (Lambda)                   (None, None)         0           input[0][0]                      \n",
      "__________________________________________________________________________________________________\n",
      "activation_2 (Activation)       (None, None, 256)    0           tdist_2[0][0]                    \n",
      "__________________________________________________________________________________________________\n",
      "sum (Dot)                       (None, 256)          0           mask[0][0]                       \n",
      "                                                                 activation_2[0][0]               \n",
      "__________________________________________________________________________________________________\n",
      "dense_0 (Dense)                 (None, 256)          65792       sum[0][0]                        \n",
      "__________________________________________________________________________________________________\n",
      "activation_3 (Activation)       (None, 256)          0           dense_0[0][0]                    \n",
      "__________________________________________________________________________________________________\n",
      "dense_1 (Dense)                 (None, 256)          65792       activation_3[0][0]               \n",
      "__________________________________________________________________________________________________\n",
      "activation_4 (Activation)       (None, 256)          0           dense_1[0][0]                    \n",
      "__________________________________________________________________________________________________\n",
      "dense_2 (Dense)                 (None, 256)          65792       activation_4[0][0]               \n",
      "__________________________________________________________________________________________________\n",
      "activation_5 (Activation)       (None, 256)          0           dense_2[0][0]                    \n",
      "__________________________________________________________________________________________________\n",
      "output (Dense)                  (None, 2)            514         activation_5[0][0]               \n",
      "__________________________________________________________________________________________________\n",
      "activation_6 (Activation)       (None, 2)            0           output[0][0]                     \n",
      "==================================================================================================\n",
      "Total params: 330,498\n",
      "Trainable params: 330,498\n",
      "Non-trainable params: 0\n",
      "__________________________________________________________________________________________________\n"
     ]
    }
   ],
   "source": [
    "print('Model summary:')\n",
    "\n",
    "# build architecture\n",
    "pfn = PFN(input_dim=X.shape[-1], Phi_sizes=Phi_sizes, F_sizes=F_sizes)"
   ]
  },
  {
   "cell_type": "code",
   "execution_count": 21,
   "id": "b559b182",
   "metadata": {
    "scrolled": true
   },
   "outputs": [
    {
     "name": "stdout",
     "output_type": "stream",
     "text": [
      "Epoch 1/500\n"
     ]
    },
    {
     "name": "stderr",
     "output_type": "stream",
     "text": [
      "2022-05-05 15:54:34.628924: I tensorflow/compiler/mlir/mlir_graph_optimization_pass.cc:116] None of the MLIR optimization passes are enabled (registered 2)\n",
      "2022-05-05 15:54:34.629395: I tensorflow/core/platform/profile_utils/cpu_utils.cc:112] CPU Frequency: 2994530000 Hz\n"
     ]
    },
    {
     "name": "stdout",
     "output_type": "stream",
     "text": [
      "\r",
      "  1/199 [..............................] - ETA: 1:55 - loss: 6.8870 - acc: 0.5230"
     ]
    },
    {
     "name": "stderr",
     "output_type": "stream",
     "text": [
      "2022-05-05 15:54:35.045834: I tensorflow/stream_executor/platform/default/dso_loader.cc:49] Successfully opened dynamic library libcublas.so.10\n"
     ]
    },
    {
     "name": "stdout",
     "output_type": "stream",
     "text": [
      "199/199 [==============================] - 2s 6ms/step - loss: 10.0841 - acc: 0.7954 - val_loss: 0.2923 - val_acc: 0.8885\n",
      "Epoch 2/500\n",
      "199/199 [==============================] - 1s 4ms/step - loss: 0.2912 - acc: 0.8918 - val_loss: 0.2829 - val_acc: 0.8936\n",
      "Epoch 3/500\n",
      "199/199 [==============================] - 1s 4ms/step - loss: 0.2870 - acc: 0.8930 - val_loss: 0.2845 - val_acc: 0.8914\n",
      "Epoch 4/500\n",
      "199/199 [==============================] - 1s 4ms/step - loss: 0.2931 - acc: 0.8897 - val_loss: 0.2860 - val_acc: 0.8928\n",
      "Epoch 5/500\n",
      "199/199 [==============================] - 1s 4ms/step - loss: 0.2919 - acc: 0.8914 - val_loss: 0.2944 - val_acc: 0.8907\n",
      "Epoch 6/500\n",
      "199/199 [==============================] - 1s 4ms/step - loss: 0.2858 - acc: 0.8931 - val_loss: 0.2825 - val_acc: 0.8936\n",
      "Epoch 7/500\n",
      "199/199 [==============================] - 1s 4ms/step - loss: 0.2847 - acc: 0.8925 - val_loss: 0.2814 - val_acc: 0.8937\n",
      "Epoch 8/500\n",
      "199/199 [==============================] - 1s 4ms/step - loss: 0.2865 - acc: 0.8915 - val_loss: 0.3045 - val_acc: 0.8926\n",
      "Epoch 9/500\n",
      "199/199 [==============================] - 1s 4ms/step - loss: 0.2857 - acc: 0.8938 - val_loss: 0.2901 - val_acc: 0.8891\n",
      "Epoch 10/500\n",
      "199/199 [==============================] - 1s 4ms/step - loss: 0.2837 - acc: 0.8936 - val_loss: 0.2847 - val_acc: 0.8926\n",
      "Epoch 11/500\n",
      "199/199 [==============================] - 1s 4ms/step - loss: 0.2877 - acc: 0.8912 - val_loss: 0.2823 - val_acc: 0.8937\n",
      "Epoch 12/500\n",
      "199/199 [==============================] - 1s 4ms/step - loss: 0.2838 - acc: 0.8919 - val_loss: 0.2849 - val_acc: 0.8918\n",
      "\n",
      "Epoch 00012: ReduceLROnPlateau reducing learning rate to 0.000630957374449059.\n",
      "Epoch 13/500\n",
      "199/199 [==============================] - 1s 4ms/step - loss: 0.2816 - acc: 0.8935 - val_loss: 0.2841 - val_acc: 0.8913\n",
      "Epoch 14/500\n",
      "199/199 [==============================] - 1s 4ms/step - loss: 0.2838 - acc: 0.8924 - val_loss: 0.2801 - val_acc: 0.8937\n",
      "Epoch 15/500\n",
      "199/199 [==============================] - 1s 4ms/step - loss: 0.2808 - acc: 0.8935 - val_loss: 0.2813 - val_acc: 0.8930\n",
      "Epoch 16/500\n",
      "199/199 [==============================] - 1s 4ms/step - loss: 0.2794 - acc: 0.8937 - val_loss: 0.2819 - val_acc: 0.8925\n",
      "Epoch 17/500\n",
      "199/199 [==============================] - 1s 4ms/step - loss: 0.2822 - acc: 0.8920 - val_loss: 0.2848 - val_acc: 0.8928\n",
      "Epoch 18/500\n",
      "199/199 [==============================] - 1s 4ms/step - loss: 0.2826 - acc: 0.8927 - val_loss: 0.2787 - val_acc: 0.8937\n",
      "Epoch 19/500\n",
      "199/199 [==============================] - 1s 4ms/step - loss: 0.2800 - acc: 0.8935 - val_loss: 0.2790 - val_acc: 0.8942\n",
      "Epoch 20/500\n",
      "199/199 [==============================] - 1s 4ms/step - loss: 0.2809 - acc: 0.8928 - val_loss: 0.2805 - val_acc: 0.8922\n",
      "Epoch 21/500\n",
      "199/199 [==============================] - 1s 4ms/step - loss: 0.2805 - acc: 0.8931 - val_loss: 0.2825 - val_acc: 0.8933\n",
      "Epoch 22/500\n",
      "199/199 [==============================] - 1s 4ms/step - loss: 0.2793 - acc: 0.8936 - val_loss: 0.3197 - val_acc: 0.8806\n",
      "Epoch 23/500\n",
      "199/199 [==============================] - 1s 4ms/step - loss: 0.2797 - acc: 0.8944 - val_loss: 0.2736 - val_acc: 0.8960\n",
      "Epoch 24/500\n",
      "199/199 [==============================] - 1s 4ms/step - loss: 0.2825 - acc: 0.8925 - val_loss: 0.2783 - val_acc: 0.8935\n",
      "Epoch 25/500\n",
      "199/199 [==============================] - 1s 4ms/step - loss: 0.2770 - acc: 0.8953 - val_loss: 0.2744 - val_acc: 0.8961\n",
      "Epoch 26/500\n",
      "199/199 [==============================] - 1s 4ms/step - loss: 0.2773 - acc: 0.8942 - val_loss: 0.2776 - val_acc: 0.8950\n",
      "Epoch 27/500\n",
      "199/199 [==============================] - 1s 4ms/step - loss: 0.2753 - acc: 0.8954 - val_loss: 0.2771 - val_acc: 0.8917\n",
      "Epoch 28/500\n",
      "199/199 [==============================] - 1s 4ms/step - loss: 0.2821 - acc: 0.8929 - val_loss: 0.2808 - val_acc: 0.8927\n",
      "\n",
      "Epoch 00028: ReduceLROnPlateau reducing learning rate to 0.0003981071838171537.\n",
      "Epoch 29/500\n",
      "199/199 [==============================] - 1s 4ms/step - loss: 0.2744 - acc: 0.8955 - val_loss: 0.2743 - val_acc: 0.8958\n",
      "Epoch 30/500\n",
      "199/199 [==============================] - 1s 4ms/step - loss: 0.2715 - acc: 0.8968 - val_loss: 0.2701 - val_acc: 0.8970\n",
      "Epoch 31/500\n",
      "199/199 [==============================] - 1s 4ms/step - loss: 0.2748 - acc: 0.8945 - val_loss: 0.2698 - val_acc: 0.8976\n",
      "Epoch 32/500\n",
      "199/199 [==============================] - 1s 4ms/step - loss: 0.2717 - acc: 0.8964 - val_loss: 0.2686 - val_acc: 0.8974\n",
      "Epoch 33/500\n",
      "199/199 [==============================] - 1s 4ms/step - loss: 0.2727 - acc: 0.8961 - val_loss: 0.2675 - val_acc: 0.8980\n",
      "Epoch 34/500\n",
      "199/199 [==============================] - 1s 4ms/step - loss: 0.2748 - acc: 0.8954 - val_loss: 0.2677 - val_acc: 0.8979\n",
      "Epoch 35/500\n",
      "199/199 [==============================] - 1s 4ms/step - loss: 0.2696 - acc: 0.8973 - val_loss: 0.2685 - val_acc: 0.8982\n",
      "Epoch 36/500\n",
      "199/199 [==============================] - 1s 4ms/step - loss: 0.2676 - acc: 0.8978 - val_loss: 0.2773 - val_acc: 0.8952\n",
      "Epoch 37/500\n",
      "199/199 [==============================] - 1s 4ms/step - loss: 0.2779 - acc: 0.8942 - val_loss: 0.2700 - val_acc: 0.8985\n",
      "Epoch 38/500\n",
      "199/199 [==============================] - 1s 4ms/step - loss: 0.2783 - acc: 0.8950 - val_loss: 0.2822 - val_acc: 0.8929\n",
      "\n",
      "Epoch 00038: ReduceLROnPlateau reducing learning rate to 0.0002511886574257803.\n",
      "Epoch 39/500\n",
      "199/199 [==============================] - 1s 3ms/step - loss: 0.2761 - acc: 0.8940 - val_loss: 0.2740 - val_acc: 0.8953\n",
      "Epoch 40/500\n",
      "199/199 [==============================] - 1s 4ms/step - loss: 0.2714 - acc: 0.8967 - val_loss: 0.2747 - val_acc: 0.8945\n",
      "Epoch 41/500\n",
      "199/199 [==============================] - 1s 4ms/step - loss: 0.2743 - acc: 0.8956 - val_loss: 0.2705 - val_acc: 0.8980\n",
      "Epoch 42/500\n",
      "199/199 [==============================] - 1s 4ms/step - loss: 0.2706 - acc: 0.8974 - val_loss: 0.2675 - val_acc: 0.8981\n",
      "Epoch 43/500\n",
      "199/199 [==============================] - 1s 4ms/step - loss: 0.2695 - acc: 0.8970 - val_loss: 0.2670 - val_acc: 0.8980\n",
      "Epoch 44/500\n",
      "199/199 [==============================] - 1s 4ms/step - loss: 0.2695 - acc: 0.8974 - val_loss: 0.2663 - val_acc: 0.8989\n",
      "Epoch 45/500\n",
      "199/199 [==============================] - 1s 4ms/step - loss: 0.2688 - acc: 0.8973 - val_loss: 0.2712 - val_acc: 0.8967\n",
      "Epoch 46/500\n",
      "199/199 [==============================] - 1s 4ms/step - loss: 0.2696 - acc: 0.8973 - val_loss: 0.2721 - val_acc: 0.8962\n",
      "Epoch 47/500\n",
      "199/199 [==============================] - 1s 4ms/step - loss: 0.2712 - acc: 0.8965 - val_loss: 0.2718 - val_acc: 0.8961\n",
      "Epoch 48/500\n",
      "199/199 [==============================] - 1s 4ms/step - loss: 0.2700 - acc: 0.8970 - val_loss: 0.2661 - val_acc: 0.8985\n",
      "Epoch 49/500\n",
      "199/199 [==============================] - 1s 4ms/step - loss: 0.2673 - acc: 0.8978 - val_loss: 0.2722 - val_acc: 0.8961\n",
      "Epoch 50/500\n",
      "199/199 [==============================] - 1s 4ms/step - loss: 0.2684 - acc: 0.8978 - val_loss: 0.2635 - val_acc: 0.8998\n",
      "Epoch 51/500\n",
      "199/199 [==============================] - 1s 4ms/step - loss: 0.2642 - acc: 0.8993 - val_loss: 0.2655 - val_acc: 0.8992\n",
      "Epoch 52/500\n",
      "199/199 [==============================] - 1s 4ms/step - loss: 0.2711 - acc: 0.8970 - val_loss: 0.2718 - val_acc: 0.8966\n",
      "Epoch 53/500\n",
      "199/199 [==============================] - 1s 4ms/step - loss: 0.2748 - acc: 0.8958 - val_loss: 0.2681 - val_acc: 0.8973\n",
      "Epoch 54/500\n",
      "199/199 [==============================] - 1s 4ms/step - loss: 0.2683 - acc: 0.8976 - val_loss: 0.2672 - val_acc: 0.8968\n",
      "Epoch 55/500\n",
      "199/199 [==============================] - 1s 4ms/step - loss: 0.2657 - acc: 0.8991 - val_loss: 0.2670 - val_acc: 0.8983\n",
      "\n",
      "Epoch 00055: ReduceLROnPlateau reducing learning rate to 0.00015848933651346973.\n",
      "Epoch 56/500\n",
      "199/199 [==============================] - 1s 4ms/step - loss: 0.2665 - acc: 0.8984 - val_loss: 0.2640 - val_acc: 0.8986\n",
      "Epoch 57/500\n",
      "199/199 [==============================] - 1s 4ms/step - loss: 0.2633 - acc: 0.8991 - val_loss: 0.2645 - val_acc: 0.8992\n",
      "Epoch 58/500\n",
      "199/199 [==============================] - 1s 4ms/step - loss: 0.2613 - acc: 0.9008 - val_loss: 0.2610 - val_acc: 0.9008\n",
      "Epoch 59/500\n",
      "199/199 [==============================] - 1s 4ms/step - loss: 0.2623 - acc: 0.8998 - val_loss: 0.2629 - val_acc: 0.8996\n"
     ]
    },
    {
     "name": "stdout",
     "output_type": "stream",
     "text": [
      "Epoch 60/500\n",
      "199/199 [==============================] - 1s 4ms/step - loss: 0.2643 - acc: 0.8988 - val_loss: 0.2604 - val_acc: 0.9010\n",
      "Epoch 61/500\n",
      "199/199 [==============================] - 1s 4ms/step - loss: 0.2632 - acc: 0.8993 - val_loss: 0.2602 - val_acc: 0.9007\n",
      "Epoch 62/500\n",
      "199/199 [==============================] - 1s 4ms/step - loss: 0.2602 - acc: 0.9010 - val_loss: 0.2616 - val_acc: 0.9002\n",
      "Epoch 63/500\n",
      "199/199 [==============================] - 1s 4ms/step - loss: 0.2569 - acc: 0.9018 - val_loss: 0.2586 - val_acc: 0.9014\n",
      "Epoch 64/500\n",
      "199/199 [==============================] - 1s 4ms/step - loss: 0.2596 - acc: 0.9005 - val_loss: 0.2923 - val_acc: 0.8916\n",
      "Epoch 65/500\n",
      "199/199 [==============================] - 1s 4ms/step - loss: 0.2718 - acc: 0.8962 - val_loss: 0.2617 - val_acc: 0.9002\n",
      "Epoch 66/500\n",
      "199/199 [==============================] - 1s 4ms/step - loss: 0.2613 - acc: 0.9003 - val_loss: 0.2605 - val_acc: 0.9009\n",
      "Epoch 67/500\n",
      "199/199 [==============================] - 1s 4ms/step - loss: 0.2605 - acc: 0.9003 - val_loss: 0.2593 - val_acc: 0.9010\n",
      "Epoch 68/500\n",
      "199/199 [==============================] - 1s 4ms/step - loss: 0.2649 - acc: 0.8990 - val_loss: 0.2664 - val_acc: 0.8981\n",
      "\n",
      "Epoch 00068: ReduceLROnPlateau reducing learning rate to 0.00010000000838432616.\n",
      "Epoch 69/500\n",
      "199/199 [==============================] - 1s 4ms/step - loss: 0.2628 - acc: 0.8996 - val_loss: 0.2590 - val_acc: 0.9011\n",
      "Epoch 70/500\n",
      "199/199 [==============================] - 1s 4ms/step - loss: 0.2571 - acc: 0.9013 - val_loss: 0.2581 - val_acc: 0.9010\n",
      "Epoch 71/500\n",
      "199/199 [==============================] - 1s 4ms/step - loss: 0.2550 - acc: 0.9020 - val_loss: 0.2562 - val_acc: 0.9019\n",
      "Epoch 72/500\n",
      "199/199 [==============================] - 1s 4ms/step - loss: 0.2556 - acc: 0.9023 - val_loss: 0.2604 - val_acc: 0.9000\n",
      "Epoch 73/500\n",
      "199/199 [==============================] - 1s 4ms/step - loss: 0.2543 - acc: 0.9024 - val_loss: 0.2526 - val_acc: 0.9044\n",
      "Epoch 74/500\n",
      "199/199 [==============================] - 1s 4ms/step - loss: 0.2526 - acc: 0.9033 - val_loss: 0.2505 - val_acc: 0.9055\n",
      "Epoch 75/500\n",
      "199/199 [==============================] - 1s 4ms/step - loss: 0.2493 - acc: 0.9044 - val_loss: 0.2496 - val_acc: 0.9059\n",
      "Epoch 76/500\n",
      "199/199 [==============================] - 1s 4ms/step - loss: 0.2485 - acc: 0.9048 - val_loss: 0.2468 - val_acc: 0.9069\n",
      "Epoch 77/500\n",
      "199/199 [==============================] - 1s 4ms/step - loss: 0.2482 - acc: 0.9050 - val_loss: 0.2462 - val_acc: 0.9054\n",
      "Epoch 78/500\n",
      "199/199 [==============================] - 1s 4ms/step - loss: 0.2425 - acc: 0.9073 - val_loss: 0.2514 - val_acc: 0.9038\n",
      "Epoch 79/500\n",
      "199/199 [==============================] - 1s 4ms/step - loss: 0.2414 - acc: 0.9074 - val_loss: 0.2386 - val_acc: 0.9114\n",
      "Epoch 80/500\n",
      "199/199 [==============================] - 1s 4ms/step - loss: 0.2378 - acc: 0.9099 - val_loss: 0.2416 - val_acc: 0.9079\n",
      "Epoch 81/500\n",
      "199/199 [==============================] - 1s 4ms/step - loss: 0.2357 - acc: 0.9110 - val_loss: 0.2438 - val_acc: 0.9067\n",
      "Epoch 82/500\n",
      "199/199 [==============================] - 1s 4ms/step - loss: 0.2361 - acc: 0.9110 - val_loss: 0.2427 - val_acc: 0.9073\n",
      "Epoch 83/500\n",
      "199/199 [==============================] - 1s 4ms/step - loss: 0.2369 - acc: 0.9105 - val_loss: 0.2422 - val_acc: 0.9081\n",
      "Epoch 84/500\n",
      "199/199 [==============================] - 1s 4ms/step - loss: 0.2331 - acc: 0.9128 - val_loss: 0.2293 - val_acc: 0.9147\n",
      "Epoch 85/500\n",
      "199/199 [==============================] - 1s 4ms/step - loss: 0.2361 - acc: 0.9111 - val_loss: 0.2284 - val_acc: 0.9160\n",
      "Epoch 86/500\n",
      "199/199 [==============================] - 1s 4ms/step - loss: 0.2300 - acc: 0.9143 - val_loss: 0.2270 - val_acc: 0.9160\n",
      "Epoch 87/500\n",
      "199/199 [==============================] - 1s 4ms/step - loss: 0.2254 - acc: 0.9160 - val_loss: 0.2278 - val_acc: 0.9156\n",
      "Epoch 88/500\n",
      "199/199 [==============================] - 1s 4ms/step - loss: 0.2257 - acc: 0.9160 - val_loss: 0.2253 - val_acc: 0.9166\n",
      "Epoch 89/500\n",
      "199/199 [==============================] - 1s 4ms/step - loss: 0.2332 - acc: 0.9121 - val_loss: 0.2465 - val_acc: 0.9069\n",
      "Epoch 90/500\n",
      "199/199 [==============================] - 1s 4ms/step - loss: 0.2256 - acc: 0.9153 - val_loss: 0.2229 - val_acc: 0.9171\n",
      "Epoch 91/500\n",
      "199/199 [==============================] - 1s 4ms/step - loss: 0.2299 - acc: 0.9144 - val_loss: 0.2245 - val_acc: 0.9162\n",
      "Epoch 92/500\n",
      "199/199 [==============================] - 1s 4ms/step - loss: 0.2240 - acc: 0.9164 - val_loss: 0.2374 - val_acc: 0.9109\n",
      "Epoch 93/500\n",
      "199/199 [==============================] - 1s 4ms/step - loss: 0.2304 - acc: 0.9136 - val_loss: 0.2235 - val_acc: 0.9172\n",
      "Epoch 94/500\n",
      "199/199 [==============================] - 1s 4ms/step - loss: 0.2211 - acc: 0.9182 - val_loss: 0.2221 - val_acc: 0.9177\n",
      "Epoch 95/500\n",
      "199/199 [==============================] - 1s 4ms/step - loss: 0.2253 - acc: 0.9160 - val_loss: 0.2372 - val_acc: 0.9114\n",
      "Epoch 96/500\n",
      "199/199 [==============================] - 1s 4ms/step - loss: 0.2245 - acc: 0.9174 - val_loss: 0.2263 - val_acc: 0.9153\n",
      "Epoch 97/500\n",
      "199/199 [==============================] - 1s 4ms/step - loss: 0.2246 - acc: 0.9157 - val_loss: 0.2273 - val_acc: 0.9148\n",
      "Epoch 98/500\n",
      "199/199 [==============================] - 1s 4ms/step - loss: 0.2217 - acc: 0.9177 - val_loss: 0.2229 - val_acc: 0.9184\n",
      "Epoch 99/500\n",
      "199/199 [==============================] - 1s 4ms/step - loss: 0.2240 - acc: 0.9168 - val_loss: 0.2221 - val_acc: 0.9177\n",
      "\n",
      "Epoch 00099: ReduceLROnPlateau reducing learning rate to 6.30957374449059e-05.\n",
      "Epoch 100/500\n",
      "199/199 [==============================] - 1s 4ms/step - loss: 0.2182 - acc: 0.9193 - val_loss: 0.2178 - val_acc: 0.9189\n",
      "Epoch 101/500\n",
      "199/199 [==============================] - 1s 4ms/step - loss: 0.2162 - acc: 0.9194 - val_loss: 0.2182 - val_acc: 0.9185\n",
      "Epoch 102/500\n",
      "199/199 [==============================] - 1s 4ms/step - loss: 0.2220 - acc: 0.9176 - val_loss: 0.2246 - val_acc: 0.9163\n",
      "Epoch 103/500\n",
      "199/199 [==============================] - 1s 4ms/step - loss: 0.2165 - acc: 0.9196 - val_loss: 0.2185 - val_acc: 0.9187\n",
      "Epoch 104/500\n",
      "199/199 [==============================] - 1s 4ms/step - loss: 0.2155 - acc: 0.9202 - val_loss: 0.2265 - val_acc: 0.9158\n",
      "Epoch 105/500\n",
      "199/199 [==============================] - 1s 4ms/step - loss: 0.2160 - acc: 0.9203 - val_loss: 0.2169 - val_acc: 0.9188\n",
      "Epoch 106/500\n",
      "199/199 [==============================] - 1s 3ms/step - loss: 0.2130 - acc: 0.9212 - val_loss: 0.2203 - val_acc: 0.9179\n",
      "Epoch 107/500\n",
      "199/199 [==============================] - 1s 4ms/step - loss: 0.2132 - acc: 0.9206 - val_loss: 0.2178 - val_acc: 0.9185\n",
      "Epoch 108/500\n",
      "199/199 [==============================] - 1s 4ms/step - loss: 0.2149 - acc: 0.9203 - val_loss: 0.2191 - val_acc: 0.9179\n",
      "Epoch 109/500\n",
      "199/199 [==============================] - 1s 4ms/step - loss: 0.2139 - acc: 0.9211 - val_loss: 0.2178 - val_acc: 0.9198\n",
      "Epoch 110/500\n",
      "199/199 [==============================] - 1s 4ms/step - loss: 0.2156 - acc: 0.9204 - val_loss: 0.2174 - val_acc: 0.9189\n",
      "\n",
      "Epoch 00110: ReduceLROnPlateau reducing learning rate to 3.981071838171537e-05.\n",
      "Epoch 111/500\n",
      "199/199 [==============================] - 1s 4ms/step - loss: 0.2134 - acc: 0.9203 - val_loss: 0.2163 - val_acc: 0.9197\n",
      "Epoch 112/500\n",
      "199/199 [==============================] - 1s 4ms/step - loss: 0.2127 - acc: 0.9208 - val_loss: 0.2173 - val_acc: 0.9184\n",
      "Epoch 113/500\n",
      "199/199 [==============================] - 1s 4ms/step - loss: 0.2129 - acc: 0.9210 - val_loss: 0.2179 - val_acc: 0.9184\n",
      "Epoch 114/500\n",
      "199/199 [==============================] - 1s 4ms/step - loss: 0.2142 - acc: 0.9198 - val_loss: 0.2155 - val_acc: 0.9191\n",
      "Epoch 115/500\n",
      "199/199 [==============================] - 1s 4ms/step - loss: 0.2108 - acc: 0.9211 - val_loss: 0.2144 - val_acc: 0.9195\n",
      "Epoch 116/500\n",
      "199/199 [==============================] - 1s 4ms/step - loss: 0.2112 - acc: 0.9209 - val_loss: 0.2283 - val_acc: 0.9150\n",
      "Epoch 117/500\n",
      "199/199 [==============================] - 1s 4ms/step - loss: 0.2121 - acc: 0.9207 - val_loss: 0.2152 - val_acc: 0.9197\n",
      "Epoch 118/500\n",
      "199/199 [==============================] - 1s 4ms/step - loss: 0.2094 - acc: 0.9217 - val_loss: 0.2212 - val_acc: 0.9175\n",
      "Epoch 119/500\n"
     ]
    },
    {
     "name": "stdout",
     "output_type": "stream",
     "text": [
      "199/199 [==============================] - 1s 4ms/step - loss: 0.2105 - acc: 0.9213 - val_loss: 0.2179 - val_acc: 0.9193\n",
      "Epoch 120/500\n",
      "199/199 [==============================] - 1s 4ms/step - loss: 0.2159 - acc: 0.9193 - val_loss: 0.2202 - val_acc: 0.9187\n",
      "\n",
      "Epoch 00120: ReduceLROnPlateau reducing learning rate to 2.5118865283496142e-05.\n",
      "Epoch 121/500\n",
      "199/199 [==============================] - 1s 4ms/step - loss: 0.2094 - acc: 0.9228 - val_loss: 0.2155 - val_acc: 0.9191\n",
      "Epoch 122/500\n",
      "199/199 [==============================] - 1s 4ms/step - loss: 0.2081 - acc: 0.9227 - val_loss: 0.2137 - val_acc: 0.9196\n",
      "Epoch 123/500\n",
      "199/199 [==============================] - 1s 4ms/step - loss: 0.2092 - acc: 0.9220 - val_loss: 0.2197 - val_acc: 0.9172\n",
      "Epoch 124/500\n",
      "199/199 [==============================] - 1s 4ms/step - loss: 0.2091 - acc: 0.9214 - val_loss: 0.2142 - val_acc: 0.9193\n",
      "Epoch 125/500\n",
      "199/199 [==============================] - 1s 4ms/step - loss: 0.2108 - acc: 0.9208 - val_loss: 0.2157 - val_acc: 0.9192\n",
      "Epoch 126/500\n",
      "199/199 [==============================] - 1s 4ms/step - loss: 0.2083 - acc: 0.9220 - val_loss: 0.2130 - val_acc: 0.9200\n",
      "Epoch 127/500\n",
      "199/199 [==============================] - 1s 4ms/step - loss: 0.2072 - acc: 0.9221 - val_loss: 0.2138 - val_acc: 0.9197\n",
      "Epoch 128/500\n",
      "199/199 [==============================] - 1s 4ms/step - loss: 0.2071 - acc: 0.9234 - val_loss: 0.2131 - val_acc: 0.9196\n",
      "Epoch 129/500\n",
      "199/199 [==============================] - 1s 4ms/step - loss: 0.2120 - acc: 0.9197 - val_loss: 0.2145 - val_acc: 0.9192\n",
      "Epoch 130/500\n",
      "199/199 [==============================] - 1s 4ms/step - loss: 0.2078 - acc: 0.9225 - val_loss: 0.2151 - val_acc: 0.9187\n",
      "Epoch 131/500\n",
      "199/199 [==============================] - 1s 4ms/step - loss: 0.2088 - acc: 0.9215 - val_loss: 0.2134 - val_acc: 0.9199\n",
      "\n",
      "Epoch 00131: ReduceLROnPlateau reducing learning rate to 1.5848932274101303e-05.\n",
      "Epoch 132/500\n",
      "199/199 [==============================] - 1s 4ms/step - loss: 0.2054 - acc: 0.9231 - val_loss: 0.2150 - val_acc: 0.9195\n",
      "Epoch 133/500\n",
      "199/199 [==============================] - 1s 4ms/step - loss: 0.2052 - acc: 0.9235 - val_loss: 0.2161 - val_acc: 0.9188\n",
      "Epoch 134/500\n",
      "199/199 [==============================] - 1s 4ms/step - loss: 0.2051 - acc: 0.9238 - val_loss: 0.2143 - val_acc: 0.9195\n",
      "Epoch 135/500\n",
      "199/199 [==============================] - 1s 4ms/step - loss: 0.2072 - acc: 0.9226 - val_loss: 0.2125 - val_acc: 0.9200\n",
      "Epoch 136/500\n",
      "199/199 [==============================] - 1s 4ms/step - loss: 0.2052 - acc: 0.9233 - val_loss: 0.2130 - val_acc: 0.9196\n",
      "Epoch 137/500\n",
      "199/199 [==============================] - 1s 4ms/step - loss: 0.2059 - acc: 0.9234 - val_loss: 0.2127 - val_acc: 0.9200\n",
      "Epoch 138/500\n",
      "199/199 [==============================] - 1s 4ms/step - loss: 0.2065 - acc: 0.9225 - val_loss: 0.2120 - val_acc: 0.9202\n",
      "Epoch 139/500\n",
      "199/199 [==============================] - 1s 4ms/step - loss: 0.2035 - acc: 0.9236 - val_loss: 0.2128 - val_acc: 0.9199\n",
      "Epoch 140/500\n",
      "199/199 [==============================] - 1s 4ms/step - loss: 0.2081 - acc: 0.9218 - val_loss: 0.2136 - val_acc: 0.9193\n",
      "Epoch 141/500\n",
      "199/199 [==============================] - 1s 4ms/step - loss: 0.2038 - acc: 0.9240 - val_loss: 0.2140 - val_acc: 0.9199\n",
      "Epoch 142/500\n",
      "199/199 [==============================] - 1s 4ms/step - loss: 0.2062 - acc: 0.9228 - val_loss: 0.2142 - val_acc: 0.9192\n",
      "Epoch 143/500\n",
      "199/199 [==============================] - 1s 4ms/step - loss: 0.2054 - acc: 0.9227 - val_loss: 0.2121 - val_acc: 0.9201\n",
      "\n",
      "Epoch 00143: ReduceLROnPlateau reducing learning rate to 1.0000000608891671e-05.\n",
      "Epoch 144/500\n",
      "199/199 [==============================] - 1s 4ms/step - loss: 0.2059 - acc: 0.9225 - val_loss: 0.2135 - val_acc: 0.9201\n",
      "Epoch 145/500\n",
      "199/199 [==============================] - 1s 4ms/step - loss: 0.2038 - acc: 0.9234 - val_loss: 0.2127 - val_acc: 0.9194\n",
      "Epoch 146/500\n",
      "199/199 [==============================] - 1s 4ms/step - loss: 0.2046 - acc: 0.9239 - val_loss: 0.2127 - val_acc: 0.9197\n",
      "Epoch 147/500\n",
      "199/199 [==============================] - 1s 4ms/step - loss: 0.2049 - acc: 0.9227 - val_loss: 0.2132 - val_acc: 0.9197\n",
      "Epoch 148/500\n",
      "199/199 [==============================] - 1s 4ms/step - loss: 0.2047 - acc: 0.9229 - val_loss: 0.2116 - val_acc: 0.9203\n",
      "Epoch 149/500\n",
      "199/199 [==============================] - 1s 4ms/step - loss: 0.2039 - acc: 0.9235 - val_loss: 0.2137 - val_acc: 0.9193\n",
      "Epoch 150/500\n",
      "199/199 [==============================] - 1s 4ms/step - loss: 0.2057 - acc: 0.9229 - val_loss: 0.2121 - val_acc: 0.9200\n",
      "Epoch 151/500\n",
      "199/199 [==============================] - 1s 4ms/step - loss: 0.2046 - acc: 0.9227 - val_loss: 0.2132 - val_acc: 0.9199\n",
      "Epoch 152/500\n",
      "199/199 [==============================] - 1s 4ms/step - loss: 0.2060 - acc: 0.9229 - val_loss: 0.2125 - val_acc: 0.9196\n",
      "Epoch 153/500\n",
      "199/199 [==============================] - 1s 4ms/step - loss: 0.2052 - acc: 0.9228 - val_loss: 0.2128 - val_acc: 0.9198\n",
      "\n",
      "Epoch 00153: ReduceLROnPlateau reducing learning rate to 1e-05.\n",
      "Epoch 154/500\n",
      "199/199 [==============================] - 1s 4ms/step - loss: 0.2065 - acc: 0.9222 - val_loss: 0.2129 - val_acc: 0.9199\n",
      "Epoch 155/500\n",
      "199/199 [==============================] - 1s 4ms/step - loss: 0.2042 - acc: 0.9228 - val_loss: 0.2121 - val_acc: 0.9200\n",
      "Epoch 156/500\n",
      "199/199 [==============================] - 1s 4ms/step - loss: 0.2040 - acc: 0.9234 - val_loss: 0.2142 - val_acc: 0.9193\n",
      "Epoch 157/500\n",
      "199/199 [==============================] - 1s 4ms/step - loss: 0.2059 - acc: 0.9221 - val_loss: 0.2125 - val_acc: 0.9203\n",
      "Epoch 158/500\n",
      "199/199 [==============================] - 1s 4ms/step - loss: 0.2050 - acc: 0.9238 - val_loss: 0.2128 - val_acc: 0.9204\n",
      "Epoch 159/500\n",
      "199/199 [==============================] - 1s 4ms/step - loss: 0.2039 - acc: 0.9230 - val_loss: 0.2141 - val_acc: 0.9194\n",
      "Epoch 160/500\n",
      "199/199 [==============================] - 1s 4ms/step - loss: 0.2060 - acc: 0.9223 - val_loss: 0.2122 - val_acc: 0.9200\n",
      "Epoch 161/500\n",
      "199/199 [==============================] - 1s 4ms/step - loss: 0.2020 - acc: 0.9246 - val_loss: 0.2123 - val_acc: 0.9200\n",
      "Epoch 162/500\n",
      "199/199 [==============================] - 1s 4ms/step - loss: 0.2041 - acc: 0.9235 - val_loss: 0.2117 - val_acc: 0.9201\n",
      "Epoch 163/500\n",
      "199/199 [==============================] - 1s 4ms/step - loss: 0.2054 - acc: 0.9224 - val_loss: 0.2117 - val_acc: 0.9202\n",
      "Epoch 164/500\n",
      "199/199 [==============================] - 1s 4ms/step - loss: 0.2023 - acc: 0.9242 - val_loss: 0.2118 - val_acc: 0.9203\n",
      "Epoch 165/500\n",
      "199/199 [==============================] - 1s 4ms/step - loss: 0.2057 - acc: 0.9224 - val_loss: 0.2119 - val_acc: 0.9197\n",
      "Epoch 166/500\n",
      "199/199 [==============================] - 1s 4ms/step - loss: 0.2041 - acc: 0.9231 - val_loss: 0.2122 - val_acc: 0.9201\n",
      "Epoch 167/500\n",
      "199/199 [==============================] - 1s 4ms/step - loss: 0.2052 - acc: 0.9228 - val_loss: 0.2112 - val_acc: 0.9201\n",
      "Epoch 168/500\n",
      "199/199 [==============================] - 1s 4ms/step - loss: 0.2037 - acc: 0.9235 - val_loss: 0.2113 - val_acc: 0.9203\n",
      "Epoch 169/500\n",
      "199/199 [==============================] - 1s 4ms/step - loss: 0.2027 - acc: 0.9240 - val_loss: 0.2118 - val_acc: 0.9202\n",
      "Epoch 170/500\n",
      "199/199 [==============================] - 1s 4ms/step - loss: 0.2056 - acc: 0.9229 - val_loss: 0.2114 - val_acc: 0.9201\n",
      "Epoch 171/500\n",
      "199/199 [==============================] - 1s 4ms/step - loss: 0.2057 - acc: 0.9226 - val_loss: 0.2120 - val_acc: 0.9206\n",
      "Epoch 172/500\n",
      "199/199 [==============================] - 1s 4ms/step - loss: 0.2032 - acc: 0.9234 - val_loss: 0.2133 - val_acc: 0.9197\n",
      "Epoch 173/500\n",
      "199/199 [==============================] - 1s 4ms/step - loss: 0.2055 - acc: 0.9227 - val_loss: 0.2119 - val_acc: 0.9201\n",
      "Epoch 174/500\n",
      "199/199 [==============================] - 1s 4ms/step - loss: 0.2025 - acc: 0.9236 - val_loss: 0.2155 - val_acc: 0.9197\n",
      "Epoch 175/500\n",
      "199/199 [==============================] - 1s 4ms/step - loss: 0.2024 - acc: 0.9240 - val_loss: 0.2131 - val_acc: 0.9193\n",
      "Epoch 176/500\n",
      "199/199 [==============================] - 1s 4ms/step - loss: 0.2057 - acc: 0.9230 - val_loss: 0.2143 - val_acc: 0.9190\n",
      "Epoch 177/500\n"
     ]
    },
    {
     "name": "stdout",
     "output_type": "stream",
     "text": [
      "199/199 [==============================] - 1s 4ms/step - loss: 0.2044 - acc: 0.9234 - val_loss: 0.2117 - val_acc: 0.9200\n",
      "Epoch 178/500\n",
      "199/199 [==============================] - 1s 4ms/step - loss: 0.2072 - acc: 0.9218 - val_loss: 0.2129 - val_acc: 0.9194\n",
      "Epoch 179/500\n",
      "199/199 [==============================] - 1s 4ms/step - loss: 0.2037 - acc: 0.9234 - val_loss: 0.2136 - val_acc: 0.9194\n",
      "Epoch 180/500\n",
      "199/199 [==============================] - 1s 4ms/step - loss: 0.2043 - acc: 0.9226 - val_loss: 0.2129 - val_acc: 0.9193\n",
      "Epoch 181/500\n",
      "199/199 [==============================] - 1s 4ms/step - loss: 0.2025 - acc: 0.9234 - val_loss: 0.2113 - val_acc: 0.9200\n",
      "Epoch 182/500\n",
      "199/199 [==============================] - 1s 4ms/step - loss: 0.2035 - acc: 0.9230 - val_loss: 0.2115 - val_acc: 0.9200\n",
      "Epoch 183/500\n",
      "199/199 [==============================] - 1s 4ms/step - loss: 0.2040 - acc: 0.9233 - val_loss: 0.2115 - val_acc: 0.9200\n",
      "Epoch 184/500\n",
      "199/199 [==============================] - 1s 4ms/step - loss: 0.2027 - acc: 0.9235 - val_loss: 0.2117 - val_acc: 0.9199\n",
      "Epoch 185/500\n",
      "199/199 [==============================] - 1s 4ms/step - loss: 0.2042 - acc: 0.9231 - val_loss: 0.2128 - val_acc: 0.9193\n",
      "Epoch 186/500\n",
      "199/199 [==============================] - 1s 4ms/step - loss: 0.2042 - acc: 0.9233 - val_loss: 0.2110 - val_acc: 0.9202\n",
      "Epoch 187/500\n",
      "199/199 [==============================] - 1s 4ms/step - loss: 0.2011 - acc: 0.9242 - val_loss: 0.2109 - val_acc: 0.9204\n",
      "Epoch 188/500\n",
      "199/199 [==============================] - 1s 4ms/step - loss: 0.2049 - acc: 0.9230 - val_loss: 0.2112 - val_acc: 0.9204\n",
      "Epoch 189/500\n",
      "199/199 [==============================] - 1s 4ms/step - loss: 0.2045 - acc: 0.9227 - val_loss: 0.2112 - val_acc: 0.9202\n",
      "Epoch 190/500\n",
      "199/199 [==============================] - 1s 4ms/step - loss: 0.2025 - acc: 0.9238 - val_loss: 0.2113 - val_acc: 0.9204\n",
      "Epoch 191/500\n",
      "199/199 [==============================] - 1s 4ms/step - loss: 0.2042 - acc: 0.9238 - val_loss: 0.2107 - val_acc: 0.9203\n",
      "Epoch 192/500\n",
      "199/199 [==============================] - 1s 4ms/step - loss: 0.2039 - acc: 0.9234 - val_loss: 0.2119 - val_acc: 0.9198\n",
      "Epoch 193/500\n",
      "199/199 [==============================] - 1s 4ms/step - loss: 0.2037 - acc: 0.9232 - val_loss: 0.2116 - val_acc: 0.9199\n",
      "Epoch 194/500\n",
      "199/199 [==============================] - 1s 4ms/step - loss: 0.2040 - acc: 0.9235 - val_loss: 0.2114 - val_acc: 0.9199\n",
      "Epoch 195/500\n",
      "199/199 [==============================] - 1s 4ms/step - loss: 0.2036 - acc: 0.9230 - val_loss: 0.2120 - val_acc: 0.9206\n",
      "Epoch 196/500\n",
      "199/199 [==============================] - 1s 4ms/step - loss: 0.2016 - acc: 0.9244 - val_loss: 0.2127 - val_acc: 0.9201\n",
      "Epoch 197/500\n",
      "199/199 [==============================] - 1s 4ms/step - loss: 0.2038 - acc: 0.9236 - val_loss: 0.2108 - val_acc: 0.9202\n",
      "Epoch 198/500\n",
      "199/199 [==============================] - 1s 4ms/step - loss: 0.2028 - acc: 0.9234 - val_loss: 0.2106 - val_acc: 0.9203\n",
      "Epoch 199/500\n",
      "199/199 [==============================] - 1s 4ms/step - loss: 0.2034 - acc: 0.9235 - val_loss: 0.2105 - val_acc: 0.9202\n",
      "Epoch 200/500\n",
      "199/199 [==============================] - 1s 4ms/step - loss: 0.2033 - acc: 0.9231 - val_loss: 0.2115 - val_acc: 0.9203\n",
      "Epoch 201/500\n",
      "199/199 [==============================] - 1s 4ms/step - loss: 0.2031 - acc: 0.9232 - val_loss: 0.2106 - val_acc: 0.9203\n",
      "Epoch 202/500\n",
      "199/199 [==============================] - 1s 4ms/step - loss: 0.2036 - acc: 0.9227 - val_loss: 0.2106 - val_acc: 0.9201\n",
      "Epoch 203/500\n",
      "199/199 [==============================] - 1s 4ms/step - loss: 0.2024 - acc: 0.9241 - val_loss: 0.2108 - val_acc: 0.9203\n",
      "Epoch 204/500\n",
      "199/199 [==============================] - 1s 4ms/step - loss: 0.2031 - acc: 0.9236 - val_loss: 0.2115 - val_acc: 0.9204\n",
      "Epoch 205/500\n",
      "199/199 [==============================] - 1s 4ms/step - loss: 0.2025 - acc: 0.9229 - val_loss: 0.2130 - val_acc: 0.9196\n",
      "Epoch 206/500\n",
      "199/199 [==============================] - 1s 4ms/step - loss: 0.2031 - acc: 0.9233 - val_loss: 0.2104 - val_acc: 0.9203\n",
      "Epoch 207/500\n",
      "199/199 [==============================] - 1s 4ms/step - loss: 0.2023 - acc: 0.9241 - val_loss: 0.2131 - val_acc: 0.9191\n",
      "Epoch 208/500\n",
      "199/199 [==============================] - 1s 4ms/step - loss: 0.2034 - acc: 0.9234 - val_loss: 0.2110 - val_acc: 0.9201\n",
      "Epoch 209/500\n",
      "199/199 [==============================] - 1s 4ms/step - loss: 0.2019 - acc: 0.9234 - val_loss: 0.2113 - val_acc: 0.9199\n",
      "Epoch 210/500\n",
      "199/199 [==============================] - 1s 4ms/step - loss: 0.2039 - acc: 0.9227 - val_loss: 0.2107 - val_acc: 0.9201\n",
      "Epoch 211/500\n",
      "199/199 [==============================] - 1s 3ms/step - loss: 0.2036 - acc: 0.9233 - val_loss: 0.2130 - val_acc: 0.9199\n",
      "Epoch 212/500\n",
      "199/199 [==============================] - 1s 3ms/step - loss: 0.2038 - acc: 0.9240 - val_loss: 0.2159 - val_acc: 0.9186\n",
      "Epoch 213/500\n",
      "199/199 [==============================] - 1s 3ms/step - loss: 0.2007 - acc: 0.9243 - val_loss: 0.2125 - val_acc: 0.9198\n",
      "Epoch 214/500\n",
      "199/199 [==============================] - 1s 4ms/step - loss: 0.2032 - acc: 0.9237 - val_loss: 0.2110 - val_acc: 0.9205\n",
      "Epoch 215/500\n",
      "199/199 [==============================] - 1s 4ms/step - loss: 0.2028 - acc: 0.9240 - val_loss: 0.2113 - val_acc: 0.9203\n",
      "Epoch 216/500\n",
      "199/199 [==============================] - 1s 4ms/step - loss: 0.2026 - acc: 0.9236 - val_loss: 0.2145 - val_acc: 0.9196\n",
      "Epoch 217/500\n",
      "199/199 [==============================] - 1s 4ms/step - loss: 0.2016 - acc: 0.9238 - val_loss: 0.2111 - val_acc: 0.9202\n",
      "Epoch 218/500\n",
      "199/199 [==============================] - 1s 4ms/step - loss: 0.2014 - acc: 0.9247 - val_loss: 0.2113 - val_acc: 0.9201\n",
      "Epoch 219/500\n",
      "199/199 [==============================] - 1s 4ms/step - loss: 0.2046 - acc: 0.9228 - val_loss: 0.2105 - val_acc: 0.9205\n",
      "Epoch 220/500\n",
      "199/199 [==============================] - 1s 4ms/step - loss: 0.2011 - acc: 0.9241 - val_loss: 0.2105 - val_acc: 0.9200\n",
      "Epoch 221/500\n",
      "199/199 [==============================] - 1s 4ms/step - loss: 0.2038 - acc: 0.9232 - val_loss: 0.2112 - val_acc: 0.9200\n",
      "Epoch 222/500\n",
      "199/199 [==============================] - 1s 4ms/step - loss: 0.2030 - acc: 0.9236 - val_loss: 0.2109 - val_acc: 0.9201\n",
      "Epoch 223/500\n",
      "199/199 [==============================] - 1s 4ms/step - loss: 0.2037 - acc: 0.9230 - val_loss: 0.2108 - val_acc: 0.9199\n",
      "Epoch 224/500\n",
      "199/199 [==============================] - 1s 4ms/step - loss: 0.2027 - acc: 0.9238 - val_loss: 0.2104 - val_acc: 0.9207\n",
      "Epoch 225/500\n",
      "199/199 [==============================] - 1s 4ms/step - loss: 0.2007 - acc: 0.9239 - val_loss: 0.2106 - val_acc: 0.9203\n",
      "Epoch 226/500\n",
      "199/199 [==============================] - 1s 4ms/step - loss: 0.2029 - acc: 0.9228 - val_loss: 0.2113 - val_acc: 0.9199\n",
      "Epoch 227/500\n",
      "199/199 [==============================] - 1s 4ms/step - loss: 0.2030 - acc: 0.9237 - val_loss: 0.2107 - val_acc: 0.9203\n",
      "Epoch 228/500\n",
      "199/199 [==============================] - 1s 4ms/step - loss: 0.2005 - acc: 0.9249 - val_loss: 0.2119 - val_acc: 0.9195\n",
      "Epoch 229/500\n",
      "199/199 [==============================] - 1s 4ms/step - loss: 0.2010 - acc: 0.9243 - val_loss: 0.2117 - val_acc: 0.9198\n",
      "Epoch 230/500\n",
      "199/199 [==============================] - 1s 4ms/step - loss: 0.2026 - acc: 0.9238 - val_loss: 0.2110 - val_acc: 0.9201\n",
      "Epoch 231/500\n",
      "199/199 [==============================] - 1s 4ms/step - loss: 0.2025 - acc: 0.9237 - val_loss: 0.2106 - val_acc: 0.9201\n",
      "Epoch 00231: early stopping\n"
     ]
    }
   ],
   "source": [
    "# now train the model\n",
    "\n",
    "reduce_lr = tf.keras.callbacks.ReduceLROnPlateau(monitor='val_loss', \n",
    "                              factor=0.1**(1/5), patience=5, min_lr=1e-5,\n",
    "                                                verbose=1)\n",
    "\n",
    "early_stop = tf.keras.callbacks.EarlyStopping(monitor='val_loss', patience=25, \n",
    "                                              verbose=1)\n",
    "\n",
    "callbacks = [reduce_lr,early_stop]\n",
    "\n",
    "hist1 = pfn.fit(X_train, Y_train,\n",
    "        epochs=num_epoch,\n",
    "        batch_size=batch_size,\n",
    "        validation_data=(X_val, Y_val),\n",
    "        class_weight=class_weight,\n",
    "        callbacks=callbacks,\n",
    "        verbose=1)"
   ]
  },
  {
   "cell_type": "markdown",
   "id": "0fac1861",
   "metadata": {},
   "source": [
    "# Analyze the Model"
   ]
  },
  {
   "cell_type": "code",
   "execution_count": 22,
   "id": "531ee50e",
   "metadata": {},
   "outputs": [
    {
     "name": "stdout",
     "output_type": "stream",
     "text": [
      "\n",
      "PFN AUC: 0.9708335859502446\n",
      "\n"
     ]
    }
   ],
   "source": [
    "# get predictions on test data\n",
    "preds = pfn.predict(X_test, batch_size=10000)\n",
    "\n",
    "# get ROC curve\n",
    "pfn_fp, pfn_tp, threshs = roc_curve(Y_test[:,1], preds[:,1])\n",
    "\n",
    "# get area under the ROC curve\n",
    "auc = roc_auc_score(Y_test[:,1], preds[:,1])\n",
    "print()\n",
    "print('PFN AUC:', auc)\n",
    "print()"
   ]
  },
  {
   "cell_type": "code",
   "execution_count": 24,
   "id": "9190f668",
   "metadata": {},
   "outputs": [
    {
     "data": {
      "image/png": "[encoded data removed]",
      "text/plain": [
       "<Figure size 432x288 with 1 Axes>"
      ]
     },
     "metadata": {
      "needs_background": "light"
     },
     "output_type": "display_data"
    }
   ],
   "source": [
    "plt.plot(hist1.history[\"loss\"],label=\"loss\")\n",
    "plt.plot(hist1.history[\"val_loss\"],label=\"validation loss\")\n",
    "plt.legend()\n",
    "plt.show()"
   ]
  },
  {
   "cell_type": "code",
   "execution_count": 25,
   "id": "bcf5a3ff",
   "metadata": {},
   "outputs": [
    {
     "data": {
      "image/png": "[encoded data removed]",
      "text/plain": [
       "<Figure size 432x288 with 1 Axes>"
      ]
     },
     "metadata": {
      "needs_background": "light"
     },
     "output_type": "display_data"
    }
   ],
   "source": [
    "plt.plot(hist1.history[\"acc\"],label=\"acc\")\n",
    "plt.plot(hist1.history[\"val_acc\"],label=\"validation acc\")\n",
    "plt.legend()\n",
    "plt.show()"
   ]
  },
  {
   "cell_type": "code",
   "execution_count": 26,
   "id": "0a1abd7d",
   "metadata": {},
   "outputs": [
    {
     "data": {
      "image/png": "[encoded data removed]",
      "text/plain": [
       "<Figure size 288x288 with 1 Axes>"
      ]
     },
     "metadata": {
      "needs_background": "light"
     },
     "output_type": "display_data"
    }
   ],
   "source": [
    "# get multiplicity and mass for comparison\n",
    "preds = pfn.predict(X_test, batch_size=1000)\n",
    "pfn_fp, pfn_tp, threshs = roc_curve(Y_test[:,1], preds[:,1])\n",
    "\n",
    "# some nicer plot settings \n",
    "plt.rcParams['figure.figsize'] = (4,4)\n",
    "plt.rcParams['font.family'] = 'serif'\n",
    "plt.rcParams['figure.autolayout'] = True\n",
    "\n",
    "# plot the ROC curves\n",
    "plt.plot(pfn_tp, 1-pfn_fp, '-', color='black', label='ROC')\n",
    "\n",
    "plt.legend(loc='lower left', frameon=False)\n",
    "\n",
    "plt.show()"
   ]
  },
  {
   "cell_type": "code",
   "execution_count": 27,
   "id": "c7230967",
   "metadata": {},
   "outputs": [
    {
     "name": "stderr",
     "output_type": "stream",
     "text": [
      "/tmp/ipykernel_24484/1246046417.py:11: RuntimeWarning: divide by zero encountered in true_divide\n",
      "  plt.plot(pfn_tp, 1/pfn_fp, '-', color='black', label='ROC')\n"
     ]
    },
    {
     "data": {
      "image/png": "[encoded data removed]",
      "text/plain": [
       "<Figure size 288x288 with 1 Axes>"
      ]
     },
     "metadata": {
      "needs_background": "light"
     },
     "output_type": "display_data"
    }
   ],
   "source": [
    "# get multiplicity and mass for comparison\n",
    "preds = pfn.predict(X_test, batch_size=1000)\n",
    "pfn_fp, pfn_tp, threshs = roc_curve(Y_test[:,1], preds[:,1])\n",
    "\n",
    "# some nicer plot settings \n",
    "plt.rcParams['figure.figsize'] = (4,4)\n",
    "plt.rcParams['font.family'] = 'serif'\n",
    "plt.rcParams['figure.autolayout'] = True\n",
    "\n",
    "# plot the ROC curves\n",
    "plt.plot(pfn_tp, 1/pfn_fp, '-', color='black', label='ROC')\n",
    "\n",
    "plt.yscale('log')\n",
    "\n",
    "plt.legend(loc='lower left', frameon=False)\n",
    "\n",
    "plt.show()"
   ]
  },
  {
   "cell_type": "code",
   "execution_count": null,
   "id": "6492bb17",
   "metadata": {},
   "outputs": [],
   "source": []
  }
 ],
 "metadata": {
  "kernelspec": {
   "display_name": "Python 3 (ipykernel)",
   "language": "python",
   "name": "python3"
  },
  "language_info": {
   "codemirror_mode": {
    "name": "ipython",
    "version": 3
   },
   "file_extension": ".py",
   "mimetype": "text/x-python",
   "name": "python",
   "nbconvert_exporter": "python",
   "pygments_lexer": "ipython3",
   "version": "3.8.12"
  }
 },
 "nbformat": 4,
 "nbformat_minor": 5
}
