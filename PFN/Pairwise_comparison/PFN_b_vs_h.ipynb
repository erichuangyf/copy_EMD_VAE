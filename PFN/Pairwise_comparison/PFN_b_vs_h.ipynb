{
 "cells": [
  {
   "cell_type": "markdown",
   "id": "4ef50705",
   "metadata": {},
   "source": [
    "# Import and Initialization"
   ]
  },
  {
   "cell_type": "code",
   "execution_count": 1,
   "id": "05a505b0",
   "metadata": {},
   "outputs": [
    {
     "name": "stderr",
     "output_type": "stream",
     "text": [
      "2022-04-06 15:54:11.008244: I tensorflow/stream_executor/platform/default/dso_loader.cc:49] Successfully opened dynamic library libcudart.so.10.1\n"
     ]
    }
   ],
   "source": [
    "%load_ext autoreload\n",
    "%autoreload 2\n",
    "\n",
    "import tensorflow as tf\n",
    "\n",
    "# standard library imports\n",
    "from __future__ import absolute_import, division, print_function\n",
    "\n",
    "# standard numerical library imports\n",
    "import numpy as np\n",
    "\n",
    "# energyflow imports\n",
    "import energyflow as ef\n",
    "from energyflow.archs import PFN\n",
    "from energyflow.datasets import qg_jets\n",
    "from energyflow.utils import data_split, remap_pids, to_categorical\n",
    "\n",
    "from sklearn.metrics import roc_auc_score, roc_curve\n",
    "import matplotlib.pyplot as plt\n",
    "\n",
    "\n",
    "import pandas\n",
    "import h5py\n",
    "import pickle\n",
    "\n",
    "import datetime"
   ]
  },
  {
   "cell_type": "code",
   "execution_count": 2,
   "id": "45667e4d",
   "metadata": {},
   "outputs": [],
   "source": [
    "# configs\n",
    "train, val, test = 0.6, 0.3, 0.1\n",
    "Phi_sizes, F_sizes = (256, 256, 256), (256, 256, 256)\n",
    "num_epoch = 500\n",
    "batch_size = 1000"
   ]
  },
  {
   "cell_type": "markdown",
   "id": "8c5aa5d4",
   "metadata": {},
   "source": [
    "# Load and Process Data"
   ]
  },
  {
   "cell_type": "code",
   "execution_count": 3,
   "id": "25276321",
   "metadata": {},
   "outputs": [],
   "source": [
    "signal_1_df = \"/global/home/users/yifengh3/VAE/new_data/B_signal.h5\"\n",
    "signal_2_df = \"/global/home/users/yifengh3/VAE/new_data/h_signal.h5\"\n",
    "signal_1 = pandas.read_hdf(signal_1_df)\n",
    "signal_2 = pandas.read_hdf(signal_2_df)"
   ]
  },
  {
   "cell_type": "code",
   "execution_count": 4,
   "id": "646d74c9",
   "metadata": {},
   "outputs": [
    {
     "name": "stdout",
     "output_type": "stream",
     "text": [
      "signal_1 data shape: (2644, 200)\n",
      "signal_2 data shape: (34973, 200)\n"
     ]
    }
   ],
   "source": [
    "print(\"signal_1 data shape: {}\".format(signal_1.shape))\n",
    "print(\"signal_2 data shape: {}\".format(signal_2.shape))"
   ]
  },
  {
   "cell_type": "code",
   "execution_count": 5,
   "id": "e582ac98",
   "metadata": {},
   "outputs": [],
   "source": [
    "# assign labels to signal and background data, 0 for sig1,  1 for sig2\n",
    "# (updated since we might get multiple signals) \n",
    "labeled_sig1 = np.append(signal_1,np.zeros((signal_1.shape[0],1)),axis=1)\n",
    "labeled_sig2 = np.append(signal_2,np.ones((signal_2.shape[0],1)),axis=1)"
   ]
  },
  {
   "cell_type": "code",
   "execution_count": 6,
   "id": "8540cc44",
   "metadata": {},
   "outputs": [],
   "source": [
    "# mix two data array into one signal array\n",
    "data = np.concatenate((labeled_sig1,labeled_sig2))\n",
    "\n",
    "#and shuffle the data\n",
    "np.random.shuffle(data)"
   ]
  },
  {
   "cell_type": "code",
   "execution_count": 7,
   "id": "34eaf99c",
   "metadata": {},
   "outputs": [],
   "source": [
    "X = data[:,:-1]\n",
    "y = data[:,-1]"
   ]
  },
  {
   "cell_type": "code",
   "execution_count": 8,
   "id": "d078bbf6",
   "metadata": {},
   "outputs": [
    {
     "name": "stdout",
     "output_type": "stream",
     "text": [
      "shape of X: (37617, 200)\n",
      "shape of Y: (37617,)\n"
     ]
    }
   ],
   "source": [
    "print(\"shape of X: {}\".format(X.shape))\n",
    "print(\"shape of Y: {}\".format(y.shape))"
   ]
  },
  {
   "cell_type": "code",
   "execution_count": 9,
   "id": "ea34616a",
   "metadata": {},
   "outputs": [
    {
     "name": "stdout",
     "output_type": "stream",
     "text": [
      "Weight for background: 7.11\n",
      "Weight for signal: 0.54\n"
     ]
    }
   ],
   "source": [
    "# Scaling by total/2 helps keep the loss to a similar magnitude.\n",
    "# The sum of the weights of all examples stays the same.\n",
    "total = labeled_sig1.shape[0] + labeled_sig2.shape[0]\n",
    "weight_for_0 = (1 / labeled_sig1.shape[0]) * (total / 2.0)\n",
    "weight_for_1 = (1 / labeled_sig2.shape[0]) * (total / 2.0)\n",
    "\n",
    "\n",
    "class_weight = {0: weight_for_0, 1: weight_for_1}\n",
    "\n",
    "print('Weight for background: {:.2f}'.format(weight_for_0))\n",
    "print('Weight for signal: {:.2f}'.format(weight_for_1))"
   ]
  },
  {
   "cell_type": "code",
   "execution_count": 10,
   "id": "c3e0e641",
   "metadata": {},
   "outputs": [],
   "source": [
    "# To categorical as stipulated in example\n",
    "Y = to_categorical(y, num_classes=2)\n",
    "\n",
    "# Reshape X to shape (number of jets, 50, 4)\n",
    "X = X.reshape(-1,50,4)\n",
    "\n",
    "# ignore the pid info\n",
    "X = X[:,:,:3]"
   ]
  },
  {
   "cell_type": "code",
   "execution_count": 11,
   "id": "3f3e9fdd",
   "metadata": {},
   "outputs": [
    {
     "name": "stdout",
     "output_type": "stream",
     "text": [
      "(37617, 50, 3)\n"
     ]
    }
   ],
   "source": [
    "print(X.shape)"
   ]
  },
  {
   "cell_type": "code",
   "execution_count": 12,
   "id": "6a6fe36d",
   "metadata": {},
   "outputs": [
    {
     "name": "stderr",
     "output_type": "stream",
     "text": [
      "100%|█████████████████████████████████████████████████████████████████████████████████████████████████████████| 37617/37617 [00:02<00:00, 18151.17it/s]\n"
     ]
    }
   ],
   "source": [
    "# normalizing jets\n",
    "# copied from example\n",
    "import tqdm\n",
    "for x in tqdm.tqdm(X):\n",
    "    # now add the status bar :)\n",
    "    mask = x[:,0] > 0\n",
    "    yphi_avg = np.average(x[mask,1:3], weights=x[mask,0], axis=0)\n",
    "    x[mask,1:3] -= yphi_avg\n",
    "    x[mask,0] /= x[:,0].sum()"
   ]
  },
  {
   "cell_type": "code",
   "execution_count": 13,
   "id": "c3e18f2d",
   "metadata": {},
   "outputs": [
    {
     "name": "stdout",
     "output_type": "stream",
     "text": [
      "Finished preprocessing\n",
      "shape of X: (37617, 50, 3)\n",
      "shape of Y: (37617,)\n"
     ]
    }
   ],
   "source": [
    "print('Finished preprocessing')\n",
    "print(\"shape of X: {}\".format(X.shape))\n",
    "print(\"shape of Y: {}\".format(y.shape))"
   ]
  },
  {
   "cell_type": "code",
   "execution_count": 14,
   "id": "939de622",
   "metadata": {},
   "outputs": [],
   "source": [
    "# do train/val/test split \n",
    "(X_train, X_val, X_test,\n",
    " Y_train, Y_val, Y_test) = data_split(X, Y, val=val, test=test)"
   ]
  },
  {
   "cell_type": "markdown",
   "id": "bc6339cd",
   "metadata": {},
   "source": [
    "# Build and Train the Model"
   ]
  },
  {
   "cell_type": "code",
   "execution_count": 15,
   "id": "4876d9dc",
   "metadata": {},
   "outputs": [
    {
     "name": "stderr",
     "output_type": "stream",
     "text": [
      "2022-04-06 15:54:15.584726: I tensorflow/compiler/jit/xla_cpu_device.cc:41] Not creating XLA devices, tf_xla_enable_xla_devices not set\n"
     ]
    },
    {
     "name": "stdout",
     "output_type": "stream",
     "text": [
      "Model summary:\n",
      "Model: \"model\"\n",
      "__________________________________________________________________________________________________\n",
      "Layer (type)                    Output Shape         Param #     Connected to                     \n",
      "==================================================================================================\n",
      "input (InputLayer)              [(None, None, 3)]    0                                            \n",
      "__________________________________________________________________________________________________\n",
      "tdist_0 (TimeDistributed)       (None, None, 256)    1024        input[0][0]                      \n",
      "__________________________________________________________________________________________________\n",
      "activation (Activation)         (None, None, 256)    0           tdist_0[0][0]                    \n",
      "__________________________________________________________________________________________________\n",
      "tdist_1 (TimeDistributed)       (None, None, 256)    65792       activation[0][0]                 \n",
      "__________________________________________________________________________________________________\n",
      "activation_1 (Activation)       (None, None, 256)    0           tdist_1[0][0]                    \n",
      "__________________________________________________________________________________________________\n",
      "tdist_2 (TimeDistributed)       (None, None, 256)    65792       activation_1[0][0]               \n",
      "__________________________________________________________________________________________________\n",
      "mask (Lambda)                   (None, None)         0           input[0][0]                      \n",
      "__________________________________________________________________________________________________\n",
      "activation_2 (Activation)       (None, None, 256)    0           tdist_2[0][0]                    \n",
      "__________________________________________________________________________________________________\n",
      "sum (Dot)                       (None, 256)          0           mask[0][0]                       \n",
      "                                                                 activation_2[0][0]               \n",
      "__________________________________________________________________________________________________\n",
      "dense_0 (Dense)                 (None, 256)          65792       sum[0][0]                        \n",
      "__________________________________________________________________________________________________\n",
      "activation_3 (Activation)       (None, 256)          0           dense_0[0][0]                    \n",
      "__________________________________________________________________________________________________\n",
      "dense_1 (Dense)                 (None, 256)          65792       activation_3[0][0]               \n",
      "__________________________________________________________________________________________________\n",
      "activation_4 (Activation)       (None, 256)          0           dense_1[0][0]                    \n",
      "__________________________________________________________________________________________________\n",
      "dense_2 (Dense)                 (None, 256)          65792       activation_4[0][0]               \n",
      "__________________________________________________________________________________________________\n",
      "activation_5 (Activation)       (None, 256)          0           dense_2[0][0]                    \n",
      "__________________________________________________________________________________________________\n",
      "output (Dense)                  (None, 2)            514         activation_5[0][0]               \n",
      "__________________________________________________________________________________________________\n",
      "activation_6 (Activation)       (None, 2)            0           output[0][0]                     \n",
      "==================================================================================================\n",
      "Total params: 330,498\n",
      "Trainable params: 330,498\n",
      "Non-trainable params: 0\n",
      "__________________________________________________________________________________________________\n"
     ]
    },
    {
     "name": "stderr",
     "output_type": "stream",
     "text": [
      "2022-04-06 15:54:15.585568: I tensorflow/stream_executor/platform/default/dso_loader.cc:49] Successfully opened dynamic library libcuda.so.1\n",
      "2022-04-06 15:54:15.616377: I tensorflow/core/common_runtime/gpu/gpu_device.cc:1720] Found device 0 with properties: \n",
      "pciBusID: 0000:41:00.0 name: Quadro RTX 6000 computeCapability: 7.5\n",
      "coreClock: 1.77GHz coreCount: 72 deviceMemorySize: 23.65GiB deviceMemoryBandwidth: 625.94GiB/s\n",
      "2022-04-06 15:54:15.616397: I tensorflow/stream_executor/platform/default/dso_loader.cc:49] Successfully opened dynamic library libcudart.so.10.1\n",
      "2022-04-06 15:54:15.617670: I tensorflow/stream_executor/platform/default/dso_loader.cc:49] Successfully opened dynamic library libcublas.so.10\n",
      "2022-04-06 15:54:15.617698: I tensorflow/stream_executor/platform/default/dso_loader.cc:49] Successfully opened dynamic library libcublasLt.so.10\n",
      "2022-04-06 15:54:15.619150: I tensorflow/stream_executor/platform/default/dso_loader.cc:49] Successfully opened dynamic library libcufft.so.10\n",
      "2022-04-06 15:54:15.619367: I tensorflow/stream_executor/platform/default/dso_loader.cc:49] Successfully opened dynamic library libcurand.so.10\n",
      "2022-04-06 15:54:15.620628: I tensorflow/stream_executor/platform/default/dso_loader.cc:49] Successfully opened dynamic library libcusolver.so.10\n",
      "2022-04-06 15:54:15.621242: I tensorflow/stream_executor/platform/default/dso_loader.cc:49] Successfully opened dynamic library libcusparse.so.10\n",
      "2022-04-06 15:54:15.624156: I tensorflow/stream_executor/platform/default/dso_loader.cc:49] Successfully opened dynamic library libcudnn.so.7\n",
      "2022-04-06 15:54:15.625728: I tensorflow/core/common_runtime/gpu/gpu_device.cc:1862] Adding visible gpu devices: 0\n",
      "2022-04-06 15:54:15.626262: I tensorflow/core/platform/cpu_feature_guard.cc:142] This TensorFlow binary is optimized with oneAPI Deep Neural Network Library (oneDNN) to use the following CPU instructions in performance-critical operations:  SSE4.1 SSE4.2 AVX AVX2 FMA\n",
      "To enable them in other operations, rebuild TensorFlow with the appropriate compiler flags.\n",
      "2022-04-06 15:54:15.628762: I tensorflow/core/common_runtime/gpu/gpu_device.cc:1720] Found device 0 with properties: \n",
      "pciBusID: 0000:41:00.0 name: Quadro RTX 6000 computeCapability: 7.5\n",
      "coreClock: 1.77GHz coreCount: 72 deviceMemorySize: 23.65GiB deviceMemoryBandwidth: 625.94GiB/s\n",
      "2022-04-06 15:54:15.628780: I tensorflow/stream_executor/platform/default/dso_loader.cc:49] Successfully opened dynamic library libcudart.so.10.1\n",
      "2022-04-06 15:54:15.628798: I tensorflow/stream_executor/platform/default/dso_loader.cc:49] Successfully opened dynamic library libcublas.so.10\n",
      "2022-04-06 15:54:15.628812: I tensorflow/stream_executor/platform/default/dso_loader.cc:49] Successfully opened dynamic library libcublasLt.so.10\n",
      "2022-04-06 15:54:15.628823: I tensorflow/stream_executor/platform/default/dso_loader.cc:49] Successfully opened dynamic library libcufft.so.10\n",
      "2022-04-06 15:54:15.628834: I tensorflow/stream_executor/platform/default/dso_loader.cc:49] Successfully opened dynamic library libcurand.so.10\n",
      "2022-04-06 15:54:15.628844: I tensorflow/stream_executor/platform/default/dso_loader.cc:49] Successfully opened dynamic library libcusolver.so.10\n",
      "2022-04-06 15:54:15.628853: I tensorflow/stream_executor/platform/default/dso_loader.cc:49] Successfully opened dynamic library libcusparse.so.10\n",
      "2022-04-06 15:54:15.628863: I tensorflow/stream_executor/platform/default/dso_loader.cc:49] Successfully opened dynamic library libcudnn.so.7\n",
      "2022-04-06 15:54:15.630254: I tensorflow/core/common_runtime/gpu/gpu_device.cc:1862] Adding visible gpu devices: 0\n",
      "2022-04-06 15:54:15.630276: I tensorflow/stream_executor/platform/default/dso_loader.cc:49] Successfully opened dynamic library libcudart.so.10.1\n",
      "2022-04-06 15:54:16.111003: I tensorflow/core/common_runtime/gpu/gpu_device.cc:1261] Device interconnect StreamExecutor with strength 1 edge matrix:\n",
      "2022-04-06 15:54:16.111049: I tensorflow/core/common_runtime/gpu/gpu_device.cc:1267]      0 \n",
      "2022-04-06 15:54:16.111062: I tensorflow/core/common_runtime/gpu/gpu_device.cc:1280] 0:   N \n",
      "2022-04-06 15:54:16.113417: I tensorflow/core/common_runtime/gpu/gpu_device.cc:1406] Created TensorFlow device (/job:localhost/replica:0/task:0/device:GPU:0 with 819 MB memory) -> physical GPU (device: 0, name: Quadro RTX 6000, pci bus id: 0000:41:00.0, compute capability: 7.5)\n",
      "2022-04-06 15:54:16.113728: I tensorflow/compiler/jit/xla_gpu_device.cc:99] Not creating XLA devices, tf_xla_enable_xla_devices not set\n"
     ]
    }
   ],
   "source": [
    "print('Model summary:')\n",
    "\n",
    "# build architecture\n",
    "pfn = PFN(input_dim=X.shape[-1], Phi_sizes=Phi_sizes, F_sizes=F_sizes)"
   ]
  },
  {
   "cell_type": "code",
   "execution_count": 16,
   "id": "b559b182",
   "metadata": {
    "scrolled": true
   },
   "outputs": [
    {
     "name": "stderr",
     "output_type": "stream",
     "text": [
      "2022-04-06 15:54:16.260369: I tensorflow/compiler/mlir/mlir_graph_optimization_pass.cc:116] None of the MLIR optimization passes are enabled (registered 2)\n",
      "2022-04-06 15:54:16.260811: I tensorflow/core/platform/profile_utils/cpu_utils.cc:112] CPU Frequency: 2994530000 Hz\n"
     ]
    },
    {
     "name": "stdout",
     "output_type": "stream",
     "text": [
      "Epoch 1/500\n",
      " 1/23 [>.............................] - ETA: 12s - loss: 27.9035 - acc: 0.0710"
     ]
    },
    {
     "name": "stderr",
     "output_type": "stream",
     "text": [
      "2022-04-06 15:54:16.661869: I tensorflow/stream_executor/platform/default/dso_loader.cc:49] Successfully opened dynamic library libcublas.so.10\n"
     ]
    },
    {
     "name": "stdout",
     "output_type": "stream",
     "text": [
      "23/23 [==============================] - 1s 29ms/step - loss: 106.7108 - acc: 0.5017 - val_loss: 2.1330 - val_acc: 0.9328\n",
      "Epoch 2/500\n",
      "23/23 [==============================] - 0s 10ms/step - loss: 11.7182 - acc: 0.5373 - val_loss: 5.3553 - val_acc: 0.0969\n",
      "Epoch 3/500\n",
      "23/23 [==============================] - 0s 11ms/step - loss: 1.6123 - acc: 0.5506 - val_loss: 0.2632 - val_acc: 0.9033\n",
      "Epoch 4/500\n",
      "23/23 [==============================] - 0s 11ms/step - loss: 0.8003 - acc: 0.6518 - val_loss: 0.2238 - val_acc: 0.9218\n",
      "Epoch 5/500\n",
      "23/23 [==============================] - 0s 12ms/step - loss: 0.8965 - acc: 0.6671 - val_loss: 1.0766 - val_acc: 0.4868\n",
      "Epoch 6/500\n",
      "23/23 [==============================] - 0s 12ms/step - loss: 0.5893 - acc: 0.6529 - val_loss: 0.3781 - val_acc: 0.7871\n",
      "Epoch 7/500\n",
      "23/23 [==============================] - 0s 12ms/step - loss: 0.5511 - acc: 0.6785 - val_loss: 0.5055 - val_acc: 0.7018\n",
      "Epoch 8/500\n",
      "23/23 [==============================] - 0s 12ms/step - loss: 0.5385 - acc: 0.6747 - val_loss: 0.5576 - val_acc: 0.6708\n",
      "Epoch 9/500\n",
      "23/23 [==============================] - 0s 11ms/step - loss: 0.5932 - acc: 0.6845 - val_loss: 0.9896 - val_acc: 0.4868\n",
      "\n",
      "Epoch 00009: ReduceLROnPlateau reducing learning rate to 0.000630957374449059.\n",
      "Epoch 10/500\n",
      "23/23 [==============================] - 0s 11ms/step - loss: 0.5737 - acc: 0.6905 - val_loss: 0.7016 - val_acc: 0.5918\n",
      "Epoch 11/500\n",
      "23/23 [==============================] - 0s 11ms/step - loss: 0.5717 - acc: 0.6835 - val_loss: 0.5281 - val_acc: 0.6943\n",
      "Epoch 12/500\n",
      "23/23 [==============================] - 0s 11ms/step - loss: 0.4799 - acc: 0.7256 - val_loss: 0.2718 - val_acc: 0.8917\n",
      "Epoch 13/500\n",
      "23/23 [==============================] - 0s 11ms/step - loss: 0.5107 - acc: 0.7418 - val_loss: 0.7297 - val_acc: 0.5916\n",
      "Epoch 14/500\n",
      "23/23 [==============================] - 0s 11ms/step - loss: 0.5433 - acc: 0.7098 - val_loss: 0.5111 - val_acc: 0.7115\n",
      "\n",
      "Epoch 00014: ReduceLROnPlateau reducing learning rate to 0.0003981071838171537.\n",
      "Epoch 15/500\n",
      "23/23 [==============================] - 0s 11ms/step - loss: 0.4378 - acc: 0.7396 - val_loss: 0.5993 - val_acc: 0.6606\n",
      "Epoch 16/500\n",
      "23/23 [==============================] - 0s 11ms/step - loss: 0.4187 - acc: 0.7710 - val_loss: 0.3966 - val_acc: 0.7927\n",
      "Epoch 17/500\n",
      "23/23 [==============================] - 0s 11ms/step - loss: 0.3773 - acc: 0.7927 - val_loss: 0.3469 - val_acc: 0.8333\n",
      "Epoch 18/500\n",
      "23/23 [==============================] - 0s 12ms/step - loss: 0.3699 - acc: 0.8103 - val_loss: 0.3859 - val_acc: 0.8068\n",
      "Epoch 19/500\n",
      "23/23 [==============================] - 0s 12ms/step - loss: 0.3603 - acc: 0.8222 - val_loss: 0.5522 - val_acc: 0.7055\n",
      "\n",
      "Epoch 00019: ReduceLROnPlateau reducing learning rate to 0.0002511886574257803.\n",
      "Epoch 20/500\n",
      "23/23 [==============================] - 0s 12ms/step - loss: 0.3568 - acc: 0.8002 - val_loss: 0.4837 - val_acc: 0.7514\n",
      "Epoch 21/500\n",
      "23/23 [==============================] - 0s 11ms/step - loss: 0.3340 - acc: 0.8217 - val_loss: 0.2277 - val_acc: 0.9084\n",
      "Epoch 22/500\n",
      "23/23 [==============================] - 0s 11ms/step - loss: 0.3565 - acc: 0.8438 - val_loss: 0.3530 - val_acc: 0.8318\n",
      "Epoch 23/500\n",
      "23/23 [==============================] - 0s 11ms/step - loss: 0.3303 - acc: 0.8407 - val_loss: 0.4232 - val_acc: 0.7918\n",
      "Epoch 24/500\n",
      "23/23 [==============================] - 0s 11ms/step - loss: 0.3223 - acc: 0.8353 - val_loss: 0.4675 - val_acc: 0.7674\n",
      "\n",
      "Epoch 00024: ReduceLROnPlateau reducing learning rate to 0.00015848933651346973.\n",
      "Epoch 25/500\n",
      "23/23 [==============================] - 0s 11ms/step - loss: 0.3155 - acc: 0.8418 - val_loss: 0.3659 - val_acc: 0.8250\n",
      "Epoch 26/500\n",
      "23/23 [==============================] - 0s 12ms/step - loss: 0.3091 - acc: 0.8543 - val_loss: 0.3200 - val_acc: 0.8540\n",
      "Epoch 27/500\n",
      "23/23 [==============================] - 0s 12ms/step - loss: 0.3116 - acc: 0.8624 - val_loss: 0.2348 - val_acc: 0.9014\n",
      "Epoch 28/500\n",
      "23/23 [==============================] - 0s 12ms/step - loss: 0.3020 - acc: 0.8644 - val_loss: 0.2399 - val_acc: 0.8986\n",
      "Epoch 29/500\n",
      "23/23 [==============================] - 0s 12ms/step - loss: 0.2996 - acc: 0.8640 - val_loss: 0.3197 - val_acc: 0.8538\n",
      "\n",
      "Epoch 00029: ReduceLROnPlateau reducing learning rate to 0.00010000000838432616.\n",
      "Epoch 30/500\n",
      "23/23 [==============================] - 0s 12ms/step - loss: 0.2865 - acc: 0.8619 - val_loss: 0.2594 - val_acc: 0.8871\n",
      "Epoch 31/500\n",
      "23/23 [==============================] - 0s 12ms/step - loss: 0.2845 - acc: 0.8716 - val_loss: 0.3550 - val_acc: 0.8331\n",
      "Epoch 32/500\n",
      "23/23 [==============================] - 0s 12ms/step - loss: 0.2913 - acc: 0.8652 - val_loss: 0.2948 - val_acc: 0.8669\n",
      "Epoch 33/500\n",
      "23/23 [==============================] - 0s 12ms/step - loss: 0.2853 - acc: 0.8702 - val_loss: 0.3443 - val_acc: 0.8402\n",
      "Epoch 34/500\n",
      "23/23 [==============================] - 0s 12ms/step - loss: 0.2872 - acc: 0.8704 - val_loss: 0.2756 - val_acc: 0.8774\n",
      "\n",
      "Epoch 00034: ReduceLROnPlateau reducing learning rate to 6.30957374449059e-05.\n",
      "Epoch 35/500\n",
      "23/23 [==============================] - 0s 11ms/step - loss: 0.2836 - acc: 0.8711 - val_loss: 0.2748 - val_acc: 0.8776\n",
      "Epoch 36/500\n",
      "23/23 [==============================] - 0s 11ms/step - loss: 0.2737 - acc: 0.8764 - val_loss: 0.2948 - val_acc: 0.8677\n",
      "Epoch 37/500\n",
      "23/23 [==============================] - 0s 12ms/step - loss: 0.2838 - acc: 0.8701 - val_loss: 0.2810 - val_acc: 0.8753\n",
      "Epoch 38/500\n",
      "23/23 [==============================] - 0s 12ms/step - loss: 0.2892 - acc: 0.8707 - val_loss: 0.3423 - val_acc: 0.8424\n",
      "Epoch 39/500\n",
      "23/23 [==============================] - 0s 12ms/step - loss: 0.2810 - acc: 0.8685 - val_loss: 0.2512 - val_acc: 0.8914\n",
      "\n",
      "Epoch 00039: ReduceLROnPlateau reducing learning rate to 3.981071838171537e-05.\n",
      "Epoch 40/500\n",
      "23/23 [==============================] - 0s 12ms/step - loss: 0.2895 - acc: 0.8695 - val_loss: 0.2515 - val_acc: 0.8903\n",
      "Epoch 41/500\n",
      "23/23 [==============================] - 0s 11ms/step - loss: 0.2909 - acc: 0.8660 - val_loss: 0.2636 - val_acc: 0.8840\n",
      "Epoch 42/500\n",
      "23/23 [==============================] - 0s 11ms/step - loss: 0.2804 - acc: 0.8752 - val_loss: 0.2747 - val_acc: 0.8780\n",
      "Epoch 43/500\n",
      "23/23 [==============================] - 0s 11ms/step - loss: 0.2783 - acc: 0.8801 - val_loss: 0.3099 - val_acc: 0.8603\n",
      "Epoch 44/500\n",
      "23/23 [==============================] - 0s 11ms/step - loss: 0.2792 - acc: 0.8667 - val_loss: 0.3322 - val_acc: 0.8493\n",
      "\n",
      "Epoch 00044: ReduceLROnPlateau reducing learning rate to 2.5118865283496142e-05.\n",
      "Epoch 45/500\n",
      "23/23 [==============================] - 0s 11ms/step - loss: 0.2821 - acc: 0.8626 - val_loss: 0.2846 - val_acc: 0.8738\n",
      "Epoch 46/500\n",
      "23/23 [==============================] - 0s 11ms/step - loss: 0.2866 - acc: 0.8667 - val_loss: 0.2310 - val_acc: 0.9008\n",
      "Epoch 47/500\n",
      "23/23 [==============================] - 0s 12ms/step - loss: 0.2934 - acc: 0.8742 - val_loss: 0.3289 - val_acc: 0.8503\n",
      "Epoch 48/500\n",
      "23/23 [==============================] - 0s 12ms/step - loss: 0.2765 - acc: 0.8708 - val_loss: 0.3052 - val_acc: 0.8625\n",
      "Epoch 49/500\n",
      "23/23 [==============================] - 0s 11ms/step - loss: 0.2741 - acc: 0.8707 - val_loss: 0.3054 - val_acc: 0.8627\n",
      "\n",
      "Epoch 00049: ReduceLROnPlateau reducing learning rate to 1.5848932274101303e-05.\n",
      "Epoch 50/500\n",
      "23/23 [==============================] - 0s 11ms/step - loss: 0.2727 - acc: 0.8759 - val_loss: 0.3067 - val_acc: 0.8625\n",
      "Epoch 51/500\n",
      "23/23 [==============================] - 0s 11ms/step - loss: 0.2853 - acc: 0.8687 - val_loss: 0.2884 - val_acc: 0.8712\n",
      "Epoch 52/500\n",
      "23/23 [==============================] - 0s 11ms/step - loss: 0.2830 - acc: 0.8739 - val_loss: 0.2994 - val_acc: 0.8656\n",
      "Epoch 53/500\n",
      "23/23 [==============================] - 0s 12ms/step - loss: 0.2767 - acc: 0.8612 - val_loss: 0.3017 - val_acc: 0.8644\n",
      "Epoch 54/500\n",
      "23/23 [==============================] - 0s 12ms/step - loss: 0.2712 - acc: 0.8711 - val_loss: 0.3420 - val_acc: 0.8426\n",
      "\n",
      "Epoch 00054: ReduceLROnPlateau reducing learning rate to 1.0000000608891671e-05.\n",
      "Epoch 00054: early stopping\n"
     ]
    }
   ],
   "source": [
    "# now train the model\n",
    "\n",
    "reduce_lr = tf.keras.callbacks.ReduceLROnPlateau(monitor='val_loss', \n",
    "                              factor=0.1**(1/5), patience=5, min_lr=1e-5,\n",
    "                                                verbose=1)\n",
    "\n",
    "early_stop = tf.keras.callbacks.EarlyStopping(monitor='val_loss', patience=50, \n",
    "                                              verbose=1)\n",
    "\n",
    "callbacks = [reduce_lr,early_stop]\n",
    "\n",
    "hist1 = pfn.fit(X_train, Y_train,\n",
    "        epochs=num_epoch,\n",
    "        batch_size=batch_size,\n",
    "        validation_data=(X_val, Y_val),\n",
    "        class_weight=class_weight,\n",
    "        callbacks=callbacks,\n",
    "        verbose=1)"
   ]
  },
  {
   "cell_type": "markdown",
   "id": "0fac1861",
   "metadata": {},
   "source": [
    "# Analyze the Model"
   ]
  },
  {
   "cell_type": "code",
   "execution_count": 17,
   "id": "531ee50e",
   "metadata": {},
   "outputs": [
    {
     "name": "stdout",
     "output_type": "stream",
     "text": [
      "\n",
      "PFN AUC: 0.9477561948162916\n",
      "\n"
     ]
    }
   ],
   "source": [
    "# get predictions on test data\n",
    "preds = pfn.predict(X_test, batch_size=10000)\n",
    "\n",
    "# get ROC curve\n",
    "pfn_fp, pfn_tp, threshs = roc_curve(Y_test[:,1], preds[:,1])\n",
    "\n",
    "# get area under the ROC curve\n",
    "auc = roc_auc_score(Y_test[:,1], preds[:,1])\n",
    "print()\n",
    "print('PFN AUC:', auc)\n",
    "print()"
   ]
  },
  {
   "cell_type": "code",
   "execution_count": 18,
   "id": "403ff086",
   "metadata": {},
   "outputs": [
    {
     "data": {
      "image/png": "[encoded data removed]",
      "text/plain": [
       "<Figure size 288x288 with 1 Axes>"
      ]
     },
     "metadata": {
      "needs_background": "light"
     },
     "output_type": "display_data"
    }
   ],
   "source": [
    "# get multiplicity and mass for comparison\n",
    "masses = np.asarray([ef.ms_from_p4s(ef.p4s_from_ptyphims(x).sum(axis=0)) for x in X])\n",
    "mults = np.asarray([np.count_nonzero(x[:,0]) for x in X])\n",
    "mass_fp, mass_tp, threshs = roc_curve(Y[:,1], -masses)\n",
    "mult_fp, mult_tp, threshs = roc_curve(Y[:,1], -mults)\n",
    "\n",
    "# some nicer plot settings \n",
    "plt.rcParams['figure.figsize'] = (4,4)\n",
    "plt.rcParams['font.family'] = 'serif'\n",
    "plt.rcParams['figure.autolayout'] = True\n",
    "\n",
    "# plot the ROC curves\n",
    "plt.plot(pfn_tp, 1-pfn_fp, '-', color='black', label='PFN')\n",
    "plt.plot(mass_tp, 1-mass_fp, '-', color='blue', label='Jet Mass')\n",
    "plt.plot(mult_tp, 1-mult_fp, '-', color='red', label='Multiplicity')\n",
    "\n",
    "# axes labels\n",
    "plt.xlabel('Quark Jet Efficiency')\n",
    "plt.ylabel('Gluon Jet Rejection')\n",
    "\n",
    "# axes limits\n",
    "plt.xlim(0, 1)\n",
    "plt.ylim(0, 1)\n",
    "\n",
    "# make legend and show plot\n",
    "plt.legend(loc='lower left', frameon=False)\n",
    "plt.show()\n"
   ]
  },
  {
   "cell_type": "code",
   "execution_count": 19,
   "id": "9190f668",
   "metadata": {},
   "outputs": [
    {
     "data": {
      "image/png": "[encoded data removed]",
      "text/plain": [
       "<Figure size 288x288 with 1 Axes>"
      ]
     },
     "metadata": {
      "needs_background": "light"
     },
     "output_type": "display_data"
    }
   ],
   "source": [
    "plt.plot(hist1.history[\"loss\"],label=\"loss\")\n",
    "plt.plot(hist1.history[\"val_loss\"],label=\"validation loss\")\n",
    "plt.legend()\n",
    "plt.show()"
   ]
  },
  {
   "cell_type": "code",
   "execution_count": 20,
   "id": "bcf5a3ff",
   "metadata": {},
   "outputs": [
    {
     "data": {
      "image/png": "[encoded data removed]",
      "text/plain": [
       "<Figure size 288x288 with 1 Axes>"
      ]
     },
     "metadata": {
      "needs_background": "light"
     },
     "output_type": "display_data"
    }
   ],
   "source": [
    "plt.plot(hist1.history[\"acc\"],label=\"acc\")\n",
    "plt.plot(hist1.history[\"val_acc\"],label=\"validation acc\")\n",
    "plt.legend()\n",
    "plt.show()"
   ]
  },
  {
   "cell_type": "code",
   "execution_count": null,
   "id": "0a1abd7d",
   "metadata": {},
   "outputs": [],
   "source": []
  }
 ],
 "metadata": {
  "kernelspec": {
   "display_name": "Python 3 (ipykernel)",
   "language": "python",
   "name": "python3"
  },
  "language_info": {
   "codemirror_mode": {
    "name": "ipython",
    "version": 3
   },
   "file_extension": ".py",
   "mimetype": "text/x-python",
   "name": "python",
   "nbconvert_exporter": "python",
   "pygments_lexer": "ipython3",
   "version": "3.8.12"
  }
 },
 "nbformat": 4,
 "nbformat_minor": 5
}
