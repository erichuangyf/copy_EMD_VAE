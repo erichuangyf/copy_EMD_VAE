{
 "cells": [
  {
   "cell_type": "markdown",
   "id": "4ef50705",
   "metadata": {},
   "source": [
    "# Import and Initialization"
   ]
  },
  {
   "cell_type": "code",
   "execution_count": 1,
   "id": "05a505b0",
   "metadata": {},
   "outputs": [
    {
     "name": "stderr",
     "output_type": "stream",
     "text": [
      "2022-05-03 16:51:13.894011: I tensorflow/stream_executor/platform/default/dso_loader.cc:49] Successfully opened dynamic library libcudart.so.10.1\n"
     ]
    }
   ],
   "source": [
    "%load_ext autoreload\n",
    "%autoreload 2\n",
    "\n",
    "import tensorflow as tf\n",
    "\n",
    "# standard library imports\n",
    "from __future__ import absolute_import, division, print_function\n",
    "\n",
    "# standard numerical library imports\n",
    "import numpy as np\n",
    "\n",
    "# energyflow imports\n",
    "import energyflow as ef\n",
    "from energyflow.archs import PFN\n",
    "from energyflow.datasets import qg_jets\n",
    "from energyflow.utils import data_split, remap_pids, to_categorical\n",
    "\n",
    "from sklearn.metrics import roc_auc_score, roc_curve\n",
    "import matplotlib.pyplot as plt\n",
    "\n",
    "\n",
    "import pandas\n",
    "import h5py\n",
    "import pickle\n",
    "\n",
    "import datetime"
   ]
  },
  {
   "cell_type": "code",
   "execution_count": 2,
   "id": "45667e4d",
   "metadata": {},
   "outputs": [],
   "source": [
    "# configs\n",
    "train, val, test = 0.6, 0.3, 0.1\n",
    "Phi_sizes, F_sizes = (256, 256, 256), (256, 256, 256)\n",
    "num_epoch = 500\n",
    "batch_size = 1000\n",
    "muon_feature_number = 6"
   ]
  },
  {
   "cell_type": "markdown",
   "id": "8c5aa5d4",
   "metadata": {},
   "source": [
    "# Load and Process Data"
   ]
  },
  {
   "cell_type": "code",
   "execution_count": 3,
   "id": "25276321",
   "metadata": {},
   "outputs": [],
   "source": [
    "signal_1_df = \"/global/home/users/yifengh3/VAE/new_data/h_signal_big.h5\"\n",
    "signal_2_df = \"/global/home/users/yifengh3/VAE/new_data/hv_signal_big.h5\"\n",
    "signal_1_muon_df = \"/global/home/users/yifengh3/VAE/new_data/muon_data/h_signal_big_muons.h5\"\n",
    "signal_2_muon_df = \"/global/home/users/yifengh3/VAE/new_data/muon_data/hv_signal_big_muons.h5\"\n",
    "signal_1 = pandas.read_hdf(signal_1_df)\n",
    "signal_2 = pandas.read_hdf(signal_2_df)\n",
    "raw_signal_1_muon = pandas.read_hdf(signal_1_muon_df)\n",
    "raw_signal_2_muon = pandas.read_hdf(signal_2_muon_df)"
   ]
  },
  {
   "cell_type": "code",
   "execution_count": 4,
   "id": "646d74c9",
   "metadata": {},
   "outputs": [
    {
     "name": "stdout",
     "output_type": "stream",
     "text": [
      "signal_1 data shape: (173692, 200)\n",
      "signal_2 data shape: (157772, 200)\n",
      "signal_1 muon data shape: (173692, 200)\n",
      "signal_2 muon data shape: (157772, 200)\n"
     ]
    }
   ],
   "source": [
    "print(\"signal_1 data shape: {}\".format(signal_1.shape))\n",
    "print(\"signal_2 data shape: {}\".format(signal_2.shape))\n",
    "print(\"signal_1 muon data shape: {}\".format(raw_signal_1_muon.shape))\n",
    "print(\"signal_2 muon data shape: {}\".format(raw_signal_2_muon.shape))"
   ]
  },
  {
   "cell_type": "code",
   "execution_count": 5,
   "id": "3edf6b5e",
   "metadata": {},
   "outputs": [],
   "source": [
    "#Truncate the nan inside muon data\n",
    "signal_1_muon = raw_signal_1_muon.to_numpy()[:,:8]\n",
    "signal_2_muon = raw_signal_2_muon.to_numpy()[:,:8]"
   ]
  },
  {
   "cell_type": "code",
   "execution_count": 6,
   "id": "8c1b8120",
   "metadata": {},
   "outputs": [
    {
     "name": "stdout",
     "output_type": "stream",
     "text": [
      "signal_1 muon data shape: (173692, 8)\n",
      "signal_2 muon data shape: (157772, 8)\n"
     ]
    }
   ],
   "source": [
    "print(\"signal_1 muon data shape: {}\".format(signal_1_muon.shape))\n",
    "print(\"signal_2 muon data shape: {}\".format(signal_2_muon.shape))"
   ]
  },
  {
   "cell_type": "code",
   "execution_count": 7,
   "id": "dabd209a",
   "metadata": {},
   "outputs": [],
   "source": [
    "# mix two data array into one signal array\n",
    "signal_1_combined = np.hstack((signal_1,signal_1_muon))\n",
    "signal_2_combined =  np.hstack((signal_2,signal_2_muon))"
   ]
  },
  {
   "cell_type": "code",
   "execution_count": 8,
   "id": "e582ac98",
   "metadata": {},
   "outputs": [],
   "source": [
    "# assign labels to signal and background data, 0 for sig1,  1 for sig2\n",
    "# (updated since we might get multiple signals) \n",
    "labeled_sig1 = np.append(signal_1_combined,np.zeros((signal_1.shape[0],1)),axis=1)\n",
    "labeled_sig2 = np.append(signal_2_combined,np.ones((signal_2.shape[0],1)),axis=1)\n",
    "\n",
    "data = np.concatenate([labeled_sig1,labeled_sig2])"
   ]
  },
  {
   "cell_type": "code",
   "execution_count": 9,
   "id": "8540cc44",
   "metadata": {},
   "outputs": [
    {
     "name": "stdout",
     "output_type": "stream",
     "text": [
      "(331464, 209)\n"
     ]
    }
   ],
   "source": [
    "print(data.shape)"
   ]
  },
  {
   "cell_type": "code",
   "execution_count": 10,
   "id": "34eaf99c",
   "metadata": {},
   "outputs": [],
   "source": [
    "X = data[:,:-1]\n",
    "y = data[:,-1]"
   ]
  },
  {
   "cell_type": "code",
   "execution_count": 11,
   "id": "d078bbf6",
   "metadata": {},
   "outputs": [
    {
     "name": "stdout",
     "output_type": "stream",
     "text": [
      "shape of X: (331464, 208)\n",
      "shape of Y: (331464,)\n"
     ]
    }
   ],
   "source": [
    "print(\"shape of X: {}\".format(X.shape))\n",
    "print(\"shape of Y: {}\".format(y.shape))"
   ]
  },
  {
   "cell_type": "code",
   "execution_count": 12,
   "id": "ea34616a",
   "metadata": {},
   "outputs": [
    {
     "name": "stdout",
     "output_type": "stream",
     "text": [
      "Weight for background: 0.95\n",
      "Weight for signal: 1.05\n"
     ]
    }
   ],
   "source": [
    "# Scaling by total/2 helps keep the loss to a similar magnitude.\n",
    "# The sum of the weights of all examples stays the same.\n",
    "total = labeled_sig1.shape[0] + labeled_sig2.shape[0]\n",
    "weight_for_0 = (1 / labeled_sig1.shape[0]) * (total / 2.0)\n",
    "weight_for_1 = (1 / labeled_sig2.shape[0]) * (total / 2.0)\n",
    "\n",
    "\n",
    "class_weight = {0: weight_for_0, 1: weight_for_1}\n",
    "\n",
    "print('Weight for background: {:.2f}'.format(weight_for_0))\n",
    "print('Weight for signal: {:.2f}'.format(weight_for_1))"
   ]
  },
  {
   "cell_type": "code",
   "execution_count": 13,
   "id": "c3e0e641",
   "metadata": {},
   "outputs": [],
   "source": [
    "# To categorical as stipulated in example\n",
    "Y = to_categorical(y, num_classes=2)\n",
    "\n",
    "# Reshape X to shape (number of jets, 50, 4)\n",
    "X = X.reshape(-1,52,4)\n",
    "\n",
    "# ignore the pid info\n",
    "X = X[:,:,:3]"
   ]
  },
  {
   "cell_type": "code",
   "execution_count": 14,
   "id": "4937293a",
   "metadata": {},
   "outputs": [],
   "source": [
    "X = X.astype(\"float64\")"
   ]
  },
  {
   "cell_type": "code",
   "execution_count": 15,
   "id": "3f3e9fdd",
   "metadata": {},
   "outputs": [
    {
     "name": "stdout",
     "output_type": "stream",
     "text": [
      "(331464, 52, 3)\n"
     ]
    }
   ],
   "source": [
    "print(X.shape)"
   ]
  },
  {
   "cell_type": "code",
   "execution_count": 16,
   "id": "6a6fe36d",
   "metadata": {},
   "outputs": [],
   "source": [
    "# # normalizing jets\n",
    "# # copied from example\n",
    "# import tqdm\n",
    "# for x in tqdm.tqdm(X):\n",
    "#     # now add the status bar :)\n",
    "#     mask = x[:,0] > 0\n",
    "#     yphi_avg = np.average(x[mask,1:3], weights=x[mask,0], axis=0)\n",
    "#     x[mask,1:3] -= yphi_avg\n",
    "#     x[mask,0] /= x[:,0].sum()"
   ]
  },
  {
   "cell_type": "code",
   "execution_count": 17,
   "id": "939de622",
   "metadata": {},
   "outputs": [],
   "source": [
    "# do train/val/test split \n",
    "(X_train, X_val, X_test,\n",
    " Y_train, Y_val, Y_test) = data_split(X, Y, val=val, test=test, shuffle=True)"
   ]
  },
  {
   "cell_type": "code",
   "execution_count": 18,
   "id": "c3e18f2d",
   "metadata": {},
   "outputs": [],
   "source": [
    "def to_combined_data(X):\n",
    "    return [X[:,:50],X[:,-2:].reshape([-1,6])]"
   ]
  },
  {
   "cell_type": "code",
   "execution_count": 19,
   "id": "0dca6a74",
   "metadata": {},
   "outputs": [],
   "source": [
    "(X_train, X_val, X_test) = (to_combined_data(X_train),to_combined_data(X_val),to_combined_data(X_test))"
   ]
  },
  {
   "cell_type": "code",
   "execution_count": 20,
   "id": "74dd70db",
   "metadata": {},
   "outputs": [
    {
     "name": "stdout",
     "output_type": "stream",
     "text": [
      "(198879, 50, 3) (198879, 6)\n"
     ]
    }
   ],
   "source": [
    "print(X_train[0].shape,X_train[1].shape)"
   ]
  },
  {
   "cell_type": "markdown",
   "id": "bc6339cd",
   "metadata": {},
   "source": [
    "# Build and Train the Model"
   ]
  },
  {
   "cell_type": "code",
   "execution_count": 21,
   "id": "4876d9dc",
   "metadata": {},
   "outputs": [
    {
     "name": "stdout",
     "output_type": "stream",
     "text": [
      "Model summary:\n"
     ]
    },
    {
     "name": "stderr",
     "output_type": "stream",
     "text": [
      "2022-05-03 16:51:58.917226: I tensorflow/compiler/jit/xla_cpu_device.cc:41] Not creating XLA devices, tf_xla_enable_xla_devices not set\n",
      "2022-05-03 16:51:58.918037: I tensorflow/stream_executor/platform/default/dso_loader.cc:49] Successfully opened dynamic library libcuda.so.1\n",
      "2022-05-03 16:51:58.960129: I tensorflow/core/common_runtime/gpu/gpu_device.cc:1720] Found device 0 with properties: \n",
      "pciBusID: 0000:81:00.0 name: Quadro RTX 6000 computeCapability: 7.5\n",
      "coreClock: 1.77GHz coreCount: 72 deviceMemorySize: 23.65GiB deviceMemoryBandwidth: 625.94GiB/s\n",
      "2022-05-03 16:51:58.960169: I tensorflow/stream_executor/platform/default/dso_loader.cc:49] Successfully opened dynamic library libcudart.so.10.1\n",
      "2022-05-03 16:51:58.962752: I tensorflow/stream_executor/platform/default/dso_loader.cc:49] Successfully opened dynamic library libcublas.so.10\n",
      "2022-05-03 16:51:58.962813: I tensorflow/stream_executor/platform/default/dso_loader.cc:49] Successfully opened dynamic library libcublasLt.so.10\n",
      "2022-05-03 16:51:58.965360: I tensorflow/stream_executor/platform/default/dso_loader.cc:49] Successfully opened dynamic library libcufft.so.10\n",
      "2022-05-03 16:51:58.965752: I tensorflow/stream_executor/platform/default/dso_loader.cc:49] Successfully opened dynamic library libcurand.so.10\n",
      "2022-05-03 16:51:58.968241: I tensorflow/stream_executor/platform/default/dso_loader.cc:49] Successfully opened dynamic library libcusolver.so.10\n",
      "2022-05-03 16:51:58.969496: I tensorflow/stream_executor/platform/default/dso_loader.cc:49] Successfully opened dynamic library libcusparse.so.10\n",
      "2022-05-03 16:51:58.974641: I tensorflow/stream_executor/platform/default/dso_loader.cc:49] Successfully opened dynamic library libcudnn.so.7\n",
      "2022-05-03 16:51:58.979388: I tensorflow/core/common_runtime/gpu/gpu_device.cc:1862] Adding visible gpu devices: 0\n",
      "2022-05-03 16:51:58.979915: I tensorflow/core/platform/cpu_feature_guard.cc:142] This TensorFlow binary is optimized with oneAPI Deep Neural Network Library (oneDNN) to use the following CPU instructions in performance-critical operations:  SSE4.1 SSE4.2 AVX AVX2 FMA\n",
      "To enable them in other operations, rebuild TensorFlow with the appropriate compiler flags.\n",
      "2022-05-03 16:51:58.984372: I tensorflow/core/common_runtime/gpu/gpu_device.cc:1720] Found device 0 with properties: \n",
      "pciBusID: 0000:81:00.0 name: Quadro RTX 6000 computeCapability: 7.5\n",
      "coreClock: 1.77GHz coreCount: 72 deviceMemorySize: 23.65GiB deviceMemoryBandwidth: 625.94GiB/s\n",
      "2022-05-03 16:51:58.984414: I tensorflow/stream_executor/platform/default/dso_loader.cc:49] Successfully opened dynamic library libcudart.so.10.1\n",
      "2022-05-03 16:51:58.984446: I tensorflow/stream_executor/platform/default/dso_loader.cc:49] Successfully opened dynamic library libcublas.so.10\n",
      "2022-05-03 16:51:58.984470: I tensorflow/stream_executor/platform/default/dso_loader.cc:49] Successfully opened dynamic library libcublasLt.so.10\n",
      "2022-05-03 16:51:58.984492: I tensorflow/stream_executor/platform/default/dso_loader.cc:49] Successfully opened dynamic library libcufft.so.10\n",
      "2022-05-03 16:51:58.984514: I tensorflow/stream_executor/platform/default/dso_loader.cc:49] Successfully opened dynamic library libcurand.so.10\n",
      "2022-05-03 16:51:58.984536: I tensorflow/stream_executor/platform/default/dso_loader.cc:49] Successfully opened dynamic library libcusolver.so.10\n",
      "2022-05-03 16:51:58.984558: I tensorflow/stream_executor/platform/default/dso_loader.cc:49] Successfully opened dynamic library libcusparse.so.10\n",
      "2022-05-03 16:51:58.984580: I tensorflow/stream_executor/platform/default/dso_loader.cc:49] Successfully opened dynamic library libcudnn.so.7\n",
      "2022-05-03 16:51:58.989088: I tensorflow/core/common_runtime/gpu/gpu_device.cc:1862] Adding visible gpu devices: 0\n",
      "2022-05-03 16:51:58.989132: I tensorflow/stream_executor/platform/default/dso_loader.cc:49] Successfully opened dynamic library libcudart.so.10.1\n",
      "2022-05-03 16:51:59.494829: I tensorflow/core/common_runtime/gpu/gpu_device.cc:1261] Device interconnect StreamExecutor with strength 1 edge matrix:\n",
      "2022-05-03 16:51:59.494876: I tensorflow/core/common_runtime/gpu/gpu_device.cc:1267]      0 \n",
      "2022-05-03 16:51:59.494886: I tensorflow/core/common_runtime/gpu/gpu_device.cc:1280] 0:   N \n",
      "2022-05-03 16:51:59.498854: I tensorflow/core/common_runtime/gpu/gpu_device.cc:1406] Created TensorFlow device (/job:localhost/replica:0/task:0/device:GPU:0 with 22017 MB memory) -> physical GPU (device: 0, name: Quadro RTX 6000, pci bus id: 0000:81:00.0, compute capability: 7.5)\n",
      "2022-05-03 16:51:59.499152: I tensorflow/compiler/jit/xla_gpu_device.cc:99] Not creating XLA devices, tf_xla_enable_xla_devices not set\n"
     ]
    },
    {
     "name": "stdout",
     "output_type": "stream",
     "text": [
      "Model: \"model\"\n",
      "__________________________________________________________________________________________________\n",
      "Layer (type)                    Output Shape         Param #     Connected to                     \n",
      "==================================================================================================\n",
      "input (InputLayer)              [(None, None, 3)]    0                                            \n",
      "__________________________________________________________________________________________________\n",
      "tdist_0 (TimeDistributed)       (None, None, 256)    1024        input[0][0]                      \n",
      "__________________________________________________________________________________________________\n",
      "activation (Activation)         (None, None, 256)    0           tdist_0[0][0]                    \n",
      "__________________________________________________________________________________________________\n",
      "tdist_1 (TimeDistributed)       (None, None, 256)    65792       activation[0][0]                 \n",
      "__________________________________________________________________________________________________\n",
      "activation_1 (Activation)       (None, None, 256)    0           tdist_1[0][0]                    \n",
      "__________________________________________________________________________________________________\n",
      "tdist_2 (TimeDistributed)       (None, None, 256)    65792       activation_1[0][0]               \n",
      "__________________________________________________________________________________________________\n",
      "mask (Lambda)                   (None, None)         0           input[0][0]                      \n",
      "__________________________________________________________________________________________________\n",
      "activation_2 (Activation)       (None, None, 256)    0           tdist_2[0][0]                    \n",
      "__________________________________________________________________________________________________\n",
      "sum (Dot)                       (None, 256)          0           mask[0][0]                       \n",
      "                                                                 activation_2[0][0]               \n",
      "__________________________________________________________________________________________________\n",
      "num_global_features (InputLayer [(None, 6)]          0                                            \n",
      "__________________________________________________________________________________________________\n",
      "concat (Concatenate)            (None, 262)          0           sum[0][0]                        \n",
      "                                                                 num_global_features[0][0]        \n",
      "__________________________________________________________________________________________________\n",
      "dense_0 (Dense)                 (None, 256)          67328       concat[0][0]                     \n",
      "__________________________________________________________________________________________________\n",
      "activation_3 (Activation)       (None, 256)          0           dense_0[0][0]                    \n",
      "__________________________________________________________________________________________________\n",
      "dense_1 (Dense)                 (None, 256)          65792       activation_3[0][0]               \n",
      "__________________________________________________________________________________________________\n",
      "activation_4 (Activation)       (None, 256)          0           dense_1[0][0]                    \n",
      "__________________________________________________________________________________________________\n",
      "dense_2 (Dense)                 (None, 256)          65792       activation_4[0][0]               \n",
      "__________________________________________________________________________________________________\n",
      "activation_5 (Activation)       (None, 256)          0           dense_2[0][0]                    \n",
      "__________________________________________________________________________________________________\n",
      "output (Dense)                  (None, 2)            514         activation_5[0][0]               \n",
      "__________________________________________________________________________________________________\n",
      "activation_6 (Activation)       (None, 2)            0           output[0][0]                     \n",
      "==================================================================================================\n",
      "Total params: 332,034\n",
      "Trainable params: 332,034\n",
      "Non-trainable params: 0\n",
      "__________________________________________________________________________________________________\n"
     ]
    }
   ],
   "source": [
    "print('Model summary:')\n",
    "\n",
    "# build architecture\n",
    "pfn = PFN(input_dim=X.shape[-1], Phi_sizes=Phi_sizes, F_sizes=F_sizes, num_global_features = muon_feature_number)"
   ]
  },
  {
   "cell_type": "code",
   "execution_count": 22,
   "id": "b559b182",
   "metadata": {
    "scrolled": true
   },
   "outputs": [
    {
     "name": "stderr",
     "output_type": "stream",
     "text": [
      "2022-05-03 16:51:59.936372: I tensorflow/compiler/mlir/mlir_graph_optimization_pass.cc:116] None of the MLIR optimization passes are enabled (registered 2)\n",
      "2022-05-03 16:51:59.936842: I tensorflow/core/platform/profile_utils/cpu_utils.cc:112] CPU Frequency: 2994530000 Hz\n"
     ]
    },
    {
     "name": "stdout",
     "output_type": "stream",
     "text": [
      "Epoch 1/500\n",
      "  1/199 [..............................] - ETA: 1:57 - loss: 47.1785 - acc: 0.4400"
     ]
    },
    {
     "name": "stderr",
     "output_type": "stream",
     "text": [
      "2022-05-03 16:52:00.370520: I tensorflow/stream_executor/platform/default/dso_loader.cc:49] Successfully opened dynamic library libcublas.so.10\n"
     ]
    },
    {
     "name": "stdout",
     "output_type": "stream",
     "text": [
      "199/199 [==============================] - 3s 13ms/step - loss: 58.3134 - acc: 0.5630 - val_loss: 0.4054 - val_acc: 0.8246\n",
      "Epoch 2/500\n",
      "199/199 [==============================] - 2s 10ms/step - loss: 0.5987 - acc: 0.7728 - val_loss: 0.5790 - val_acc: 0.7115\n",
      "Epoch 3/500\n",
      "199/199 [==============================] - 2s 10ms/step - loss: 0.4396 - acc: 0.8077 - val_loss: 0.4650 - val_acc: 0.7746\n",
      "Epoch 4/500\n",
      "199/199 [==============================] - 2s 10ms/step - loss: 0.4138 - acc: 0.8238 - val_loss: 0.3122 - val_acc: 0.8699\n",
      "Epoch 5/500\n",
      "199/199 [==============================] - 2s 10ms/step - loss: 0.3252 - acc: 0.8607 - val_loss: 0.3071 - val_acc: 0.8680\n",
      "Epoch 6/500\n",
      "199/199 [==============================] - 2s 10ms/step - loss: 0.3201 - acc: 0.8609 - val_loss: 0.2831 - val_acc: 0.8787\n",
      "Epoch 7/500\n",
      "199/199 [==============================] - 2s 10ms/step - loss: 0.3010 - acc: 0.8701 - val_loss: 0.3398 - val_acc: 0.8560\n",
      "Epoch 8/500\n",
      "199/199 [==============================] - 2s 10ms/step - loss: 0.2899 - acc: 0.8752 - val_loss: 0.2649 - val_acc: 0.8874\n",
      "Epoch 9/500\n",
      "199/199 [==============================] - 2s 10ms/step - loss: 0.2880 - acc: 0.8767 - val_loss: 0.2584 - val_acc: 0.8911\n",
      "Epoch 10/500\n",
      "199/199 [==============================] - 2s 10ms/step - loss: 0.2675 - acc: 0.8867 - val_loss: 0.2677 - val_acc: 0.8882\n",
      "Epoch 11/500\n",
      "199/199 [==============================] - 2s 10ms/step - loss: 0.2679 - acc: 0.8871 - val_loss: 0.2881 - val_acc: 0.8740\n",
      "Epoch 12/500\n",
      "199/199 [==============================] - 2s 10ms/step - loss: 0.4670 - acc: 0.8409 - val_loss: 0.2746 - val_acc: 0.8836\n",
      "Epoch 13/500\n",
      "199/199 [==============================] - 2s 10ms/step - loss: 0.2730 - acc: 0.8826 - val_loss: 0.2894 - val_acc: 0.8785\n",
      "Epoch 14/500\n",
      "199/199 [==============================] - 2s 10ms/step - loss: 0.2615 - acc: 0.8891 - val_loss: 0.2574 - val_acc: 0.8918\n",
      "Epoch 15/500\n",
      "199/199 [==============================] - 2s 10ms/step - loss: 0.2512 - acc: 0.8932 - val_loss: 0.2374 - val_acc: 0.9003\n",
      "Epoch 16/500\n",
      "199/199 [==============================] - 2s 10ms/step - loss: 0.2503 - acc: 0.8939 - val_loss: 0.2344 - val_acc: 0.9024\n",
      "Epoch 17/500\n",
      "199/199 [==============================] - 2s 10ms/step - loss: 0.2416 - acc: 0.8983 - val_loss: 0.2459 - val_acc: 0.8963\n",
      "Epoch 18/500\n",
      "199/199 [==============================] - 2s 10ms/step - loss: 0.2366 - acc: 0.9008 - val_loss: 0.2285 - val_acc: 0.9050\n",
      "Epoch 19/500\n",
      "199/199 [==============================] - 2s 10ms/step - loss: 0.2299 - acc: 0.9033 - val_loss: 0.2277 - val_acc: 0.9064\n",
      "Epoch 20/500\n",
      "199/199 [==============================] - 2s 10ms/step - loss: 0.2239 - acc: 0.9068 - val_loss: 0.2583 - val_acc: 0.8885\n",
      "Epoch 21/500\n",
      "199/199 [==============================] - 2s 10ms/step - loss: 0.2265 - acc: 0.9055 - val_loss: 0.2072 - val_acc: 0.9153\n",
      "Epoch 22/500\n",
      "199/199 [==============================] - 2s 10ms/step - loss: 0.2106 - acc: 0.9129 - val_loss: 0.2188 - val_acc: 0.9114\n",
      "Epoch 23/500\n",
      "199/199 [==============================] - 2s 10ms/step - loss: 0.2125 - acc: 0.9125 - val_loss: 0.2100 - val_acc: 0.9133\n",
      "Epoch 24/500\n",
      "199/199 [==============================] - 2s 10ms/step - loss: 0.2077 - acc: 0.9155 - val_loss: 0.1923 - val_acc: 0.9223\n",
      "Epoch 25/500\n",
      "199/199 [==============================] - 2s 10ms/step - loss: 0.1947 - acc: 0.9207 - val_loss: 0.1810 - val_acc: 0.9263\n",
      "Epoch 26/500\n",
      "199/199 [==============================] - 2s 10ms/step - loss: 0.1810 - acc: 0.9269 - val_loss: 0.1765 - val_acc: 0.9293\n",
      "Epoch 27/500\n",
      "199/199 [==============================] - 2s 10ms/step - loss: 0.1784 - acc: 0.9279 - val_loss: 0.1745 - val_acc: 0.9295\n",
      "Epoch 28/500\n",
      "199/199 [==============================] - 2s 10ms/step - loss: 0.1722 - acc: 0.9300 - val_loss: 0.1606 - val_acc: 0.9365\n",
      "Epoch 29/500\n",
      "199/199 [==============================] - 2s 10ms/step - loss: 0.1697 - acc: 0.9314 - val_loss: 0.2673 - val_acc: 0.8843\n",
      "Epoch 30/500\n",
      "199/199 [==============================] - 2s 10ms/step - loss: 0.2051 - acc: 0.9163 - val_loss: 0.1840 - val_acc: 0.9261\n",
      "Epoch 31/500\n",
      "199/199 [==============================] - 2s 10ms/step - loss: 0.1703 - acc: 0.9314 - val_loss: 0.1692 - val_acc: 0.9317\n",
      "Epoch 32/500\n",
      "199/199 [==============================] - 2s 10ms/step - loss: 0.1529 - acc: 0.9390 - val_loss: 0.1587 - val_acc: 0.9363\n",
      "Epoch 33/500\n",
      "199/199 [==============================] - 2s 10ms/step - loss: 0.1565 - acc: 0.9376 - val_loss: 0.1620 - val_acc: 0.9334\n",
      "Epoch 34/500\n",
      "199/199 [==============================] - 2s 10ms/step - loss: 0.1397 - acc: 0.9441 - val_loss: 0.1435 - val_acc: 0.9430\n",
      "Epoch 35/500\n",
      "199/199 [==============================] - 2s 10ms/step - loss: 0.1423 - acc: 0.9431 - val_loss: 0.1308 - val_acc: 0.9488\n",
      "Epoch 36/500\n",
      "199/199 [==============================] - 2s 10ms/step - loss: 0.1369 - acc: 0.9456 - val_loss: 0.1376 - val_acc: 0.9466\n",
      "Epoch 37/500\n",
      "199/199 [==============================] - 2s 10ms/step - loss: 0.1249 - acc: 0.9505 - val_loss: 0.1268 - val_acc: 0.9506\n",
      "Epoch 38/500\n",
      "199/199 [==============================] - 2s 10ms/step - loss: 0.1233 - acc: 0.9505 - val_loss: 0.1235 - val_acc: 0.9513\n",
      "Epoch 39/500\n",
      "199/199 [==============================] - 2s 10ms/step - loss: 0.1245 - acc: 0.9504 - val_loss: 0.1113 - val_acc: 0.9565\n",
      "Epoch 40/500\n",
      "199/199 [==============================] - 2s 10ms/step - loss: 0.1271 - acc: 0.9504 - val_loss: 0.1097 - val_acc: 0.9570\n",
      "Epoch 41/500\n",
      "199/199 [==============================] - 2s 10ms/step - loss: 0.1174 - acc: 0.9544 - val_loss: 0.1061 - val_acc: 0.9591\n",
      "Epoch 42/500\n",
      "199/199 [==============================] - 2s 10ms/step - loss: 0.1084 - acc: 0.9573 - val_loss: 0.1080 - val_acc: 0.9584\n",
      "Epoch 43/500\n",
      "199/199 [==============================] - 2s 10ms/step - loss: 0.1027 - acc: 0.9601 - val_loss: 0.0919 - val_acc: 0.9645\n",
      "Epoch 44/500\n",
      "199/199 [==============================] - 2s 10ms/step - loss: 0.1067 - acc: 0.9595 - val_loss: 1.2982 - val_acc: 0.5808\n",
      "Epoch 45/500\n",
      "199/199 [==============================] - 2s 10ms/step - loss: 0.5287 - acc: 0.8025 - val_loss: 0.2363 - val_acc: 0.9021\n",
      "Epoch 46/500\n",
      "199/199 [==============================] - 2s 10ms/step - loss: 0.2022 - acc: 0.9170 - val_loss: 0.2199 - val_acc: 0.9094\n",
      "Epoch 47/500\n",
      "199/199 [==============================] - 2s 10ms/step - loss: 0.1822 - acc: 0.9258 - val_loss: 0.1563 - val_acc: 0.9383\n",
      "Epoch 48/500\n",
      "199/199 [==============================] - 2s 10ms/step - loss: 0.1553 - acc: 0.9374 - val_loss: 0.1390 - val_acc: 0.9447\n",
      "\n",
      "Epoch 00048: ReduceLROnPlateau reducing learning rate to 0.000630957374449059.\n",
      "Epoch 49/500\n",
      "199/199 [==============================] - 2s 10ms/step - loss: 0.1356 - acc: 0.9457 - val_loss: 0.1341 - val_acc: 0.9477\n",
      "Epoch 50/500\n",
      "199/199 [==============================] - 2s 10ms/step - loss: 0.1308 - acc: 0.9483 - val_loss: 0.1360 - val_acc: 0.9457\n",
      "Epoch 51/500\n",
      "199/199 [==============================] - 2s 10ms/step - loss: 0.1264 - acc: 0.9495 - val_loss: 0.1176 - val_acc: 0.9542\n",
      "Epoch 52/500\n",
      "199/199 [==============================] - 2s 10ms/step - loss: 0.1214 - acc: 0.9523 - val_loss: 0.1145 - val_acc: 0.9550\n",
      "Epoch 53/500\n",
      "199/199 [==============================] - 2s 10ms/step - loss: 0.1205 - acc: 0.9528 - val_loss: 0.1133 - val_acc: 0.9557\n",
      "\n",
      "Epoch 00053: ReduceLROnPlateau reducing learning rate to 0.0003981071838171537.\n",
      "Epoch 54/500\n",
      "199/199 [==============================] - 2s 10ms/step - loss: 0.1081 - acc: 0.9574 - val_loss: 0.1101 - val_acc: 0.9572\n",
      "Epoch 55/500\n",
      "199/199 [==============================] - 2s 10ms/step - loss: 0.1076 - acc: 0.9583 - val_loss: 0.1117 - val_acc: 0.9572\n",
      "Epoch 56/500\n",
      "199/199 [==============================] - 2s 10ms/step - loss: 0.1034 - acc: 0.9601 - val_loss: 0.1083 - val_acc: 0.9576\n",
      "Epoch 57/500\n",
      "199/199 [==============================] - 2s 10ms/step - loss: 0.1089 - acc: 0.9570 - val_loss: 0.1102 - val_acc: 0.9579\n",
      "Epoch 58/500\n",
      "199/199 [==============================] - 2s 10ms/step - loss: 0.1044 - acc: 0.9593 - val_loss: 0.1060 - val_acc: 0.9593\n",
      "\n",
      "Epoch 00058: ReduceLROnPlateau reducing learning rate to 0.0002511886574257803.\n",
      "Epoch 59/500\n",
      "199/199 [==============================] - 2s 10ms/step - loss: 0.0995 - acc: 0.9614 - val_loss: 0.0960 - val_acc: 0.9630\n",
      "Epoch 60/500\n"
     ]
    },
    {
     "name": "stdout",
     "output_type": "stream",
     "text": [
      "199/199 [==============================] - 2s 10ms/step - loss: 0.0937 - acc: 0.9637 - val_loss: 0.0976 - val_acc: 0.9628\n",
      "Epoch 61/500\n",
      "199/199 [==============================] - 2s 10ms/step - loss: 0.0935 - acc: 0.9638 - val_loss: 0.0956 - val_acc: 0.9632\n",
      "Epoch 62/500\n",
      "199/199 [==============================] - 2s 10ms/step - loss: 0.0923 - acc: 0.9644 - val_loss: 0.0948 - val_acc: 0.9639\n",
      "Epoch 63/500\n",
      "199/199 [==============================] - 2s 10ms/step - loss: 0.0926 - acc: 0.9638 - val_loss: 0.1017 - val_acc: 0.9617\n",
      "\n",
      "Epoch 00063: ReduceLROnPlateau reducing learning rate to 0.00015848933651346973.\n",
      "Epoch 64/500\n",
      "199/199 [==============================] - 2s 10ms/step - loss: 0.0884 - acc: 0.9663 - val_loss: 0.0931 - val_acc: 0.9642\n",
      "Epoch 65/500\n",
      "199/199 [==============================] - 2s 10ms/step - loss: 0.0851 - acc: 0.9672 - val_loss: 0.0893 - val_acc: 0.9660\n",
      "Epoch 66/500\n",
      "199/199 [==============================] - 2s 10ms/step - loss: 0.0853 - acc: 0.9674 - val_loss: 0.0895 - val_acc: 0.9660\n",
      "Epoch 67/500\n",
      "199/199 [==============================] - 2s 10ms/step - loss: 0.0842 - acc: 0.9673 - val_loss: 0.0861 - val_acc: 0.9676\n",
      "Epoch 68/500\n",
      "199/199 [==============================] - 2s 10ms/step - loss: 0.0855 - acc: 0.9670 - val_loss: 0.0957 - val_acc: 0.9632\n",
      "Epoch 69/500\n",
      "199/199 [==============================] - 2s 10ms/step - loss: 0.0815 - acc: 0.9692 - val_loss: 0.0865 - val_acc: 0.9677\n",
      "Epoch 70/500\n",
      "199/199 [==============================] - 2s 10ms/step - loss: 0.0785 - acc: 0.9701 - val_loss: 0.0962 - val_acc: 0.9632\n",
      "Epoch 71/500\n",
      "199/199 [==============================] - 2s 10ms/step - loss: 0.0825 - acc: 0.9682 - val_loss: 0.0843 - val_acc: 0.9681\n",
      "Epoch 72/500\n",
      "199/199 [==============================] - 2s 10ms/step - loss: 0.0777 - acc: 0.9704 - val_loss: 0.0908 - val_acc: 0.9659\n",
      "Epoch 73/500\n",
      "199/199 [==============================] - 2s 10ms/step - loss: 0.0780 - acc: 0.9699 - val_loss: 0.0915 - val_acc: 0.9644\n",
      "Epoch 74/500\n",
      "199/199 [==============================] - 2s 10ms/step - loss: 0.0784 - acc: 0.9701 - val_loss: 0.0840 - val_acc: 0.9676\n",
      "Epoch 75/500\n",
      "199/199 [==============================] - 2s 10ms/step - loss: 0.0741 - acc: 0.9712 - val_loss: 0.0882 - val_acc: 0.9667\n",
      "Epoch 76/500\n",
      "199/199 [==============================] - 2s 10ms/step - loss: 0.0746 - acc: 0.9712 - val_loss: 0.0782 - val_acc: 0.9703\n",
      "Epoch 77/500\n",
      "199/199 [==============================] - 2s 10ms/step - loss: 0.0745 - acc: 0.9716 - val_loss: 0.0892 - val_acc: 0.9663\n",
      "Epoch 78/500\n",
      "199/199 [==============================] - 2s 10ms/step - loss: 0.0726 - acc: 0.9720 - val_loss: 0.0785 - val_acc: 0.9702\n",
      "Epoch 79/500\n",
      "199/199 [==============================] - 2s 10ms/step - loss: 0.0710 - acc: 0.9733 - val_loss: 0.0766 - val_acc: 0.9711\n",
      "Epoch 80/500\n",
      "199/199 [==============================] - 2s 10ms/step - loss: 0.0690 - acc: 0.9734 - val_loss: 0.0784 - val_acc: 0.9709\n",
      "Epoch 81/500\n",
      "199/199 [==============================] - 2s 10ms/step - loss: 0.0722 - acc: 0.9725 - val_loss: 0.0767 - val_acc: 0.9712\n",
      "Epoch 82/500\n",
      "199/199 [==============================] - 2s 10ms/step - loss: 0.0663 - acc: 0.9745 - val_loss: 0.0751 - val_acc: 0.9714\n",
      "Epoch 83/500\n",
      "199/199 [==============================] - 2s 10ms/step - loss: 0.0669 - acc: 0.9745 - val_loss: 0.0929 - val_acc: 0.9649\n",
      "Epoch 84/500\n",
      "199/199 [==============================] - 2s 10ms/step - loss: 0.0705 - acc: 0.9727 - val_loss: 0.0744 - val_acc: 0.9721\n",
      "Epoch 85/500\n",
      "199/199 [==============================] - 2s 10ms/step - loss: 0.0650 - acc: 0.9753 - val_loss: 0.0743 - val_acc: 0.9717\n",
      "Epoch 86/500\n",
      "199/199 [==============================] - 2s 10ms/step - loss: 0.0650 - acc: 0.9752 - val_loss: 0.0738 - val_acc: 0.9722\n",
      "Epoch 87/500\n",
      "199/199 [==============================] - 2s 10ms/step - loss: 0.0629 - acc: 0.9760 - val_loss: 0.0749 - val_acc: 0.9717\n",
      "Epoch 88/500\n",
      "199/199 [==============================] - 2s 10ms/step - loss: 0.0668 - acc: 0.9745 - val_loss: 0.0772 - val_acc: 0.9713\n",
      "Epoch 89/500\n",
      "199/199 [==============================] - 2s 10ms/step - loss: 0.0626 - acc: 0.9758 - val_loss: 0.0752 - val_acc: 0.9717\n",
      "Epoch 90/500\n",
      "199/199 [==============================] - 2s 10ms/step - loss: 0.0621 - acc: 0.9759 - val_loss: 0.0765 - val_acc: 0.9712\n",
      "Epoch 91/500\n",
      "199/199 [==============================] - 2s 10ms/step - loss: 0.0613 - acc: 0.9764 - val_loss: 0.0714 - val_acc: 0.9736\n",
      "Epoch 92/500\n",
      "199/199 [==============================] - 2s 10ms/step - loss: 0.0619 - acc: 0.9765 - val_loss: 0.0740 - val_acc: 0.9726\n",
      "Epoch 93/500\n",
      "199/199 [==============================] - 2s 10ms/step - loss: 0.0598 - acc: 0.9771 - val_loss: 0.0706 - val_acc: 0.9738\n",
      "Epoch 94/500\n",
      "199/199 [==============================] - 2s 10ms/step - loss: 0.0606 - acc: 0.9766 - val_loss: 0.0770 - val_acc: 0.9710\n",
      "Epoch 95/500\n",
      "199/199 [==============================] - 2s 10ms/step - loss: 0.0636 - acc: 0.9750 - val_loss: 0.0765 - val_acc: 0.9719\n",
      "Epoch 96/500\n",
      "199/199 [==============================] - 2s 10ms/step - loss: 0.0577 - acc: 0.9777 - val_loss: 0.0758 - val_acc: 0.9724\n",
      "Epoch 97/500\n",
      "199/199 [==============================] - 2s 10ms/step - loss: 0.0604 - acc: 0.9767 - val_loss: 0.0714 - val_acc: 0.9735\n",
      "Epoch 98/500\n",
      "199/199 [==============================] - 2s 10ms/step - loss: 0.0592 - acc: 0.9772 - val_loss: 0.0683 - val_acc: 0.9740\n",
      "Epoch 99/500\n",
      "199/199 [==============================] - 2s 10ms/step - loss: 0.0562 - acc: 0.9785 - val_loss: 0.0730 - val_acc: 0.9729\n",
      "Epoch 100/500\n",
      "199/199 [==============================] - 2s 10ms/step - loss: 0.0562 - acc: 0.9780 - val_loss: 0.0665 - val_acc: 0.9752\n",
      "Epoch 101/500\n",
      "199/199 [==============================] - 2s 10ms/step - loss: 0.0556 - acc: 0.9786 - val_loss: 0.0690 - val_acc: 0.9746\n",
      "Epoch 102/500\n",
      "199/199 [==============================] - 2s 10ms/step - loss: 0.0556 - acc: 0.9783 - val_loss: 0.0682 - val_acc: 0.9754\n",
      "Epoch 103/500\n",
      "199/199 [==============================] - 2s 10ms/step - loss: 0.0521 - acc: 0.9800 - val_loss: 0.0846 - val_acc: 0.9694\n",
      "Epoch 104/500\n",
      "199/199 [==============================] - 2s 10ms/step - loss: 0.0556 - acc: 0.9786 - val_loss: 0.0699 - val_acc: 0.9747\n",
      "Epoch 105/500\n",
      "199/199 [==============================] - 2s 10ms/step - loss: 0.0535 - acc: 0.9792 - val_loss: 0.0706 - val_acc: 0.9740\n",
      "\n",
      "Epoch 00105: ReduceLROnPlateau reducing learning rate to 0.00010000000838432616.\n",
      "Epoch 106/500\n",
      "199/199 [==============================] - 2s 10ms/step - loss: 0.0495 - acc: 0.9809 - val_loss: 0.0738 - val_acc: 0.9730\n",
      "Epoch 107/500\n",
      "199/199 [==============================] - 2s 10ms/step - loss: 0.0513 - acc: 0.9799 - val_loss: 0.0651 - val_acc: 0.9762\n",
      "Epoch 108/500\n",
      "199/199 [==============================] - 2s 10ms/step - loss: 0.0475 - acc: 0.9817 - val_loss: 0.0641 - val_acc: 0.9767\n",
      "Epoch 109/500\n",
      "199/199 [==============================] - 2s 10ms/step - loss: 0.0478 - acc: 0.9815 - val_loss: 0.0644 - val_acc: 0.9764\n",
      "Epoch 110/500\n",
      "199/199 [==============================] - 2s 10ms/step - loss: 0.0484 - acc: 0.9812 - val_loss: 0.0629 - val_acc: 0.9769\n",
      "Epoch 111/500\n",
      "199/199 [==============================] - 2s 10ms/step - loss: 0.0472 - acc: 0.9819 - val_loss: 0.0657 - val_acc: 0.9758\n",
      "Epoch 112/500\n",
      "199/199 [==============================] - 2s 10ms/step - loss: 0.0467 - acc: 0.9821 - val_loss: 0.0664 - val_acc: 0.9762\n",
      "Epoch 113/500\n",
      "199/199 [==============================] - 2s 10ms/step - loss: 0.0464 - acc: 0.9825 - val_loss: 0.0693 - val_acc: 0.9752\n",
      "Epoch 114/500\n",
      "199/199 [==============================] - 2s 10ms/step - loss: 0.0468 - acc: 0.9821 - val_loss: 0.0643 - val_acc: 0.9767\n",
      "Epoch 115/500\n",
      "199/199 [==============================] - 2s 10ms/step - loss: 0.0467 - acc: 0.9816 - val_loss: 0.0640 - val_acc: 0.9771\n",
      "\n",
      "Epoch 00115: ReduceLROnPlateau reducing learning rate to 6.30957374449059e-05.\n",
      "Epoch 116/500\n",
      "199/199 [==============================] - 2s 10ms/step - loss: 0.0433 - acc: 0.9836 - val_loss: 0.0640 - val_acc: 0.9770\n",
      "Epoch 117/500\n",
      "199/199 [==============================] - 2s 10ms/step - loss: 0.0429 - acc: 0.9836 - val_loss: 0.0648 - val_acc: 0.9768\n",
      "Epoch 118/500\n",
      "199/199 [==============================] - 2s 10ms/step - loss: 0.0440 - acc: 0.9830 - val_loss: 0.0649 - val_acc: 0.9766\n"
     ]
    },
    {
     "name": "stdout",
     "output_type": "stream",
     "text": [
      "Epoch 119/500\n",
      "199/199 [==============================] - 2s 10ms/step - loss: 0.0427 - acc: 0.9837 - val_loss: 0.0638 - val_acc: 0.9772\n",
      "Epoch 120/500\n",
      "199/199 [==============================] - 2s 10ms/step - loss: 0.0428 - acc: 0.9835 - val_loss: 0.0636 - val_acc: 0.9776\n",
      "\n",
      "Epoch 00120: ReduceLROnPlateau reducing learning rate to 3.981071838171537e-05.\n",
      "Epoch 121/500\n",
      "199/199 [==============================] - 2s 10ms/step - loss: 0.0419 - acc: 0.9841 - val_loss: 0.0643 - val_acc: 0.9773\n",
      "Epoch 122/500\n",
      "199/199 [==============================] - 2s 10ms/step - loss: 0.0401 - acc: 0.9848 - val_loss: 0.0651 - val_acc: 0.9765\n",
      "Epoch 123/500\n",
      "199/199 [==============================] - 2s 10ms/step - loss: 0.0405 - acc: 0.9848 - val_loss: 0.0632 - val_acc: 0.9773\n",
      "Epoch 124/500\n",
      "199/199 [==============================] - 2s 10ms/step - loss: 0.0410 - acc: 0.9843 - val_loss: 0.0635 - val_acc: 0.9776\n",
      "Epoch 125/500\n",
      "199/199 [==============================] - 2s 10ms/step - loss: 0.0400 - acc: 0.9849 - val_loss: 0.0638 - val_acc: 0.9773\n",
      "\n",
      "Epoch 00125: ReduceLROnPlateau reducing learning rate to 2.5118865283496142e-05.\n",
      "Epoch 126/500\n",
      "199/199 [==============================] - 2s 10ms/step - loss: 0.0390 - acc: 0.9855 - val_loss: 0.0633 - val_acc: 0.9773\n",
      "Epoch 127/500\n",
      "199/199 [==============================] - 2s 10ms/step - loss: 0.0389 - acc: 0.9856 - val_loss: 0.0634 - val_acc: 0.9776\n",
      "Epoch 128/500\n",
      "199/199 [==============================] - 2s 10ms/step - loss: 0.0388 - acc: 0.9854 - val_loss: 0.0648 - val_acc: 0.9771\n",
      "Epoch 129/500\n",
      "199/199 [==============================] - 2s 10ms/step - loss: 0.0390 - acc: 0.9854 - val_loss: 0.0635 - val_acc: 0.9777\n",
      "Epoch 130/500\n",
      "199/199 [==============================] - 2s 10ms/step - loss: 0.0386 - acc: 0.9857 - val_loss: 0.0637 - val_acc: 0.9775\n",
      "\n",
      "Epoch 00130: ReduceLROnPlateau reducing learning rate to 1.5848932274101303e-05.\n",
      "Epoch 131/500\n",
      "199/199 [==============================] - 2s 10ms/step - loss: 0.0377 - acc: 0.9859 - val_loss: 0.0631 - val_acc: 0.9775\n",
      "Epoch 132/500\n",
      "199/199 [==============================] - 2s 10ms/step - loss: 0.0373 - acc: 0.9862 - val_loss: 0.0654 - val_acc: 0.9771\n",
      "Epoch 133/500\n",
      "199/199 [==============================] - 2s 10ms/step - loss: 0.0385 - acc: 0.9855 - val_loss: 0.0631 - val_acc: 0.9777\n",
      "Epoch 134/500\n",
      "199/199 [==============================] - 2s 10ms/step - loss: 0.0372 - acc: 0.9862 - val_loss: 0.0633 - val_acc: 0.9774\n",
      "Epoch 135/500\n",
      "199/199 [==============================] - 2s 10ms/step - loss: 0.0371 - acc: 0.9863 - val_loss: 0.0653 - val_acc: 0.9772\n",
      "\n",
      "Epoch 00135: ReduceLROnPlateau reducing learning rate to 1.0000000608891671e-05.\n",
      "Epoch 136/500\n",
      "199/199 [==============================] - 2s 10ms/step - loss: 0.0371 - acc: 0.9860 - val_loss: 0.0628 - val_acc: 0.9779\n",
      "Epoch 137/500\n",
      "199/199 [==============================] - 2s 10ms/step - loss: 0.0374 - acc: 0.9860 - val_loss: 0.0628 - val_acc: 0.9778\n",
      "Epoch 138/500\n",
      "199/199 [==============================] - 2s 10ms/step - loss: 0.0372 - acc: 0.9862 - val_loss: 0.0631 - val_acc: 0.9780\n",
      "Epoch 139/500\n",
      "199/199 [==============================] - 2s 10ms/step - loss: 0.0371 - acc: 0.9863 - val_loss: 0.0634 - val_acc: 0.9778\n",
      "Epoch 140/500\n",
      "199/199 [==============================] - 2s 10ms/step - loss: 0.0364 - acc: 0.9864 - val_loss: 0.0630 - val_acc: 0.9780\n",
      "Epoch 141/500\n",
      "199/199 [==============================] - 2s 10ms/step - loss: 0.0371 - acc: 0.9863 - val_loss: 0.0632 - val_acc: 0.9775\n",
      "Epoch 142/500\n",
      "199/199 [==============================] - 2s 10ms/step - loss: 0.0367 - acc: 0.9863 - val_loss: 0.0635 - val_acc: 0.9777\n",
      "\n",
      "Epoch 00142: ReduceLROnPlateau reducing learning rate to 1e-05.\n",
      "Epoch 143/500\n",
      "199/199 [==============================] - 2s 10ms/step - loss: 0.0362 - acc: 0.9863 - val_loss: 0.0636 - val_acc: 0.9777\n",
      "Epoch 144/500\n",
      "199/199 [==============================] - 2s 10ms/step - loss: 0.0359 - acc: 0.9866 - val_loss: 0.0633 - val_acc: 0.9779\n",
      "Epoch 145/500\n",
      "199/199 [==============================] - 2s 10ms/step - loss: 0.0369 - acc: 0.9862 - val_loss: 0.0635 - val_acc: 0.9778\n",
      "Epoch 146/500\n",
      "199/199 [==============================] - 2s 10ms/step - loss: 0.0365 - acc: 0.9865 - val_loss: 0.0634 - val_acc: 0.9777\n",
      "Epoch 147/500\n",
      "199/199 [==============================] - 2s 10ms/step - loss: 0.0351 - acc: 0.9866 - val_loss: 0.0634 - val_acc: 0.9777\n",
      "Epoch 148/500\n",
      "199/199 [==============================] - 2s 10ms/step - loss: 0.0365 - acc: 0.9867 - val_loss: 0.0633 - val_acc: 0.9780\n",
      "Epoch 149/500\n",
      "199/199 [==============================] - 2s 10ms/step - loss: 0.0372 - acc: 0.9860 - val_loss: 0.0640 - val_acc: 0.9778\n",
      "Epoch 150/500\n",
      "199/199 [==============================] - 2s 10ms/step - loss: 0.0361 - acc: 0.9866 - val_loss: 0.0635 - val_acc: 0.9777\n",
      "Epoch 151/500\n",
      "199/199 [==============================] - 2s 10ms/step - loss: 0.0371 - acc: 0.9862 - val_loss: 0.0636 - val_acc: 0.9777\n",
      "Epoch 152/500\n",
      "199/199 [==============================] - 2s 10ms/step - loss: 0.0366 - acc: 0.9865 - val_loss: 0.0635 - val_acc: 0.9777\n",
      "Epoch 153/500\n",
      "199/199 [==============================] - 2s 10ms/step - loss: 0.0366 - acc: 0.9865 - val_loss: 0.0639 - val_acc: 0.9778\n",
      "Epoch 154/500\n",
      "199/199 [==============================] - 2s 10ms/step - loss: 0.0377 - acc: 0.9858 - val_loss: 0.0632 - val_acc: 0.9778\n",
      "Epoch 155/500\n",
      "199/199 [==============================] - 2s 10ms/step - loss: 0.0368 - acc: 0.9863 - val_loss: 0.0634 - val_acc: 0.9779\n",
      "Epoch 156/500\n",
      "199/199 [==============================] - 2s 10ms/step - loss: 0.0364 - acc: 0.9866 - val_loss: 0.0634 - val_acc: 0.9780\n",
      "Epoch 157/500\n",
      "199/199 [==============================] - 2s 10ms/step - loss: 0.0360 - acc: 0.9866 - val_loss: 0.0638 - val_acc: 0.9778\n",
      "Epoch 158/500\n",
      "199/199 [==============================] - 2s 10ms/step - loss: 0.0360 - acc: 0.9865 - val_loss: 0.0633 - val_acc: 0.9779\n",
      "Epoch 159/500\n",
      "199/199 [==============================] - 2s 10ms/step - loss: 0.0362 - acc: 0.9866 - val_loss: 0.0640 - val_acc: 0.9779\n",
      "Epoch 160/500\n",
      "199/199 [==============================] - 2s 10ms/step - loss: 0.0357 - acc: 0.9867 - val_loss: 0.0649 - val_acc: 0.9773\n",
      "Epoch 161/500\n",
      "199/199 [==============================] - 2s 10ms/step - loss: 0.0347 - acc: 0.9873 - val_loss: 0.0634 - val_acc: 0.9778\n",
      "Epoch 162/500\n",
      "199/199 [==============================] - 2s 10ms/step - loss: 0.0353 - acc: 0.9866 - val_loss: 0.0641 - val_acc: 0.9777\n",
      "Epoch 163/500\n",
      "199/199 [==============================] - 2s 10ms/step - loss: 0.0357 - acc: 0.9867 - val_loss: 0.0643 - val_acc: 0.9776\n",
      "Epoch 164/500\n",
      "199/199 [==============================] - 2s 10ms/step - loss: 0.0354 - acc: 0.9865 - val_loss: 0.0635 - val_acc: 0.9778\n",
      "Epoch 165/500\n",
      "199/199 [==============================] - 2s 10ms/step - loss: 0.0365 - acc: 0.9867 - val_loss: 0.0637 - val_acc: 0.9779\n",
      "Epoch 166/500\n",
      "199/199 [==============================] - 2s 10ms/step - loss: 0.0358 - acc: 0.9867 - val_loss: 0.0637 - val_acc: 0.9778\n",
      "Epoch 167/500\n",
      "199/199 [==============================] - 2s 10ms/step - loss: 0.0350 - acc: 0.9870 - val_loss: 0.0639 - val_acc: 0.9777\n",
      "Epoch 168/500\n",
      "199/199 [==============================] - 2s 11ms/step - loss: 0.0367 - acc: 0.9865 - val_loss: 0.0635 - val_acc: 0.9778\n",
      "Epoch 169/500\n",
      "199/199 [==============================] - 2s 10ms/step - loss: 0.0352 - acc: 0.9870 - val_loss: 0.0637 - val_acc: 0.9780\n",
      "Epoch 170/500\n",
      "199/199 [==============================] - 2s 10ms/step - loss: 0.0357 - acc: 0.9867 - val_loss: 0.0638 - val_acc: 0.9778\n",
      "Epoch 171/500\n",
      "199/199 [==============================] - 2s 10ms/step - loss: 0.0349 - acc: 0.9870 - val_loss: 0.0637 - val_acc: 0.9779\n",
      "Epoch 172/500\n",
      "199/199 [==============================] - 2s 10ms/step - loss: 0.0352 - acc: 0.9870 - val_loss: 0.0643 - val_acc: 0.9777\n",
      "Epoch 173/500\n",
      "199/199 [==============================] - 2s 10ms/step - loss: 0.0353 - acc: 0.9871 - val_loss: 0.0646 - val_acc: 0.9775\n",
      "Epoch 174/500\n",
      "199/199 [==============================] - 2s 10ms/step - loss: 0.0350 - acc: 0.9867 - val_loss: 0.0641 - val_acc: 0.9779\n",
      "Epoch 175/500\n",
      "199/199 [==============================] - 2s 10ms/step - loss: 0.0348 - acc: 0.9871 - val_loss: 0.0638 - val_acc: 0.9779\n",
      "Epoch 176/500\n"
     ]
    },
    {
     "name": "stdout",
     "output_type": "stream",
     "text": [
      "199/199 [==============================] - 2s 10ms/step - loss: 0.0350 - acc: 0.9868 - val_loss: 0.0638 - val_acc: 0.9778\n",
      "Epoch 177/500\n",
      "199/199 [==============================] - 2s 10ms/step - loss: 0.0355 - acc: 0.9865 - val_loss: 0.0640 - val_acc: 0.9777\n",
      "Epoch 178/500\n",
      "199/199 [==============================] - 2s 10ms/step - loss: 0.0348 - acc: 0.9873 - val_loss: 0.0638 - val_acc: 0.9780\n",
      "Epoch 179/500\n",
      "199/199 [==============================] - 2s 10ms/step - loss: 0.0345 - acc: 0.9871 - val_loss: 0.0637 - val_acc: 0.9780\n",
      "Epoch 180/500\n",
      "199/199 [==============================] - 2s 10ms/step - loss: 0.0352 - acc: 0.9869 - val_loss: 0.0638 - val_acc: 0.9781\n",
      "Epoch 181/500\n",
      "199/199 [==============================] - 2s 10ms/step - loss: 0.0355 - acc: 0.9867 - val_loss: 0.0640 - val_acc: 0.9779\n",
      "Epoch 182/500\n",
      "199/199 [==============================] - 2s 10ms/step - loss: 0.0348 - acc: 0.9871 - val_loss: 0.0645 - val_acc: 0.9779\n",
      "Epoch 183/500\n",
      "199/199 [==============================] - 2s 10ms/step - loss: 0.0349 - acc: 0.9872 - val_loss: 0.0640 - val_acc: 0.9779\n",
      "Epoch 184/500\n",
      "199/199 [==============================] - 2s 10ms/step - loss: 0.0352 - acc: 0.9872 - val_loss: 0.0643 - val_acc: 0.9779\n",
      "Epoch 185/500\n",
      "199/199 [==============================] - 2s 10ms/step - loss: 0.0350 - acc: 0.9870 - val_loss: 0.0640 - val_acc: 0.9780\n",
      "Epoch 186/500\n",
      "199/199 [==============================] - 2s 10ms/step - loss: 0.0349 - acc: 0.9869 - val_loss: 0.0645 - val_acc: 0.9777\n",
      "Epoch 187/500\n",
      "199/199 [==============================] - 2s 10ms/step - loss: 0.0345 - acc: 0.9872 - val_loss: 0.0642 - val_acc: 0.9780\n",
      "Epoch 00187: early stopping\n"
     ]
    }
   ],
   "source": [
    "# now train the model\n",
    "\n",
    "reduce_lr = tf.keras.callbacks.ReduceLROnPlateau(monitor='val_loss', \n",
    "                              factor=0.1**(1/5), patience=5, min_lr=1e-5,\n",
    "                                                verbose=1)\n",
    "\n",
    "early_stop = tf.keras.callbacks.EarlyStopping(monitor='val_loss', patience=50, \n",
    "                                              verbose=1)\n",
    "\n",
    "callbacks = [reduce_lr,early_stop]\n",
    "\n",
    "hist1 = pfn.fit(X_train, Y_train,\n",
    "        epochs=num_epoch,\n",
    "        batch_size=batch_size,\n",
    "        validation_data=(X_val, Y_val),\n",
    "        class_weight=class_weight,\n",
    "        callbacks=callbacks,\n",
    "        verbose=1)"
   ]
  },
  {
   "cell_type": "markdown",
   "id": "0fac1861",
   "metadata": {},
   "source": [
    "# Analyze the Model"
   ]
  },
  {
   "cell_type": "code",
   "execution_count": 23,
   "id": "531ee50e",
   "metadata": {},
   "outputs": [
    {
     "name": "stdout",
     "output_type": "stream",
     "text": [
      "\n",
      "PFN AUC: 0.9975527067682336\n",
      "\n"
     ]
    }
   ],
   "source": [
    "# get predictions on test data\n",
    "preds = pfn.predict(X_test, batch_size=10000)\n",
    "\n",
    "# get ROC curve\n",
    "pfn_fp, pfn_tp, threshs = roc_curve(Y_test[:,1], preds[:,1])\n",
    "\n",
    "# get area under the ROC curve\n",
    "auc = roc_auc_score(Y_test[:,1], preds[:,1])\n",
    "print()\n",
    "print('PFN AUC:', auc)\n",
    "print()"
   ]
  },
  {
   "cell_type": "code",
   "execution_count": 25,
   "id": "9190f668",
   "metadata": {},
   "outputs": [
    {
     "data": {
      "image/png": "[encoded data removed]",
      "text/plain": [
       "<Figure size 432x288 with 1 Axes>"
      ]
     },
     "metadata": {
      "needs_background": "light"
     },
     "output_type": "display_data"
    }
   ],
   "source": [
    "plt.plot(hist1.history[\"loss\"],label=\"loss\")\n",
    "plt.plot(hist1.history[\"val_loss\"],label=\"validation loss\")\n",
    "plt.legend()\n",
    "plt.show()"
   ]
  },
  {
   "cell_type": "code",
   "execution_count": 26,
   "id": "bcf5a3ff",
   "metadata": {},
   "outputs": [
    {
     "data": {
      "image/png": "[encoded data removed]",
      "text/plain": [
       "<Figure size 432x288 with 1 Axes>"
      ]
     },
     "metadata": {
      "needs_background": "light"
     },
     "output_type": "display_data"
    }
   ],
   "source": [
    "plt.plot(hist1.history[\"acc\"],label=\"acc\")\n",
    "plt.plot(hist1.history[\"val_acc\"],label=\"validation acc\")\n",
    "plt.legend()\n",
    "plt.show()"
   ]
  },
  {
   "cell_type": "code",
   "execution_count": null,
   "id": "0a1abd7d",
   "metadata": {},
   "outputs": [],
   "source": []
  }
 ],
 "metadata": {
  "kernelspec": {
   "display_name": "Python 3 (ipykernel)",
   "language": "python",
   "name": "python3"
  },
  "language_info": {
   "codemirror_mode": {
    "name": "ipython",
    "version": 3
   },
   "file_extension": ".py",
   "mimetype": "text/x-python",
   "name": "python",
   "nbconvert_exporter": "python",
   "pygments_lexer": "ipython3",
   "version": "3.8.12"
  }
 },
 "nbformat": 4,
 "nbformat_minor": 5
}
