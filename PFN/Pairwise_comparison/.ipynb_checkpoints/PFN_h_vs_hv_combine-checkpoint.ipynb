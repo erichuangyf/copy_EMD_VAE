{
 "cells": [
  {
   "cell_type": "markdown",
   "id": "4ef50705",
   "metadata": {},
   "source": [
    "# Import and Initialization"
   ]
  },
  {
   "cell_type": "code",
   "execution_count": 1,
   "id": "05a505b0",
   "metadata": {},
   "outputs": [
    {
     "name": "stderr",
     "output_type": "stream",
     "text": [
      "2022-05-04 14:55:52.994686: I tensorflow/stream_executor/platform/default/dso_loader.cc:49] Successfully opened dynamic library libcudart.so.10.1\n"
     ]
    }
   ],
   "source": [
    "%load_ext autoreload\n",
    "%autoreload 2\n",
    "\n",
    "import tensorflow as tf\n",
    "\n",
    "# standard library imports\n",
    "from __future__ import absolute_import, division, print_function\n",
    "\n",
    "# standard numerical library imports\n",
    "import numpy as np\n",
    "\n",
    "# energyflow imports\n",
    "import energyflow as ef\n",
    "from energyflow.archs import PFN\n",
    "from energyflow.datasets import qg_jets\n",
    "from energyflow.utils import data_split, remap_pids, to_categorical\n",
    "\n",
    "from sklearn.metrics import roc_auc_score, roc_curve\n",
    "import matplotlib.pyplot as plt\n",
    "\n",
    "\n",
    "import pandas\n",
    "import h5py\n",
    "import pickle\n",
    "\n",
    "import datetime"
   ]
  },
  {
   "cell_type": "code",
   "execution_count": 2,
   "id": "45667e4d",
   "metadata": {},
   "outputs": [],
   "source": [
    "# configs\n",
    "train, val, test = 0.6, 0.3, 0.1\n",
    "Phi_sizes, F_sizes = (256, 256, 256), (256, 256, 256)\n",
    "num_epoch = 500\n",
    "batch_size = 1000\n",
    "muon_feature_number = 6"
   ]
  },
  {
   "cell_type": "markdown",
   "id": "8c5aa5d4",
   "metadata": {},
   "source": [
    "# Load and Process Data"
   ]
  },
  {
   "cell_type": "code",
   "execution_count": 3,
   "id": "25276321",
   "metadata": {},
   "outputs": [],
   "source": [
    "signal_1_df = \"/global/home/users/yifengh3/VAE/new_data/h_signal_big.h5\"\n",
    "signal_2_df = \"/global/home/users/yifengh3/VAE/new_data/hv_signal_big.h5\"\n",
    "signal_1_muon_df = \"/global/home/users/yifengh3/VAE/new_data/muon_data/h_signal_big_muons.h5\"\n",
    "signal_2_muon_df = \"/global/home/users/yifengh3/VAE/new_data/muon_data/hv_signal_big_muons.h5\"\n",
    "signal_1 = pandas.read_hdf(signal_1_df)\n",
    "signal_2 = pandas.read_hdf(signal_2_df)\n",
    "raw_signal_1_muon = pandas.read_hdf(signal_1_muon_df)\n",
    "raw_signal_2_muon = pandas.read_hdf(signal_2_muon_df)"
   ]
  },
  {
   "cell_type": "code",
   "execution_count": 4,
   "id": "646d74c9",
   "metadata": {},
   "outputs": [
    {
     "name": "stdout",
     "output_type": "stream",
     "text": [
      "signal_1 data shape: (173692, 200)\n",
      "signal_2 data shape: (157772, 200)\n",
      "signal_1 muon data shape: (173692, 8)\n",
      "signal_2 muon data shape: (157772, 8)\n"
     ]
    }
   ],
   "source": [
    "print(\"signal_1 data shape: {}\".format(signal_1.shape))\n",
    "print(\"signal_2 data shape: {}\".format(signal_2.shape))\n",
    "print(\"signal_1 muon data shape: {}\".format(raw_signal_1_muon.shape))\n",
    "print(\"signal_2 muon data shape: {}\".format(raw_signal_2_muon.shape))"
   ]
  },
  {
   "cell_type": "code",
   "execution_count": 5,
   "id": "3edf6b5e",
   "metadata": {},
   "outputs": [],
   "source": [
    "# no longer needed\n",
    "# #Truncate the nan inside muon data\n",
    "# signal_1_muon = raw_signal_1_muon.to_numpy()[:,:8]\n",
    "# signal_2_muon = raw_signal_2_muon.to_numpy()[:,:8]\n",
    "signal_1_muon, signal_2_muon = raw_signal_1_muon, raw_signal_2_muon"
   ]
  },
  {
   "cell_type": "code",
   "execution_count": 6,
   "id": "8c1b8120",
   "metadata": {},
   "outputs": [
    {
     "name": "stdout",
     "output_type": "stream",
     "text": [
      "signal_1 muon data shape: (173692, 8)\n",
      "signal_2 muon data shape: (157772, 8)\n"
     ]
    }
   ],
   "source": [
    "print(\"signal_1 muon data shape: {}\".format(signal_1_muon.shape))\n",
    "print(\"signal_2 muon data shape: {}\".format(signal_2_muon.shape))"
   ]
  },
  {
   "cell_type": "code",
   "execution_count": 7,
   "id": "dabd209a",
   "metadata": {},
   "outputs": [],
   "source": [
    "# mix two data array into one signal array\n",
    "signal_1_combined = np.hstack((signal_1,signal_1_muon))\n",
    "signal_2_combined =  np.hstack((signal_2,signal_2_muon))"
   ]
  },
  {
   "cell_type": "code",
   "execution_count": 8,
   "id": "e582ac98",
   "metadata": {},
   "outputs": [],
   "source": [
    "# assign labels to signal and background data, 0 for sig1,  1 for sig2\n",
    "# (updated since we might get multiple signals) \n",
    "labeled_sig1 = np.append(signal_1_combined,np.zeros((signal_1.shape[0],1)),axis=1)\n",
    "labeled_sig2 = np.append(signal_2_combined,np.ones((signal_2.shape[0],1)),axis=1)\n",
    "\n",
    "data = np.concatenate([labeled_sig1,labeled_sig2])"
   ]
  },
  {
   "cell_type": "code",
   "execution_count": 9,
   "id": "8540cc44",
   "metadata": {},
   "outputs": [
    {
     "name": "stdout",
     "output_type": "stream",
     "text": [
      "(331464, 209)\n"
     ]
    }
   ],
   "source": [
    "print(data.shape)"
   ]
  },
  {
   "cell_type": "code",
   "execution_count": 10,
   "id": "34eaf99c",
   "metadata": {},
   "outputs": [],
   "source": [
    "X = data[:,:-1]\n",
    "y = data[:,-1]"
   ]
  },
  {
   "cell_type": "code",
   "execution_count": 11,
   "id": "d078bbf6",
   "metadata": {},
   "outputs": [
    {
     "name": "stdout",
     "output_type": "stream",
     "text": [
      "shape of X: (331464, 208)\n",
      "shape of Y: (331464,)\n"
     ]
    }
   ],
   "source": [
    "print(\"shape of X: {}\".format(X.shape))\n",
    "print(\"shape of Y: {}\".format(y.shape))"
   ]
  },
  {
   "cell_type": "code",
   "execution_count": 12,
   "id": "ea34616a",
   "metadata": {},
   "outputs": [
    {
     "name": "stdout",
     "output_type": "stream",
     "text": [
      "Weight for background: 0.95\n",
      "Weight for signal: 1.05\n"
     ]
    }
   ],
   "source": [
    "# Scaling by total/2 helps keep the loss to a similar magnitude.\n",
    "# The sum of the weights of all examples stays the same.\n",
    "total = labeled_sig1.shape[0] + labeled_sig2.shape[0]\n",
    "weight_for_0 = (1 / labeled_sig1.shape[0]) * (total / 2.0)\n",
    "weight_for_1 = (1 / labeled_sig2.shape[0]) * (total / 2.0)\n",
    "\n",
    "\n",
    "class_weight = {0: weight_for_0, 1: weight_for_1}\n",
    "\n",
    "print('Weight for background: {:.2f}'.format(weight_for_0))\n",
    "print('Weight for signal: {:.2f}'.format(weight_for_1))"
   ]
  },
  {
   "cell_type": "code",
   "execution_count": 13,
   "id": "c3e0e641",
   "metadata": {},
   "outputs": [],
   "source": [
    "# To categorical as stipulated in example\n",
    "Y = to_categorical(y, num_classes=2)\n",
    "\n",
    "# Reshape X to shape (number of jets, 50, 4)\n",
    "X = X.reshape(-1,52,4)\n",
    "\n",
    "# ignore the pid info\n",
    "X = X[:,:,:3]"
   ]
  },
  {
   "cell_type": "code",
   "execution_count": 14,
   "id": "4937293a",
   "metadata": {},
   "outputs": [],
   "source": [
    "X = X.astype(\"float64\")"
   ]
  },
  {
   "cell_type": "code",
   "execution_count": 15,
   "id": "3f3e9fdd",
   "metadata": {},
   "outputs": [
    {
     "name": "stdout",
     "output_type": "stream",
     "text": [
      "(331464, 52, 3)\n"
     ]
    }
   ],
   "source": [
    "print(X.shape)"
   ]
  },
  {
   "cell_type": "code",
   "execution_count": 16,
   "id": "6a6fe36d",
   "metadata": {},
   "outputs": [],
   "source": [
    "# # normalizing jets\n",
    "# # copied from example\n",
    "# import tqdm\n",
    "# for x in tqdm.tqdm(X):\n",
    "#     # now add the status bar :)\n",
    "#     mask = x[:,0] > 0\n",
    "#     yphi_avg = np.average(x[mask,1:3], weights=x[mask,0], axis=0)\n",
    "#     x[mask,1:3] -= yphi_avg\n",
    "#     x[mask,0] /= x[:,0].sum()"
   ]
  },
  {
   "cell_type": "code",
   "execution_count": 17,
   "id": "939de622",
   "metadata": {},
   "outputs": [],
   "source": [
    "# do train/val/test split \n",
    "(X_train, X_val, X_test,\n",
    " Y_train, Y_val, Y_test) = data_split(X, Y, val=val, test=test, shuffle=True)"
   ]
  },
  {
   "cell_type": "code",
   "execution_count": 18,
   "id": "c3e18f2d",
   "metadata": {},
   "outputs": [],
   "source": [
    "def to_combined_data(X):\n",
    "    return [X[:,:50],X[:,-2:].reshape([-1,6])]"
   ]
  },
  {
   "cell_type": "code",
   "execution_count": 19,
   "id": "0dca6a74",
   "metadata": {},
   "outputs": [],
   "source": [
    "(X_train, X_val, X_test) = (to_combined_data(X_train),to_combined_data(X_val),to_combined_data(X_test))"
   ]
  },
  {
   "cell_type": "code",
   "execution_count": 20,
   "id": "74dd70db",
   "metadata": {},
   "outputs": [
    {
     "name": "stdout",
     "output_type": "stream",
     "text": [
      "(198879, 50, 3) (198879, 6)\n"
     ]
    }
   ],
   "source": [
    "print(X_train[0].shape,X_train[1].shape)"
   ]
  },
  {
   "cell_type": "markdown",
   "id": "bc6339cd",
   "metadata": {},
   "source": [
    "# Build and Train the Model"
   ]
  },
  {
   "cell_type": "code",
   "execution_count": 21,
   "id": "4876d9dc",
   "metadata": {},
   "outputs": [
    {
     "name": "stdout",
     "output_type": "stream",
     "text": [
      "Model summary:\n"
     ]
    },
    {
     "name": "stderr",
     "output_type": "stream",
     "text": [
      "2022-05-04 14:55:56.980845: I tensorflow/compiler/jit/xla_cpu_device.cc:41] Not creating XLA devices, tf_xla_enable_xla_devices not set\n",
      "2022-05-04 14:55:56.982136: I tensorflow/stream_executor/platform/default/dso_loader.cc:49] Successfully opened dynamic library libcuda.so.1\n",
      "2022-05-04 14:55:57.021521: I tensorflow/core/common_runtime/gpu/gpu_device.cc:1720] Found device 0 with properties: \n",
      "pciBusID: 0000:81:00.0 name: Quadro RTX 6000 computeCapability: 7.5\n",
      "coreClock: 1.77GHz coreCount: 72 deviceMemorySize: 23.65GiB deviceMemoryBandwidth: 625.94GiB/s\n",
      "2022-05-04 14:55:57.021542: I tensorflow/stream_executor/platform/default/dso_loader.cc:49] Successfully opened dynamic library libcudart.so.10.1\n",
      "2022-05-04 14:55:57.023425: I tensorflow/stream_executor/platform/default/dso_loader.cc:49] Successfully opened dynamic library libcublas.so.10\n",
      "2022-05-04 14:55:57.023464: I tensorflow/stream_executor/platform/default/dso_loader.cc:49] Successfully opened dynamic library libcublasLt.so.10\n",
      "2022-05-04 14:55:57.025345: I tensorflow/stream_executor/platform/default/dso_loader.cc:49] Successfully opened dynamic library libcufft.so.10\n",
      "2022-05-04 14:55:57.025611: I tensorflow/stream_executor/platform/default/dso_loader.cc:49] Successfully opened dynamic library libcurand.so.10\n",
      "2022-05-04 14:55:57.027367: I tensorflow/stream_executor/platform/default/dso_loader.cc:49] Successfully opened dynamic library libcusolver.so.10\n",
      "2022-05-04 14:55:57.028201: I tensorflow/stream_executor/platform/default/dso_loader.cc:49] Successfully opened dynamic library libcusparse.so.10\n",
      "2022-05-04 14:55:57.031829: I tensorflow/stream_executor/platform/default/dso_loader.cc:49] Successfully opened dynamic library libcudnn.so.7\n",
      "2022-05-04 14:55:57.034951: I tensorflow/core/common_runtime/gpu/gpu_device.cc:1862] Adding visible gpu devices: 0\n",
      "2022-05-04 14:55:57.035377: I tensorflow/core/platform/cpu_feature_guard.cc:142] This TensorFlow binary is optimized with oneAPI Deep Neural Network Library (oneDNN) to use the following CPU instructions in performance-critical operations:  SSE4.1 SSE4.2 AVX AVX2 FMA\n",
      "To enable them in other operations, rebuild TensorFlow with the appropriate compiler flags.\n",
      "2022-05-04 14:55:57.038540: I tensorflow/core/common_runtime/gpu/gpu_device.cc:1720] Found device 0 with properties: \n",
      "pciBusID: 0000:81:00.0 name: Quadro RTX 6000 computeCapability: 7.5\n",
      "coreClock: 1.77GHz coreCount: 72 deviceMemorySize: 23.65GiB deviceMemoryBandwidth: 625.94GiB/s\n",
      "2022-05-04 14:55:57.038559: I tensorflow/stream_executor/platform/default/dso_loader.cc:49] Successfully opened dynamic library libcudart.so.10.1\n",
      "2022-05-04 14:55:57.038578: I tensorflow/stream_executor/platform/default/dso_loader.cc:49] Successfully opened dynamic library libcublas.so.10\n",
      "2022-05-04 14:55:57.038590: I tensorflow/stream_executor/platform/default/dso_loader.cc:49] Successfully opened dynamic library libcublasLt.so.10\n",
      "2022-05-04 14:55:57.038601: I tensorflow/stream_executor/platform/default/dso_loader.cc:49] Successfully opened dynamic library libcufft.so.10\n",
      "2022-05-04 14:55:57.038611: I tensorflow/stream_executor/platform/default/dso_loader.cc:49] Successfully opened dynamic library libcurand.so.10\n",
      "2022-05-04 14:55:57.038622: I tensorflow/stream_executor/platform/default/dso_loader.cc:49] Successfully opened dynamic library libcusolver.so.10\n",
      "2022-05-04 14:55:57.038633: I tensorflow/stream_executor/platform/default/dso_loader.cc:49] Successfully opened dynamic library libcusparse.so.10\n",
      "2022-05-04 14:55:57.038644: I tensorflow/stream_executor/platform/default/dso_loader.cc:49] Successfully opened dynamic library libcudnn.so.7\n",
      "2022-05-04 14:55:57.041190: I tensorflow/core/common_runtime/gpu/gpu_device.cc:1862] Adding visible gpu devices: 0\n",
      "2022-05-04 14:55:57.041218: I tensorflow/stream_executor/platform/default/dso_loader.cc:49] Successfully opened dynamic library libcudart.so.10.1\n",
      "2022-05-04 14:55:57.617098: I tensorflow/core/common_runtime/gpu/gpu_device.cc:1261] Device interconnect StreamExecutor with strength 1 edge matrix:\n",
      "2022-05-04 14:55:57.617146: I tensorflow/core/common_runtime/gpu/gpu_device.cc:1267]      0 \n",
      "2022-05-04 14:55:57.617157: I tensorflow/core/common_runtime/gpu/gpu_device.cc:1280] 0:   N \n",
      "2022-05-04 14:55:57.621988: I tensorflow/core/common_runtime/gpu/gpu_device.cc:1406] Created TensorFlow device (/job:localhost/replica:0/task:0/device:GPU:0 with 22017 MB memory) -> physical GPU (device: 0, name: Quadro RTX 6000, pci bus id: 0000:81:00.0, compute capability: 7.5)\n",
      "2022-05-04 14:55:57.622352: I tensorflow/compiler/jit/xla_gpu_device.cc:99] Not creating XLA devices, tf_xla_enable_xla_devices not set\n"
     ]
    },
    {
     "name": "stdout",
     "output_type": "stream",
     "text": [
      "Model: \"model\"\n",
      "__________________________________________________________________________________________________\n",
      "Layer (type)                    Output Shape         Param #     Connected to                     \n",
      "==================================================================================================\n",
      "input (InputLayer)              [(None, None, 3)]    0                                            \n",
      "__________________________________________________________________________________________________\n",
      "tdist_0 (TimeDistributed)       (None, None, 256)    1024        input[0][0]                      \n",
      "__________________________________________________________________________________________________\n",
      "activation (Activation)         (None, None, 256)    0           tdist_0[0][0]                    \n",
      "__________________________________________________________________________________________________\n",
      "tdist_1 (TimeDistributed)       (None, None, 256)    65792       activation[0][0]                 \n",
      "__________________________________________________________________________________________________\n",
      "activation_1 (Activation)       (None, None, 256)    0           tdist_1[0][0]                    \n",
      "__________________________________________________________________________________________________\n",
      "tdist_2 (TimeDistributed)       (None, None, 256)    65792       activation_1[0][0]               \n",
      "__________________________________________________________________________________________________\n",
      "mask (Lambda)                   (None, None)         0           input[0][0]                      \n",
      "__________________________________________________________________________________________________\n",
      "activation_2 (Activation)       (None, None, 256)    0           tdist_2[0][0]                    \n",
      "__________________________________________________________________________________________________\n",
      "sum (Dot)                       (None, 256)          0           mask[0][0]                       \n",
      "                                                                 activation_2[0][0]               \n",
      "__________________________________________________________________________________________________\n",
      "num_global_features (InputLayer [(None, 6)]          0                                            \n",
      "__________________________________________________________________________________________________\n",
      "concat (Concatenate)            (None, 262)          0           sum[0][0]                        \n",
      "                                                                 num_global_features[0][0]        \n",
      "__________________________________________________________________________________________________\n",
      "dense_0 (Dense)                 (None, 256)          67328       concat[0][0]                     \n",
      "__________________________________________________________________________________________________\n",
      "activation_3 (Activation)       (None, 256)          0           dense_0[0][0]                    \n",
      "__________________________________________________________________________________________________\n",
      "dense_1 (Dense)                 (None, 256)          65792       activation_3[0][0]               \n",
      "__________________________________________________________________________________________________\n",
      "activation_4 (Activation)       (None, 256)          0           dense_1[0][0]                    \n",
      "__________________________________________________________________________________________________\n",
      "dense_2 (Dense)                 (None, 256)          65792       activation_4[0][0]               \n",
      "__________________________________________________________________________________________________\n",
      "activation_5 (Activation)       (None, 256)          0           dense_2[0][0]                    \n",
      "__________________________________________________________________________________________________\n",
      "output (Dense)                  (None, 2)            514         activation_5[0][0]               \n",
      "__________________________________________________________________________________________________\n",
      "activation_6 (Activation)       (None, 2)            0           output[0][0]                     \n",
      "==================================================================================================\n",
      "Total params: 332,034\n",
      "Trainable params: 332,034\n",
      "Non-trainable params: 0\n",
      "__________________________________________________________________________________________________\n"
     ]
    }
   ],
   "source": [
    "print('Model summary:')\n",
    "\n",
    "# build architecture\n",
    "pfn = PFN(input_dim=X.shape[-1], Phi_sizes=Phi_sizes, F_sizes=F_sizes, num_global_features = muon_feature_number)"
   ]
  },
  {
   "cell_type": "code",
   "execution_count": 22,
   "id": "b559b182",
   "metadata": {
    "scrolled": true
   },
   "outputs": [
    {
     "name": "stderr",
     "output_type": "stream",
     "text": [
      "2022-05-04 14:55:58.230667: I tensorflow/compiler/mlir/mlir_graph_optimization_pass.cc:116] None of the MLIR optimization passes are enabled (registered 2)\n",
      "2022-05-04 14:55:58.231140: I tensorflow/core/platform/profile_utils/cpu_utils.cc:112] CPU Frequency: 2994530000 Hz\n"
     ]
    },
    {
     "name": "stdout",
     "output_type": "stream",
     "text": [
      "Epoch 1/500\n"
     ]
    },
    {
     "name": "stderr",
     "output_type": "stream",
     "text": [
      "2022-05-04 14:55:58.652336: I tensorflow/stream_executor/platform/default/dso_loader.cc:49] Successfully opened dynamic library libcublas.so.10\n"
     ]
    },
    {
     "name": "stdout",
     "output_type": "stream",
     "text": [
      "199/199 [==============================] - 3s 13ms/step - loss: 58.9218 - acc: 0.5893 - val_loss: 0.2582 - val_acc: 0.9151\n",
      "Epoch 2/500\n",
      "199/199 [==============================] - 2s 10ms/step - loss: 0.3812 - acc: 0.8816 - val_loss: 0.2213 - val_acc: 0.9239\n",
      "Epoch 3/500\n",
      "199/199 [==============================] - 2s 10ms/step - loss: 0.2632 - acc: 0.9110 - val_loss: 0.1966 - val_acc: 0.9301\n",
      "Epoch 4/500\n",
      "199/199 [==============================] - 2s 10ms/step - loss: 0.2464 - acc: 0.9138 - val_loss: 0.2005 - val_acc: 0.9248\n",
      "Epoch 5/500\n",
      "199/199 [==============================] - 2s 10ms/step - loss: 0.2300 - acc: 0.9155 - val_loss: 0.3109 - val_acc: 0.8827\n",
      "Epoch 6/500\n",
      "199/199 [==============================] - 2s 10ms/step - loss: 0.2409 - acc: 0.9145 - val_loss: 0.2060 - val_acc: 0.9254\n",
      "Epoch 7/500\n",
      "199/199 [==============================] - 2s 10ms/step - loss: 0.1813 - acc: 0.9310 - val_loss: 0.1871 - val_acc: 0.9307\n",
      "Epoch 8/500\n",
      "199/199 [==============================] - 2s 10ms/step - loss: 0.1769 - acc: 0.9315 - val_loss: 0.1646 - val_acc: 0.9371\n",
      "Epoch 9/500\n",
      "199/199 [==============================] - 2s 10ms/step - loss: 0.1766 - acc: 0.9325 - val_loss: 0.1632 - val_acc: 0.9365\n",
      "Epoch 10/500\n",
      "199/199 [==============================] - 2s 10ms/step - loss: 0.1538 - acc: 0.9400 - val_loss: 0.1869 - val_acc: 0.9352\n",
      "Epoch 11/500\n",
      "199/199 [==============================] - 2s 10ms/step - loss: 0.1558 - acc: 0.9389 - val_loss: 0.1869 - val_acc: 0.9279\n",
      "Epoch 12/500\n",
      "199/199 [==============================] - 2s 10ms/step - loss: 0.1539 - acc: 0.9403 - val_loss: 0.1583 - val_acc: 0.9375\n",
      "Epoch 13/500\n",
      "199/199 [==============================] - 2s 10ms/step - loss: 0.1689 - acc: 0.9347 - val_loss: 0.1430 - val_acc: 0.9441\n",
      "Epoch 14/500\n",
      "199/199 [==============================] - 2s 10ms/step - loss: 0.1453 - acc: 0.9426 - val_loss: 0.1494 - val_acc: 0.9423\n",
      "Epoch 15/500\n",
      "199/199 [==============================] - 2s 10ms/step - loss: 0.1440 - acc: 0.9432 - val_loss: 0.1357 - val_acc: 0.9467\n",
      "Epoch 16/500\n",
      "199/199 [==============================] - 2s 10ms/step - loss: 0.1416 - acc: 0.9448 - val_loss: 0.1391 - val_acc: 0.9448\n",
      "Epoch 17/500\n",
      "199/199 [==============================] - 2s 10ms/step - loss: 0.1449 - acc: 0.9433 - val_loss: 0.1635 - val_acc: 0.9342\n",
      "Epoch 18/500\n",
      "199/199 [==============================] - 2s 10ms/step - loss: 0.1416 - acc: 0.9437 - val_loss: 0.1551 - val_acc: 0.9402\n",
      "Epoch 19/500\n",
      "199/199 [==============================] - 2s 10ms/step - loss: 0.1577 - acc: 0.9388 - val_loss: 0.1326 - val_acc: 0.9486\n",
      "Epoch 20/500\n",
      "199/199 [==============================] - 2s 10ms/step - loss: 0.1332 - acc: 0.9474 - val_loss: 0.1539 - val_acc: 0.9398\n",
      "Epoch 21/500\n",
      "199/199 [==============================] - 2s 10ms/step - loss: 0.1435 - acc: 0.9433 - val_loss: 0.1493 - val_acc: 0.9403\n",
      "Epoch 22/500\n",
      "199/199 [==============================] - 2s 10ms/step - loss: 0.1294 - acc: 0.9493 - val_loss: 0.1244 - val_acc: 0.9512\n",
      "Epoch 23/500\n",
      "199/199 [==============================] - 2s 10ms/step - loss: 0.1354 - acc: 0.9476 - val_loss: 0.1254 - val_acc: 0.9504\n",
      "Epoch 24/500\n",
      "199/199 [==============================] - 2s 10ms/step - loss: 0.1295 - acc: 0.9494 - val_loss: 0.1352 - val_acc: 0.9467\n",
      "Epoch 25/500\n",
      "199/199 [==============================] - 2s 10ms/step - loss: 0.1327 - acc: 0.9475 - val_loss: 0.1210 - val_acc: 0.9526\n",
      "Epoch 26/500\n",
      "199/199 [==============================] - 2s 10ms/step - loss: 0.1254 - acc: 0.9516 - val_loss: 0.1292 - val_acc: 0.9488\n",
      "Epoch 27/500\n",
      "199/199 [==============================] - 2s 10ms/step - loss: 0.1247 - acc: 0.9515 - val_loss: 0.1330 - val_acc: 0.9473\n",
      "Epoch 28/500\n",
      "199/199 [==============================] - 2s 10ms/step - loss: 0.1288 - acc: 0.9496 - val_loss: 0.1250 - val_acc: 0.9508\n",
      "Epoch 29/500\n",
      "199/199 [==============================] - 2s 10ms/step - loss: 0.1227 - acc: 0.9525 - val_loss: 0.1529 - val_acc: 0.9418\n",
      "Epoch 30/500\n",
      "199/199 [==============================] - 2s 10ms/step - loss: 0.1245 - acc: 0.9514 - val_loss: 0.1221 - val_acc: 0.9524\n",
      "\n",
      "Epoch 00030: ReduceLROnPlateau reducing learning rate to 0.000630957374449059.\n",
      "Epoch 31/500\n",
      "199/199 [==============================] - 2s 10ms/step - loss: 0.1102 - acc: 0.9566 - val_loss: 0.1071 - val_acc: 0.9582\n",
      "Epoch 32/500\n",
      "199/199 [==============================] - 2s 10ms/step - loss: 0.1046 - acc: 0.9592 - val_loss: 0.1070 - val_acc: 0.9579\n",
      "Epoch 33/500\n",
      "199/199 [==============================] - 2s 10ms/step - loss: 0.1065 - acc: 0.9588 - val_loss: 0.1227 - val_acc: 0.9519\n",
      "Epoch 34/500\n",
      "199/199 [==============================] - 2s 10ms/step - loss: 0.1093 - acc: 0.9579 - val_loss: 0.1072 - val_acc: 0.9579\n",
      "Epoch 35/500\n",
      "199/199 [==============================] - 2s 10ms/step - loss: 0.1059 - acc: 0.9582 - val_loss: 0.1079 - val_acc: 0.9578\n",
      "Epoch 36/500\n",
      "199/199 [==============================] - 2s 10ms/step - loss: 0.1020 - acc: 0.9604 - val_loss: 0.1027 - val_acc: 0.9599\n",
      "Epoch 37/500\n",
      "199/199 [==============================] - 2s 10ms/step - loss: 0.1009 - acc: 0.9609 - val_loss: 0.1085 - val_acc: 0.9583\n",
      "Epoch 38/500\n",
      "199/199 [==============================] - 2s 10ms/step - loss: 0.1040 - acc: 0.9595 - val_loss: 0.0988 - val_acc: 0.9613\n",
      "Epoch 39/500\n",
      "199/199 [==============================] - 2s 10ms/step - loss: 0.1016 - acc: 0.9603 - val_loss: 0.0986 - val_acc: 0.9619\n",
      "Epoch 40/500\n",
      "199/199 [==============================] - 2s 10ms/step - loss: 0.0985 - acc: 0.9619 - val_loss: 0.1057 - val_acc: 0.9596\n",
      "Epoch 41/500\n",
      "199/199 [==============================] - 2s 10ms/step - loss: 0.0954 - acc: 0.9629 - val_loss: 0.0986 - val_acc: 0.9622\n",
      "Epoch 42/500\n",
      "199/199 [==============================] - 2s 10ms/step - loss: 0.0993 - acc: 0.9615 - val_loss: 0.1011 - val_acc: 0.9609\n",
      "Epoch 43/500\n",
      "199/199 [==============================] - 2s 10ms/step - loss: 0.0962 - acc: 0.9633 - val_loss: 0.1012 - val_acc: 0.9595\n",
      "Epoch 44/500\n",
      "199/199 [==============================] - 2s 10ms/step - loss: 0.0957 - acc: 0.9629 - val_loss: 0.0876 - val_acc: 0.9656\n",
      "Epoch 45/500\n",
      "199/199 [==============================] - 2s 10ms/step - loss: 0.0933 - acc: 0.9633 - val_loss: 0.0895 - val_acc: 0.9650\n",
      "Epoch 46/500\n",
      "199/199 [==============================] - 2s 10ms/step - loss: 0.0862 - acc: 0.9665 - val_loss: 0.0842 - val_acc: 0.9674\n",
      "Epoch 47/500\n",
      "199/199 [==============================] - 2s 10ms/step - loss: 0.0888 - acc: 0.9660 - val_loss: 0.0886 - val_acc: 0.9660\n",
      "Epoch 48/500\n",
      "199/199 [==============================] - 2s 10ms/step - loss: 0.0845 - acc: 0.9671 - val_loss: 0.1042 - val_acc: 0.9602\n",
      "Epoch 49/500\n",
      "199/199 [==============================] - 2s 10ms/step - loss: 0.0833 - acc: 0.9675 - val_loss: 0.0759 - val_acc: 0.9708\n",
      "Epoch 50/500\n",
      "199/199 [==============================] - 2s 10ms/step - loss: 0.0784 - acc: 0.9702 - val_loss: 0.0764 - val_acc: 0.9707\n",
      "Epoch 51/500\n",
      "199/199 [==============================] - 2s 10ms/step - loss: 0.0761 - acc: 0.9708 - val_loss: 0.0755 - val_acc: 0.9709\n",
      "Epoch 52/500\n",
      "199/199 [==============================] - 2s 10ms/step - loss: 0.0749 - acc: 0.9708 - val_loss: 0.0791 - val_acc: 0.9696\n",
      "Epoch 53/500\n",
      "199/199 [==============================] - 2s 10ms/step - loss: 0.0714 - acc: 0.9728 - val_loss: 0.0733 - val_acc: 0.9722\n",
      "Epoch 54/500\n",
      "199/199 [==============================] - 2s 10ms/step - loss: 0.0727 - acc: 0.9722 - val_loss: 0.0653 - val_acc: 0.9747\n",
      "Epoch 55/500\n",
      "199/199 [==============================] - 2s 10ms/step - loss: 0.0705 - acc: 0.9729 - val_loss: 0.0677 - val_acc: 0.9741\n",
      "Epoch 56/500\n",
      "199/199 [==============================] - 2s 10ms/step - loss: 0.0654 - acc: 0.9750 - val_loss: 0.0786 - val_acc: 0.9693\n",
      "Epoch 57/500\n",
      "199/199 [==============================] - 2s 10ms/step - loss: 0.0659 - acc: 0.9742 - val_loss: 0.0718 - val_acc: 0.9729\n",
      "Epoch 58/500\n",
      "199/199 [==============================] - 2s 10ms/step - loss: 0.0640 - acc: 0.9753 - val_loss: 0.0851 - val_acc: 0.9670\n",
      "Epoch 59/500\n",
      "199/199 [==============================] - 2s 10ms/step - loss: 0.0618 - acc: 0.9766 - val_loss: 0.0593 - val_acc: 0.9777\n",
      "Epoch 60/500\n",
      "199/199 [==============================] - 2s 10ms/step - loss: 0.0569 - acc: 0.9778 - val_loss: 0.0613 - val_acc: 0.9770\n",
      "Epoch 61/500\n"
     ]
    },
    {
     "name": "stdout",
     "output_type": "stream",
     "text": [
      "199/199 [==============================] - 2s 10ms/step - loss: 0.0599 - acc: 0.9765 - val_loss: 0.0563 - val_acc: 0.9786\n",
      "Epoch 62/500\n",
      "199/199 [==============================] - 2s 10ms/step - loss: 0.0541 - acc: 0.9793 - val_loss: 0.0551 - val_acc: 0.9795\n",
      "Epoch 63/500\n",
      "199/199 [==============================] - 2s 10ms/step - loss: 0.0593 - acc: 0.9770 - val_loss: 0.0599 - val_acc: 0.9773\n",
      "Epoch 64/500\n",
      "199/199 [==============================] - 2s 10ms/step - loss: 0.0528 - acc: 0.9797 - val_loss: 0.0573 - val_acc: 0.9787\n",
      "Epoch 65/500\n",
      "199/199 [==============================] - 2s 10ms/step - loss: 0.0508 - acc: 0.9809 - val_loss: 0.0534 - val_acc: 0.9800\n",
      "Epoch 66/500\n",
      "199/199 [==============================] - 2s 10ms/step - loss: 0.0593 - acc: 0.9772 - val_loss: 0.0596 - val_acc: 0.9772\n",
      "Epoch 67/500\n",
      "199/199 [==============================] - 2s 10ms/step - loss: 0.0502 - acc: 0.9808 - val_loss: 0.0511 - val_acc: 0.9808\n",
      "Epoch 68/500\n",
      "199/199 [==============================] - 2s 10ms/step - loss: 0.0509 - acc: 0.9808 - val_loss: 0.0625 - val_acc: 0.9760\n",
      "Epoch 69/500\n",
      "199/199 [==============================] - 2s 10ms/step - loss: 0.0475 - acc: 0.9821 - val_loss: 0.0560 - val_acc: 0.9793\n",
      "Epoch 70/500\n",
      "199/199 [==============================] - 2s 10ms/step - loss: 0.0467 - acc: 0.9821 - val_loss: 0.0587 - val_acc: 0.9779\n",
      "Epoch 71/500\n",
      "199/199 [==============================] - 2s 10ms/step - loss: 0.0455 - acc: 0.9827 - val_loss: 0.0491 - val_acc: 0.9817\n",
      "Epoch 72/500\n",
      "199/199 [==============================] - 2s 10ms/step - loss: 0.0454 - acc: 0.9826 - val_loss: 0.0518 - val_acc: 0.9810\n",
      "Epoch 73/500\n",
      "199/199 [==============================] - 2s 10ms/step - loss: 0.0456 - acc: 0.9824 - val_loss: 0.0678 - val_acc: 0.9741\n",
      "Epoch 74/500\n",
      "199/199 [==============================] - 2s 10ms/step - loss: 0.0471 - acc: 0.9819 - val_loss: 0.0496 - val_acc: 0.9815\n",
      "Epoch 75/500\n",
      "199/199 [==============================] - 2s 10ms/step - loss: 0.0443 - acc: 0.9828 - val_loss: 0.0508 - val_acc: 0.9812\n",
      "Epoch 76/500\n",
      "199/199 [==============================] - 2s 10ms/step - loss: 0.0433 - acc: 0.9836 - val_loss: 0.0500 - val_acc: 0.9811\n",
      "\n",
      "Epoch 00076: ReduceLROnPlateau reducing learning rate to 0.0003981071838171537.\n",
      "Epoch 77/500\n",
      "199/199 [==============================] - 2s 10ms/step - loss: 0.0379 - acc: 0.9853 - val_loss: 0.0444 - val_acc: 0.9838\n",
      "Epoch 78/500\n",
      "199/199 [==============================] - 2s 10ms/step - loss: 0.0330 - acc: 0.9872 - val_loss: 0.0461 - val_acc: 0.9837\n",
      "Epoch 79/500\n",
      "199/199 [==============================] - 2s 10ms/step - loss: 0.0350 - acc: 0.9865 - val_loss: 0.0528 - val_acc: 0.9812\n",
      "Epoch 80/500\n",
      "199/199 [==============================] - 2s 10ms/step - loss: 0.0348 - acc: 0.9866 - val_loss: 0.0447 - val_acc: 0.9837\n",
      "Epoch 81/500\n",
      "199/199 [==============================] - 2s 10ms/step - loss: 0.0318 - acc: 0.9880 - val_loss: 0.0479 - val_acc: 0.9829\n",
      "Epoch 82/500\n",
      "199/199 [==============================] - 2s 10ms/step - loss: 0.0303 - acc: 0.9884 - val_loss: 0.0463 - val_acc: 0.9831\n",
      "\n",
      "Epoch 00082: ReduceLROnPlateau reducing learning rate to 0.0002511886574257803.\n",
      "Epoch 83/500\n",
      "199/199 [==============================] - 2s 10ms/step - loss: 0.0284 - acc: 0.9893 - val_loss: 0.0445 - val_acc: 0.9846\n",
      "Epoch 84/500\n",
      "199/199 [==============================] - 2s 10ms/step - loss: 0.0249 - acc: 0.9908 - val_loss: 0.0464 - val_acc: 0.9835\n",
      "Epoch 85/500\n",
      "199/199 [==============================] - 2s 10ms/step - loss: 0.0245 - acc: 0.9907 - val_loss: 0.0493 - val_acc: 0.9832\n",
      "Epoch 86/500\n",
      "199/199 [==============================] - 2s 10ms/step - loss: 0.0257 - acc: 0.9898 - val_loss: 0.0447 - val_acc: 0.9847\n",
      "Epoch 87/500\n",
      "199/199 [==============================] - 2s 10ms/step - loss: 0.0243 - acc: 0.9908 - val_loss: 0.0465 - val_acc: 0.9842\n",
      "\n",
      "Epoch 00087: ReduceLROnPlateau reducing learning rate to 0.00015848933651346973.\n",
      "Epoch 88/500\n",
      "199/199 [==============================] - 2s 10ms/step - loss: 0.0208 - acc: 0.9920 - val_loss: 0.0443 - val_acc: 0.9852\n",
      "Epoch 89/500\n",
      "199/199 [==============================] - 2s 10ms/step - loss: 0.0206 - acc: 0.9922 - val_loss: 0.0457 - val_acc: 0.9848\n",
      "Epoch 90/500\n",
      "199/199 [==============================] - 2s 10ms/step - loss: 0.0196 - acc: 0.9927 - val_loss: 0.0470 - val_acc: 0.9840\n",
      "Epoch 91/500\n",
      "199/199 [==============================] - 2s 10ms/step - loss: 0.0203 - acc: 0.9925 - val_loss: 0.0466 - val_acc: 0.9849\n",
      "Epoch 92/500\n",
      "199/199 [==============================] - 2s 10ms/step - loss: 0.0199 - acc: 0.9923 - val_loss: 0.0485 - val_acc: 0.9839\n",
      "Epoch 93/500\n",
      "199/199 [==============================] - 2s 10ms/step - loss: 0.0190 - acc: 0.9930 - val_loss: 0.0470 - val_acc: 0.9853\n",
      "\n",
      "Epoch 00093: ReduceLROnPlateau reducing learning rate to 0.00010000000838432616.\n",
      "Epoch 94/500\n",
      "199/199 [==============================] - 2s 10ms/step - loss: 0.0163 - acc: 0.9939 - val_loss: 0.0468 - val_acc: 0.9850\n",
      "Epoch 95/500\n",
      "199/199 [==============================] - 2s 10ms/step - loss: 0.0155 - acc: 0.9944 - val_loss: 0.0494 - val_acc: 0.9850\n",
      "Epoch 96/500\n",
      "199/199 [==============================] - 2s 10ms/step - loss: 0.0163 - acc: 0.9943 - val_loss: 0.0485 - val_acc: 0.9849\n",
      "Epoch 97/500\n",
      "199/199 [==============================] - 2s 10ms/step - loss: 0.0148 - acc: 0.9946 - val_loss: 0.0484 - val_acc: 0.9849\n",
      "Epoch 98/500\n",
      "199/199 [==============================] - 2s 10ms/step - loss: 0.0148 - acc: 0.9947 - val_loss: 0.0500 - val_acc: 0.9849\n",
      "\n",
      "Epoch 00098: ReduceLROnPlateau reducing learning rate to 6.30957374449059e-05.\n",
      "Epoch 99/500\n",
      "199/199 [==============================] - 2s 10ms/step - loss: 0.0133 - acc: 0.9953 - val_loss: 0.0499 - val_acc: 0.9851\n",
      "Epoch 100/500\n",
      "199/199 [==============================] - 2s 10ms/step - loss: 0.0131 - acc: 0.9956 - val_loss: 0.0509 - val_acc: 0.9850\n",
      "Epoch 101/500\n",
      "199/199 [==============================] - 2s 10ms/step - loss: 0.0124 - acc: 0.9956 - val_loss: 0.0505 - val_acc: 0.9848\n",
      "Epoch 102/500\n",
      "199/199 [==============================] - 2s 10ms/step - loss: 0.0122 - acc: 0.9957 - val_loss: 0.0509 - val_acc: 0.9851\n",
      "Epoch 103/500\n",
      "199/199 [==============================] - 2s 10ms/step - loss: 0.0127 - acc: 0.9957 - val_loss: 0.0526 - val_acc: 0.9852\n",
      "\n",
      "Epoch 00103: ReduceLROnPlateau reducing learning rate to 3.981071838171537e-05.\n",
      "Epoch 104/500\n",
      "199/199 [==============================] - 2s 10ms/step - loss: 0.0111 - acc: 0.9965 - val_loss: 0.0516 - val_acc: 0.9853\n",
      "Epoch 105/500\n",
      "199/199 [==============================] - 2s 10ms/step - loss: 0.0112 - acc: 0.9965 - val_loss: 0.0528 - val_acc: 0.9853\n",
      "Epoch 106/500\n",
      "199/199 [==============================] - 2s 10ms/step - loss: 0.0101 - acc: 0.9969 - val_loss: 0.0524 - val_acc: 0.9854\n",
      "Epoch 107/500\n",
      "199/199 [==============================] - 2s 10ms/step - loss: 0.0107 - acc: 0.9965 - val_loss: 0.0531 - val_acc: 0.9853\n",
      "Epoch 108/500\n",
      "199/199 [==============================] - 2s 10ms/step - loss: 0.0102 - acc: 0.9967 - val_loss: 0.0541 - val_acc: 0.9850\n",
      "\n",
      "Epoch 00108: ReduceLROnPlateau reducing learning rate to 2.5118865283496142e-05.\n",
      "Epoch 109/500\n",
      "199/199 [==============================] - 2s 10ms/step - loss: 0.0096 - acc: 0.9970 - val_loss: 0.0550 - val_acc: 0.9851\n",
      "Epoch 110/500\n",
      "199/199 [==============================] - 2s 10ms/step - loss: 0.0097 - acc: 0.9969 - val_loss: 0.0539 - val_acc: 0.9851\n",
      "Epoch 111/500\n",
      "199/199 [==============================] - 2s 10ms/step - loss: 0.0097 - acc: 0.9970 - val_loss: 0.0544 - val_acc: 0.9851\n",
      "Epoch 112/500\n",
      "199/199 [==============================] - 2s 10ms/step - loss: 0.0097 - acc: 0.9972 - val_loss: 0.0550 - val_acc: 0.9850\n",
      "Epoch 113/500\n",
      "199/199 [==============================] - 2s 10ms/step - loss: 0.0090 - acc: 0.9974 - val_loss: 0.0551 - val_acc: 0.9852\n",
      "\n",
      "Epoch 00113: ReduceLROnPlateau reducing learning rate to 1.5848932274101303e-05.\n",
      "Epoch 114/500\n",
      "199/199 [==============================] - 2s 10ms/step - loss: 0.0087 - acc: 0.9974 - val_loss: 0.0556 - val_acc: 0.9850\n",
      "Epoch 115/500\n",
      "199/199 [==============================] - 2s 10ms/step - loss: 0.0085 - acc: 0.9977 - val_loss: 0.0554 - val_acc: 0.9852\n",
      "Epoch 116/500\n",
      "199/199 [==============================] - 2s 10ms/step - loss: 0.0090 - acc: 0.9974 - val_loss: 0.0558 - val_acc: 0.9849\n"
     ]
    },
    {
     "name": "stdout",
     "output_type": "stream",
     "text": [
      "Epoch 117/500\n",
      "199/199 [==============================] - 2s 10ms/step - loss: 0.0090 - acc: 0.9975 - val_loss: 0.0563 - val_acc: 0.9849\n",
      "Epoch 118/500\n",
      "199/199 [==============================] - 2s 10ms/step - loss: 0.0084 - acc: 0.9976 - val_loss: 0.0566 - val_acc: 0.9852\n",
      "\n",
      "Epoch 00118: ReduceLROnPlateau reducing learning rate to 1.0000000608891671e-05.\n",
      "Epoch 00118: early stopping\n"
     ]
    }
   ],
   "source": [
    "# now train the model\n",
    "\n",
    "reduce_lr = tf.keras.callbacks.ReduceLROnPlateau(monitor='val_loss', \n",
    "                              factor=0.1**(1/5), patience=5, min_lr=1e-5,\n",
    "                                                verbose=1)\n",
    "\n",
    "early_stop = tf.keras.callbacks.EarlyStopping(monitor='val_loss', patience=30, \n",
    "                                              verbose=1)\n",
    "\n",
    "callbacks = [reduce_lr,early_stop]\n",
    "\n",
    "hist1 = pfn.fit(X_train, Y_train,\n",
    "        epochs=num_epoch,\n",
    "        batch_size=batch_size,\n",
    "        validation_data=(X_val, Y_val),\n",
    "        class_weight=class_weight,\n",
    "        callbacks=callbacks,\n",
    "        verbose=1)"
   ]
  },
  {
   "cell_type": "markdown",
   "id": "0fac1861",
   "metadata": {},
   "source": [
    "# Analyze the Model"
   ]
  },
  {
   "cell_type": "code",
   "execution_count": 23,
   "id": "531ee50e",
   "metadata": {},
   "outputs": [
    {
     "name": "stdout",
     "output_type": "stream",
     "text": [
      "\n",
      "PFN AUC: 0.9989410086582711\n",
      "\n"
     ]
    }
   ],
   "source": [
    "# get predictions on test data\n",
    "preds = pfn.predict(X_test, batch_size=10000)\n",
    "\n",
    "# get ROC curve\n",
    "pfn_fp, pfn_tp, threshs = roc_curve(Y_test[:,1], preds[:,1])\n",
    "\n",
    "# get area under the ROC curve\n",
    "auc = roc_auc_score(Y_test[:,1], preds[:,1])\n",
    "print()\n",
    "print('PFN AUC:', auc)\n",
    "print()"
   ]
  },
  {
   "cell_type": "code",
   "execution_count": 24,
   "id": "9190f668",
   "metadata": {},
   "outputs": [
    {
     "data": {
      "image/png": "[encoded data removed]",
      "text/plain": [
       "<Figure size 432x288 with 1 Axes>"
      ]
     },
     "metadata": {
      "needs_background": "light"
     },
     "output_type": "display_data"
    }
   ],
   "source": [
    "plt.plot(hist1.history[\"loss\"],label=\"loss\")\n",
    "plt.plot(hist1.history[\"val_loss\"],label=\"validation loss\")\n",
    "plt.legend()\n",
    "plt.show()"
   ]
  },
  {
   "cell_type": "code",
   "execution_count": 25,
   "id": "bcf5a3ff",
   "metadata": {},
   "outputs": [
    {
     "data": {
      "image/png": "[encoded data removed]",
      "text/plain": [
       "<Figure size 432x288 with 1 Axes>"
      ]
     },
     "metadata": {
      "needs_background": "light"
     },
     "output_type": "display_data"
    }
   ],
   "source": [
    "plt.plot(hist1.history[\"acc\"],label=\"acc\")\n",
    "plt.plot(hist1.history[\"val_acc\"],label=\"validation acc\")\n",
    "plt.legend()\n",
    "plt.show()"
   ]
  },
  {
   "cell_type": "code",
   "execution_count": 26,
   "id": "0a1abd7d",
   "metadata": {},
   "outputs": [
    {
     "data": {
      "image/png": "[encoded data removed]",
      "text/plain": [
       "<Figure size 288x288 with 1 Axes>"
      ]
     },
     "metadata": {
      "needs_background": "light"
     },
     "output_type": "display_data"
    }
   ],
   "source": [
    "# get multiplicity and mass for comparison\n",
    "preds = pfn.predict(X_test, batch_size=1000)\n",
    "pfn_fp, pfn_tp, threshs = roc_curve(Y_test[:,1], preds[:,1])\n",
    "\n",
    "# some nicer plot settings \n",
    "plt.rcParams['figure.figsize'] = (4,4)\n",
    "plt.rcParams['font.family'] = 'serif'\n",
    "plt.rcParams['figure.autolayout'] = True\n",
    "\n",
    "# plot the ROC curves\n",
    "plt.plot(pfn_tp, 1-pfn_fp, '-', color='black', label='ROC')\n",
    "\n",
    "plt.legend(loc='lower left', frameon=False)\n",
    "\n",
    "plt.show()"
   ]
  },
  {
   "cell_type": "code",
   "execution_count": 29,
   "id": "0d9936df",
   "metadata": {},
   "outputs": [
    {
     "name": "stderr",
     "output_type": "stream",
     "text": [
      "/tmp/ipykernel_2771/1246046417.py:11: RuntimeWarning: divide by zero encountered in true_divide\n",
      "  plt.plot(pfn_tp, 1/pfn_fp, '-', color='black', label='ROC')\n"
     ]
    },
    {
     "data": {
      "image/png": "[encoded data removed]",
      "text/plain": [
       "<Figure size 288x288 with 1 Axes>"
      ]
     },
     "metadata": {
      "needs_background": "light"
     },
     "output_type": "display_data"
    }
   ],
   "source": [
    "# get multiplicity and mass for comparison\n",
    "preds = pfn.predict(X_test, batch_size=1000)\n",
    "pfn_fp, pfn_tp, threshs = roc_curve(Y_test[:,1], preds[:,1])\n",
    "\n",
    "# some nicer plot settings \n",
    "plt.rcParams['figure.figsize'] = (4,4)\n",
    "plt.rcParams['font.family'] = 'serif'\n",
    "plt.rcParams['figure.autolayout'] = True\n",
    "\n",
    "# plot the ROC curves\n",
    "plt.plot(pfn_tp, 1/pfn_fp, '-', color='black', label='ROC')\n",
    "\n",
    "plt.yscale('log')\n",
    "\n",
    "plt.legend(loc='lower left', frameon=False)\n",
    "\n",
    "plt.show()"
   ]
  },
  {
   "cell_type": "code",
   "execution_count": 33,
   "id": "49ef6fe4",
   "metadata": {},
   "outputs": [],
   "source": [
    "pfn.save_weights(\"h_vs_hv_combined_weight\")"
   ]
  },
  {
   "cell_type": "code",
   "execution_count": null,
   "id": "0d2db76d",
   "metadata": {},
   "outputs": [],
   "source": []
  }
 ],
 "metadata": {
  "kernelspec": {
   "display_name": "Python 3 (ipykernel)",
   "language": "python",
   "name": "python3"
  },
  "language_info": {
   "codemirror_mode": {
    "name": "ipython",
    "version": 3
   },
   "file_extension": ".py",
   "mimetype": "text/x-python",
   "name": "python",
   "nbconvert_exporter": "python",
   "pygments_lexer": "ipython3",
   "version": "3.8.12"
  }
 },
 "nbformat": 4,
 "nbformat_minor": 5
}
