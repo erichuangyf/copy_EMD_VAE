{
 "cells": [
  {
   "cell_type": "markdown",
   "id": "4ef50705",
   "metadata": {},
   "source": [
    "# Import and Initialization"
   ]
  },
  {
   "cell_type": "code",
   "execution_count": 1,
   "id": "05a505b0",
   "metadata": {},
   "outputs": [
    {
     "name": "stderr",
     "output_type": "stream",
     "text": [
      "2022-04-06 15:54:50.449174: I tensorflow/stream_executor/platform/default/dso_loader.cc:49] Successfully opened dynamic library libcudart.so.10.1\n"
     ]
    }
   ],
   "source": [
    "%load_ext autoreload\n",
    "%autoreload 2\n",
    "\n",
    "import tensorflow as tf\n",
    "\n",
    "# standard library imports\n",
    "from __future__ import absolute_import, division, print_function\n",
    "\n",
    "# standard numerical library imports\n",
    "import numpy as np\n",
    "\n",
    "# energyflow imports\n",
    "import energyflow as ef\n",
    "from energyflow.archs import PFN\n",
    "from energyflow.datasets import qg_jets\n",
    "from energyflow.utils import data_split, remap_pids, to_categorical\n",
    "\n",
    "from sklearn.metrics import roc_auc_score, roc_curve\n",
    "import matplotlib.pyplot as plt\n",
    "\n",
    "\n",
    "import pandas\n",
    "import h5py\n",
    "import pickle\n",
    "\n",
    "import datetime"
   ]
  },
  {
   "cell_type": "code",
   "execution_count": 2,
   "id": "45667e4d",
   "metadata": {},
   "outputs": [],
   "source": [
    "# configs\n",
    "train, val, test = 0.6, 0.3, 0.1\n",
    "Phi_sizes, F_sizes = (256, 256, 256), (256, 256, 256)\n",
    "num_epoch = 500\n",
    "batch_size = 1000"
   ]
  },
  {
   "cell_type": "markdown",
   "id": "8c5aa5d4",
   "metadata": {},
   "source": [
    "# Load and Process Data"
   ]
  },
  {
   "cell_type": "code",
   "execution_count": 3,
   "id": "25276321",
   "metadata": {},
   "outputs": [],
   "source": [
    "signal_1_df = \"/global/home/users/yifengh3/VAE/new_data/B_signal.h5\"\n",
    "signal_2_df = \"/global/home/users/yifengh3/VAE/new_data/h_signal.h5\"\n",
    "signal_1 = pandas.read_hdf(signal_1_df)\n",
    "signal_2 = pandas.read_hdf(signal_2_df)"
   ]
  },
  {
   "cell_type": "code",
   "execution_count": 4,
   "id": "646d74c9",
   "metadata": {},
   "outputs": [
    {
     "name": "stdout",
     "output_type": "stream",
     "text": [
      "signal_1 data shape: (2644, 200)\n",
      "signal_2 data shape: (34973, 200)\n"
     ]
    }
   ],
   "source": [
    "print(\"signal_1 data shape: {}\".format(signal_1.shape))\n",
    "print(\"signal_2 data shape: {}\".format(signal_2.shape))"
   ]
  },
  {
   "cell_type": "code",
   "execution_count": 5,
   "id": "e582ac98",
   "metadata": {},
   "outputs": [],
   "source": [
    "# assign labels to signal and background data, 0 for sig1,  1 for sig2\n",
    "# (updated since we might get multiple signals) \n",
    "labeled_sig1 = np.append(signal_1,np.zeros((signal_1.shape[0],1)),axis=1)\n",
    "labeled_sig2 = np.append(signal_2,np.ones((signal_2.shape[0],1)),axis=1)"
   ]
  },
  {
   "cell_type": "code",
   "execution_count": 6,
   "id": "8540cc44",
   "metadata": {},
   "outputs": [],
   "source": [
    "# mix two data array into one signal array\n",
    "data = np.concatenate((labeled_sig1,labeled_sig2))\n",
    "\n",
    "#and shuffle the data\n",
    "np.random.shuffle(data)"
   ]
  },
  {
   "cell_type": "code",
   "execution_count": 7,
   "id": "34eaf99c",
   "metadata": {},
   "outputs": [],
   "source": [
    "X = data[:,:-1]\n",
    "y = data[:,-1]"
   ]
  },
  {
   "cell_type": "code",
   "execution_count": 8,
   "id": "d078bbf6",
   "metadata": {},
   "outputs": [
    {
     "name": "stdout",
     "output_type": "stream",
     "text": [
      "shape of X: (37617, 200)\n",
      "shape of Y: (37617,)\n"
     ]
    }
   ],
   "source": [
    "print(\"shape of X: {}\".format(X.shape))\n",
    "print(\"shape of Y: {}\".format(y.shape))"
   ]
  },
  {
   "cell_type": "code",
   "execution_count": 9,
   "id": "ea34616a",
   "metadata": {},
   "outputs": [
    {
     "name": "stdout",
     "output_type": "stream",
     "text": [
      "Weight for background: 7.11\n",
      "Weight for signal: 0.54\n"
     ]
    }
   ],
   "source": [
    "# Scaling by total/2 helps keep the loss to a similar magnitude.\n",
    "# The sum of the weights of all examples stays the same.\n",
    "total = labeled_sig1.shape[0] + labeled_sig2.shape[0]\n",
    "weight_for_0 = (1 / labeled_sig1.shape[0]) * (total / 2.0)\n",
    "weight_for_1 = (1 / labeled_sig2.shape[0]) * (total / 2.0)\n",
    "\n",
    "\n",
    "class_weight = {0: weight_for_0, 1: weight_for_1}\n",
    "\n",
    "print('Weight for background: {:.2f}'.format(weight_for_0))\n",
    "print('Weight for signal: {:.2f}'.format(weight_for_1))"
   ]
  },
  {
   "cell_type": "code",
   "execution_count": 10,
   "id": "c3e0e641",
   "metadata": {},
   "outputs": [],
   "source": [
    "# To categorical as stipulated in example\n",
    "Y = to_categorical(y, num_classes=2)\n",
    "\n",
    "# Reshape X to shape (number of jets, 50, 4)\n",
    "X = X.reshape(-1,50,4)\n",
    "\n",
    "# ignore the pid info\n",
    "X = X[:,:,:3]"
   ]
  },
  {
   "cell_type": "code",
   "execution_count": 11,
   "id": "3f3e9fdd",
   "metadata": {},
   "outputs": [
    {
     "name": "stdout",
     "output_type": "stream",
     "text": [
      "(37617, 50, 3)\n"
     ]
    }
   ],
   "source": [
    "print(X.shape)"
   ]
  },
  {
   "cell_type": "code",
   "execution_count": 12,
   "id": "6a6fe36d",
   "metadata": {},
   "outputs": [
    {
     "name": "stderr",
     "output_type": "stream",
     "text": [
      "100%|█████████████████████████████████████████████████████████████████████████████████████████████████████████| 37617/37617 [00:02<00:00, 18704.85it/s]\n"
     ]
    }
   ],
   "source": [
    "# normalizing jets\n",
    "# copied from example\n",
    "import tqdm\n",
    "for x in tqdm.tqdm(X):\n",
    "    # now add the status bar :)\n",
    "    mask = x[:,0] > 0\n",
    "    yphi_avg = np.average(x[mask,1:3], weights=x[mask,0], axis=0)\n",
    "    x[mask,1:3] -= yphi_avg\n",
    "    x[mask,0] /= x[:,0].sum()"
   ]
  },
  {
   "cell_type": "code",
   "execution_count": 13,
   "id": "c3e18f2d",
   "metadata": {},
   "outputs": [
    {
     "name": "stdout",
     "output_type": "stream",
     "text": [
      "Finished preprocessing\n",
      "shape of X: (37617, 50, 3)\n",
      "shape of Y: (37617,)\n"
     ]
    }
   ],
   "source": [
    "print('Finished preprocessing')\n",
    "print(\"shape of X: {}\".format(X.shape))\n",
    "print(\"shape of Y: {}\".format(y.shape))"
   ]
  },
  {
   "cell_type": "code",
   "execution_count": 14,
   "id": "939de622",
   "metadata": {},
   "outputs": [],
   "source": [
    "# do train/val/test split \n",
    "(X_train, X_val, X_test,\n",
    " Y_train, Y_val, Y_test) = data_split(X, Y, val=val, test=test)"
   ]
  },
  {
   "cell_type": "markdown",
   "id": "bc6339cd",
   "metadata": {},
   "source": [
    "# Build and Train the Model"
   ]
  },
  {
   "cell_type": "code",
   "execution_count": 15,
   "id": "4876d9dc",
   "metadata": {},
   "outputs": [
    {
     "name": "stderr",
     "output_type": "stream",
     "text": [
      "2022-04-06 15:54:54.975243: I tensorflow/compiler/jit/xla_cpu_device.cc:41] Not creating XLA devices, tf_xla_enable_xla_devices not set\n"
     ]
    },
    {
     "name": "stdout",
     "output_type": "stream",
     "text": [
      "Model summary:\n"
     ]
    },
    {
     "name": "stderr",
     "output_type": "stream",
     "text": [
      "2022-04-06 15:54:54.976124: I tensorflow/stream_executor/platform/default/dso_loader.cc:49] Successfully opened dynamic library libcuda.so.1\n",
      "2022-04-06 15:54:55.002701: I tensorflow/core/common_runtime/gpu/gpu_device.cc:1720] Found device 0 with properties: \n",
      "pciBusID: 0000:41:00.0 name: Quadro RTX 6000 computeCapability: 7.5\n",
      "coreClock: 1.77GHz coreCount: 72 deviceMemorySize: 23.65GiB deviceMemoryBandwidth: 625.94GiB/s\n",
      "2022-04-06 15:54:55.002722: I tensorflow/stream_executor/platform/default/dso_loader.cc:49] Successfully opened dynamic library libcudart.so.10.1\n",
      "2022-04-06 15:54:55.004032: I tensorflow/stream_executor/platform/default/dso_loader.cc:49] Successfully opened dynamic library libcublas.so.10\n",
      "2022-04-06 15:54:55.004067: I tensorflow/stream_executor/platform/default/dso_loader.cc:49] Successfully opened dynamic library libcublasLt.so.10\n",
      "2022-04-06 15:54:55.005577: I tensorflow/stream_executor/platform/default/dso_loader.cc:49] Successfully opened dynamic library libcufft.so.10\n",
      "2022-04-06 15:54:55.005785: I tensorflow/stream_executor/platform/default/dso_loader.cc:49] Successfully opened dynamic library libcurand.so.10\n",
      "2022-04-06 15:54:55.007181: I tensorflow/stream_executor/platform/default/dso_loader.cc:49] Successfully opened dynamic library libcusolver.so.10\n",
      "2022-04-06 15:54:55.007794: I tensorflow/stream_executor/platform/default/dso_loader.cc:49] Successfully opened dynamic library libcusparse.so.10\n",
      "2022-04-06 15:54:55.010984: I tensorflow/stream_executor/platform/default/dso_loader.cc:49] Successfully opened dynamic library libcudnn.so.7\n",
      "2022-04-06 15:54:55.013612: I tensorflow/core/common_runtime/gpu/gpu_device.cc:1862] Adding visible gpu devices: 0\n",
      "2022-04-06 15:54:55.014342: I tensorflow/core/platform/cpu_feature_guard.cc:142] This TensorFlow binary is optimized with oneAPI Deep Neural Network Library (oneDNN) to use the following CPU instructions in performance-critical operations:  SSE4.1 SSE4.2 AVX AVX2 FMA\n",
      "To enable them in other operations, rebuild TensorFlow with the appropriate compiler flags.\n",
      "2022-04-06 15:54:55.018063: I tensorflow/core/common_runtime/gpu/gpu_device.cc:1720] Found device 0 with properties: \n",
      "pciBusID: 0000:41:00.0 name: Quadro RTX 6000 computeCapability: 7.5\n",
      "coreClock: 1.77GHz coreCount: 72 deviceMemorySize: 23.65GiB deviceMemoryBandwidth: 625.94GiB/s\n",
      "2022-04-06 15:54:55.018084: I tensorflow/stream_executor/platform/default/dso_loader.cc:49] Successfully opened dynamic library libcudart.so.10.1\n",
      "2022-04-06 15:54:55.018103: I tensorflow/stream_executor/platform/default/dso_loader.cc:49] Successfully opened dynamic library libcublas.so.10\n",
      "2022-04-06 15:54:55.018115: I tensorflow/stream_executor/platform/default/dso_loader.cc:49] Successfully opened dynamic library libcublasLt.so.10\n",
      "2022-04-06 15:54:55.018127: I tensorflow/stream_executor/platform/default/dso_loader.cc:49] Successfully opened dynamic library libcufft.so.10\n",
      "2022-04-06 15:54:55.018137: I tensorflow/stream_executor/platform/default/dso_loader.cc:49] Successfully opened dynamic library libcurand.so.10\n",
      "2022-04-06 15:54:55.018148: I tensorflow/stream_executor/platform/default/dso_loader.cc:49] Successfully opened dynamic library libcusolver.so.10\n",
      "2022-04-06 15:54:55.018158: I tensorflow/stream_executor/platform/default/dso_loader.cc:49] Successfully opened dynamic library libcusparse.so.10\n",
      "2022-04-06 15:54:55.018170: I tensorflow/stream_executor/platform/default/dso_loader.cc:49] Successfully opened dynamic library libcudnn.so.7\n",
      "2022-04-06 15:54:55.020593: I tensorflow/core/common_runtime/gpu/gpu_device.cc:1862] Adding visible gpu devices: 0\n",
      "2022-04-06 15:54:55.020617: I tensorflow/stream_executor/platform/default/dso_loader.cc:49] Successfully opened dynamic library libcudart.so.10.1\n",
      "2022-04-06 15:54:55.673467: I tensorflow/core/common_runtime/gpu/gpu_device.cc:1261] Device interconnect StreamExecutor with strength 1 edge matrix:\n",
      "2022-04-06 15:54:55.673512: I tensorflow/core/common_runtime/gpu/gpu_device.cc:1267]      0 \n",
      "2022-04-06 15:54:55.673520: I tensorflow/core/common_runtime/gpu/gpu_device.cc:1280] 0:   N \n",
      "2022-04-06 15:54:55.677445: I tensorflow/core/common_runtime/gpu/gpu_device.cc:1406] Created TensorFlow device (/job:localhost/replica:0/task:0/device:GPU:0 with 21065 MB memory) -> physical GPU (device: 0, name: Quadro RTX 6000, pci bus id: 0000:41:00.0, compute capability: 7.5)\n",
      "2022-04-06 15:54:55.677762: I tensorflow/compiler/jit/xla_gpu_device.cc:99] Not creating XLA devices, tf_xla_enable_xla_devices not set\n"
     ]
    },
    {
     "name": "stdout",
     "output_type": "stream",
     "text": [
      "Model: \"model\"\n",
      "__________________________________________________________________________________________________\n",
      "Layer (type)                    Output Shape         Param #     Connected to                     \n",
      "==================================================================================================\n",
      "input (InputLayer)              [(None, None, 3)]    0                                            \n",
      "__________________________________________________________________________________________________\n",
      "tdist_0 (TimeDistributed)       (None, None, 256)    1024        input[0][0]                      \n",
      "__________________________________________________________________________________________________\n",
      "activation (Activation)         (None, None, 256)    0           tdist_0[0][0]                    \n",
      "__________________________________________________________________________________________________\n",
      "tdist_1 (TimeDistributed)       (None, None, 256)    65792       activation[0][0]                 \n",
      "__________________________________________________________________________________________________\n",
      "activation_1 (Activation)       (None, None, 256)    0           tdist_1[0][0]                    \n",
      "__________________________________________________________________________________________________\n",
      "tdist_2 (TimeDistributed)       (None, None, 256)    65792       activation_1[0][0]               \n",
      "__________________________________________________________________________________________________\n",
      "mask (Lambda)                   (None, None)         0           input[0][0]                      \n",
      "__________________________________________________________________________________________________\n",
      "activation_2 (Activation)       (None, None, 256)    0           tdist_2[0][0]                    \n",
      "__________________________________________________________________________________________________\n",
      "sum (Dot)                       (None, 256)          0           mask[0][0]                       \n",
      "                                                                 activation_2[0][0]               \n",
      "__________________________________________________________________________________________________\n",
      "dense_0 (Dense)                 (None, 256)          65792       sum[0][0]                        \n",
      "__________________________________________________________________________________________________\n",
      "activation_3 (Activation)       (None, 256)          0           dense_0[0][0]                    \n",
      "__________________________________________________________________________________________________\n",
      "dense_1 (Dense)                 (None, 256)          65792       activation_3[0][0]               \n",
      "__________________________________________________________________________________________________\n",
      "activation_4 (Activation)       (None, 256)          0           dense_1[0][0]                    \n",
      "__________________________________________________________________________________________________\n",
      "dense_2 (Dense)                 (None, 256)          65792       activation_4[0][0]               \n",
      "__________________________________________________________________________________________________\n",
      "activation_5 (Activation)       (None, 256)          0           dense_2[0][0]                    \n",
      "__________________________________________________________________________________________________\n",
      "output (Dense)                  (None, 2)            514         activation_5[0][0]               \n",
      "__________________________________________________________________________________________________\n",
      "activation_6 (Activation)       (None, 2)            0           output[0][0]                     \n",
      "==================================================================================================\n",
      "Total params: 330,498\n",
      "Trainable params: 330,498\n",
      "Non-trainable params: 0\n",
      "__________________________________________________________________________________________________\n"
     ]
    }
   ],
   "source": [
    "print('Model summary:')\n",
    "\n",
    "# build architecture\n",
    "pfn = PFN(input_dim=X.shape[-1], Phi_sizes=Phi_sizes, F_sizes=F_sizes)"
   ]
  },
  {
   "cell_type": "code",
   "execution_count": 16,
   "id": "b559b182",
   "metadata": {
    "scrolled": true
   },
   "outputs": [
    {
     "name": "stdout",
     "output_type": "stream",
     "text": [
      "Epoch 1/500\n"
     ]
    },
    {
     "name": "stderr",
     "output_type": "stream",
     "text": [
      "2022-04-06 15:54:56.051551: I tensorflow/compiler/mlir/mlir_graph_optimization_pass.cc:116] None of the MLIR optimization passes are enabled (registered 2)\n",
      "2022-04-06 15:54:56.051990: I tensorflow/core/platform/profile_utils/cpu_utils.cc:112] CPU Frequency: 2994530000 Hz\n",
      "2022-04-06 15:54:56.444531: I tensorflow/stream_executor/platform/default/dso_loader.cc:49] Successfully opened dynamic library libcublas.so.10\n"
     ]
    },
    {
     "name": "stdout",
     "output_type": "stream",
     "text": [
      "23/23 [==============================] - 1s 29ms/step - loss: 71.3875 - acc: 0.5296 - val_loss: 20.1484 - val_acc: 0.0734\n",
      "Epoch 2/500\n",
      "23/23 [==============================] - 0s 10ms/step - loss: 19.0120 - acc: 0.5467 - val_loss: 0.4267 - val_acc: 0.9265\n",
      "Epoch 3/500\n",
      "23/23 [==============================] - 0s 11ms/step - loss: 1.9547 - acc: 0.5783 - val_loss: 0.2902 - val_acc: 0.8731\n",
      "Epoch 4/500\n",
      "23/23 [==============================] - 0s 12ms/step - loss: 0.7165 - acc: 0.6645 - val_loss: 1.6436 - val_acc: 0.3724\n",
      "Epoch 5/500\n",
      "23/23 [==============================] - 0s 11ms/step - loss: 0.7661 - acc: 0.6383 - val_loss: 0.2254 - val_acc: 0.9270\n",
      "Epoch 6/500\n",
      "23/23 [==============================] - 0s 12ms/step - loss: 1.0359 - acc: 0.6643 - val_loss: 0.2420 - val_acc: 0.9270\n",
      "Epoch 7/500\n",
      "23/23 [==============================] - 0s 11ms/step - loss: 0.9874 - acc: 0.6801 - val_loss: 0.5513 - val_acc: 0.6946\n",
      "Epoch 8/500\n",
      "23/23 [==============================] - 0s 12ms/step - loss: 0.6613 - acc: 0.7085 - val_loss: 0.6060 - val_acc: 0.6138\n",
      "Epoch 9/500\n",
      "23/23 [==============================] - 0s 11ms/step - loss: 0.5640 - acc: 0.6511 - val_loss: 0.7306 - val_acc: 0.5783\n",
      "Epoch 10/500\n",
      "23/23 [==============================] - 0s 11ms/step - loss: 0.5490 - acc: 0.6570 - val_loss: 0.3526 - val_acc: 0.8136\n",
      "\n",
      "Epoch 00010: ReduceLROnPlateau reducing learning rate to 0.000630957374449059.\n",
      "Epoch 11/500\n",
      "23/23 [==============================] - 0s 12ms/step - loss: 0.5060 - acc: 0.7284 - val_loss: 0.5330 - val_acc: 0.6687\n",
      "Epoch 12/500\n",
      "23/23 [==============================] - 0s 12ms/step - loss: 0.5046 - acc: 0.6796 - val_loss: 0.5761 - val_acc: 0.6590\n",
      "Epoch 13/500\n",
      "23/23 [==============================] - 0s 12ms/step - loss: 0.4695 - acc: 0.7182 - val_loss: 0.2616 - val_acc: 0.8979\n",
      "Epoch 14/500\n",
      "23/23 [==============================] - 0s 12ms/step - loss: 0.4786 - acc: 0.7569 - val_loss: 0.4411 - val_acc: 0.7594\n",
      "Epoch 15/500\n",
      "23/23 [==============================] - 0s 12ms/step - loss: 0.3992 - acc: 0.7955 - val_loss: 0.5783 - val_acc: 0.6903\n",
      "\n",
      "Epoch 00015: ReduceLROnPlateau reducing learning rate to 0.0003981071838171537.\n",
      "Epoch 16/500\n",
      "23/23 [==============================] - 0s 12ms/step - loss: 0.3808 - acc: 0.7982 - val_loss: 0.4512 - val_acc: 0.7654\n",
      "Epoch 17/500\n",
      "23/23 [==============================] - 0s 12ms/step - loss: 0.3434 - acc: 0.8241 - val_loss: 0.3343 - val_acc: 0.8422\n",
      "Epoch 18/500\n",
      "23/23 [==============================] - 0s 12ms/step - loss: 0.3374 - acc: 0.8376 - val_loss: 0.2235 - val_acc: 0.9068\n",
      "Epoch 19/500\n",
      "23/23 [==============================] - 0s 12ms/step - loss: 0.3209 - acc: 0.8506 - val_loss: 0.2826 - val_acc: 0.8735\n",
      "Epoch 20/500\n",
      "23/23 [==============================] - 0s 11ms/step - loss: 0.3255 - acc: 0.8475 - val_loss: 0.2217 - val_acc: 0.9056\n",
      "Epoch 21/500\n",
      "23/23 [==============================] - 0s 11ms/step - loss: 0.3295 - acc: 0.8568 - val_loss: 0.2821 - val_acc: 0.8740\n",
      "Epoch 22/500\n",
      "23/23 [==============================] - 0s 11ms/step - loss: 0.3146 - acc: 0.8515 - val_loss: 0.4653 - val_acc: 0.7764\n",
      "Epoch 23/500\n",
      "23/23 [==============================] - 0s 12ms/step - loss: 0.3414 - acc: 0.8166 - val_loss: 0.1767 - val_acc: 0.9281\n",
      "Epoch 24/500\n",
      "23/23 [==============================] - 0s 12ms/step - loss: 0.3161 - acc: 0.8634 - val_loss: 0.2740 - val_acc: 0.8799\n",
      "Epoch 25/500\n",
      "23/23 [==============================] - 0s 12ms/step - loss: 0.2889 - acc: 0.8686 - val_loss: 0.2943 - val_acc: 0.8694\n",
      "Epoch 26/500\n",
      "23/23 [==============================] - 0s 12ms/step - loss: 0.2955 - acc: 0.8663 - val_loss: 0.3535 - val_acc: 0.8380\n",
      "Epoch 27/500\n",
      "23/23 [==============================] - 0s 11ms/step - loss: 0.3024 - acc: 0.8561 - val_loss: 0.3311 - val_acc: 0.8510\n",
      "Epoch 28/500\n",
      "23/23 [==============================] - 0s 11ms/step - loss: 0.2794 - acc: 0.8741 - val_loss: 0.3126 - val_acc: 0.8611\n",
      "\n",
      "Epoch 00028: ReduceLROnPlateau reducing learning rate to 0.0002511886574257803.\n",
      "Epoch 29/500\n",
      "23/23 [==============================] - 0s 12ms/step - loss: 0.2754 - acc: 0.8762 - val_loss: 0.2196 - val_acc: 0.9066\n",
      "Epoch 30/500\n",
      "23/23 [==============================] - 0s 11ms/step - loss: 0.2849 - acc: 0.8830 - val_loss: 0.3110 - val_acc: 0.8623\n",
      "Epoch 31/500\n",
      "23/23 [==============================] - 0s 11ms/step - loss: 0.2628 - acc: 0.8747 - val_loss: 0.2871 - val_acc: 0.8736\n",
      "Epoch 32/500\n",
      "23/23 [==============================] - 0s 12ms/step - loss: 0.2698 - acc: 0.8763 - val_loss: 0.3474 - val_acc: 0.8444\n",
      "Epoch 33/500\n",
      "23/23 [==============================] - 0s 12ms/step - loss: 0.2779 - acc: 0.8702 - val_loss: 0.2246 - val_acc: 0.9026\n",
      "\n",
      "Epoch 00033: ReduceLROnPlateau reducing learning rate to 0.00015848933651346973.\n",
      "Epoch 34/500\n",
      "23/23 [==============================] - 0s 12ms/step - loss: 0.2781 - acc: 0.8855 - val_loss: 0.3139 - val_acc: 0.8621\n",
      "Epoch 35/500\n",
      "23/23 [==============================] - 0s 12ms/step - loss: 0.2715 - acc: 0.8795 - val_loss: 0.3271 - val_acc: 0.8558\n",
      "Epoch 36/500\n",
      "23/23 [==============================] - 0s 11ms/step - loss: 0.2781 - acc: 0.8649 - val_loss: 0.2527 - val_acc: 0.8899\n",
      "Epoch 37/500\n",
      "23/23 [==============================] - 0s 11ms/step - loss: 0.2617 - acc: 0.8839 - val_loss: 0.2135 - val_acc: 0.9084\n",
      "Epoch 38/500\n",
      "23/23 [==============================] - 0s 11ms/step - loss: 0.2526 - acc: 0.8925 - val_loss: 0.3392 - val_acc: 0.8496\n",
      "\n",
      "Epoch 00038: ReduceLROnPlateau reducing learning rate to 0.00010000000838432616.\n",
      "Epoch 39/500\n",
      "23/23 [==============================] - 0s 11ms/step - loss: 0.2579 - acc: 0.8805 - val_loss: 0.3326 - val_acc: 0.8533\n",
      "Epoch 40/500\n",
      "23/23 [==============================] - 0s 12ms/step - loss: 0.2592 - acc: 0.8800 - val_loss: 0.2456 - val_acc: 0.8938\n",
      "Epoch 41/500\n",
      "23/23 [==============================] - 0s 11ms/step - loss: 0.2720 - acc: 0.8780 - val_loss: 0.2518 - val_acc: 0.8903\n",
      "Epoch 42/500\n",
      "23/23 [==============================] - 0s 11ms/step - loss: 0.2745 - acc: 0.8787 - val_loss: 0.3015 - val_acc: 0.8678\n",
      "Epoch 43/500\n",
      "23/23 [==============================] - 0s 11ms/step - loss: 0.2489 - acc: 0.8833 - val_loss: 0.2744 - val_acc: 0.8811\n",
      "\n",
      "Epoch 00043: ReduceLROnPlateau reducing learning rate to 6.30957374449059e-05.\n",
      "Epoch 44/500\n",
      "23/23 [==============================] - 0s 11ms/step - loss: 0.2637 - acc: 0.8873 - val_loss: 0.2854 - val_acc: 0.8740\n",
      "Epoch 45/500\n",
      "23/23 [==============================] - 0s 11ms/step - loss: 0.2571 - acc: 0.8783 - val_loss: 0.3053 - val_acc: 0.8657\n",
      "Epoch 46/500\n",
      "23/23 [==============================] - 0s 11ms/step - loss: 0.2508 - acc: 0.8800 - val_loss: 0.2385 - val_acc: 0.8967\n",
      "Epoch 47/500\n",
      "23/23 [==============================] - 0s 11ms/step - loss: 0.2584 - acc: 0.8854 - val_loss: 0.2142 - val_acc: 0.9099\n",
      "Epoch 48/500\n",
      "23/23 [==============================] - 0s 11ms/step - loss: 0.2444 - acc: 0.8964 - val_loss: 0.2442 - val_acc: 0.8946\n",
      "\n",
      "Epoch 00048: ReduceLROnPlateau reducing learning rate to 3.981071838171537e-05.\n",
      "Epoch 49/500\n",
      "23/23 [==============================] - 0s 12ms/step - loss: 0.2449 - acc: 0.8898 - val_loss: 0.2744 - val_acc: 0.8805\n",
      "Epoch 50/500\n",
      "23/23 [==============================] - 0s 11ms/step - loss: 0.2489 - acc: 0.8859 - val_loss: 0.2260 - val_acc: 0.9031\n",
      "Epoch 51/500\n",
      "23/23 [==============================] - 0s 11ms/step - loss: 0.2437 - acc: 0.8926 - val_loss: 0.2847 - val_acc: 0.8759\n",
      "Epoch 52/500\n",
      "23/23 [==============================] - 0s 12ms/step - loss: 0.2446 - acc: 0.8895 - val_loss: 0.2798 - val_acc: 0.8779\n",
      "Epoch 53/500\n",
      "23/23 [==============================] - 0s 12ms/step - loss: 0.2442 - acc: 0.8927 - val_loss: 0.2682 - val_acc: 0.8837\n",
      "\n",
      "Epoch 00053: ReduceLROnPlateau reducing learning rate to 2.5118865283496142e-05.\n",
      "Epoch 54/500\n",
      "23/23 [==============================] - 0s 12ms/step - loss: 0.2439 - acc: 0.8910 - val_loss: 0.2104 - val_acc: 0.9128\n",
      "Epoch 55/500\n",
      "23/23 [==============================] - 0s 12ms/step - loss: 0.2563 - acc: 0.8929 - val_loss: 0.2619 - val_acc: 0.8862\n",
      "Epoch 56/500\n",
      "23/23 [==============================] - 0s 12ms/step - loss: 0.2513 - acc: 0.8813 - val_loss: 0.2591 - val_acc: 0.8863\n",
      "Epoch 57/500\n",
      "23/23 [==============================] - 0s 12ms/step - loss: 0.2501 - acc: 0.8908 - val_loss: 0.2377 - val_acc: 0.8977\n"
     ]
    },
    {
     "name": "stdout",
     "output_type": "stream",
     "text": [
      "Epoch 58/500\n",
      "23/23 [==============================] - 0s 11ms/step - loss: 0.2541 - acc: 0.8958 - val_loss: 0.2733 - val_acc: 0.8808\n",
      "\n",
      "Epoch 00058: ReduceLROnPlateau reducing learning rate to 1.5848932274101303e-05.\n",
      "Epoch 59/500\n",
      "23/23 [==============================] - 0s 11ms/step - loss: 0.2523 - acc: 0.8825 - val_loss: 0.2541 - val_acc: 0.8896\n",
      "Epoch 60/500\n",
      "23/23 [==============================] - 0s 11ms/step - loss: 0.2437 - acc: 0.8929 - val_loss: 0.2497 - val_acc: 0.8922\n",
      "Epoch 61/500\n",
      "23/23 [==============================] - 0s 12ms/step - loss: 0.2501 - acc: 0.8884 - val_loss: 0.2513 - val_acc: 0.8909\n",
      "Epoch 62/500\n",
      "23/23 [==============================] - 0s 11ms/step - loss: 0.2472 - acc: 0.8887 - val_loss: 0.2687 - val_acc: 0.8835\n",
      "Epoch 63/500\n",
      "23/23 [==============================] - 0s 11ms/step - loss: 0.2484 - acc: 0.8891 - val_loss: 0.2332 - val_acc: 0.9000\n",
      "\n",
      "Epoch 00063: ReduceLROnPlateau reducing learning rate to 1.0000000608891671e-05.\n",
      "Epoch 64/500\n",
      "23/23 [==============================] - 0s 11ms/step - loss: 0.2404 - acc: 0.8971 - val_loss: 0.2432 - val_acc: 0.8956\n",
      "Epoch 65/500\n",
      "23/23 [==============================] - 0s 12ms/step - loss: 0.2405 - acc: 0.8978 - val_loss: 0.2699 - val_acc: 0.8825\n",
      "Epoch 66/500\n",
      "23/23 [==============================] - 0s 12ms/step - loss: 0.2559 - acc: 0.8895 - val_loss: 0.2514 - val_acc: 0.8912\n",
      "Epoch 67/500\n",
      "23/23 [==============================] - 0s 12ms/step - loss: 0.2441 - acc: 0.8912 - val_loss: 0.2345 - val_acc: 0.8995\n",
      "Epoch 68/500\n",
      "23/23 [==============================] - 0s 12ms/step - loss: 0.2417 - acc: 0.8955 - val_loss: 0.2662 - val_acc: 0.8844\n",
      "\n",
      "Epoch 00068: ReduceLROnPlateau reducing learning rate to 6.309573859261062e-06.\n",
      "Epoch 69/500\n",
      "23/23 [==============================] - 0s 12ms/step - loss: 0.2416 - acc: 0.8943 - val_loss: 0.2674 - val_acc: 0.8837\n",
      "Epoch 70/500\n",
      "23/23 [==============================] - 0s 12ms/step - loss: 0.2383 - acc: 0.8912 - val_loss: 0.2544 - val_acc: 0.8892\n",
      "Epoch 71/500\n",
      "23/23 [==============================] - 0s 12ms/step - loss: 0.2471 - acc: 0.8895 - val_loss: 0.2500 - val_acc: 0.8917\n",
      "Epoch 72/500\n",
      "23/23 [==============================] - 0s 12ms/step - loss: 0.2403 - acc: 0.8918 - val_loss: 0.2486 - val_acc: 0.8924\n",
      "Epoch 73/500\n",
      "23/23 [==============================] - 0s 11ms/step - loss: 0.2525 - acc: 0.8948 - val_loss: 0.2572 - val_acc: 0.8877\n",
      "\n",
      "Epoch 00073: ReduceLROnPlateau reducing learning rate to 3.981072067712481e-06.\n",
      "Epoch 74/500\n",
      "23/23 [==============================] - 0s 11ms/step - loss: 0.2445 - acc: 0.8904 - val_loss: 0.2538 - val_acc: 0.8895\n",
      "Epoch 75/500\n",
      "23/23 [==============================] - 0s 11ms/step - loss: 0.2592 - acc: 0.8886 - val_loss: 0.2433 - val_acc: 0.8960\n",
      "Epoch 76/500\n",
      "23/23 [==============================] - 0s 11ms/step - loss: 0.2594 - acc: 0.8955 - val_loss: 0.2518 - val_acc: 0.8907\n",
      "Epoch 77/500\n",
      "23/23 [==============================] - 0s 12ms/step - loss: 0.2413 - acc: 0.8951 - val_loss: 0.2593 - val_acc: 0.8868\n",
      "Epoch 78/500\n",
      "23/23 [==============================] - 0s 12ms/step - loss: 0.2404 - acc: 0.8888 - val_loss: 0.2529 - val_acc: 0.8905\n",
      "\n",
      "Epoch 00078: ReduceLROnPlateau reducing learning rate to 2.5118866431200864e-06.\n",
      "Epoch 79/500\n",
      "23/23 [==============================] - 0s 12ms/step - loss: 0.2390 - acc: 0.8956 - val_loss: 0.2620 - val_acc: 0.8858\n",
      "Epoch 80/500\n",
      "23/23 [==============================] - 0s 12ms/step - loss: 0.2438 - acc: 0.8924 - val_loss: 0.2522 - val_acc: 0.8905\n",
      "Epoch 81/500\n",
      "23/23 [==============================] - 0s 12ms/step - loss: 0.2418 - acc: 0.8907 - val_loss: 0.2585 - val_acc: 0.8869\n",
      "Epoch 82/500\n",
      "23/23 [==============================] - 0s 11ms/step - loss: 0.2452 - acc: 0.8900 - val_loss: 0.2583 - val_acc: 0.8868\n",
      "Epoch 83/500\n",
      "23/23 [==============================] - 0s 11ms/step - loss: 0.2426 - acc: 0.8921 - val_loss: 0.2594 - val_acc: 0.8867\n",
      "\n",
      "Epoch 00083: ReduceLROnPlateau reducing learning rate to 1.5848932847953665e-06.\n",
      "Epoch 84/500\n",
      "23/23 [==============================] - 0s 11ms/step - loss: 0.2485 - acc: 0.8919 - val_loss: 0.2547 - val_acc: 0.8890\n",
      "Epoch 85/500\n",
      "23/23 [==============================] - 0s 11ms/step - loss: 0.2465 - acc: 0.8913 - val_loss: 0.2560 - val_acc: 0.8883\n",
      "Epoch 86/500\n",
      "23/23 [==============================] - 0s 11ms/step - loss: 0.2384 - acc: 0.8936 - val_loss: 0.2559 - val_acc: 0.8882\n",
      "Epoch 87/500\n",
      "23/23 [==============================] - 0s 12ms/step - loss: 0.2390 - acc: 0.8893 - val_loss: 0.2614 - val_acc: 0.8863\n",
      "Epoch 88/500\n",
      "23/23 [==============================] - 0s 12ms/step - loss: 0.2490 - acc: 0.8903 - val_loss: 0.2530 - val_acc: 0.8899\n",
      "\n",
      "Epoch 00088: ReduceLROnPlateau reducing learning rate to 1.0000000752354761e-06.\n",
      "Epoch 89/500\n",
      "23/23 [==============================] - 0s 12ms/step - loss: 0.2321 - acc: 0.8944 - val_loss: 0.2558 - val_acc: 0.8885\n",
      "Epoch 90/500\n",
      "23/23 [==============================] - 0s 12ms/step - loss: 0.2454 - acc: 0.8891 - val_loss: 0.2564 - val_acc: 0.8880\n",
      "Epoch 91/500\n",
      "23/23 [==============================] - 0s 12ms/step - loss: 0.2351 - acc: 0.8960 - val_loss: 0.2577 - val_acc: 0.8872\n",
      "Epoch 92/500\n",
      "23/23 [==============================] - 0s 12ms/step - loss: 0.2383 - acc: 0.8908 - val_loss: 0.2584 - val_acc: 0.8871\n",
      "Epoch 93/500\n",
      "23/23 [==============================] - 0s 11ms/step - loss: 0.2414 - acc: 0.8908 - val_loss: 0.2578 - val_acc: 0.8874\n",
      "\n",
      "Epoch 00093: ReduceLROnPlateau reducing learning rate to 1e-06.\n",
      "Epoch 94/500\n",
      "23/23 [==============================] - 0s 11ms/step - loss: 0.2473 - acc: 0.8917 - val_loss: 0.2557 - val_acc: 0.8884\n",
      "Epoch 95/500\n",
      "23/23 [==============================] - 0s 11ms/step - loss: 0.2449 - acc: 0.8927 - val_loss: 0.2567 - val_acc: 0.8878\n",
      "Epoch 96/500\n",
      "23/23 [==============================] - 0s 12ms/step - loss: 0.2380 - acc: 0.8919 - val_loss: 0.2572 - val_acc: 0.8875\n",
      "Epoch 97/500\n",
      "23/23 [==============================] - 0s 12ms/step - loss: 0.2466 - acc: 0.8927 - val_loss: 0.2570 - val_acc: 0.8875\n",
      "Epoch 98/500\n",
      "23/23 [==============================] - 0s 11ms/step - loss: 0.2433 - acc: 0.8924 - val_loss: 0.2566 - val_acc: 0.8878\n",
      "Epoch 99/500\n",
      "23/23 [==============================] - 0s 11ms/step - loss: 0.2424 - acc: 0.8943 - val_loss: 0.2569 - val_acc: 0.8877\n",
      "Epoch 100/500\n",
      "23/23 [==============================] - 0s 11ms/step - loss: 0.2438 - acc: 0.8908 - val_loss: 0.2571 - val_acc: 0.8875\n",
      "Epoch 101/500\n",
      "23/23 [==============================] - 0s 11ms/step - loss: 0.2368 - acc: 0.8917 - val_loss: 0.2569 - val_acc: 0.8876\n",
      "Epoch 102/500\n",
      "23/23 [==============================] - 0s 12ms/step - loss: 0.2390 - acc: 0.8938 - val_loss: 0.2546 - val_acc: 0.8889\n",
      "Epoch 103/500\n",
      "23/23 [==============================] - 0s 12ms/step - loss: 0.2484 - acc: 0.8904 - val_loss: 0.2590 - val_acc: 0.8868\n",
      "Epoch 104/500\n",
      "23/23 [==============================] - 0s 11ms/step - loss: 0.2337 - acc: 0.8927 - val_loss: 0.2541 - val_acc: 0.8895\n",
      "Epoch 105/500\n",
      "23/23 [==============================] - 0s 11ms/step - loss: 0.2365 - acc: 0.8919 - val_loss: 0.2615 - val_acc: 0.8861\n",
      "Epoch 106/500\n",
      "23/23 [==============================] - 0s 11ms/step - loss: 0.2362 - acc: 0.8917 - val_loss: 0.2564 - val_acc: 0.8878\n",
      "Epoch 107/500\n",
      "23/23 [==============================] - 0s 12ms/step - loss: 0.2378 - acc: 0.8935 - val_loss: 0.2572 - val_acc: 0.8875\n",
      "Epoch 108/500\n",
      "23/23 [==============================] - 0s 12ms/step - loss: 0.2490 - acc: 0.8900 - val_loss: 0.2564 - val_acc: 0.8879\n",
      "Epoch 109/500\n",
      "23/23 [==============================] - 0s 12ms/step - loss: 0.2392 - acc: 0.8936 - val_loss: 0.2573 - val_acc: 0.8876\n",
      "Epoch 110/500\n",
      "23/23 [==============================] - 0s 12ms/step - loss: 0.2564 - acc: 0.8868 - val_loss: 0.2566 - val_acc: 0.8878\n",
      "Epoch 111/500\n",
      "23/23 [==============================] - 0s 10ms/step - loss: 0.2511 - acc: 0.8918 - val_loss: 0.2523 - val_acc: 0.8903\n",
      "Epoch 112/500\n",
      "23/23 [==============================] - 0s 11ms/step - loss: 0.2465 - acc: 0.8934 - val_loss: 0.2584 - val_acc: 0.8872\n",
      "Epoch 113/500\n",
      "23/23 [==============================] - 0s 11ms/step - loss: 0.2488 - acc: 0.8893 - val_loss: 0.2545 - val_acc: 0.8891\n",
      "Epoch 114/500\n",
      "23/23 [==============================] - 0s 11ms/step - loss: 0.2526 - acc: 0.8893 - val_loss: 0.2568 - val_acc: 0.8876\n"
     ]
    },
    {
     "name": "stdout",
     "output_type": "stream",
     "text": [
      "Epoch 115/500\n",
      "23/23 [==============================] - 0s 11ms/step - loss: 0.2476 - acc: 0.8899 - val_loss: 0.2534 - val_acc: 0.8896\n",
      "Epoch 116/500\n",
      "23/23 [==============================] - 0s 12ms/step - loss: 0.2410 - acc: 0.8938 - val_loss: 0.2560 - val_acc: 0.8882\n",
      "Epoch 117/500\n",
      "23/23 [==============================] - 0s 12ms/step - loss: 0.2454 - acc: 0.8890 - val_loss: 0.2605 - val_acc: 0.8864\n",
      "Epoch 118/500\n",
      "23/23 [==============================] - 0s 11ms/step - loss: 0.2440 - acc: 0.8924 - val_loss: 0.2532 - val_acc: 0.8899\n",
      "Epoch 119/500\n",
      "23/23 [==============================] - 0s 12ms/step - loss: 0.2481 - acc: 0.8952 - val_loss: 0.2566 - val_acc: 0.8876\n",
      "Epoch 120/500\n",
      "23/23 [==============================] - 0s 12ms/step - loss: 0.2298 - acc: 0.8953 - val_loss: 0.2552 - val_acc: 0.8886\n",
      "Epoch 121/500\n",
      "23/23 [==============================] - 0s 11ms/step - loss: 0.2352 - acc: 0.8926 - val_loss: 0.2570 - val_acc: 0.8876\n",
      "Epoch 122/500\n",
      "23/23 [==============================] - 0s 11ms/step - loss: 0.2343 - acc: 0.8957 - val_loss: 0.2574 - val_acc: 0.8875\n",
      "Epoch 123/500\n",
      "23/23 [==============================] - 0s 11ms/step - loss: 0.2449 - acc: 0.8941 - val_loss: 0.2546 - val_acc: 0.8891\n",
      "Epoch 00123: early stopping\n"
     ]
    }
   ],
   "source": [
    "# now train the model\n",
    "\n",
    "reduce_lr = tf.keras.callbacks.ReduceLROnPlateau(monitor='val_loss', \n",
    "                              factor=0.1**(1/5), patience=5, min_lr=1e-6,\n",
    "                                                verbose=1)\n",
    "\n",
    "early_stop = tf.keras.callbacks.EarlyStopping(monitor='val_loss', patience=100, \n",
    "                                              verbose=1)\n",
    "\n",
    "callbacks = [reduce_lr,early_stop]\n",
    "\n",
    "hist1 = pfn.fit(X_train, Y_train,\n",
    "        epochs=num_epoch,\n",
    "        batch_size=batch_size,\n",
    "        validation_data=(X_val, Y_val),\n",
    "        class_weight=class_weight,\n",
    "        callbacks=callbacks,\n",
    "        verbose=1)"
   ]
  },
  {
   "cell_type": "markdown",
   "id": "0fac1861",
   "metadata": {},
   "source": [
    "# Analyze the Model"
   ]
  },
  {
   "cell_type": "code",
   "execution_count": 17,
   "id": "531ee50e",
   "metadata": {},
   "outputs": [
    {
     "name": "stdout",
     "output_type": "stream",
     "text": [
      "\n",
      "PFN AUC: 0.946879775263556\n",
      "\n"
     ]
    }
   ],
   "source": [
    "# get predictions on test data\n",
    "preds = pfn.predict(X_test, batch_size=10000)\n",
    "\n",
    "# get ROC curve\n",
    "pfn_fp, pfn_tp, threshs = roc_curve(Y_test[:,1], preds[:,1])\n",
    "\n",
    "# get area under the ROC curve\n",
    "auc = roc_auc_score(Y_test[:,1], preds[:,1])\n",
    "print()\n",
    "print('PFN AUC:', auc)\n",
    "print()"
   ]
  },
  {
   "cell_type": "code",
   "execution_count": 18,
   "id": "403ff086",
   "metadata": {},
   "outputs": [
    {
     "data": {
      "image/png": "[encoded data removed]",
      "text/plain": [
       "<Figure size 288x288 with 1 Axes>"
      ]
     },
     "metadata": {
      "needs_background": "light"
     },
     "output_type": "display_data"
    }
   ],
   "source": [
    "# get multiplicity and mass for comparison\n",
    "masses = np.asarray([ef.ms_from_p4s(ef.p4s_from_ptyphims(x).sum(axis=0)) for x in X])\n",
    "mults = np.asarray([np.count_nonzero(x[:,0]) for x in X])\n",
    "mass_fp, mass_tp, threshs = roc_curve(Y[:,1], -masses)\n",
    "mult_fp, mult_tp, threshs = roc_curve(Y[:,1], -mults)\n",
    "\n",
    "# some nicer plot settings \n",
    "plt.rcParams['figure.figsize'] = (4,4)\n",
    "plt.rcParams['font.family'] = 'serif'\n",
    "plt.rcParams['figure.autolayout'] = True\n",
    "\n",
    "# plot the ROC curves\n",
    "plt.plot(pfn_tp, 1-pfn_fp, '-', color='black', label='PFN')\n",
    "plt.plot(mass_tp, 1-mass_fp, '-', color='blue', label='Jet Mass')\n",
    "plt.plot(mult_tp, 1-mult_fp, '-', color='red', label='Multiplicity')\n",
    "\n",
    "# axes labels\n",
    "plt.xlabel('Quark Jet Efficiency')\n",
    "plt.ylabel('Gluon Jet Rejection')\n",
    "\n",
    "# axes limits\n",
    "plt.xlim(0, 1)\n",
    "plt.ylim(0, 1)\n",
    "\n",
    "# make legend and show plot\n",
    "plt.legend(loc='lower left', frameon=False)\n",
    "plt.show()\n"
   ]
  },
  {
   "cell_type": "code",
   "execution_count": 19,
   "id": "9190f668",
   "metadata": {},
   "outputs": [
    {
     "data": {
      "image/png": "[encoded data removed]",
      "text/plain": [
       "<Figure size 288x288 with 1 Axes>"
      ]
     },
     "metadata": {
      "needs_background": "light"
     },
     "output_type": "display_data"
    }
   ],
   "source": [
    "plt.plot(hist1.history[\"loss\"],label=\"loss\")\n",
    "plt.plot(hist1.history[\"val_loss\"],label=\"validation loss\")\n",
    "plt.legend()\n",
    "plt.show()"
   ]
  },
  {
   "cell_type": "code",
   "execution_count": 20,
   "id": "bcf5a3ff",
   "metadata": {},
   "outputs": [
    {
     "data": {
      "image/png": "[encoded data removed]",
      "text/plain": [
       "<Figure size 288x288 with 1 Axes>"
      ]
     },
     "metadata": {
      "needs_background": "light"
     },
     "output_type": "display_data"
    }
   ],
   "source": [
    "plt.plot(hist1.history[\"acc\"],label=\"acc\")\n",
    "plt.plot(hist1.history[\"val_acc\"],label=\"validation acc\")\n",
    "plt.legend()\n",
    "plt.show()"
   ]
  },
  {
   "cell_type": "code",
   "execution_count": null,
   "id": "0a1abd7d",
   "metadata": {},
   "outputs": [],
   "source": []
  }
 ],
 "metadata": {
  "kernelspec": {
   "display_name": "Python 3 (ipykernel)",
   "language": "python",
   "name": "python3"
  },
  "language_info": {
   "codemirror_mode": {
    "name": "ipython",
    "version": 3
   },
   "file_extension": ".py",
   "mimetype": "text/x-python",
   "name": "python",
   "nbconvert_exporter": "python",
   "pygments_lexer": "ipython3",
   "version": "3.8.12"
  }
 },
 "nbformat": 4,
 "nbformat_minor": 5
}
