{
 "cells": [
  {
   "cell_type": "markdown",
   "id": "4ef50705",
   "metadata": {},
   "source": [
    "# Import and Initialization"
   ]
  },
  {
   "cell_type": "code",
   "execution_count": 1,
   "id": "05a505b0",
   "metadata": {},
   "outputs": [],
   "source": [
    "%load_ext autoreload\n",
    "%autoreload 2\n",
    "\n",
    "import tensorflow as tf\n",
    "\n",
    "# standard library imports\n",
    "from __future__ import absolute_import, division, print_function\n",
    "\n",
    "# standard numerical library imports\n",
    "import numpy as np\n",
    "\n",
    "# energyflow imports\n",
    "import energyflow as ef\n",
    "from energyflow.archs import PFN\n",
    "from energyflow.datasets import qg_jets\n",
    "from energyflow.utils import data_split, remap_pids, to_categorical\n",
    "\n",
    "from sklearn.metrics import roc_auc_score, roc_curve\n",
    "import matplotlib.pyplot as plt\n",
    "\n",
    "\n",
    "import pandas\n",
    "import h5py\n",
    "import pickle\n",
    "\n",
    "import datetime"
   ]
  },
  {
   "cell_type": "code",
   "execution_count": 2,
   "id": "45667e4d",
   "metadata": {},
   "outputs": [],
   "source": [
    "# configs\n",
    "train, val, test = 0.6, 0.3, 0.1\n",
    "Phi_sizes, F_sizes = (256, 256, 256), (256, 256, 256)\n",
    "num_epoch = 500\n",
    "batch_size = 1000"
   ]
  },
  {
   "cell_type": "markdown",
   "id": "8c5aa5d4",
   "metadata": {},
   "source": [
    "# Load and Process Data"
   ]
  },
  {
   "cell_type": "code",
   "execution_count": 3,
   "id": "25276321",
   "metadata": {},
   "outputs": [],
   "source": [
    "b_signal_file = \"/global/home/users/yifengh3/VAE/data/B_signal.h5\"\n",
    "background_file = \"/global/home/users/yifengh3/VAE/data/B_background.h5\"\n",
    "b_signal_data = pandas.read_hdf(b_signal_file)\n",
    "background_data = pandas.read_hdf(background_file)"
   ]
  },
  {
   "cell_type": "code",
   "execution_count": 4,
   "id": "646d74c9",
   "metadata": {},
   "outputs": [
    {
     "name": "stdout",
     "output_type": "stream",
     "text": [
      "backgroubackground_datand data shape: (2000000, 150)\n",
      "B signal data shape: (50000, 150)\n"
     ]
    }
   ],
   "source": [
    "print(\"backgroubackground_datand data shape: {}\".format(background_data.shape))\n",
    "print(\"B signal data shape: {}\".format(b_signal_data.shape))"
   ]
  },
  {
   "cell_type": "code",
   "execution_count": 5,
   "id": "e582ac98",
   "metadata": {},
   "outputs": [],
   "source": [
    "# assign labels to signal and background data, 0 for background,  1 for b-signal\n",
    "# (updated since we might get multiple signals) \n",
    "labeled_background_data = np.append(background_data,np.zeros((background_data.shape[0],1)),axis=1)\n",
    "labeled_b_signal_data = np.append(b_signal_data,np.ones((b_signal_data.shape[0],1)),axis=1)"
   ]
  },
  {
   "cell_type": "code",
   "execution_count": 6,
   "id": "8540cc44",
   "metadata": {},
   "outputs": [],
   "source": [
    "# mix two data array into one signal array\n",
    "data = np.concatenate((labeled_b_signal_data,labeled_background_data))\n",
    "\n",
    "#and shuffle the data\n",
    "np.random.shuffle(data)"
   ]
  },
  {
   "cell_type": "code",
   "execution_count": 7,
   "id": "34eaf99c",
   "metadata": {},
   "outputs": [],
   "source": [
    "X = data[:,:-1]\n",
    "y = data[:,-1]"
   ]
  },
  {
   "cell_type": "code",
   "execution_count": 8,
   "id": "d078bbf6",
   "metadata": {},
   "outputs": [
    {
     "name": "stdout",
     "output_type": "stream",
     "text": [
      "shape of X: (2050000, 150)\n",
      "shape of Y: (2050000,)\n"
     ]
    }
   ],
   "source": [
    "print(\"shape of X: {}\".format(X.shape))\n",
    "print(\"shape of Y: {}\".format(y.shape))"
   ]
  },
  {
   "cell_type": "code",
   "execution_count": 9,
   "id": "ea34616a",
   "metadata": {},
   "outputs": [
    {
     "name": "stdout",
     "output_type": "stream",
     "text": [
      "Weight for background: 0.51\n",
      "Weight for signal: 20.50\n"
     ]
    }
   ],
   "source": [
    "# Scaling by total/2 helps keep the loss to a similar magnitude.\n",
    "# The sum of the weights of all examples stays the same.\n",
    "total = b_signal_data.shape[0] + background_data.shape[0]\n",
    "weight_for_0 = (1 / background_data.shape[0]) * (total / 2.0)\n",
    "weight_for_1 = (1 / b_signal_data.shape[0]) * (total / 2.0)\n",
    "\n",
    "\n",
    "class_weight = {0: weight_for_0, 1: weight_for_1}\n",
    "\n",
    "print('Weight for background: {:.2f}'.format(weight_for_0))\n",
    "print('Weight for signal: {:.2f}'.format(weight_for_1))"
   ]
  },
  {
   "cell_type": "code",
   "execution_count": 10,
   "id": "c3e0e641",
   "metadata": {},
   "outputs": [],
   "source": [
    "# To categorical as stipulated in example\n",
    "Y = to_categorical(y, num_classes=2)\n",
    "\n",
    "# Reshape X to shape (number of jets, 50, 3)\n",
    "X = X.reshape(-1,50,3)"
   ]
  },
  {
   "cell_type": "code",
   "execution_count": 11,
   "id": "6a6fe36d",
   "metadata": {},
   "outputs": [
    {
     "name": "stderr",
     "output_type": "stream",
     "text": [
      "100%|██████████| 2050000/2050000 [02:01<00:00, 16867.69it/s]\n"
     ]
    }
   ],
   "source": [
    "# normalizing jets\n",
    "# copied from example\n",
    "import tqdm\n",
    "for x in tqdm.tqdm(X):\n",
    "    # now add the status bar :)\n",
    "    mask = x[:,0] > 0\n",
    "    yphi_avg = np.average(x[mask,1:3], weights=x[mask,0], axis=0)\n",
    "    x[mask,1:3] -= yphi_avg\n",
    "    x[mask,0] /= x[:,0].sum()"
   ]
  },
  {
   "cell_type": "code",
   "execution_count": 12,
   "id": "c3e18f2d",
   "metadata": {},
   "outputs": [
    {
     "name": "stdout",
     "output_type": "stream",
     "text": [
      "Finished preprocessing\n",
      "shape of X: (2050000, 50, 3)\n",
      "shape of Y: (2050000,)\n"
     ]
    }
   ],
   "source": [
    "print('Finished preprocessing')\n",
    "print(\"shape of X: {}\".format(X.shape))\n",
    "print(\"shape of Y: {}\".format(y.shape))"
   ]
  },
  {
   "cell_type": "code",
   "execution_count": 13,
   "id": "939de622",
   "metadata": {},
   "outputs": [],
   "source": [
    "# do train/val/test split \n",
    "(X_train, X_val, X_test,\n",
    " Y_train, Y_val, Y_test) = data_split(X, Y, val=val, test=test)"
   ]
  },
  {
   "cell_type": "markdown",
   "id": "bc6339cd",
   "metadata": {},
   "source": [
    "# Build and Train the Model"
   ]
  },
  {
   "cell_type": "code",
   "execution_count": 14,
   "id": "4876d9dc",
   "metadata": {},
   "outputs": [
    {
     "name": "stdout",
     "output_type": "stream",
     "text": [
      "Model summary:\n",
      "Model: \"model\"\n",
      "__________________________________________________________________________________________________\n",
      "Layer (type)                    Output Shape         Param #     Connected to                     \n",
      "==================================================================================================\n",
      "input (InputLayer)              [(None, None, 3)]    0                                            \n",
      "__________________________________________________________________________________________________\n",
      "tdist_0 (TimeDistributed)       (None, None, 256)    1024        input[0][0]                      \n",
      "__________________________________________________________________________________________________\n",
      "activation (Activation)         (None, None, 256)    0           tdist_0[0][0]                    \n",
      "__________________________________________________________________________________________________\n",
      "tdist_1 (TimeDistributed)       (None, None, 256)    65792       activation[0][0]                 \n",
      "__________________________________________________________________________________________________\n",
      "activation_1 (Activation)       (None, None, 256)    0           tdist_1[0][0]                    \n",
      "__________________________________________________________________________________________________\n",
      "tdist_2 (TimeDistributed)       (None, None, 256)    65792       activation_1[0][0]               \n",
      "__________________________________________________________________________________________________\n",
      "mask (Lambda)                   (None, None)         0           input[0][0]                      \n",
      "__________________________________________________________________________________________________\n",
      "activation_2 (Activation)       (None, None, 256)    0           tdist_2[0][0]                    \n",
      "__________________________________________________________________________________________________\n",
      "sum (Dot)                       (None, 256)          0           mask[0][0]                       \n",
      "                                                                 activation_2[0][0]               \n",
      "__________________________________________________________________________________________________\n",
      "dense_0 (Dense)                 (None, 256)          65792       sum[0][0]                        \n",
      "__________________________________________________________________________________________________\n",
      "activation_3 (Activation)       (None, 256)          0           dense_0[0][0]                    \n",
      "__________________________________________________________________________________________________\n",
      "dense_1 (Dense)                 (None, 256)          65792       activation_3[0][0]               \n",
      "__________________________________________________________________________________________________\n",
      "activation_4 (Activation)       (None, 256)          0           dense_1[0][0]                    \n",
      "__________________________________________________________________________________________________\n",
      "dense_2 (Dense)                 (None, 256)          65792       activation_4[0][0]               \n",
      "__________________________________________________________________________________________________\n",
      "activation_5 (Activation)       (None, 256)          0           dense_2[0][0]                    \n",
      "__________________________________________________________________________________________________\n",
      "output (Dense)                  (None, 2)            514         activation_5[0][0]               \n",
      "__________________________________________________________________________________________________\n",
      "activation_6 (Activation)       (None, 2)            0           output[0][0]                     \n",
      "==================================================================================================\n",
      "Total params: 330,498\n",
      "Trainable params: 330,498\n",
      "Non-trainable params: 0\n",
      "__________________________________________________________________________________________________\n"
     ]
    }
   ],
   "source": [
    "print('Model summary:')\n",
    "\n",
    "# build architecture\n",
    "pfn = PFN(input_dim=X.shape[-1], Phi_sizes=Phi_sizes, F_sizes=F_sizes)"
   ]
  },
  {
   "cell_type": "code",
   "execution_count": 15,
   "id": "b559b182",
   "metadata": {
    "scrolled": true
   },
   "outputs": [
    {
     "name": "stdout",
     "output_type": "stream",
     "text": [
      "Epoch 1/500\n",
      "1230/1230 [==============================] - 12s 10ms/step - loss: 5.0950 - acc: 0.5086 - val_loss: 0.8024 - val_acc: 0.1078\n",
      "Epoch 2/500\n",
      "1230/1230 [==============================] - 11s 9ms/step - loss: 0.7059 - acc: 0.5183 - val_loss: 0.6237 - val_acc: 0.8705\n",
      "Epoch 3/500\n",
      "1230/1230 [==============================] - 11s 9ms/step - loss: 0.6980 - acc: 0.5428 - val_loss: 0.7286 - val_acc: 0.0823\n",
      "Epoch 4/500\n",
      "1230/1230 [==============================] - 11s 9ms/step - loss: 0.6981 - acc: 0.4985 - val_loss: 0.7082 - val_acc: 0.2930\n",
      "Epoch 5/500\n",
      "1230/1230 [==============================] - 11s 9ms/step - loss: 0.6924 - acc: 0.5643 - val_loss: 0.7414 - val_acc: 0.0517\n",
      "Epoch 6/500\n",
      "1230/1230 [==============================] - 11s 9ms/step - loss: 0.6934 - acc: 0.5707 - val_loss: 0.6626 - val_acc: 0.9589\n",
      "Epoch 7/500\n",
      "1230/1230 [==============================] - 11s 9ms/step - loss: 0.6886 - acc: 0.7879 - val_loss: 0.6981 - val_acc: 0.0249\n",
      "\n",
      "Epoch 00007: ReduceLROnPlateau reducing learning rate to 0.000630957374449059.\n",
      "Epoch 8/500\n",
      "1230/1230 [==============================] - 11s 9ms/step - loss: 0.6921 - acc: 0.6415 - val_loss: 0.7599 - val_acc: 0.5909\n",
      "Epoch 9/500\n",
      "1230/1230 [==============================] - 11s 9ms/step - loss: 0.6898 - acc: 0.8088 - val_loss: 0.6918 - val_acc: 0.9735\n",
      "Epoch 10/500\n",
      "1230/1230 [==============================] - 11s 9ms/step - loss: 0.6930 - acc: 0.7519 - val_loss: 0.6920 - val_acc: 0.8472\n",
      "Epoch 11/500\n",
      "1230/1230 [==============================] - 11s 9ms/step - loss: 0.6940 - acc: 0.8561 - val_loss: 0.6941 - val_acc: 0.9524\n",
      "Epoch 12/500\n",
      "1230/1230 [==============================] - 11s 9ms/step - loss: 0.6904 - acc: 0.7653 - val_loss: 0.6785 - val_acc: 0.9592\n",
      "\n",
      "Epoch 00012: ReduceLROnPlateau reducing learning rate to 0.0003981071838171537.\n",
      "Epoch 13/500\n",
      "1230/1230 [==============================] - 11s 9ms/step - loss: 0.6917 - acc: 0.8736 - val_loss: 0.6728 - val_acc: 0.8479\n",
      "Epoch 14/500\n",
      "1230/1230 [==============================] - 11s 9ms/step - loss: 0.6894 - acc: 0.8401 - val_loss: 0.6858 - val_acc: 0.8849\n",
      "Epoch 15/500\n",
      "1230/1230 [==============================] - 11s 9ms/step - loss: 0.6915 - acc: 0.8068 - val_loss: 0.7093 - val_acc: 0.5538\n",
      "Epoch 16/500\n",
      "1230/1230 [==============================] - 11s 9ms/step - loss: 0.6868 - acc: 0.7568 - val_loss: 0.6727 - val_acc: 0.8258\n",
      "Epoch 17/500\n",
      "1230/1230 [==============================] - 11s 9ms/step - loss: 0.6894 - acc: 0.7352 - val_loss: 0.6914 - val_acc: 0.7124\n",
      "\n",
      "Epoch 00017: ReduceLROnPlateau reducing learning rate to 0.0002511886574257803.\n",
      "Epoch 18/500\n",
      "1230/1230 [==============================] - 11s 9ms/step - loss: 0.6892 - acc: 0.7658 - val_loss: 0.7153 - val_acc: 0.6043\n",
      "Epoch 19/500\n",
      "1230/1230 [==============================] - 11s 9ms/step - loss: 0.6883 - acc: 0.7319 - val_loss: 0.6864 - val_acc: 0.7018\n",
      "Epoch 20/500\n",
      "1230/1230 [==============================] - 11s 9ms/step - loss: 0.6906 - acc: 0.6974 - val_loss: 0.6742 - val_acc: 0.8055\n",
      "Epoch 21/500\n",
      "1230/1230 [==============================] - 11s 9ms/step - loss: 0.6822 - acc: 0.6692 - val_loss: 0.7178 - val_acc: 0.6228\n",
      "Epoch 22/500\n",
      "1230/1230 [==============================] - 11s 9ms/step - loss: 0.6741 - acc: 0.7090 - val_loss: 0.6707 - val_acc: 0.7253\n",
      "\n",
      "Epoch 00022: ReduceLROnPlateau reducing learning rate to 0.00015848933651346973.\n",
      "Epoch 23/500\n",
      "1230/1230 [==============================] - 11s 9ms/step - loss: 0.6670 - acc: 0.7217 - val_loss: 0.6262 - val_acc: 0.8151\n",
      "Epoch 24/500\n",
      "1230/1230 [==============================] - 11s 9ms/step - loss: 0.6651 - acc: 0.7229 - val_loss: 0.6307 - val_acc: 0.7840\n",
      "Epoch 25/500\n",
      "1230/1230 [==============================] - 11s 9ms/step - loss: 0.6596 - acc: 0.7219 - val_loss: 0.5939 - val_acc: 0.8230\n",
      "Epoch 26/500\n",
      "1230/1230 [==============================] - 11s 9ms/step - loss: 0.6609 - acc: 0.7270 - val_loss: 0.7115 - val_acc: 0.6043\n",
      "Epoch 27/500\n",
      "1230/1230 [==============================] - 11s 9ms/step - loss: 0.6571 - acc: 0.7184 - val_loss: 0.6370 - val_acc: 0.7659\n",
      "Epoch 28/500\n",
      "1230/1230 [==============================] - 11s 9ms/step - loss: 0.6554 - acc: 0.7299 - val_loss: 0.6504 - val_acc: 0.7176\n",
      "Epoch 29/500\n",
      "1230/1230 [==============================] - 11s 9ms/step - loss: 0.6583 - acc: 0.7209 - val_loss: 0.6539 - val_acc: 0.7292\n",
      "Epoch 30/500\n",
      "1230/1230 [==============================] - 11s 9ms/step - loss: 0.6562 - acc: 0.7180 - val_loss: 0.6825 - val_acc: 0.6725\n",
      "\n",
      "Epoch 00030: ReduceLROnPlateau reducing learning rate to 0.00010000000838432616.\n",
      "Epoch 31/500\n",
      "1230/1230 [==============================] - 11s 9ms/step - loss: 0.6517 - acc: 0.7145 - val_loss: 0.7046 - val_acc: 0.6165\n",
      "Epoch 32/500\n",
      "1230/1230 [==============================] - 11s 9ms/step - loss: 0.6525 - acc: 0.7078 - val_loss: 0.6525 - val_acc: 0.7025\n",
      "Epoch 33/500\n",
      "1230/1230 [==============================] - 11s 9ms/step - loss: 0.6540 - acc: 0.7007 - val_loss: 0.6286 - val_acc: 0.7571\n",
      "Epoch 34/500\n",
      "1230/1230 [==============================] - 11s 9ms/step - loss: 0.6488 - acc: 0.7141 - val_loss: 0.6771 - val_acc: 0.6904\n",
      "Epoch 35/500\n",
      "1230/1230 [==============================] - 11s 9ms/step - loss: 0.6490 - acc: 0.7165 - val_loss: 0.7119 - val_acc: 0.5997\n",
      "\n",
      "Epoch 00035: ReduceLROnPlateau reducing learning rate to 6.30957374449059e-05.\n",
      "Epoch 36/500\n",
      "1230/1230 [==============================] - 11s 9ms/step - loss: 0.6478 - acc: 0.7050 - val_loss: 0.6185 - val_acc: 0.7501\n",
      "Epoch 37/500\n",
      "1230/1230 [==============================] - 11s 9ms/step - loss: 0.6512 - acc: 0.7037 - val_loss: 0.6702 - val_acc: 0.6630\n",
      "Epoch 38/500\n",
      "1230/1230 [==============================] - 11s 9ms/step - loss: 0.6493 - acc: 0.6984 - val_loss: 0.6272 - val_acc: 0.7078\n",
      "Epoch 39/500\n",
      "1230/1230 [==============================] - 11s 9ms/step - loss: 0.6439 - acc: 0.7122 - val_loss: 0.6510 - val_acc: 0.6828\n",
      "Epoch 40/500\n",
      "1230/1230 [==============================] - 11s 9ms/step - loss: 0.6450 - acc: 0.7127 - val_loss: 0.6956 - val_acc: 0.5919\n",
      "\n",
      "Epoch 00040: ReduceLROnPlateau reducing learning rate to 3.981071838171537e-05.\n",
      "Epoch 41/500\n",
      "1230/1230 [==============================] - 11s 9ms/step - loss: 0.6458 - acc: 0.6977 - val_loss: 0.6553 - val_acc: 0.7058\n",
      "Epoch 42/500\n",
      "1230/1230 [==============================] - 11s 9ms/step - loss: 0.6448 - acc: 0.7028 - val_loss: 0.6483 - val_acc: 0.6932\n",
      "Epoch 43/500\n",
      "1230/1230 [==============================] - 11s 9ms/step - loss: 0.6424 - acc: 0.7039 - val_loss: 0.6849 - val_acc: 0.6481\n",
      "Epoch 44/500\n",
      "1230/1230 [==============================] - 11s 9ms/step - loss: 0.6439 - acc: 0.7031 - val_loss: 0.6493 - val_acc: 0.7037\n",
      "Epoch 45/500\n",
      "1230/1230 [==============================] - 11s 9ms/step - loss: 0.6437 - acc: 0.7022 - val_loss: 0.6659 - val_acc: 0.6651\n",
      "\n",
      "Epoch 00045: ReduceLROnPlateau reducing learning rate to 2.5118865283496142e-05.\n",
      "Epoch 46/500\n",
      "1230/1230 [==============================] - 11s 9ms/step - loss: 0.6400 - acc: 0.7073 - val_loss: 0.6499 - val_acc: 0.6898\n",
      "Epoch 47/500\n",
      "1230/1230 [==============================] - 11s 9ms/step - loss: 0.6421 - acc: 0.7025 - val_loss: 0.5961 - val_acc: 0.7449\n",
      "Epoch 48/500\n",
      "1230/1230 [==============================] - 11s 9ms/step - loss: 0.6426 - acc: 0.7051 - val_loss: 0.6462 - val_acc: 0.6845\n",
      "Epoch 49/500\n",
      "1230/1230 [==============================] - 11s 9ms/step - loss: 0.6422 - acc: 0.6988 - val_loss: 0.6162 - val_acc: 0.7311\n",
      "Epoch 50/500\n",
      "1230/1230 [==============================] - 11s 9ms/step - loss: 0.6434 - acc: 0.6993 - val_loss: 0.6422 - val_acc: 0.6996\n",
      "\n",
      "Epoch 00050: ReduceLROnPlateau reducing learning rate to 1.5848932274101303e-05.\n",
      "Epoch 51/500\n",
      "1230/1230 [==============================] - 11s 9ms/step - loss: 0.6421 - acc: 0.7011 - val_loss: 0.6372 - val_acc: 0.6940\n",
      "Epoch 52/500\n",
      "1230/1230 [==============================] - 11s 9ms/step - loss: 0.6405 - acc: 0.7022 - val_loss: 0.6402 - val_acc: 0.7056\n",
      "Epoch 53/500\n",
      "1230/1230 [==============================] - 11s 9ms/step - loss: 0.6421 - acc: 0.7011 - val_loss: 0.6427 - val_acc: 0.6948\n",
      "Epoch 54/500\n",
      "1230/1230 [==============================] - 11s 9ms/step - loss: 0.6391 - acc: 0.7048 - val_loss: 0.6365 - val_acc: 0.7099\n",
      "Epoch 55/500\n"
     ]
    },
    {
     "name": "stdout",
     "output_type": "stream",
     "text": [
      "1230/1230 [==============================] - 11s 9ms/step - loss: 0.6388 - acc: 0.7067 - val_loss: 0.6248 - val_acc: 0.7220\n",
      "\n",
      "Epoch 00055: ReduceLROnPlateau reducing learning rate to 1.0000000608891671e-05.\n",
      "Epoch 56/500\n",
      "1230/1230 [==============================] - 11s 9ms/step - loss: 0.6355 - acc: 0.7137 - val_loss: 0.6351 - val_acc: 0.7017\n",
      "Epoch 57/500\n",
      "1230/1230 [==============================] - 11s 9ms/step - loss: 0.6399 - acc: 0.7015 - val_loss: 0.6273 - val_acc: 0.7155\n",
      "Epoch 58/500\n",
      "1230/1230 [==============================] - 11s 9ms/step - loss: 0.6404 - acc: 0.7014 - val_loss: 0.6242 - val_acc: 0.7151\n",
      "Epoch 59/500\n",
      "1230/1230 [==============================] - 11s 9ms/step - loss: 0.6384 - acc: 0.7048 - val_loss: 0.6325 - val_acc: 0.7031\n",
      "Epoch 60/500\n",
      "1230/1230 [==============================] - 11s 9ms/step - loss: 0.6373 - acc: 0.7060 - val_loss: 0.6393 - val_acc: 0.6851\n",
      "\n",
      "Epoch 00060: ReduceLROnPlateau reducing learning rate to 1e-05.\n",
      "Epoch 61/500\n",
      "1230/1230 [==============================] - 11s 9ms/step - loss: 0.6390 - acc: 0.7020 - val_loss: 0.6318 - val_acc: 0.7026\n",
      "Epoch 62/500\n",
      "1230/1230 [==============================] - 11s 9ms/step - loss: 0.6357 - acc: 0.7075 - val_loss: 0.6495 - val_acc: 0.6826\n",
      "Epoch 63/500\n",
      "1230/1230 [==============================] - 11s 9ms/step - loss: 0.6379 - acc: 0.6994 - val_loss: 0.6397 - val_acc: 0.6936\n",
      "Epoch 64/500\n",
      "1230/1230 [==============================] - 11s 9ms/step - loss: 0.6387 - acc: 0.7007 - val_loss: 0.6295 - val_acc: 0.7133\n",
      "Epoch 65/500\n",
      "1230/1230 [==============================] - 11s 9ms/step - loss: 0.6390 - acc: 0.7014 - val_loss: 0.6194 - val_acc: 0.7234\n",
      "Epoch 00065: early stopping\n"
     ]
    }
   ],
   "source": [
    "# now train the model\n",
    "\n",
    "reduce_lr = tf.keras.callbacks.ReduceLROnPlateau(monitor='val_loss', \n",
    "                              factor=0.1**(1/5), patience=5, min_lr=1e-5,\n",
    "                                                verbose=1)\n",
    "\n",
    "early_stop = tf.keras.callbacks.EarlyStopping(monitor='val_loss', patience=40, \n",
    "                                              verbose=1)\n",
    "\n",
    "callbacks = [reduce_lr,early_stop]\n",
    "\n",
    "hist1 = pfn.fit(X_train, Y_train,\n",
    "        epochs=num_epoch,\n",
    "        batch_size=batch_size,\n",
    "        validation_data=(X_val, Y_val),\n",
    "        class_weight=class_weight,\n",
    "        callbacks=callbacks,\n",
    "        verbose=1)"
   ]
  },
  {
   "cell_type": "markdown",
   "id": "0fac1861",
   "metadata": {},
   "source": [
    "# Analyze the Model"
   ]
  },
  {
   "cell_type": "code",
   "execution_count": 16,
   "id": "531ee50e",
   "metadata": {},
   "outputs": [
    {
     "name": "stdout",
     "output_type": "stream",
     "text": [
      "\n",
      "PFN AUC: 0.664538584878627\n",
      "\n"
     ]
    }
   ],
   "source": [
    "# get predictions on test data\n",
    "preds = pfn.predict(X_test, batch_size=10000)\n",
    "\n",
    "# get ROC curve\n",
    "pfn_fp, pfn_tp, threshs = roc_curve(Y_test[:,1], preds[:,1])\n",
    "\n",
    "# get area under the ROC curve\n",
    "auc = roc_auc_score(Y_test[:,1], preds[:,1])\n",
    "print()\n",
    "print('PFN AUC:', auc)\n",
    "print()"
   ]
  },
  {
   "cell_type": "code",
   "execution_count": 17,
   "id": "403ff086",
   "metadata": {},
   "outputs": [
    {
     "data": {
      "image/png": "[encoded data removed]",
      "text/plain": [
       "<Figure size 288x288 with 1 Axes>"
      ]
     },
     "metadata": {
      "needs_background": "light"
     },
     "output_type": "display_data"
    }
   ],
   "source": [
    "# get multiplicity and mass for comparison\n",
    "masses = np.asarray([ef.ms_from_p4s(ef.p4s_from_ptyphims(x).sum(axis=0)) for x in X])\n",
    "mults = np.asarray([np.count_nonzero(x[:,0]) for x in X])\n",
    "mass_fp, mass_tp, threshs = roc_curve(Y[:,1], -masses)\n",
    "mult_fp, mult_tp, threshs = roc_curve(Y[:,1], -mults)\n",
    "\n",
    "# some nicer plot settings \n",
    "plt.rcParams['figure.figsize'] = (4,4)\n",
    "plt.rcParams['font.family'] = 'serif'\n",
    "plt.rcParams['figure.autolayout'] = True\n",
    "\n",
    "# plot the ROC curves\n",
    "plt.plot(pfn_tp, 1-pfn_fp, '-', color='black', label='PFN')\n",
    "plt.plot(mass_tp, 1-mass_fp, '-', color='blue', label='Jet Mass')\n",
    "plt.plot(mult_tp, 1-mult_fp, '-', color='red', label='Multiplicity')\n",
    "\n",
    "# axes labels\n",
    "plt.xlabel('Quark Jet Efficiency')\n",
    "plt.ylabel('Gluon Jet Rejection')\n",
    "\n",
    "# axes limits\n",
    "plt.xlim(0, 1)\n",
    "plt.ylim(0, 1)\n",
    "\n",
    "# make legend and show plot\n",
    "plt.legend(loc='lower left', frameon=False)\n",
    "plt.show()\n"
   ]
  },
  {
   "cell_type": "code",
   "execution_count": 18,
   "id": "9190f668",
   "metadata": {},
   "outputs": [
    {
     "data": {
      "image/png": "[encoded data removed]",
      "text/plain": [
       "<Figure size 288x288 with 1 Axes>"
      ]
     },
     "metadata": {
      "needs_background": "light"
     },
     "output_type": "display_data"
    }
   ],
   "source": [
    "plt.plot(hist1.history[\"loss\"],label=\"loss\")\n",
    "plt.plot(hist1.history[\"val_loss\"],label=\"validation loss\")\n",
    "plt.legend()\n",
    "plt.show()"
   ]
  },
  {
   "cell_type": "code",
   "execution_count": 21,
   "id": "bcf5a3ff",
   "metadata": {},
   "outputs": [
    {
     "data": {
      "image/png": "[encoded data removed]",
      "text/plain": [
       "<Figure size 288x288 with 1 Axes>"
      ]
     },
     "metadata": {
      "needs_background": "light"
     },
     "output_type": "display_data"
    }
   ],
   "source": [
    "plt.plot(hist1.history[\"acc\"],label=\"acc\")\n",
    "plt.plot(hist1.history[\"val_acc\"],label=\"validation acc\")\n",
    "plt.legend()\n",
    "plt.show()"
   ]
  },
  {
   "cell_type": "code",
   "execution_count": null,
   "id": "a6ba574f",
   "metadata": {},
   "outputs": [],
   "source": []
  }
 ],
 "metadata": {
  "kernelspec": {
   "display_name": "Python 3",
   "language": "python",
   "name": "python3"
  },
  "language_info": {
   "codemirror_mode": {
    "name": "ipython",
    "version": 3
   },
   "file_extension": ".py",
   "mimetype": "text/x-python",
   "name": "python",
   "nbconvert_exporter": "python",
   "pygments_lexer": "ipython3",
   "version": "3.8.8"
  }
 },
 "nbformat": 4,
 "nbformat_minor": 5
}
