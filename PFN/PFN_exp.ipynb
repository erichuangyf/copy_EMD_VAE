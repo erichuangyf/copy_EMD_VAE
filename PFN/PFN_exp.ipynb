{
 "cells": [
  {
   "cell_type": "markdown",
   "id": "4ef50705",
   "metadata": {},
   "source": [
    "# Import and Initialization"
   ]
  },
  {
   "cell_type": "code",
   "execution_count": 1,
   "id": "05a505b0",
   "metadata": {},
   "outputs": [],
   "source": [
    "%load_ext autoreload\n",
    "%autoreload 2\n",
    "\n",
    "import tensorflow as tf\n",
    "\n",
    "# standard library imports\n",
    "from __future__ import absolute_import, division, print_function\n",
    "\n",
    "# standard numerical library imports\n",
    "import numpy as np\n",
    "\n",
    "# energyflow imports\n",
    "import energyflow as ef\n",
    "from energyflow.archs import PFN\n",
    "from energyflow.datasets import qg_jets\n",
    "from energyflow.utils import data_split, remap_pids, to_categorical\n",
    "\n",
    "from sklearn.metrics import roc_auc_score, roc_curve\n",
    "import matplotlib.pyplot as plt\n",
    "\n",
    "\n",
    "import pandas\n",
    "import h5py\n",
    "import pickle\n",
    "\n",
    "import datetime"
   ]
  },
  {
   "cell_type": "code",
   "execution_count": 2,
   "id": "45667e4d",
   "metadata": {},
   "outputs": [],
   "source": [
    "# configs\n",
    "train, val, test = 0.6, 0.3, 0.1\n",
    "Phi_sizes, F_sizes = (256, 256, 256), (256, 256, 256)\n",
    "num_epoch = 500\n",
    "batch_size = 1000"
   ]
  },
  {
   "cell_type": "markdown",
   "id": "8c5aa5d4",
   "metadata": {},
   "source": [
    "# Load and Process Data"
   ]
  },
  {
   "cell_type": "code",
   "execution_count": 3,
   "id": "25276321",
   "metadata": {},
   "outputs": [],
   "source": [
    "b_signal_file = \"/global/home/users/yifengh3/VAE/data/B_signal.h5\"\n",
    "background_file = \"/global/home/users/yifengh3/VAE/data/B_background.h5\"\n",
    "b_signal_data = pandas.read_hdf(b_signal_file)\n",
    "background_data = pandas.read_hdf(background_file)"
   ]
  },
  {
   "cell_type": "code",
   "execution_count": 4,
   "id": "646d74c9",
   "metadata": {},
   "outputs": [
    {
     "name": "stdout",
     "output_type": "stream",
     "text": [
      "backgroubackground_datand data shape: (2000000, 150)\n",
      "B signal data shape: (50000, 150)\n"
     ]
    }
   ],
   "source": [
    "print(\"backgroubackground_datand data shape: {}\".format(background_data.shape))\n",
    "print(\"B signal data shape: {}\".format(b_signal_data.shape))"
   ]
  },
  {
   "cell_type": "code",
   "execution_count": 5,
   "id": "e582ac98",
   "metadata": {},
   "outputs": [],
   "source": [
    "# assign labels to signal and background data, 0 for background,  1 for b-signal\n",
    "# (updated since we might get multiple signals) \n",
    "labeled_background_data = np.append(background_data,np.zeros((background_data.shape[0],1)),axis=1)\n",
    "labeled_b_signal_data = np.append(b_signal_data,np.ones((b_signal_data.shape[0],1)),axis=1)"
   ]
  },
  {
   "cell_type": "code",
   "execution_count": 6,
   "id": "8540cc44",
   "metadata": {},
   "outputs": [],
   "source": [
    "# mix two data array into one signal array\n",
    "data = np.concatenate((labeled_b_signal_data,labeled_background_data))\n",
    "\n",
    "#and shuffle the data\n",
    "np.random.shuffle(data)"
   ]
  },
  {
   "cell_type": "code",
   "execution_count": 7,
   "id": "34eaf99c",
   "metadata": {},
   "outputs": [],
   "source": [
    "X = data[:,:-1]\n",
    "y = data[:,-1]"
   ]
  },
  {
   "cell_type": "code",
   "execution_count": 8,
   "id": "d078bbf6",
   "metadata": {},
   "outputs": [
    {
     "name": "stdout",
     "output_type": "stream",
     "text": [
      "shape of X: (2050000, 150)\n",
      "shape of Y: (2050000,)\n"
     ]
    }
   ],
   "source": [
    "print(\"shape of X: {}\".format(X.shape))\n",
    "print(\"shape of Y: {}\".format(y.shape))"
   ]
  },
  {
   "cell_type": "code",
   "execution_count": 9,
   "id": "ea34616a",
   "metadata": {},
   "outputs": [
    {
     "name": "stdout",
     "output_type": "stream",
     "text": [
      "Weight for background: 0.51\n",
      "Weight for signal: 20.50\n"
     ]
    }
   ],
   "source": [
    "# Scaling by total/2 helps keep the loss to a similar magnitude.\n",
    "# The sum of the weights of all examples stays the same.\n",
    "total = b_signal_data.shape[0] + background_data.shape[0]\n",
    "weight_for_0 = (1 / background_data.shape[0]) * (total / 2.0)\n",
    "weight_for_1 = (1 / b_signal_data.shape[0]) * (total / 2.0)\n",
    "\n",
    "\n",
    "class_weight = {0: weight_for_0, 1: weight_for_1}\n",
    "\n",
    "print('Weight for background: {:.2f}'.format(weight_for_0))\n",
    "print('Weight for signal: {:.2f}'.format(weight_for_1))"
   ]
  },
  {
   "cell_type": "code",
   "execution_count": 10,
   "id": "c3e0e641",
   "metadata": {},
   "outputs": [],
   "source": [
    "# To categorical as stipulated in example\n",
    "Y = to_categorical(y, num_classes=2)\n",
    "\n",
    "# Reshape X to shape (number of jets, 50, 3)\n",
    "X = X.reshape(-1,50,3)"
   ]
  },
  {
   "cell_type": "code",
   "execution_count": 11,
   "id": "6a6fe36d",
   "metadata": {},
   "outputs": [],
   "source": [
    "# normalizing jets\n",
    "# copied from example\n",
    "# import tqdm\n",
    "# for x in tqdm.tqdm(X):\n",
    "#     # now add the status bar :)\n",
    "#     mask = x[:,0] > 0\n",
    "#     yphi_avg = np.average(x[mask,1:3], weights=x[mask,0], axis=0)\n",
    "#     x[mask,1:3] -= yphi_avg\n",
    "#     x[mask,0] /= x[:,0].sum()"
   ]
  },
  {
   "cell_type": "code",
   "execution_count": 12,
   "id": "c3e18f2d",
   "metadata": {},
   "outputs": [
    {
     "name": "stdout",
     "output_type": "stream",
     "text": [
      "Finished preprocessing\n",
      "shape of X: (2050000, 50, 3)\n",
      "shape of Y: (2050000,)\n"
     ]
    }
   ],
   "source": [
    "print('Finished preprocessing')\n",
    "print(\"shape of X: {}\".format(X.shape))\n",
    "print(\"shape of Y: {}\".format(y.shape))"
   ]
  },
  {
   "cell_type": "code",
   "execution_count": 13,
   "id": "939de622",
   "metadata": {},
   "outputs": [],
   "source": [
    "# do train/val/test split \n",
    "(X_train, X_val, X_test,\n",
    " Y_train, Y_val, Y_test) = data_split(X, Y, val=val, test=test)"
   ]
  },
  {
   "cell_type": "markdown",
   "id": "bc6339cd",
   "metadata": {},
   "source": [
    "# Build and Train the Model"
   ]
  },
  {
   "cell_type": "code",
   "execution_count": 14,
   "id": "4876d9dc",
   "metadata": {},
   "outputs": [
    {
     "name": "stdout",
     "output_type": "stream",
     "text": [
      "Model summary:\n",
      "Model: \"model\"\n",
      "__________________________________________________________________________________________________\n",
      "Layer (type)                    Output Shape         Param #     Connected to                     \n",
      "==================================================================================================\n",
      "input (InputLayer)              [(None, None, 3)]    0                                            \n",
      "__________________________________________________________________________________________________\n",
      "tdist_0 (TimeDistributed)       (None, None, 256)    1024        input[0][0]                      \n",
      "__________________________________________________________________________________________________\n",
      "activation (Activation)         (None, None, 256)    0           tdist_0[0][0]                    \n",
      "__________________________________________________________________________________________________\n",
      "tdist_1 (TimeDistributed)       (None, None, 256)    65792       activation[0][0]                 \n",
      "__________________________________________________________________________________________________\n",
      "activation_1 (Activation)       (None, None, 256)    0           tdist_1[0][0]                    \n",
      "__________________________________________________________________________________________________\n",
      "tdist_2 (TimeDistributed)       (None, None, 256)    65792       activation_1[0][0]               \n",
      "__________________________________________________________________________________________________\n",
      "mask (Lambda)                   (None, None)         0           input[0][0]                      \n",
      "__________________________________________________________________________________________________\n",
      "activation_2 (Activation)       (None, None, 256)    0           tdist_2[0][0]                    \n",
      "__________________________________________________________________________________________________\n",
      "sum (Dot)                       (None, 256)          0           mask[0][0]                       \n",
      "                                                                 activation_2[0][0]               \n",
      "__________________________________________________________________________________________________\n",
      "dense_0 (Dense)                 (None, 256)          65792       sum[0][0]                        \n",
      "__________________________________________________________________________________________________\n",
      "activation_3 (Activation)       (None, 256)          0           dense_0[0][0]                    \n",
      "__________________________________________________________________________________________________\n",
      "dense_1 (Dense)                 (None, 256)          65792       activation_3[0][0]               \n",
      "__________________________________________________________________________________________________\n",
      "activation_4 (Activation)       (None, 256)          0           dense_1[0][0]                    \n",
      "__________________________________________________________________________________________________\n",
      "dense_2 (Dense)                 (None, 256)          65792       activation_4[0][0]               \n",
      "__________________________________________________________________________________________________\n",
      "activation_5 (Activation)       (None, 256)          0           dense_2[0][0]                    \n",
      "__________________________________________________________________________________________________\n",
      "output (Dense)                  (None, 2)            514         activation_5[0][0]               \n",
      "__________________________________________________________________________________________________\n",
      "activation_6 (Activation)       (None, 2)            0           output[0][0]                     \n",
      "==================================================================================================\n",
      "Total params: 330,498\n",
      "Trainable params: 330,498\n",
      "Non-trainable params: 0\n",
      "__________________________________________________________________________________________________\n"
     ]
    }
   ],
   "source": [
    "print('Model summary:')\n",
    "\n",
    "# build architecture\n",
    "pfn = PFN(input_dim=X.shape[-1], Phi_sizes=Phi_sizes, F_sizes=F_sizes)"
   ]
  },
  {
   "cell_type": "code",
   "execution_count": 15,
   "id": "b559b182",
   "metadata": {
    "scrolled": true
   },
   "outputs": [
    {
     "name": "stdout",
     "output_type": "stream",
     "text": [
      "Epoch 1/500\n",
      "1230/1230 [==============================] - 12s 9ms/step - loss: 7.8444 - acc: 0.5172 - val_loss: 0.5473 - val_acc: 0.8421\n",
      "Epoch 2/500\n",
      "1230/1230 [==============================] - 11s 9ms/step - loss: 0.7059 - acc: 0.5445 - val_loss: 0.5887 - val_acc: 0.7673\n",
      "Epoch 3/500\n",
      "1230/1230 [==============================] - 11s 9ms/step - loss: 0.6851 - acc: 0.5738 - val_loss: 0.5437 - val_acc: 0.8127\n",
      "Epoch 4/500\n",
      "1230/1230 [==============================] - 11s 9ms/step - loss: 0.6898 - acc: 0.5516 - val_loss: 0.5781 - val_acc: 0.7531\n",
      "Epoch 5/500\n",
      "1230/1230 [==============================] - 11s 9ms/step - loss: 0.6745 - acc: 0.5806 - val_loss: 0.6955 - val_acc: 0.6259\n",
      "Epoch 6/500\n",
      "1230/1230 [==============================] - 11s 9ms/step - loss: 0.6735 - acc: 0.5894 - val_loss: 0.6867 - val_acc: 0.6189\n",
      "Epoch 7/500\n",
      "1230/1230 [==============================] - 11s 9ms/step - loss: 0.6694 - acc: 0.5889 - val_loss: 0.7569 - val_acc: 0.4246\n",
      "Epoch 8/500\n",
      "1230/1230 [==============================] - 11s 9ms/step - loss: 0.6574 - acc: 0.6321 - val_loss: 0.5822 - val_acc: 0.8666\n",
      "\n",
      "Epoch 00008: ReduceLROnPlateau reducing learning rate to 0.000630957374449059.\n",
      "Epoch 9/500\n",
      "1230/1230 [==============================] - 11s 9ms/step - loss: 0.6582 - acc: 0.6111 - val_loss: 0.5687 - val_acc: 0.8676\n",
      "Epoch 10/500\n",
      "1230/1230 [==============================] - 11s 9ms/step - loss: 0.6547 - acc: 0.6237 - val_loss: 0.6604 - val_acc: 0.6659\n",
      "Epoch 11/500\n",
      "1230/1230 [==============================] - 11s 9ms/step - loss: 0.6494 - acc: 0.6398 - val_loss: 0.6639 - val_acc: 0.6709\n",
      "Epoch 12/500\n",
      "1230/1230 [==============================] - 11s 9ms/step - loss: 0.6473 - acc: 0.6428 - val_loss: 0.6174 - val_acc: 0.7518\n",
      "Epoch 13/500\n",
      "1230/1230 [==============================] - 11s 9ms/step - loss: 0.6459 - acc: 0.6560 - val_loss: 0.6006 - val_acc: 0.7333\n",
      "\n",
      "Epoch 00013: ReduceLROnPlateau reducing learning rate to 0.0003981071838171537.\n",
      "Epoch 14/500\n",
      "1230/1230 [==============================] - 11s 9ms/step - loss: 0.6426 - acc: 0.6432 - val_loss: 0.5488 - val_acc: 0.7701\n",
      "Epoch 15/500\n",
      "1230/1230 [==============================] - 11s 9ms/step - loss: 0.6401 - acc: 0.6503 - val_loss: 0.5931 - val_acc: 0.7419\n",
      "Epoch 16/500\n",
      "1230/1230 [==============================] - 11s 9ms/step - loss: 0.6413 - acc: 0.6608 - val_loss: 0.5519 - val_acc: 0.7893\n",
      "Epoch 17/500\n",
      "1230/1230 [==============================] - 11s 9ms/step - loss: 0.6409 - acc: 0.6430 - val_loss: 0.5890 - val_acc: 0.7290\n",
      "Epoch 18/500\n",
      "1230/1230 [==============================] - 11s 9ms/step - loss: 0.6396 - acc: 0.6488 - val_loss: 0.6202 - val_acc: 0.6615\n",
      "\n",
      "Epoch 00018: ReduceLROnPlateau reducing learning rate to 0.0002511886574257803.\n",
      "Epoch 19/500\n",
      "1230/1230 [==============================] - 11s 9ms/step - loss: 0.6367 - acc: 0.6556 - val_loss: 0.6575 - val_acc: 0.6050\n",
      "Epoch 20/500\n",
      "1230/1230 [==============================] - 11s 9ms/step - loss: 0.6376 - acc: 0.6543 - val_loss: 0.6150 - val_acc: 0.6876\n",
      "Epoch 21/500\n",
      "1230/1230 [==============================] - 11s 9ms/step - loss: 0.6338 - acc: 0.6628 - val_loss: 0.6011 - val_acc: 0.7298\n",
      "Epoch 22/500\n",
      "1230/1230 [==============================] - 11s 9ms/step - loss: 0.6329 - acc: 0.6593 - val_loss: 0.6340 - val_acc: 0.6602\n",
      "Epoch 23/500\n",
      "1230/1230 [==============================] - 11s 9ms/step - loss: 0.6348 - acc: 0.6611 - val_loss: 0.6515 - val_acc: 0.6230\n",
      "\n",
      "Epoch 00023: ReduceLROnPlateau reducing learning rate to 0.00015848933651346973.\n",
      "Epoch 24/500\n",
      "1230/1230 [==============================] - 11s 9ms/step - loss: 0.6295 - acc: 0.6591 - val_loss: 0.6149 - val_acc: 0.7029\n",
      "Epoch 25/500\n",
      "1230/1230 [==============================] - 11s 9ms/step - loss: 0.6324 - acc: 0.6574 - val_loss: 0.6064 - val_acc: 0.7176\n",
      "Epoch 26/500\n",
      "1230/1230 [==============================] - 11s 9ms/step - loss: 0.6335 - acc: 0.6613 - val_loss: 0.6267 - val_acc: 0.6902\n",
      "Epoch 27/500\n",
      "1230/1230 [==============================] - 11s 9ms/step - loss: 0.6318 - acc: 0.6686 - val_loss: 0.5577 - val_acc: 0.7620\n",
      "Epoch 28/500\n",
      "1230/1230 [==============================] - 11s 9ms/step - loss: 0.6308 - acc: 0.6651 - val_loss: 0.6266 - val_acc: 0.6620\n",
      "\n",
      "Epoch 00028: ReduceLROnPlateau reducing learning rate to 0.00010000000838432616.\n",
      "Epoch 29/500\n",
      "1230/1230 [==============================] - 11s 9ms/step - loss: 0.6283 - acc: 0.6701 - val_loss: 0.6330 - val_acc: 0.6666\n",
      "Epoch 30/500\n",
      "1230/1230 [==============================] - 11s 9ms/step - loss: 0.6304 - acc: 0.6577 - val_loss: 0.5867 - val_acc: 0.7381\n",
      "Epoch 31/500\n",
      "1230/1230 [==============================] - 11s 9ms/step - loss: 0.6274 - acc: 0.6731 - val_loss: 0.5984 - val_acc: 0.7171\n",
      "Epoch 32/500\n",
      "1230/1230 [==============================] - 11s 9ms/step - loss: 0.6287 - acc: 0.6691 - val_loss: 0.6141 - val_acc: 0.6838\n",
      "Epoch 33/500\n",
      "1230/1230 [==============================] - 11s 9ms/step - loss: 0.6269 - acc: 0.6679 - val_loss: 0.6717 - val_acc: 0.5937\n",
      "\n",
      "Epoch 00033: ReduceLROnPlateau reducing learning rate to 6.30957374449059e-05.\n",
      "Epoch 34/500\n",
      "1230/1230 [==============================] - 11s 9ms/step - loss: 0.6250 - acc: 0.6676 - val_loss: 0.6271 - val_acc: 0.6566\n",
      "Epoch 35/500\n",
      "1230/1230 [==============================] - 11s 9ms/step - loss: 0.6278 - acc: 0.6672 - val_loss: 0.6336 - val_acc: 0.6469\n",
      "Epoch 36/500\n",
      "1230/1230 [==============================] - 11s 9ms/step - loss: 0.6263 - acc: 0.6657 - val_loss: 0.6542 - val_acc: 0.6073\n",
      "Epoch 37/500\n",
      "1230/1230 [==============================] - 11s 9ms/step - loss: 0.6223 - acc: 0.6686 - val_loss: 0.6206 - val_acc: 0.6687\n",
      "Epoch 38/500\n",
      "1230/1230 [==============================] - 11s 9ms/step - loss: 0.6250 - acc: 0.6754 - val_loss: 0.6148 - val_acc: 0.6921\n",
      "\n",
      "Epoch 00038: ReduceLROnPlateau reducing learning rate to 3.981071838171537e-05.\n",
      "Epoch 39/500\n",
      "1230/1230 [==============================] - 11s 9ms/step - loss: 0.6232 - acc: 0.6759 - val_loss: 0.6186 - val_acc: 0.6812\n",
      "Epoch 40/500\n",
      "1230/1230 [==============================] - 11s 9ms/step - loss: 0.6181 - acc: 0.6792 - val_loss: 0.6418 - val_acc: 0.6605\n",
      "Epoch 41/500\n",
      "1230/1230 [==============================] - 11s 9ms/step - loss: 0.6237 - acc: 0.6693 - val_loss: 0.6610 - val_acc: 0.6212\n",
      "Epoch 42/500\n",
      "1230/1230 [==============================] - 11s 9ms/step - loss: 0.6230 - acc: 0.6644 - val_loss: 0.6166 - val_acc: 0.6859\n",
      "Epoch 43/500\n",
      "1230/1230 [==============================] - 11s 9ms/step - loss: 0.6230 - acc: 0.6730 - val_loss: 0.6334 - val_acc: 0.6535\n",
      "\n",
      "Epoch 00043: ReduceLROnPlateau reducing learning rate to 2.5118865283496142e-05.\n",
      "Epoch 00043: early stopping\n"
     ]
    }
   ],
   "source": [
    "# now train the model\n",
    "\n",
    "reduce_lr = tf.keras.callbacks.ReduceLROnPlateau(monitor='val_loss', \n",
    "                              factor=0.1**(1/5), patience=5, min_lr=1e-5,\n",
    "                                                verbose=1)\n",
    "\n",
    "early_stop = tf.keras.callbacks.EarlyStopping(monitor='val_loss', patience=40, \n",
    "                                              verbose=1)\n",
    "\n",
    "callbacks = [reduce_lr,early_stop]\n",
    "\n",
    "hist1 = pfn.fit(X_train, Y_train,\n",
    "        epochs=num_epoch,\n",
    "        batch_size=batch_size,\n",
    "        validation_data=(X_val, Y_val),\n",
    "        class_weight=class_weight,\n",
    "        callbacks=callbacks,\n",
    "        verbose=1)"
   ]
  },
  {
   "cell_type": "markdown",
   "id": "0fac1861",
   "metadata": {},
   "source": [
    "# Analyze the Model"
   ]
  },
  {
   "cell_type": "code",
   "execution_count": 16,
   "id": "531ee50e",
   "metadata": {},
   "outputs": [
    {
     "name": "stdout",
     "output_type": "stream",
     "text": [
      "\n",
      "PFN AUC: 0.6833467440758874\n",
      "\n"
     ]
    }
   ],
   "source": [
    "# get predictions on test data\n",
    "preds = pfn.predict(X_test, batch_size=10000)\n",
    "\n",
    "# get ROC curve\n",
    "pfn_fp, pfn_tp, threshs = roc_curve(Y_test[:,1], preds[:,1])\n",
    "\n",
    "# get area under the ROC curve\n",
    "auc = roc_auc_score(Y_test[:,1], preds[:,1])\n",
    "print()\n",
    "print('PFN AUC:', auc)\n",
    "print()"
   ]
  },
  {
   "cell_type": "code",
   "execution_count": 17,
   "id": "403ff086",
   "metadata": {},
   "outputs": [
    {
     "data": {
      "image/png": "[encoded data removed]",
      "text/plain": [
       "<Figure size 288x288 with 1 Axes>"
      ]
     },
     "metadata": {
      "needs_background": "light"
     },
     "output_type": "display_data"
    }
   ],
   "source": [
    "# get multiplicity and mass for comparison\n",
    "masses = np.asarray([ef.ms_from_p4s(ef.p4s_from_ptyphims(x).sum(axis=0)) for x in X])\n",
    "mults = np.asarray([np.count_nonzero(x[:,0]) for x in X])\n",
    "mass_fp, mass_tp, threshs = roc_curve(Y[:,1], -masses)\n",
    "mult_fp, mult_tp, threshs = roc_curve(Y[:,1], -mults)\n",
    "\n",
    "# some nicer plot settings \n",
    "plt.rcParams['figure.figsize'] = (4,4)\n",
    "plt.rcParams['font.family'] = 'serif'\n",
    "plt.rcParams['figure.autolayout'] = True\n",
    "\n",
    "# plot the ROC curves\n",
    "plt.plot(pfn_tp, 1-pfn_fp, '-', color='black', label='PFN')\n",
    "plt.plot(mass_tp, 1-mass_fp, '-', color='blue', label='Jet Mass')\n",
    "plt.plot(mult_tp, 1-mult_fp, '-', color='red', label='Multiplicity')\n",
    "\n",
    "# axes labels\n",
    "plt.xlabel('Quark Jet Efficiency')\n",
    "plt.ylabel('Gluon Jet Rejection')\n",
    "\n",
    "# axes limits\n",
    "plt.xlim(0, 1)\n",
    "plt.ylim(0, 1)\n",
    "\n",
    "# make legend and show plot\n",
    "plt.legend(loc='lower left', frameon=False)\n",
    "plt.show()\n"
   ]
  },
  {
   "cell_type": "code",
   "execution_count": 18,
   "id": "9190f668",
   "metadata": {},
   "outputs": [
    {
     "data": {
      "image/png": "[encoded data removed]",
      "text/plain": [
       "<Figure size 288x288 with 1 Axes>"
      ]
     },
     "metadata": {
      "needs_background": "light"
     },
     "output_type": "display_data"
    }
   ],
   "source": [
    "plt.plot(hist1.history[\"loss\"],label=\"loss\")\n",
    "plt.plot(hist1.history[\"val_loss\"],label=\"validation loss\")\n",
    "plt.legend()\n",
    "plt.show()"
   ]
  },
  {
   "cell_type": "code",
   "execution_count": 19,
   "id": "bcf5a3ff",
   "metadata": {},
   "outputs": [
    {
     "data": {
      "image/png": "[encoded data removed]",
      "text/plain": [
       "<Figure size 288x288 with 1 Axes>"
      ]
     },
     "metadata": {
      "needs_background": "light"
     },
     "output_type": "display_data"
    }
   ],
   "source": [
    "plt.plot(hist1.history[\"acc\"],label=\"acc\")\n",
    "plt.plot(hist1.history[\"val_acc\"],label=\"validation acc\")\n",
    "plt.legend()\n",
    "plt.show()"
   ]
  },
  {
   "cell_type": "code",
   "execution_count": 20,
   "id": "a6ba574f",
   "metadata": {},
   "outputs": [
    {
     "ename": "NameError",
     "evalue": "name 'ojs' is not defined",
     "output_type": "error",
     "traceback": [
      "\u001b[0;31m---------------------------------------------------------------------------\u001b[0m",
      "\u001b[0;31mNameError\u001b[0m                                 Traceback (most recent call last)",
      "\u001b[0;32m<ipython-input-20-eec41ded03b7>\u001b[0m in \u001b[0;36m<module>\u001b[0;34m\u001b[0m\n\u001b[1;32m      4\u001b[0m \u001b[0mpTleadjet\u001b[0m \u001b[0;34m=\u001b[0m \u001b[0;34m[\u001b[0m\u001b[0;34m]\u001b[0m\u001b[0;34m\u001b[0m\u001b[0;34m\u001b[0m\u001b[0m\n\u001b[1;32m      5\u001b[0m \u001b[0mmleadjet\u001b[0m \u001b[0;34m=\u001b[0m \u001b[0;34m[\u001b[0m\u001b[0;34m]\u001b[0m\u001b[0;34m\u001b[0m\u001b[0;34m\u001b[0m\u001b[0m\n\u001b[0;32m----> 6\u001b[0;31m \u001b[0;32mfor\u001b[0m \u001b[0mk\u001b[0m \u001b[0;32min\u001b[0m \u001b[0mrange\u001b[0m\u001b[0;34m(\u001b[0m\u001b[0mlen\u001b[0m\u001b[0;34m(\u001b[0m\u001b[0mojs\u001b[0m\u001b[0;34m)\u001b[0m\u001b[0;34m)\u001b[0m\u001b[0;34m:\u001b[0m\u001b[0;34m\u001b[0m\u001b[0;34m\u001b[0m\u001b[0m\n\u001b[0m\u001b[1;32m      7\u001b[0m     \u001b[0mpseudojets_input\u001b[0m \u001b[0;34m=\u001b[0m \u001b[0mnp\u001b[0m\u001b[0;34m.\u001b[0m\u001b[0mzeros\u001b[0m\u001b[0;34m(\u001b[0m\u001b[0;36m50\u001b[0m\u001b[0;34m,\u001b[0m \u001b[0mdtype\u001b[0m\u001b[0;34m=\u001b[0m\u001b[0mDTYPE_PTEPM\u001b[0m\u001b[0;34m)\u001b[0m\u001b[0;34m\u001b[0m\u001b[0;34m\u001b[0m\u001b[0m\n\u001b[1;32m      8\u001b[0m     \u001b[0;32mfor\u001b[0m \u001b[0mi\u001b[0m \u001b[0;32min\u001b[0m \u001b[0mrange\u001b[0m\u001b[0;34m(\u001b[0m\u001b[0;36m50\u001b[0m\u001b[0;34m)\u001b[0m\u001b[0;34m:\u001b[0m\u001b[0;34m\u001b[0m\u001b[0;34m\u001b[0m\u001b[0m\n",
      "\u001b[0;31mNameError\u001b[0m: name 'ojs' is not defined"
     ]
    }
   ],
   "source": [
    "from pyjet import cluster,DTYPE_PTEPM\n",
    "\n",
    "njets = []\n",
    "pTleadjet = []\n",
    "mleadjet = []\n",
    "for k in range(len(ojs)):\n",
    "    pseudojets_input = np.zeros(50, dtype=DTYPE_PTEPM)\n",
    "    for i in range(50):\n",
    "        pseudojets_input[i]['pT'] = ojs[k,i,0]\n",
    "        pseudojets_input[i]['eta'] = ojs[k,i,1]\n",
    "        pseudojets_input[i]['phi'] = ojs[k,i,2]\n",
    "    sequence = cluster(pseudojets_input, R=0.4, p=-1)\n",
    "    jets = sequence.inclusive_jets(ptmin=0.1) # set to 5 once pt back\n",
    "    njets+=[len(jets)]\n",
    "    if (len(jets) > 0):\n",
    "        pTleadjet+=[jets[0].pt]\n",
    "        mleadjet+=[jets[0].mass]   "
   ]
  }
 ],
 "metadata": {
  "kernelspec": {
   "display_name": "Python 3",
   "language": "python",
   "name": "python3"
  },
  "language_info": {
   "codemirror_mode": {
    "name": "ipython",
    "version": 3
   },
   "file_extension": ".py",
   "mimetype": "text/x-python",
   "name": "python",
   "nbconvert_exporter": "python",
   "pygments_lexer": "ipython3",
   "version": "3.8.8"
  }
 },
 "nbformat": 4,
 "nbformat_minor": 5
}
