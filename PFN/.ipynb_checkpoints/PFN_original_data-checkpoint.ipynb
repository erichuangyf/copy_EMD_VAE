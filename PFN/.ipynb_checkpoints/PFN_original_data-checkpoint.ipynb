{
 "cells": [
  {
   "cell_type": "markdown",
   "id": "e24af323",
   "metadata": {},
   "source": [
    "# Import and Initialization"
   ]
  },
  {
   "cell_type": "code",
   "execution_count": 1,
   "id": "05a505b0",
   "metadata": {},
   "outputs": [],
   "source": [
    "%load_ext autoreload\n",
    "%autoreload 2\n",
    "\n",
    "# standard library imports\n",
    "from __future__ import absolute_import, division, print_function\n",
    "\n",
    "# standard numerical library imports\n",
    "import numpy as np\n",
    "\n",
    "# energyflow imports\n",
    "import energyflow as ef\n",
    "from energyflow.archs import PFN\n",
    "from energyflow.datasets import qg_jets\n",
    "from energyflow.utils import data_split, remap_pids, to_categorical\n",
    "\n",
    "from sklearn.metrics import roc_auc_score, roc_curve\n",
    "import matplotlib.pyplot as plt\n",
    "\n",
    "\n",
    "import pandas\n",
    "import h5py\n",
    "import pickle"
   ]
  },
  {
   "cell_type": "code",
   "execution_count": 2,
   "id": "45667e4d",
   "metadata": {},
   "outputs": [],
   "source": [
    "# configs\n",
    "train, val, test = 0.7, 0.2, 0.1\n",
    "Phi_sizes, F_sizes = (100, 100, 128), (100, 100, 100)\n",
    "num_epoch = 20\n",
    "batch_size = 200"
   ]
  },
  {
   "cell_type": "markdown",
   "id": "de635209",
   "metadata": {},
   "source": [
    "# Load and Process Data"
   ]
  },
  {
   "cell_type": "code",
   "execution_count": 3,
   "id": "25276321",
   "metadata": {},
   "outputs": [],
   "source": [
    "signal_file = \"/global/home/users/yifengh3/VAE/data/B_signal.h5\"\n",
    "background_file = \"/global/home/users/yifengh3/VAE/data/B_background.h5\"\n",
    "signal_data = pandas.read_hdf(signal_file)\n",
    "background_data = pandas.read_hdf(background_file)"
   ]
  },
  {
   "cell_type": "code",
   "execution_count": 4,
   "id": "646d74c9",
   "metadata": {},
   "outputs": [
    {
     "name": "stdout",
     "output_type": "stream",
     "text": [
      "signal data shape: (50000, 150)\n",
      "backgroubackground_datand data shape: (2000000, 150)\n"
     ]
    }
   ],
   "source": [
    "print(\"signal data shape: {}\".format(signal_data.shape))\n",
    "print(\"backgroubackground_datand data shape: {}\".format(background_data.shape))"
   ]
  },
  {
   "cell_type": "code",
   "execution_count": 5,
   "id": "e582ac98",
   "metadata": {},
   "outputs": [],
   "source": [
    "# assign labels to signal and background data, 0 for signal, 1 for background\n",
    "labeled_signal_data = np.append(signal_data,np.zeros((signal_data.shape[0],1)),axis=1)\n",
    "labeled_background_data = np.append(background_data,np.ones((background_data.shape[0],1)),axis=1)"
   ]
  },
  {
   "cell_type": "code",
   "execution_count": 6,
   "id": "8540cc44",
   "metadata": {},
   "outputs": [],
   "source": [
    "# mix two data array into one signal array\n",
    "data = np.concatenate((labeled_signal_data,labeled_background_data))\n",
    "\n",
    "#and shuffle the data\n",
    "np.random.shuffle(data)"
   ]
  },
  {
   "cell_type": "code",
   "execution_count": 7,
   "id": "34eaf99c",
   "metadata": {},
   "outputs": [],
   "source": [
    "X = data[:,:-1]\n",
    "y = data[:,-1]"
   ]
  },
  {
   "cell_type": "code",
   "execution_count": 8,
   "id": "d078bbf6",
   "metadata": {},
   "outputs": [
    {
     "name": "stdout",
     "output_type": "stream",
     "text": [
      "shape of X: (2050000, 150)\n",
      "shape of Y: (2050000,)\n"
     ]
    }
   ],
   "source": [
    "print(\"shape of X: {}\".format(X.shape))\n",
    "print(\"shape of Y: {}\".format(y.shape))"
   ]
  },
  {
   "cell_type": "code",
   "execution_count": 9,
   "id": "c3e0e641",
   "metadata": {},
   "outputs": [],
   "source": [
    "# To categorical as stipulated in example\n",
    "Y = to_categorical(y, num_classes=2)\n",
    "\n",
    "# Reshape X to shape (number of jets, 50, 3)\n",
    "X = X.reshape(-1,50,3)"
   ]
  },
  {
   "cell_type": "code",
   "execution_count": 10,
   "id": "6a6fe36d",
   "metadata": {},
   "outputs": [],
   "source": [
    "# normalizing jets\n",
    "# copied from example, but not optimized\n",
    "for x in X:\n",
    "    mask = x[:,0] > 0\n",
    "    yphi_avg = np.average(x[mask,1:3], weights=x[mask,0], axis=0)\n",
    "    x[mask,1:3] -= yphi_avg\n",
    "    x[mask,0] /= x[:,0].sum()"
   ]
  },
  {
   "cell_type": "code",
   "execution_count": 11,
   "id": "c3e18f2d",
   "metadata": {},
   "outputs": [
    {
     "name": "stdout",
     "output_type": "stream",
     "text": [
      "Finished preprocessing\n",
      "shape of X: (2050000, 50, 3)\n",
      "shape of Y: (2050000,)\n"
     ]
    }
   ],
   "source": [
    "print('Finished preprocessing')\n",
    "print(\"shape of X: {}\".format(X.shape))\n",
    "print(\"shape of Y: {}\".format(y.shape))"
   ]
  },
  {
   "cell_type": "code",
   "execution_count": 12,
   "id": "939de622",
   "metadata": {},
   "outputs": [],
   "source": [
    "# do train/val/test split \n",
    "(X_train, X_val, X_test,\n",
    " Y_train, Y_val, Y_test) = data_split(X, Y, val=val, test=test)"
   ]
  },
  {
   "cell_type": "markdown",
   "id": "e6056fc6",
   "metadata": {},
   "source": [
    "# Build and Train the Model"
   ]
  },
  {
   "cell_type": "code",
   "execution_count": 13,
   "id": "4876d9dc",
   "metadata": {},
   "outputs": [
    {
     "name": "stdout",
     "output_type": "stream",
     "text": [
      "Model summary:\n",
      "Model: \"model\"\n",
      "__________________________________________________________________________________________________\n",
      "Layer (type)                    Output Shape         Param #     Connected to                     \n",
      "==================================================================================================\n",
      "input (InputLayer)              [(None, None, 3)]    0                                            \n",
      "__________________________________________________________________________________________________\n",
      "tdist_0 (TimeDistributed)       (None, None, 100)    400         input[0][0]                      \n",
      "__________________________________________________________________________________________________\n",
      "activation (Activation)         (None, None, 100)    0           tdist_0[0][0]                    \n",
      "__________________________________________________________________________________________________\n",
      "tdist_1 (TimeDistributed)       (None, None, 100)    10100       activation[0][0]                 \n",
      "__________________________________________________________________________________________________\n",
      "activation_1 (Activation)       (None, None, 100)    0           tdist_1[0][0]                    \n",
      "__________________________________________________________________________________________________\n",
      "tdist_2 (TimeDistributed)       (None, None, 128)    12928       activation_1[0][0]               \n",
      "__________________________________________________________________________________________________\n",
      "mask (Lambda)                   (None, None)         0           input[0][0]                      \n",
      "__________________________________________________________________________________________________\n",
      "activation_2 (Activation)       (None, None, 128)    0           tdist_2[0][0]                    \n",
      "__________________________________________________________________________________________________\n",
      "sum (Dot)                       (None, 128)          0           mask[0][0]                       \n",
      "                                                                 activation_2[0][0]               \n",
      "__________________________________________________________________________________________________\n",
      "dense_0 (Dense)                 (None, 100)          12900       sum[0][0]                        \n",
      "__________________________________________________________________________________________________\n",
      "activation_3 (Activation)       (None, 100)          0           dense_0[0][0]                    \n",
      "__________________________________________________________________________________________________\n",
      "dense_1 (Dense)                 (None, 100)          10100       activation_3[0][0]               \n",
      "__________________________________________________________________________________________________\n",
      "activation_4 (Activation)       (None, 100)          0           dense_1[0][0]                    \n",
      "__________________________________________________________________________________________________\n",
      "dense_2 (Dense)                 (None, 100)          10100       activation_4[0][0]               \n",
      "__________________________________________________________________________________________________\n",
      "activation_5 (Activation)       (None, 100)          0           dense_2[0][0]                    \n",
      "__________________________________________________________________________________________________\n",
      "output (Dense)                  (None, 2)            202         activation_5[0][0]               \n",
      "__________________________________________________________________________________________________\n",
      "activation_6 (Activation)       (None, 2)            0           output[0][0]                     \n",
      "==================================================================================================\n",
      "Total params: 56,730\n",
      "Trainable params: 56,730\n",
      "Non-trainable params: 0\n",
      "__________________________________________________________________________________________________\n"
     ]
    }
   ],
   "source": [
    "print('Model summary:')\n",
    "\n",
    "# build architecture\n",
    "pfn = PFN(input_dim=X.shape[-1], Phi_sizes=Phi_sizes, F_sizes=F_sizes)"
   ]
  },
  {
   "cell_type": "code",
   "execution_count": 14,
   "id": "b559b182",
   "metadata": {},
   "outputs": [
    {
     "name": "stdout",
     "output_type": "stream",
     "text": [
      "Epoch 1/40\n",
      "7175/7175 [==============================] - 24s 3ms/step - loss: 0.5399 - acc: 0.9709 - val_loss: 0.1146 - val_acc: 0.9760\n",
      "Epoch 2/40\n",
      "7175/7175 [==============================] - 23s 3ms/step - loss: 0.1162 - acc: 0.9755 - val_loss: 0.1133 - val_acc: 0.9760\n",
      "Epoch 3/40\n",
      "7175/7175 [==============================] - 22s 3ms/step - loss: 0.1150 - acc: 0.9756 - val_loss: 0.1132 - val_acc: 0.9760\n",
      "Epoch 4/40\n",
      "7175/7175 [==============================] - 23s 3ms/step - loss: 0.1137 - acc: 0.9759 - val_loss: 0.1133 - val_acc: 0.9760\n",
      "Epoch 5/40\n",
      "7175/7175 [==============================] - 23s 3ms/step - loss: 0.1153 - acc: 0.9755 - val_loss: 0.1132 - val_acc: 0.9760\n",
      "Epoch 6/40\n",
      "7175/7175 [==============================] - 23s 3ms/step - loss: 0.1145 - acc: 0.9757 - val_loss: 0.1132 - val_acc: 0.9760\n",
      "Epoch 7/40\n",
      "7175/7175 [==============================] - 23s 3ms/step - loss: 0.1142 - acc: 0.9757 - val_loss: 0.1132 - val_acc: 0.9760\n",
      "Epoch 8/40\n",
      "7175/7175 [==============================] - 23s 3ms/step - loss: 0.1147 - acc: 0.9756 - val_loss: 0.1132 - val_acc: 0.9760\n",
      "Epoch 9/40\n",
      "7175/7175 [==============================] - 23s 3ms/step - loss: 0.1150 - acc: 0.9755 - val_loss: 0.1133 - val_acc: 0.9760\n",
      "Epoch 10/40\n",
      "7175/7175 [==============================] - 23s 3ms/step - loss: 0.1149 - acc: 0.9756 - val_loss: 0.1132 - val_acc: 0.9760\n",
      "Epoch 11/40\n",
      "7175/7175 [==============================] - 23s 3ms/step - loss: 0.1154 - acc: 0.9754 - val_loss: 0.1132 - val_acc: 0.9760\n",
      "Epoch 12/40\n",
      "7175/7175 [==============================] - 23s 3ms/step - loss: 0.1160 - acc: 0.9753 - val_loss: 0.1132 - val_acc: 0.9760\n",
      "Epoch 13/40\n",
      "7175/7175 [==============================] - 23s 3ms/step - loss: 0.1145 - acc: 0.9757 - val_loss: 0.1132 - val_acc: 0.9760\n",
      "Epoch 14/40\n",
      "7175/7175 [==============================] - 22s 3ms/step - loss: 0.1154 - acc: 0.9754 - val_loss: 0.1133 - val_acc: 0.9760\n",
      "Epoch 15/40\n",
      "7175/7175 [==============================] - 22s 3ms/step - loss: 0.1148 - acc: 0.9756 - val_loss: 0.1132 - val_acc: 0.9760\n",
      "Epoch 16/40\n",
      "7175/7175 [==============================] - 23s 3ms/step - loss: 0.1152 - acc: 0.9755 - val_loss: 0.1132 - val_acc: 0.9760\n",
      "Epoch 17/40\n",
      "7175/7175 [==============================] - 23s 3ms/step - loss: 0.1148 - acc: 0.9756 - val_loss: 0.1133 - val_acc: 0.9760\n",
      "Epoch 18/40\n",
      "7175/7175 [==============================] - 23s 3ms/step - loss: 0.1157 - acc: 0.9753 - val_loss: 0.1132 - val_acc: 0.9760\n",
      "Epoch 19/40\n",
      "7175/7175 [==============================] - 23s 3ms/step - loss: 0.1156 - acc: 0.9754 - val_loss: 0.1133 - val_acc: 0.9760\n",
      "Epoch 20/40\n",
      "7175/7175 [==============================] - 23s 3ms/step - loss: 0.1157 - acc: 0.9754 - val_loss: 0.1132 - val_acc: 0.9760\n",
      "Epoch 21/40\n",
      "7175/7175 [==============================] - 23s 3ms/step - loss: 0.1150 - acc: 0.9755 - val_loss: 0.1132 - val_acc: 0.9760\n",
      "Epoch 22/40\n",
      "7175/7175 [==============================] - 23s 3ms/step - loss: 0.1151 - acc: 0.9755 - val_loss: 0.1132 - val_acc: 0.9760\n",
      "Epoch 23/40\n",
      "7175/7175 [==============================] - 23s 3ms/step - loss: 0.1152 - acc: 0.9755 - val_loss: 0.1132 - val_acc: 0.9760\n",
      "Epoch 24/40\n",
      "7175/7175 [==============================] - 23s 3ms/step - loss: 0.1154 - acc: 0.9754 - val_loss: 0.1133 - val_acc: 0.9760\n",
      "Epoch 25/40\n",
      "7175/7175 [==============================] - 23s 3ms/step - loss: 0.1153 - acc: 0.9754 - val_loss: 0.1132 - val_acc: 0.9760\n",
      "Epoch 26/40\n",
      "7175/7175 [==============================] - 22s 3ms/step - loss: 0.1157 - acc: 0.9753 - val_loss: 0.1132 - val_acc: 0.9760\n",
      "Epoch 27/40\n",
      "7175/7175 [==============================] - 22s 3ms/step - loss: 0.1157 - acc: 0.9753 - val_loss: 0.1132 - val_acc: 0.9760\n",
      "Epoch 28/40\n",
      "7175/7175 [==============================] - 23s 3ms/step - loss: 0.1144 - acc: 0.9757 - val_loss: 0.1133 - val_acc: 0.9760\n",
      "Epoch 29/40\n",
      "7175/7175 [==============================] - 23s 3ms/step - loss: 0.1150 - acc: 0.9755 - val_loss: 0.1132 - val_acc: 0.9760\n",
      "Epoch 30/40\n",
      "7175/7175 [==============================] - 23s 3ms/step - loss: 0.1156 - acc: 0.9754 - val_loss: 0.1132 - val_acc: 0.9760\n",
      "Epoch 31/40\n",
      "7175/7175 [==============================] - 23s 3ms/step - loss: 0.1155 - acc: 0.9754 - val_loss: 0.1133 - val_acc: 0.9760\n",
      "Epoch 32/40\n",
      "7175/7175 [==============================] - 23s 3ms/step - loss: 0.1155 - acc: 0.9754 - val_loss: 0.1133 - val_acc: 0.9760\n",
      "Epoch 33/40\n",
      "7175/7175 [==============================] - 23s 3ms/step - loss: 0.1146 - acc: 0.9756 - val_loss: 0.1132 - val_acc: 0.9760\n",
      "Epoch 34/40\n",
      "7175/7175 [==============================] - 23s 3ms/step - loss: 0.1151 - acc: 0.9755 - val_loss: 0.1132 - val_acc: 0.9760\n",
      "Epoch 35/40\n",
      "7175/7175 [==============================] - 23s 3ms/step - loss: 0.1151 - acc: 0.9755 - val_loss: 0.1132 - val_acc: 0.9760\n",
      "Epoch 36/40\n",
      "7175/7175 [==============================] - 23s 3ms/step - loss: 0.1158 - acc: 0.9753 - val_loss: 0.1132 - val_acc: 0.9760\n",
      "Epoch 37/40\n",
      "7175/7175 [==============================] - 23s 3ms/step - loss: 0.1156 - acc: 0.9754 - val_loss: 0.1132 - val_acc: 0.9760\n",
      "Epoch 38/40\n",
      "7175/7175 [==============================] - 22s 3ms/step - loss: 0.1144 - acc: 0.9757 - val_loss: 0.1132 - val_acc: 0.9760\n",
      "Epoch 39/40\n",
      "7175/7175 [==============================] - 22s 3ms/step - loss: 0.1153 - acc: 0.9754 - val_loss: 0.1132 - val_acc: 0.9760\n",
      "Epoch 40/40\n",
      "7175/7175 [==============================] - 23s 3ms/step - loss: 0.1150 - acc: 0.9755 - val_loss: 0.1133 - val_acc: 0.9760\n"
     ]
    },
    {
     "data": {
      "text/plain": [
       "<tensorflow.python.keras.callbacks.History at 0x7f24c074a850>"
      ]
     },
     "execution_count": 14,
     "metadata": {},
     "output_type": "execute_result"
    }
   ],
   "source": [
    "# now train the model\n",
    "pfn.fit(X_train, Y_train,\n",
    "        epochs=num_epoch,\n",
    "        batch_size=batch_size,\n",
    "        validation_data=(X_val, Y_val),\n",
    "        verbose=1)"
   ]
  },
  {
   "cell_type": "markdown",
   "id": "fbce4f26",
   "metadata": {},
   "source": [
    "# Analyze the Model"
   ]
  },
  {
   "cell_type": "code",
   "execution_count": 15,
   "id": "531ee50e",
   "metadata": {},
   "outputs": [
    {
     "name": "stdout",
     "output_type": "stream",
     "text": [
      "\n",
      "PFN AUC: 0.5\n",
      "\n"
     ]
    }
   ],
   "source": [
    "# get predictions on test data\n",
    "preds = pfn.predict(X_test, batch_size=1000)\n",
    "\n",
    "# get ROC curve\n",
    "pfn_fp, pfn_tp, threshs = roc_curve(Y_test[:,1], preds[:,1])\n",
    "\n",
    "# get area under the ROC curve\n",
    "auc = roc_auc_score(Y_test[:,1], preds[:,1])\n",
    "print()\n",
    "print('PFN AUC:', auc)\n",
    "print()"
   ]
  },
  {
   "cell_type": "code",
   "execution_count": null,
   "id": "3d6c5b1a",
   "metadata": {},
   "outputs": [],
   "source": [
    "# get multiplicity and mass for comparison\n",
    "masses = np.asarray([ef.ms_from_p4s(ef.p4s_from_ptyphims(x).sum(axis=0)) for x in X])\n",
    "mults = np.asarray([np.count_nonzero(x[:,0]) for x in X])\n",
    "mass_fp, mass_tp, threshs = roc_curve(Y[:,1], -masses)\n",
    "mult_fp, mult_tp, threshs = roc_curve(Y[:,1], -mults)\n",
    "\n",
    "# some nicer plot settings \n",
    "plt.rcParams['figure.figsize'] = (4,4)\n",
    "plt.rcParams['font.family'] = 'serif'\n",
    "plt.rcParams['figure.autolayout'] = True\n",
    "\n",
    "# plot the ROC curves\n",
    "plt.plot(pfn_tp, 1-pfn_fp, '-', color='black', label='PFN')\n",
    "plt.plot(mass_tp, 1-mass_fp, '-', color='blue', label='Jet Mass')\n",
    "plt.plot(mult_tp, 1-mult_fp, '-', color='red', label='Multiplicity')\n",
    "\n",
    "# axes labels\n",
    "plt.xlabel('Quark Jet Efficiency')\n",
    "plt.ylabel('Gluon Jet Rejection')\n",
    "\n",
    "# axes limits\n",
    "plt.xlim(0, 1)\n",
    "plt.ylim(0, 1)\n",
    "\n",
    "# make legend and show plot\n",
    "plt.legend(loc='lower left', frameon=False)\n",
    "plt.show()\n"
   ]
  },
  {
   "cell_type": "code",
   "execution_count": null,
   "id": "6bbb4d59",
   "metadata": {},
   "outputs": [],
   "source": []
  }
 ],
 "metadata": {
  "kernelspec": {
   "display_name": "Python 3",
   "language": "python",
   "name": "python3"
  },
  "language_info": {
   "codemirror_mode": {
    "name": "ipython",
    "version": 3
   },
   "file_extension": ".py",
   "mimetype": "text/x-python",
   "name": "python",
   "nbconvert_exporter": "python",
   "pygments_lexer": "ipython3",
   "version": "3.8.8"
  }
 },
 "nbformat": 4,
 "nbformat_minor": 5
}
