{
 "cells": [
  {
   "cell_type": "markdown",
   "id": "4ef50705",
   "metadata": {},
   "source": [
    "# Import and Initialization"
   ]
  },
  {
   "cell_type": "code",
   "execution_count": 1,
   "id": "05a505b0",
   "metadata": {},
   "outputs": [],
   "source": [
    "%load_ext autoreload\n",
    "%autoreload 2\n",
    "\n",
    "# standard library imports\n",
    "from __future__ import absolute_import, division, print_function\n",
    "\n",
    "# standard numerical library imports\n",
    "import numpy as np\n",
    "\n",
    "# energyflow imports\n",
    "import energyflow as ef\n",
    "from energyflow.archs import PFN\n",
    "from energyflow.datasets import qg_jets\n",
    "from energyflow.utils import data_split, remap_pids, to_categorical\n",
    "\n",
    "from sklearn.metrics import roc_auc_score, roc_curve\n",
    "import matplotlib.pyplot as plt\n",
    "\n",
    "\n",
    "import pandas\n",
    "import h5py\n",
    "import pickle"
   ]
  },
  {
   "cell_type": "code",
   "execution_count": 2,
   "id": "45667e4d",
   "metadata": {},
   "outputs": [],
   "source": [
    "# configs\n",
    "train, val, test = 0.7, 0.2, 0.1\n",
    "Phi_sizes, F_sizes = (256, 256, 256), (256, 256, 256)\n",
    "num_epoch = 40\n",
    "batch_size = 2000"
   ]
  },
  {
   "cell_type": "markdown",
   "id": "8c5aa5d4",
   "metadata": {},
   "source": [
    "# Load and Process Data"
   ]
  },
  {
   "cell_type": "code",
   "execution_count": 3,
   "id": "25276321",
   "metadata": {},
   "outputs": [],
   "source": [
    "signal_file = \"/global/home/users/yifengh3/VAE/data/B_signal.h5\"\n",
    "background_file = \"/global/home/users/yifengh3/VAE/data/B_background.h5\"\n",
    "signal_data = pandas.read_hdf(signal_file)\n",
    "background_data = pandas.read_hdf(background_file)"
   ]
  },
  {
   "cell_type": "code",
   "execution_count": 4,
   "id": "646d74c9",
   "metadata": {},
   "outputs": [
    {
     "name": "stdout",
     "output_type": "stream",
     "text": [
      "signal data shape: (50000, 150)\n",
      "backgroubackground_datand data shape: (2000000, 150)\n"
     ]
    }
   ],
   "source": [
    "print(\"signal data shape: {}\".format(signal_data.shape))\n",
    "print(\"backgroubackground_datand data shape: {}\".format(background_data.shape))"
   ]
  },
  {
   "cell_type": "code",
   "execution_count": 5,
   "id": "e582ac98",
   "metadata": {},
   "outputs": [],
   "source": [
    "# assign labels to signal and background data, 0 for signal, 1 for background\n",
    "labeled_signal_data = np.append(signal_data,np.zeros((signal_data.shape[0],1)),axis=1)\n",
    "labeled_background_data = np.append(background_data,np.ones((background_data.shape[0],1)),axis=1)"
   ]
  },
  {
   "cell_type": "code",
   "execution_count": 6,
   "id": "85bd57d0",
   "metadata": {},
   "outputs": [
    {
     "name": "stdout",
     "output_type": "stream",
     "text": [
      "Weight for signal: 20.50\n",
      "Weight for background: 0.51\n"
     ]
    }
   ],
   "source": [
    "# Scaling by total/2 helps keep the loss to a similar magnitude.\n",
    "# The sum of the weights of all examples stays the same.\n",
    "total = signal_data.shape[0] + background_data.shape[0]\n",
    "weight_for_0 = (1 / signal_data.shape[0]) * (total / 2.0)\n",
    "weight_for_1 = (1 / background_data.shape[0]) * (total / 2.0)\n",
    "\n",
    "class_weight = {0: weight_for_0, 1: weight_for_1}\n",
    "\n",
    "print('Weight for signal: {:.2f}'.format(weight_for_0))\n",
    "print('Weight for background: {:.2f}'.format(weight_for_1))"
   ]
  },
  {
   "cell_type": "code",
   "execution_count": 7,
   "id": "8540cc44",
   "metadata": {},
   "outputs": [],
   "source": [
    "# mix two data array into one signal array\n",
    "data = np.concatenate((labeled_signal_data,labeled_background_data))\n",
    "\n",
    "#and shuffle the data\n",
    "np.random.shuffle(data)"
   ]
  },
  {
   "cell_type": "code",
   "execution_count": 8,
   "id": "34eaf99c",
   "metadata": {},
   "outputs": [],
   "source": [
    "X = data[:,:-1]\n",
    "y = data[:,-1]"
   ]
  },
  {
   "cell_type": "code",
   "execution_count": 9,
   "id": "d078bbf6",
   "metadata": {},
   "outputs": [
    {
     "name": "stdout",
     "output_type": "stream",
     "text": [
      "shape of X: (2050000, 150)\n",
      "shape of Y: (2050000,)\n"
     ]
    }
   ],
   "source": [
    "print(\"shape of X: {}\".format(X.shape))\n",
    "print(\"shape of Y: {}\".format(y.shape))"
   ]
  },
  {
   "cell_type": "code",
   "execution_count": 10,
   "id": "c3e0e641",
   "metadata": {},
   "outputs": [],
   "source": [
    "# To categorical as stipulated in example\n",
    "Y = to_categorical(y, num_classes=2)\n",
    "\n",
    "# Reshape X to shape (number of jets, 50, 3)\n",
    "X = X.reshape(-1,50,3)"
   ]
  },
  {
   "cell_type": "code",
   "execution_count": 11,
   "id": "6a6fe36d",
   "metadata": {},
   "outputs": [
    {
     "name": "stderr",
     "output_type": "stream",
     "text": [
      "100%|██████████| 2050000/2050000 [02:04<00:00, 16523.35it/s]\n"
     ]
    }
   ],
   "source": [
    "# normalizing jets\n",
    "# copied from example\n",
    "import tqdm\n",
    "for x in tqdm.tqdm(X):\n",
    "    mask = x[:,0] > 0\n",
    "    yphi_avg = np.average(x[mask,1:3], weights=x[mask,0], axis=0)\n",
    "    x[mask,1:3] -= yphi_avg\n",
    "    x[mask,0] /= x[:,0].sum()"
   ]
  },
  {
   "cell_type": "code",
   "execution_count": 12,
   "id": "c3e18f2d",
   "metadata": {},
   "outputs": [
    {
     "name": "stdout",
     "output_type": "stream",
     "text": [
      "Finished preprocessing\n",
      "shape of X: (2050000, 50, 3)\n",
      "shape of Y: (2050000,)\n"
     ]
    }
   ],
   "source": [
    "print('Finished preprocessing')\n",
    "print(\"shape of X: {}\".format(X.shape))\n",
    "print(\"shape of Y: {}\".format(y.shape))"
   ]
  },
  {
   "cell_type": "code",
   "execution_count": 13,
   "id": "939de622",
   "metadata": {},
   "outputs": [],
   "source": [
    "# do train/val/test split \n",
    "(X_train, X_val, X_test,\n",
    " Y_train, Y_val, Y_test) = data_split(X, Y, val=val, test=test)"
   ]
  },
  {
   "cell_type": "markdown",
   "id": "bc6339cd",
   "metadata": {},
   "source": [
    "# Build and Train the Model"
   ]
  },
  {
   "cell_type": "code",
   "execution_count": 18,
   "id": "4876d9dc",
   "metadata": {},
   "outputs": [
    {
     "name": "stdout",
     "output_type": "stream",
     "text": [
      "Model summary:\n",
      "Model: \"model_1\"\n",
      "__________________________________________________________________________________________________\n",
      "Layer (type)                    Output Shape         Param #     Connected to                     \n",
      "==================================================================================================\n",
      "input (InputLayer)              [(None, None, 3)]    0                                            \n",
      "__________________________________________________________________________________________________\n",
      "tdist_0 (TimeDistributed)       (None, None, 256)    1024        input[0][0]                      \n",
      "__________________________________________________________________________________________________\n",
      "activation_7 (Activation)       (None, None, 256)    0           tdist_0[0][0]                    \n",
      "__________________________________________________________________________________________________\n",
      "tdist_1 (TimeDistributed)       (None, None, 256)    65792       activation_7[0][0]               \n",
      "__________________________________________________________________________________________________\n",
      "activation_8 (Activation)       (None, None, 256)    0           tdist_1[0][0]                    \n",
      "__________________________________________________________________________________________________\n",
      "tdist_2 (TimeDistributed)       (None, None, 256)    65792       activation_8[0][0]               \n",
      "__________________________________________________________________________________________________\n",
      "mask (Lambda)                   (None, None)         0           input[0][0]                      \n",
      "__________________________________________________________________________________________________\n",
      "activation_9 (Activation)       (None, None, 256)    0           tdist_2[0][0]                    \n",
      "__________________________________________________________________________________________________\n",
      "sum (Dot)                       (None, 256)          0           mask[0][0]                       \n",
      "                                                                 activation_9[0][0]               \n",
      "__________________________________________________________________________________________________\n",
      "dense_0 (Dense)                 (None, 256)          65792       sum[0][0]                        \n",
      "__________________________________________________________________________________________________\n",
      "activation_10 (Activation)      (None, 256)          0           dense_0[0][0]                    \n",
      "__________________________________________________________________________________________________\n",
      "dense_1 (Dense)                 (None, 256)          65792       activation_10[0][0]              \n",
      "__________________________________________________________________________________________________\n",
      "activation_11 (Activation)      (None, 256)          0           dense_1[0][0]                    \n",
      "__________________________________________________________________________________________________\n",
      "dense_2 (Dense)                 (None, 256)          65792       activation_11[0][0]              \n",
      "__________________________________________________________________________________________________\n",
      "activation_12 (Activation)      (None, 256)          0           dense_2[0][0]                    \n",
      "__________________________________________________________________________________________________\n",
      "output (Dense)                  (None, 2)            514         activation_12[0][0]              \n",
      "__________________________________________________________________________________________________\n",
      "activation_13 (Activation)      (None, 2)            0           output[0][0]                     \n",
      "==================================================================================================\n",
      "Total params: 330,498\n",
      "Trainable params: 330,498\n",
      "Non-trainable params: 0\n",
      "__________________________________________________________________________________________________\n"
     ]
    }
   ],
   "source": [
    "print('Model summary:')\n",
    "\n",
    "# build architecture\n",
    "import keras\n",
    "optimizer = keras.optimizers.Adam(lr=1e-4)\n",
    "pfn = PFN(input_dim=X.shape[-1], Phi_sizes=Phi_sizes, F_sizes=F_sizes,optimizer=optimizer)"
   ]
  },
  {
   "cell_type": "code",
   "execution_count": 19,
   "id": "b559b182",
   "metadata": {
    "scrolled": true
   },
   "outputs": [
    {
     "name": "stdout",
     "output_type": "stream",
     "text": [
      "Epoch 1/40\n",
      "718/718 [==============================] - 12s 16ms/step - loss: 4.1131 - acc: 0.5003 - val_loss: 1.5794 - val_acc: 0.0643\n",
      "Epoch 2/40\n",
      "718/718 [==============================] - 11s 15ms/step - loss: 1.0539 - acc: 0.5136 - val_loss: 1.5540 - val_acc: 0.0337\n",
      "Epoch 3/40\n",
      "718/718 [==============================] - 11s 15ms/step - loss: 0.8948 - acc: 0.5211 - val_loss: 0.4133 - val_acc: 0.9362\n",
      "Epoch 4/40\n",
      "718/718 [==============================] - 11s 15ms/step - loss: 0.9000 - acc: 0.5136 - val_loss: 0.7253 - val_acc: 0.5032\n",
      "Epoch 5/40\n",
      "718/718 [==============================] - 11s 15ms/step - loss: 0.8298 - acc: 0.5139 - val_loss: 1.2388 - val_acc: 0.0369\n",
      "Epoch 6/40\n",
      "718/718 [==============================] - 11s 15ms/step - loss: 0.8347 - acc: 0.5076 - val_loss: 1.2012 - val_acc: 0.0478\n",
      "Epoch 7/40\n",
      "718/718 [==============================] - 11s 15ms/step - loss: 0.7706 - acc: 0.5224 - val_loss: 0.2025 - val_acc: 0.9694\n",
      "Epoch 8/40\n",
      "718/718 [==============================] - 11s 15ms/step - loss: 0.7796 - acc: 0.5263 - val_loss: 0.2410 - val_acc: 0.9674\n",
      "Epoch 9/40\n",
      "718/718 [==============================] - 11s 15ms/step - loss: 0.7424 - acc: 0.5330 - val_loss: 0.7584 - val_acc: 0.3181\n",
      "Epoch 10/40\n",
      "718/718 [==============================] - 11s 16ms/step - loss: 0.7390 - acc: 0.5198 - val_loss: 0.2332 - val_acc: 0.9727\n",
      "Epoch 11/40\n",
      "718/718 [==============================] - 11s 16ms/step - loss: 0.7189 - acc: 0.5336 - val_loss: 1.0735 - val_acc: 0.0559\n",
      "Epoch 12/40\n",
      "718/718 [==============================] - 11s 16ms/step - loss: 0.7211 - acc: 0.5337 - val_loss: 0.7888 - val_acc: 0.2337\n",
      "Epoch 13/40\n",
      "718/718 [==============================] - 11s 16ms/step - loss: 0.7179 - acc: 0.5351 - val_loss: 0.5482 - val_acc: 0.9076\n",
      "Epoch 14/40\n",
      "718/718 [==============================] - 11s 16ms/step - loss: 0.6996 - acc: 0.5634 - val_loss: 0.9276 - val_acc: 0.0860\n",
      "Epoch 15/40\n",
      "718/718 [==============================] - 11s 16ms/step - loss: 0.7010 - acc: 0.5483 - val_loss: 0.8766 - val_acc: 0.1204\n",
      "Epoch 16/40\n",
      "718/718 [==============================] - 11s 15ms/step - loss: 0.6930 - acc: 0.5598 - val_loss: 0.4833 - val_acc: 0.9188\n",
      "Epoch 17/40\n",
      "718/718 [==============================] - 11s 15ms/step - loss: 0.6909 - acc: 0.5741 - val_loss: 0.7150 - val_acc: 0.5394\n",
      "Epoch 18/40\n",
      "718/718 [==============================] - 11s 16ms/step - loss: 0.6885 - acc: 0.5786 - val_loss: 0.6238 - val_acc: 0.7629\n",
      "Epoch 19/40\n",
      "718/718 [==============================] - 11s 15ms/step - loss: 0.6797 - acc: 0.5913 - val_loss: 0.6918 - val_acc: 0.6181\n",
      "Epoch 20/40\n",
      "718/718 [==============================] - 11s 16ms/step - loss: 0.6829 - acc: 0.5945 - val_loss: 0.8541 - val_acc: 0.1427\n",
      "Epoch 21/40\n",
      "718/718 [==============================] - 11s 16ms/step - loss: 0.6778 - acc: 0.5951 - val_loss: 0.6600 - val_acc: 0.6343\n",
      "Epoch 22/40\n",
      "718/718 [==============================] - 11s 16ms/step - loss: 0.6730 - acc: 0.6226 - val_loss: 0.6040 - val_acc: 0.7935\n",
      "Epoch 23/40\n",
      "718/718 [==============================] - 11s 16ms/step - loss: 0.6729 - acc: 0.6182 - val_loss: 0.5766 - val_acc: 0.9001\n",
      "Epoch 24/40\n",
      "718/718 [==============================] - 11s 16ms/step - loss: 0.6721 - acc: 0.6306 - val_loss: 0.6911 - val_acc: 0.6512\n",
      "Epoch 25/40\n",
      "718/718 [==============================] - 11s 16ms/step - loss: 0.6732 - acc: 0.6221 - val_loss: 0.5992 - val_acc: 0.8049\n",
      "Epoch 26/40\n",
      "718/718 [==============================] - 11s 16ms/step - loss: 0.6657 - acc: 0.6463 - val_loss: 0.6957 - val_acc: 0.5262\n",
      "Epoch 27/40\n",
      "718/718 [==============================] - 11s 16ms/step - loss: 0.6679 - acc: 0.6379 - val_loss: 0.6254 - val_acc: 0.7939\n",
      "Epoch 28/40\n",
      "718/718 [==============================] - 11s 16ms/step - loss: 0.6652 - acc: 0.6531 - val_loss: 0.5621 - val_acc: 0.8851\n",
      "Epoch 29/40\n",
      "718/718 [==============================] - 11s 16ms/step - loss: 0.6645 - acc: 0.6528 - val_loss: 0.6461 - val_acc: 0.7453\n",
      "Epoch 30/40\n",
      "718/718 [==============================] - 11s 16ms/step - loss: 0.6656 - acc: 0.6568 - val_loss: 0.6664 - val_acc: 0.7052\n",
      "Epoch 31/40\n",
      "718/718 [==============================] - 11s 15ms/step - loss: 0.6634 - acc: 0.6652 - val_loss: 0.8519 - val_acc: 0.2315\n",
      "Epoch 32/40\n",
      "718/718 [==============================] - 11s 16ms/step - loss: 0.6711 - acc: 0.6377 - val_loss: 0.6940 - val_acc: 0.6251\n",
      "Epoch 33/40\n",
      "718/718 [==============================] - 11s 15ms/step - loss: 0.6629 - acc: 0.6664 - val_loss: 0.6867 - val_acc: 0.6174\n",
      "Epoch 34/40\n",
      "718/718 [==============================] - 11s 15ms/step - loss: 0.6622 - acc: 0.6689 - val_loss: 0.7724 - val_acc: 0.3778\n",
      "Epoch 35/40\n",
      "718/718 [==============================] - 11s 16ms/step - loss: 0.6613 - acc: 0.6719 - val_loss: 0.7331 - val_acc: 0.5049\n",
      "Epoch 36/40\n",
      "718/718 [==============================] - 11s 16ms/step - loss: 0.6602 - acc: 0.6849 - val_loss: 0.7502 - val_acc: 0.5206\n",
      "Epoch 37/40\n",
      "718/718 [==============================] - 11s 15ms/step - loss: 0.6595 - acc: 0.6757 - val_loss: 0.6993 - val_acc: 0.6267\n",
      "Epoch 38/40\n",
      "718/718 [==============================] - 11s 15ms/step - loss: 0.6630 - acc: 0.6769 - val_loss: 0.6376 - val_acc: 0.7712\n",
      "Epoch 39/40\n",
      "718/718 [==============================] - 11s 16ms/step - loss: 0.6593 - acc: 0.6862 - val_loss: 0.6573 - val_acc: 0.7221\n",
      "Epoch 40/40\n",
      "718/718 [==============================] - 11s 15ms/step - loss: 0.6594 - acc: 0.6814 - val_loss: 0.6019 - val_acc: 0.8290\n"
     ]
    },
    {
     "data": {
      "text/plain": [
       "<tensorflow.python.keras.callbacks.History at 0x7f718815e0a0>"
      ]
     },
     "execution_count": 19,
     "metadata": {},
     "output_type": "execute_result"
    }
   ],
   "source": [
    "# now train the model\n",
    "pfn.fit(X_train, Y_train,\n",
    "        epochs=num_epoch,\n",
    "        batch_size=batch_size,\n",
    "        validation_data=(X_val, Y_val),\n",
    "        class_weight=class_weight,\n",
    "        verbose=1)"
   ]
  },
  {
   "cell_type": "markdown",
   "id": "0fac1861",
   "metadata": {},
   "source": [
    "# Analyze the Model"
   ]
  },
  {
   "cell_type": "code",
   "execution_count": 20,
   "id": "531ee50e",
   "metadata": {},
   "outputs": [
    {
     "name": "stdout",
     "output_type": "stream",
     "text": [
      "\n",
      "PFN AUC: 0.6398874885214738\n",
      "\n"
     ]
    }
   ],
   "source": [
    "# get predictions on test data\n",
    "preds = pfn.predict(X_test, batch_size=1000)\n",
    "\n",
    "# get ROC curve\n",
    "pfn_fp, pfn_tp, threshs = roc_curve(Y_test[:,1], preds[:,1])\n",
    "\n",
    "# get area under the ROC curve\n",
    "auc = roc_auc_score(Y_test[:,1], preds[:,1])\n",
    "print()\n",
    "print('PFN AUC:', auc)\n",
    "print()"
   ]
  },
  {
   "cell_type": "code",
   "execution_count": null,
   "id": "403ff086",
   "metadata": {},
   "outputs": [],
   "source": [
    "# get multiplicity and mass for comparison\n",
    "masses = np.asarray([ef.ms_from_p4s(ef.p4s_from_ptyphims(x).sum(axis=0)) for x in X])\n",
    "mults = np.asarray([np.count_nonzero(x[:,0]) for x in X])\n",
    "mass_fp, mass_tp, threshs = roc_curve(Y[:,1], -masses)\n",
    "mult_fp, mult_tp, threshs = roc_curve(Y[:,1], -mults)\n",
    "\n",
    "# some nicer plot settings \n",
    "plt.rcParams['figure.figsize'] = (4,4)\n",
    "plt.rcParams['font.family'] = 'serif'\n",
    "plt.rcParams['figure.autolayout'] = True\n",
    "\n",
    "# plot the ROC curves\n",
    "plt.plot(pfn_tp, 1-pfn_fp, '-', color='black', label='PFN')\n",
    "plt.plot(mass_tp, 1-mass_fp, '-', color='blue', label='Jet Mass')\n",
    "plt.plot(mult_tp, 1-mult_fp, '-', color='red', label='Multiplicity')\n",
    "\n",
    "# axes labels\n",
    "plt.xlabel('Quark Jet Efficiency')\n",
    "plt.ylabel('Gluon Jet Rejection')\n",
    "\n",
    "# axes limits\n",
    "plt.xlim(0, 1)\n",
    "plt.ylim(0, 1)\n",
    "\n",
    "# make legend and show plot\n",
    "plt.legend(loc='lower left', frameon=False)\n",
    "plt.show()\n"
   ]
  },
  {
   "cell_type": "markdown",
   "id": "b80fa35f",
   "metadata": {},
   "source": [
    "# Model 2"
   ]
  },
  {
   "cell_type": "code",
   "execution_count": 28,
   "id": "7f2a4227",
   "metadata": {},
   "outputs": [],
   "source": [
    "# configs\n",
    "Phi_sizes, F_sizes = (128, 128, 128), (128, 128, 128)\n",
    "num_epoch = 30\n",
    "batch_size = 1024"
   ]
  },
  {
   "cell_type": "code",
   "execution_count": 29,
   "id": "dd1967d3",
   "metadata": {
    "scrolled": false
   },
   "outputs": [
    {
     "name": "stdout",
     "output_type": "stream",
     "text": [
      "Model summary:\n",
      "Model: \"model_4\"\n",
      "__________________________________________________________________________________________________\n",
      "Layer (type)                    Output Shape         Param #     Connected to                     \n",
      "==================================================================================================\n",
      "input (InputLayer)              [(None, None, 3)]    0                                            \n",
      "__________________________________________________________________________________________________\n",
      "tdist_0 (TimeDistributed)       (None, None, 128)    512         input[0][0]                      \n",
      "__________________________________________________________________________________________________\n",
      "activation_28 (Activation)      (None, None, 128)    0           tdist_0[0][0]                    \n",
      "__________________________________________________________________________________________________\n",
      "tdist_1 (TimeDistributed)       (None, None, 128)    16512       activation_28[0][0]              \n",
      "__________________________________________________________________________________________________\n",
      "activation_29 (Activation)      (None, None, 128)    0           tdist_1[0][0]                    \n",
      "__________________________________________________________________________________________________\n",
      "tdist_2 (TimeDistributed)       (None, None, 128)    16512       activation_29[0][0]              \n",
      "__________________________________________________________________________________________________\n",
      "mask (Lambda)                   (None, None)         0           input[0][0]                      \n",
      "__________________________________________________________________________________________________\n",
      "activation_30 (Activation)      (None, None, 128)    0           tdist_2[0][0]                    \n",
      "__________________________________________________________________________________________________\n",
      "sum (Dot)                       (None, 128)          0           mask[0][0]                       \n",
      "                                                                 activation_30[0][0]              \n",
      "__________________________________________________________________________________________________\n",
      "dense_0 (Dense)                 (None, 128)          16512       sum[0][0]                        \n",
      "__________________________________________________________________________________________________\n",
      "activation_31 (Activation)      (None, 128)          0           dense_0[0][0]                    \n",
      "__________________________________________________________________________________________________\n",
      "dense_1 (Dense)                 (None, 128)          16512       activation_31[0][0]              \n",
      "__________________________________________________________________________________________________\n",
      "activation_32 (Activation)      (None, 128)          0           dense_1[0][0]                    \n",
      "__________________________________________________________________________________________________\n",
      "dense_2 (Dense)                 (None, 128)          16512       activation_32[0][0]              \n",
      "__________________________________________________________________________________________________\n",
      "activation_33 (Activation)      (None, 128)          0           dense_2[0][0]                    \n",
      "__________________________________________________________________________________________________\n",
      "output (Dense)                  (None, 2)            258         activation_33[0][0]              \n",
      "__________________________________________________________________________________________________\n",
      "activation_34 (Activation)      (None, 2)            0           output[0][0]                     \n",
      "==================================================================================================\n",
      "Total params: 83,330\n",
      "Trainable params: 83,330\n",
      "Non-trainable params: 0\n",
      "__________________________________________________________________________________________________\n",
      "Epoch 1/30\n",
      "1402/1402 [==============================] - 8s 6ms/step - loss: 2.3582 - acc: 0.5088 - val_loss: 0.4970 - val_acc: 0.9489\n",
      "Epoch 2/30\n",
      "1402/1402 [==============================] - 8s 5ms/step - loss: 0.7100 - acc: 0.5171 - val_loss: 0.7718 - val_acc: 0.2017\n",
      "Epoch 3/30\n",
      "1402/1402 [==============================] - 8s 5ms/step - loss: 0.7004 - acc: 0.5251 - val_loss: 0.6791 - val_acc: 0.7123\n",
      "Epoch 4/30\n",
      "1402/1402 [==============================] - 8s 5ms/step - loss: 0.6953 - acc: 0.5296 - val_loss: 0.6573 - val_acc: 0.8090\n",
      "Epoch 5/30\n",
      "1402/1402 [==============================] - 8s 5ms/step - loss: 0.6953 - acc: 0.5314 - val_loss: 0.6159 - val_acc: 0.9055\n",
      "Epoch 6/30\n",
      "1402/1402 [==============================] - 8s 5ms/step - loss: 0.6935 - acc: 0.5755 - val_loss: 0.7112 - val_acc: 0.4561\n",
      "Epoch 7/30\n",
      "1402/1402 [==============================] - 8s 5ms/step - loss: 0.6931 - acc: 0.6131 - val_loss: 0.6895 - val_acc: 0.7956\n",
      "Epoch 8/30\n",
      "1402/1402 [==============================] - 8s 5ms/step - loss: 0.6946 - acc: 0.6402 - val_loss: 0.6628 - val_acc: 0.9378\n",
      "Epoch 9/30\n",
      "1402/1402 [==============================] - 8s 5ms/step - loss: 0.6948 - acc: 0.6900 - val_loss: 0.7012 - val_acc: 0.5215\n",
      "Epoch 10/30\n",
      "1402/1402 [==============================] - 8s 5ms/step - loss: 0.6901 - acc: 0.8279 - val_loss: 0.6870 - val_acc: 0.9295\n",
      "Epoch 11/30\n",
      "1402/1402 [==============================] - 8s 5ms/step - loss: 0.6828 - acc: 0.8269 - val_loss: 0.7682 - val_acc: 0.4847\n",
      "Epoch 12/30\n",
      "1402/1402 [==============================] - 8s 5ms/step - loss: 0.6718 - acc: 0.7437 - val_loss: 0.6616 - val_acc: 0.7733\n",
      "Epoch 13/30\n",
      "1402/1402 [==============================] - 8s 5ms/step - loss: 0.6710 - acc: 0.7438 - val_loss: 0.6855 - val_acc: 0.6561\n",
      "Epoch 14/30\n",
      "1402/1402 [==============================] - 8s 5ms/step - loss: 0.6717 - acc: 0.7240 - val_loss: 0.6125 - val_acc: 0.8049\n",
      "Epoch 15/30\n",
      "1402/1402 [==============================] - 8s 5ms/step - loss: 0.6657 - acc: 0.7194 - val_loss: 0.6447 - val_acc: 0.7255\n",
      "Epoch 16/30\n",
      "1402/1402 [==============================] - 8s 5ms/step - loss: 0.6643 - acc: 0.7111 - val_loss: 0.6471 - val_acc: 0.7768\n",
      "Epoch 17/30\n",
      "1402/1402 [==============================] - 8s 5ms/step - loss: 0.6607 - acc: 0.7195 - val_loss: 0.6954 - val_acc: 0.6343\n",
      "Epoch 18/30\n",
      "1402/1402 [==============================] - 8s 5ms/step - loss: 0.6617 - acc: 0.6967 - val_loss: 0.7159 - val_acc: 0.5732\n",
      "Epoch 19/30\n",
      "1402/1402 [==============================] - 8s 5ms/step - loss: 0.6610 - acc: 0.7056 - val_loss: 0.7409 - val_acc: 0.5866\n",
      "Epoch 20/30\n",
      "1402/1402 [==============================] - 8s 5ms/step - loss: 0.6596 - acc: 0.6985 - val_loss: 0.6163 - val_acc: 0.7745\n",
      "Epoch 21/30\n",
      "1402/1402 [==============================] - 8s 5ms/step - loss: 0.6572 - acc: 0.7150 - val_loss: 0.7097 - val_acc: 0.6240\n",
      "Epoch 22/30\n",
      "1402/1402 [==============================] - 8s 5ms/step - loss: 0.6594 - acc: 0.6936 - val_loss: 0.5880 - val_acc: 0.7821\n",
      "Epoch 23/30\n",
      "1402/1402 [==============================] - 8s 5ms/step - loss: 0.6564 - acc: 0.7146 - val_loss: 0.6636 - val_acc: 0.7082\n",
      "Epoch 24/30\n",
      "1402/1402 [==============================] - 8s 5ms/step - loss: 0.6570 - acc: 0.7068 - val_loss: 0.6537 - val_acc: 0.6962\n",
      "Epoch 25/30\n",
      "1402/1402 [==============================] - 8s 5ms/step - loss: 0.6547 - acc: 0.7025 - val_loss: 0.7175 - val_acc: 0.5800\n",
      "Epoch 26/30\n",
      "1402/1402 [==============================] - 8s 5ms/step - loss: 0.6538 - acc: 0.7016 - val_loss: 0.7021 - val_acc: 0.6289\n",
      "Epoch 27/30\n",
      "1402/1402 [==============================] - 8s 5ms/step - loss: 0.6535 - acc: 0.7109 - val_loss: 0.6358 - val_acc: 0.7563\n",
      "Epoch 28/30\n",
      "1402/1402 [==============================] - 8s 5ms/step - loss: 0.6524 - acc: 0.7089 - val_loss: 0.6339 - val_acc: 0.7420\n",
      "Epoch 29/30\n",
      "1402/1402 [==============================] - 8s 5ms/step - loss: 0.6543 - acc: 0.7091 - val_loss: 0.6252 - val_acc: 0.7462\n",
      "Epoch 30/30\n",
      "1402/1402 [==============================] - 8s 5ms/step - loss: 0.6528 - acc: 0.6999 - val_loss: 0.5818 - val_acc: 0.8096\n"
     ]
    },
    {
     "data": {
      "text/plain": [
       "<tensorflow.python.keras.callbacks.History at 0x7fcef07d9b50>"
      ]
     },
     "execution_count": 29,
     "metadata": {},
     "output_type": "execute_result"
    }
   ],
   "source": [
    "print('Model summary:')\n",
    "\n",
    "# build architecture\n",
    "pfn = PFN(input_dim=X.shape[-1], Phi_sizes=Phi_sizes, F_sizes=F_sizes)\n",
    "\n",
    "# now train the model\n",
    "# now train the model\n",
    "pfn.fit(X_train, Y_train,\n",
    "        epochs=num_epoch,\n",
    "        batch_size=batch_size,\n",
    "        validation_data=(X_val, Y_val),\n",
    "        class_weight=class_weight,\n",
    "        verbose=1)"
   ]
  },
  {
   "cell_type": "code",
   "execution_count": 27,
   "id": "289009d3",
   "metadata": {},
   "outputs": [
    {
     "name": "stdout",
     "output_type": "stream",
     "text": [
      "\n",
      "PFN AUC: 0.5\n",
      "\n"
     ]
    }
   ],
   "source": [
    "# get predictions on test data\n",
    "preds = pfn.predict(X_test, batch_size=1000)\n",
    "\n",
    "# get ROC curve\n",
    "pfn_fp, pfn_tp, threshs = roc_curve(Y_test[:,1], preds[:,1])\n",
    "\n",
    "# get area under the ROC curve\n",
    "auc = roc_auc_score(Y_test[:,1], preds[:,1])\n",
    "print()\n",
    "print('PFN AUC:', auc)\n",
    "print()"
   ]
  },
  {
   "cell_type": "markdown",
   "id": "b24bd4a7",
   "metadata": {},
   "source": [
    "# Model 3"
   ]
  },
  {
   "cell_type": "code",
   "execution_count": null,
   "id": "66b5d4c2",
   "metadata": {
    "scrolled": true
   },
   "outputs": [],
   "source": [
    "# configs\n",
    "Phi_sizes, F_sizes = (128, 128, 128), (128, 128, 128)\n",
    "num_epoch = 50\n",
    "batch_size = 2000\n",
    "\n",
    "print('Model summary:')\n",
    "\n",
    "# build architecture\n",
    "pfn = PFN(input_dim=X.shape[-1], Phi_sizes=Phi_sizes, F_sizes=F_sizes)\n",
    "\n",
    "# now train the model\n",
    "pfn.fit(X_train, Y_train,\n",
    "        epochs=num_epoch,\n",
    "        batch_size=batch_size,\n",
    "        validation_data=(X_val, Y_val),\n",
    "        verbose=1)\n",
    "\n",
    "# get predictions on test data\n",
    "preds = pfn.predict(X_test, batch_size=1000)\n",
    "\n",
    "# get ROC curve\n",
    "pfn_fp, pfn_tp, threshs = roc_curve(Y_test[:,1], preds[:,1])\n",
    "\n",
    "# get area under the ROC curve\n",
    "auc = roc_auc_score(Y_test[:,1], preds[:,1])\n",
    "print()\n",
    "print('PFN AUC:', auc)\n",
    "print()"
   ]
  },
  {
   "cell_type": "code",
   "execution_count": null,
   "id": "9a8ce0be",
   "metadata": {},
   "outputs": [],
   "source": [
    "# get predictions on test data\n",
    "preds = pfn.predict(X_test, batch_size=1000)\n",
    "\n",
    "# get ROC curve\n",
    "pfn_fp, pfn_tp, threshs = roc_curve(Y_test[:,1], preds[:,1])\n",
    "\n",
    "# get area under the ROC curve\n",
    "auc = roc_auc_score(Y_test[:,1], preds[:,1])\n",
    "print()\n",
    "print('PFN AUC:', auc)\n",
    "print()"
   ]
  },
  {
   "cell_type": "markdown",
   "id": "695397c2",
   "metadata": {},
   "source": [
    "# Model 4"
   ]
  },
  {
   "cell_type": "code",
   "execution_count": null,
   "id": "44c58353",
   "metadata": {},
   "outputs": [],
   "source": [
    "# configs\n",
    "Phi_sizes, F_sizes = (256, 256, 256), (256, 256, 256)\n",
    "num_epoch = 40\n",
    "batch_size = 1024\n",
    "\n",
    "print('Model summary:')\n",
    "\n",
    "# build architecture\n",
    "pfn = PFN(input_dim=X.shape[-1], Phi_sizes=Phi_sizes, F_sizes=F_sizes)\n",
    "\n",
    "# now train the model\n",
    "pfn.fit(X_train, Y_train,\n",
    "        epochs=num_epoch,\n",
    "        batch_size=batch_size,\n",
    "        validation_data=(X_val, Y_val),\n",
    "        verbose=1)\n",
    "\n",
    "# get predictions on test data\n",
    "preds = pfn.predict(X_test, batch_size=1000)\n",
    "\n",
    "# get ROC curve\n",
    "pfn_fp, pfn_tp, threshs = roc_curve(Y_test[:,1], preds[:,1])\n",
    "\n",
    "# get area under the ROC curve\n",
    "auc = roc_auc_score(Y_test[:,1], preds[:,1])\n",
    "print()\n",
    "print('PFN AUC:', auc)\n",
    "print()"
   ]
  },
  {
   "cell_type": "markdown",
   "id": "d7c011d0",
   "metadata": {},
   "source": [
    "# Model 5"
   ]
  },
  {
   "cell_type": "code",
   "execution_count": null,
   "id": "545af9c5",
   "metadata": {},
   "outputs": [],
   "source": [
    "# configs\n",
    "Phi_sizes, F_sizes = (256, 256, 256), (256, 256, 256)\n",
    "num_epoch = 50\n",
    "batch_size = 1024\n",
    "\n",
    "print('Model summary:')\n",
    "\n",
    "# build architecture\n",
    "pfn = PFN(input_dim=X.shape[-1], Phi_sizes=Phi_sizes, F_sizes=F_sizes)\n",
    "\n",
    "# now train the model\n",
    "pfn.fit(X_train, Y_train,\n",
    "        epochs=num_epoch,\n",
    "        batch_size=batch_size,\n",
    "        validation_data=(X_val, Y_val),\n",
    "        verbose=1)\n",
    "\n",
    "# get predictions on test data\n",
    "preds = pfn.predict(X_test, batch_size=1000)\n",
    "\n",
    "# get ROC curve\n",
    "pfn_fp, pfn_tp, threshs = roc_curve(Y_test[:,1], preds[:,1])\n",
    "\n",
    "# get area under the ROC curve\n",
    "auc = roc_auc_score(Y_test[:,1], preds[:,1])\n",
    "print()\n",
    "print('PFN AUC:', auc)\n",
    "print()"
   ]
  },
  {
   "cell_type": "markdown",
   "id": "561e3dd0",
   "metadata": {},
   "source": [
    "# Model 6"
   ]
  },
  {
   "cell_type": "code",
   "execution_count": null,
   "id": "6f49caed",
   "metadata": {},
   "outputs": [],
   "source": [
    "# configs\n",
    "Phi_sizes, F_sizes = (100, 100, 256), (100, 100, 100)\n",
    "num_epoch = 20\n",
    "batch_size = 512\n",
    "\n",
    "print('Model summary:')\n",
    "\n",
    "# build architecture\n",
    "pfn = PFN(input_dim=X.shape[-1], Phi_sizes=Phi_sizes, F_sizes=F_sizes)\n",
    "\n",
    "# now train the model\n",
    "pfn.fit(X_train, Y_train,\n",
    "        epochs=num_epoch,\n",
    "        batch_size=batch_size,\n",
    "        validation_data=(X_val, Y_val),\n",
    "        verbose=1)\n",
    "\n",
    "# get predictions on test data\n",
    "preds = pfn.predict(X_test, batch_size=1000)\n",
    "\n",
    "# get ROC curve\n",
    "pfn_fp, pfn_tp, threshs = roc_curve(Y_test[:,1], preds[:,1])\n",
    "\n",
    "# get area under the ROC curve\n",
    "auc = roc_auc_score(Y_test[:,1], preds[:,1])\n",
    "print()\n",
    "print('PFN AUC:', auc)\n",
    "print()"
   ]
  },
  {
   "cell_type": "markdown",
   "id": "c78e6988",
   "metadata": {},
   "source": [
    "# Model 7"
   ]
  },
  {
   "cell_type": "code",
   "execution_count": null,
   "id": "ba89f435",
   "metadata": {},
   "outputs": [],
   "source": [
    "# configs\n",
    "Phi_sizes, F_sizes = (256, 256, 512), (256, 256, 512)\n",
    "num_epoch = 40\n",
    "batch_size = 2048\n",
    "\n",
    "print('Model summary:')\n",
    "\n",
    "# build architecture\n",
    "pfn = PFN(input_dim=X.shape[-1], Phi_sizes=Phi_sizes, F_sizes=F_sizes)\n",
    "\n",
    "# now train the model\n",
    "pfn.fit(X_train, Y_train,\n",
    "        epochs=num_epoch,\n",
    "        batch_size=batch_size,\n",
    "        validation_data=(X_val, Y_val),\n",
    "        verbose=1)\n",
    "\n",
    "# get predictions on test data\n",
    "preds = pfn.predict(X_test, batch_size=1000)\n",
    "\n",
    "# get ROC curve\n",
    "pfn_fp, pfn_tp, threshs = roc_curve(Y_test[:,1], preds[:,1])\n",
    "\n",
    "# get area under the ROC curve\n",
    "auc = roc_auc_score(Y_test[:,1], preds[:,1])\n",
    "print()\n",
    "print('PFN AUC:', auc)\n",
    "print()"
   ]
  },
  {
   "cell_type": "code",
   "execution_count": null,
   "id": "200bf30c",
   "metadata": {},
   "outputs": [],
   "source": []
  }
 ],
 "metadata": {
  "kernelspec": {
   "display_name": "Python 3",
   "language": "python",
   "name": "python3"
  },
  "language_info": {
   "codemirror_mode": {
    "name": "ipython",
    "version": 3
   },
   "file_extension": ".py",
   "mimetype": "text/x-python",
   "name": "python",
   "nbconvert_exporter": "python",
   "pygments_lexer": "ipython3",
   "version": "3.8.8"
  }
 },
 "nbformat": 4,
 "nbformat_minor": 5
}
