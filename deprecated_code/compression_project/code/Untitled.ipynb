{
 "cells": [
  {
   "cell_type": "code",
   "execution_count": 11,
   "metadata": {},
   "outputs": [],
   "source": [
    "import tensorflow as tf\n",
    "\n",
    "gpus = tf.config.experimental.list_physical_devices('GPU')\n",
    "if gpus:\n",
    "  try:\n",
    "    # Currently, memory growth needs to be the same across GPUs\n",
    "    for gpu in gpus:\n",
    "      tf.config.experimental.set_memory_growth(gpu, True)\n",
    "    logical_gpus = tf.config.experimental.list_logical_devices('GPU')\n",
    "    print(len(gpus), \"Physical GPUs,\", len(logical_gpus), \"Logical GPUs\")\n",
    "  except RuntimeError as e:\n",
    "    # Memory growth must be set before GPUs have been initialized\n",
    "    print(e)\n",
    "\n",
    "import tensorflow.keras as keras\n",
    "import tensorflow.keras.backend as K\n",
    "\n",
    "import os\n",
    "import os.path as osp\n",
    "import sys\n",
    "sys.path.append(\"/home/jack/projects/EMD_VAE\")\n",
    "\n",
    "import numpy as np\n",
    "#from scipy import linalg as LA\n",
    "\n",
    "import matplotlib\n",
    "import matplotlib.pyplot as plt\n",
    "\n",
    "# %load_ext autoreload\n",
    "# %autoreload 2\n",
    "\n",
    "from utils.tf_sinkhorn import ground_distance_tf_nograd, sinkhorn_knopp_tf_scaling_stabilized_class\n",
    "import utils.VAE_model_tools\n",
    "from utils.VAE_model_tools import build_and_compile_annealing_vae, betaVAEModel, reset_metrics\n",
    "\n",
    "import pandas\n",
    "import matplotlib.pyplot as plt\n",
    "\n",
    "import h5py\n",
    "import pickle\n",
    "\n",
    "\n",
    "import fastjet as fj\n",
    "import Nsubjettiness as Nsub\n",
    "import numpy as np\n",
    "import pandas as pd"
   ]
  },
  {
   "cell_type": "code",
   "execution_count": 4,
   "metadata": {},
   "outputs": [],
   "source": [
    "this = np.loadtxt('/home/jack/projects/EMD_VAE/compression_project/data/B_background_1.dat',skiprows=1)"
   ]
  },
  {
   "cell_type": "code",
   "execution_count": 5,
   "metadata": {},
   "outputs": [
    {
     "data": {
      "text/plain": [
       "(18606151, 6)"
      ]
     },
     "execution_count": 5,
     "metadata": {},
     "output_type": "execute_result"
    }
   ],
   "source": [
    "this.shape"
   ]
  },
  {
   "cell_type": "code",
   "execution_count": 6,
   "metadata": {},
   "outputs": [],
   "source": [
    "this = this[np.abs(this[:,3])<5]"
   ]
  },
  {
   "cell_type": "code",
   "execution_count": 8,
   "metadata": {},
   "outputs": [],
   "source": [
    "events = [this[this[:,0]==i] for i in range(1000)]"
   ]
  },
  {
   "cell_type": "code",
   "execution_count": 9,
   "metadata": {},
   "outputs": [],
   "source": [
    "sortedpts = []\n",
    "htfrac100 = []\n",
    "htfrac50 = []\n",
    "for event in events:\n",
    "    pts = np.flip(np.sort(event[:,2]))\n",
    "    ht = np.sum(pts)\n",
    "    htfrac50 += [np.sum(pts[:50])/ht]\n",
    "    htfrac100 += [np.sum(pts[:100])/ht]"
   ]
  },
  {
   "cell_type": "code",
   "execution_count": 10,
   "metadata": {},
   "outputs": [
    {
     "data": {
      "image/png": "[encoded data removed]",
      "text/plain": [
       "<Figure size 432x288 with 1 Axes>"
      ]
     },
     "metadata": {
      "needs_background": "light"
     },
     "output_type": "display_data"
    }
   ],
   "source": [
    "plt.hist(htfrac100,alpha=0.5)\n",
    "plt.hist(htfrac50,alpha=0.5)\n",
    "plt.show()"
   ]
  },
  {
   "cell_type": "code",
   "execution_count": 111,
   "metadata": {},
   "outputs": [],
   "source": [
    "clustered_events = []\n",
    "frac100 = []\n",
    "frac50 = []\n",
    "mjj_0 = []\n",
    "mj_0 = []\n",
    "mjj_500 = []\n",
    "mj_500 = []\n",
    "mjj_1000 = []\n",
    "mj_1000 = []\n",
    "\n",
    "jet_def_big = fj.JetDefinition(fj.antikt_algorithm, 1.0)\n",
    "jet_def_small = fj.JetDefinition(fj.antikt_algorithm, 0.2)\n",
    "\n",
    "for event in events:\n",
    "    \n",
    "    particles = []\n",
    "\n",
    "    for particle in event:\n",
    "        particles += [fj.PtYPhiM(particle[2],particle[3],particle[4],0)]\n",
    "\n",
    "    sequence_small = fj.ClusterSequence(particles,jet_def_small)\n",
    "    jets = fj.sorted_by_pt(sequence_small.inclusive_jets(ptmin=0.0))\n",
    "    sequence_big = fj.ClusterSequence(jets,jet_def_big)\n",
    "    bigjets = fj.sorted_by_pt(sequence_big.inclusive_jets(ptmin=0.0))\n",
    "    mjj_0 += [(bigjets[0]+bigjets[1]).m()]\n",
    "    mj_0 += [bigjets[0].m()]\n",
    "    mj_0 += [bigjets[1].m()]\n",
    "    \n",
    "    sequence_small = fj.ClusterSequence(particles,jet_def_small)\n",
    "    jets = fj.sorted_by_pt(sequence_small.inclusive_jets(ptmin=0.0))[:100]\n",
    "    sequence_big = fj.ClusterSequence(jets,jet_def_big)\n",
    "    bigjets = fj.sorted_by_pt(sequence_big.inclusive_jets(ptmin=0.0))\n",
    "    mjj_500 += [(bigjets[0]+bigjets[1]).m()]\n",
    "    mj_500 += [bigjets[0].m()]\n",
    "    mj_500 += [bigjets[1].m()]\n",
    "    \n",
    "    sequence_small = fj.ClusterSequence(particles,jet_def_small)\n",
    "    jets = fj.sorted_by_pt(sequence_small.inclusive_jets(ptmin=0.0))[:50]\n",
    "    sequence_big = fj.ClusterSequence(jets,jet_def_big)\n",
    "    bigjets = fj.sorted_by_pt(sequence_big.inclusive_jets(ptmin=0.0))\n",
    "    if len(bigjets) < 2:\n",
    "        continue\n",
    "    mjj_1000 += [(bigjets[0]+bigjets[1]).m()]\n",
    "    mj_1000 += [bigjets[0].m()]\n",
    "    mj_1000 += [bigjets[1].m()]"
   ]
  },
  {
   "cell_type": "code",
   "execution_count": 115,
   "metadata": {},
   "outputs": [
    {
     "data": {
      "image/png": "[encoded data removed]",
      "text/plain": [
       "<Figure size 432x288 with 1 Axes>"
      ]
     },
     "metadata": {
      "needs_background": "light"
     },
     "output_type": "display_data"
    }
   ],
   "source": [
    "plt.hist(mj_0,alpha=0.5,bins=np.logspace(0,2,20))\n",
    "plt.hist(mj_500,alpha=0.5,bins=np.logspace(0,2,20))\n",
    "plt.hist(mj_1000,alpha=0.5,bins=np.logspace(0,2,20))\n",
    "plt.semilogx()\n",
    "plt.xlabel(\"mj  (GeV)\")\n",
    "plt.show()"
   ]
  },
  {
   "cell_type": "code",
   "execution_count": 116,
   "metadata": {},
   "outputs": [
    {
     "data": {
      "image/png": "[encoded data removed]",
      "text/plain": [
       "<Figure size 432x288 with 1 Axes>"
      ]
     },
     "metadata": {
      "needs_background": "light"
     },
     "output_type": "display_data"
    }
   ],
   "source": [
    "plt.hist(mjj_0,alpha=0.5,bins=np.logspace(0,3,20))\n",
    "plt.hist(mjj_500,alpha=0.5,bins=np.logspace(0,3,20))\n",
    "plt.hist(mjj_1000,alpha=0.5,bins=np.logspace(0,3,20))\n",
    "plt.semilogx()\n",
    "plt.xlabel(\"mjj  (GeV)\")\n",
    "plt.show()"
   ]
  },
  {
   "cell_type": "code",
   "execution_count": 81,
   "metadata": {},
   "outputs": [
    {
     "data": {
      "image/png": "[encoded data removed]",
      "text/plain": [
       "<Figure size 432x288 with 1 Axes>"
      ]
     },
     "metadata": {
      "needs_background": "light"
     },
     "output_type": "display_data"
    }
   ],
   "source": [
    "plt.hist(numparticles,bins=np.linspace(0,600,20))\n",
    "plt.show()"
   ]
  },
  {
   "cell_type": "code",
   "execution_count": 72,
   "metadata": {},
   "outputs": [
    {
     "data": {
      "image/png": "[encoded data removed]",
      "text/plain": [
       "<Figure size 432x288 with 1 Axes>"
      ]
     },
     "metadata": {
      "needs_background": "light"
     },
     "output_type": "display_data"
    }
   ],
   "source": [
    "plt.hist(numparticles,bins=np.linspace(0,600,20))\n",
    "plt.show()"
   ]
  },
  {
   "cell_type": "code",
   "execution_count": 50,
   "metadata": {},
   "outputs": [
    {
     "data": {
      "image/png": "[encoded data removed]",
      "text/plain": [
       "<Figure size 432x288 with 1 Axes>"
      ]
     },
     "metadata": {
      "needs_background": "light"
     },
     "output_type": "display_data"
    }
   ],
   "source": [
    "plt.hist(numparticles,bins=np.linspace(0,600,20))\n",
    "plt.show()"
   ]
  },
  {
   "cell_type": "code",
   "execution_count": 53,
   "metadata": {},
   "outputs": [
    {
     "data": {
      "image/png": "[encoded data removed]",
      "text/plain": [
       "<Figure size 432x288 with 1 Axes>"
      ]
     },
     "metadata": {
      "needs_background": "light"
     },
     "output_type": "display_data"
    }
   ],
   "source": [
    "plt.hist(numparticles,bins=np.linspace(0,600,20))\n",
    "plt.show()"
   ]
  },
  {
   "cell_type": "code",
   "execution_count": 66,
   "metadata": {},
   "outputs": [
    {
     "data": {
      "image/png": "[encoded data removed]",
      "text/plain": [
       "<Figure size 432x288 with 1 Axes>"
      ]
     },
     "metadata": {
      "needs_background": "light"
     },
     "output_type": "display_data"
    }
   ],
   "source": [
    "plt.hist(numparticles,bins=np.linspace(0,600,50))\n",
    "plt.xlim\n",
    "plt.show()"
   ]
  },
  {
   "cell_type": "code",
   "execution_count": null,
   "metadata": {},
   "outputs": [],
   "source": []
  }
 ],
 "metadata": {
  "kernelspec": {
   "display_name": "Python 3",
   "language": "python",
   "name": "python3"
  },
  "language_info": {
   "codemirror_mode": {
    "name": "ipython",
    "version": 3
   },
   "file_extension": ".py",
   "mimetype": "text/x-python",
   "name": "python",
   "nbconvert_exporter": "python",
   "pygments_lexer": "ipython3",
   "version": "3.8.5"
  }
 },
 "nbformat": 4,
 "nbformat_minor": 4
}
