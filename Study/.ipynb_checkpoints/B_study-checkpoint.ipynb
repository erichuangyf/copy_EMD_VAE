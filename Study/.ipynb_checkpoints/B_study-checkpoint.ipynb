{
 "cells": [
  {
   "cell_type": "code",
   "execution_count": 1,
   "id": "6c71b4cc",
   "metadata": {
    "scrolled": true
   },
   "outputs": [
    {
     "name": "stdout",
     "output_type": "stream",
     "text": [
      "/global/home/users/yifengh3/VAE/B_results/method2_beta2\n"
     ]
    }
   ],
   "source": [
    "%cd /global/home/users/yifengh3/VAE/B_results/method2_beta2"
   ]
  },
  {
   "cell_type": "code",
   "execution_count": 2,
   "id": "5a477bfa",
   "metadata": {},
   "outputs": [
    {
     "name": "stdout",
     "output_type": "stream",
     "text": [
      "\u001b[0m\u001b[38;5;27mcheckpoint\u001b[0m/           log.csv  vae_args.dat\r\n",
      "\u001b[38;5;27mend_beta_checkpoint\u001b[0m/  \u001b[38;5;27mplots\u001b[0m/   \u001b[38;5;27mweight_summary\u001b[0m/\r\n"
     ]
    }
   ],
   "source": [
    "%ls"
   ]
  },
  {
   "cell_type": "code",
   "execution_count": 3,
   "id": "e1954f21",
   "metadata": {},
   "outputs": [
    {
     "name": "stdout",
     "output_type": "stream",
     "text": [
      "mkdir: cannot create directory ‘plots’: File exists\r\n"
     ]
    }
   ],
   "source": [
    "%mkdir plots"
   ]
  },
  {
   "cell_type": "code",
   "execution_count": null,
   "id": "056d589d",
   "metadata": {
    "scrolled": false
   },
   "outputs": [
    {
     "name": "stdout",
     "output_type": "stream",
     "text": [
      "Namespace(img_prefix='./plots/', model_dir='.', utils=None)\n",
      "Saving files with prefix ./plots/\n",
      "1 Physical GPUs, 1 Logical GPUs\n",
      "Arguments count: 4\n",
      "Argument      0: /global/home/users/yifengh3/VAE/EMD_VAE/Study_B.py\n",
      "Argument      1: .\n",
      "Argument      2: --img_prefix\n",
      "Argument      3: ./plots/\n",
      "WARNING:tensorflow:Collective ops is not configured at program startup. Some performance features may not be enabled.\n",
      "INFO:tensorflow:Using MirroredStrategy with devices ('/device:GPU:0',)\n",
      "INFO:tensorflow:Single-worker MultiWorkerMirroredStrategy with local_devices = ('/device:GPU:0',), communication = CommunicationImplementation.AUTO\n",
      "(1000000, 150)\n",
      "Memory in GB: 2.250075340270996\n",
      "\n",
      "\n",
      " vae_arg_dict: {'encoder_conv_layers': [1024, 1024, 1024, 1024], 'dense_size': [1024, 1024, 1024, 1024], 'decoder_sizes': [1024, 1024, 1024, 1024, 1024], 'numItermaxinner': 20, 'numIter': 10, 'reg_init': 1.0, 'reg_final': 0.01, 'stopThr': 0.001, 'num_inputs': 4, 'num_particles_in': 50}\n",
      "WARNING:tensorflow:From /global/home/users/yifengh3/anaconda3/envs/tf2/lib/python3.8/site-packages/tensorflow/python/ops/linalg/linear_operator_diag.py:167: calling LinearOperator.__init__ (from tensorflow.python.ops.linalg.linear_operator) with graph_parents is deprecated and will be removed in a future version.\n",
      "Instructions for updating:\n",
      "Do not pass `graph_parents`.  They will  no longer be used.\n",
      "Model: \"VAE\"\n",
      "__________________________________________________________________________________________________\n",
      "Layer (type)                    Output Shape         Param #     Connected to                     \n",
      "==================================================================================================\n",
      "inputs (InputLayer)             [(None, 50, 4)]      0                                            \n",
      "__________________________________________________________________________________________________\n",
      "conv1d (Conv1D)                 (None, 50, 1024)     5120        inputs[0][0]                     \n",
      "__________________________________________________________________________________________________\n",
      "leaky_re_lu (LeakyReLU)         (None, 50, 1024)     0           conv1d[0][0]                     \n",
      "__________________________________________________________________________________________________\n",
      "conv1d_1 (Conv1D)               (None, 50, 1024)     1049600     leaky_re_lu[0][0]                \n",
      "__________________________________________________________________________________________________\n",
      "leaky_re_lu_1 (LeakyReLU)       (None, 50, 1024)     0           conv1d_1[0][0]                   \n",
      "__________________________________________________________________________________________________\n",
      "conv1d_2 (Conv1D)               (None, 50, 1024)     1049600     leaky_re_lu_1[0][0]              \n",
      "__________________________________________________________________________________________________\n",
      "leaky_re_lu_2 (LeakyReLU)       (None, 50, 1024)     0           conv1d_2[0][0]                   \n",
      "__________________________________________________________________________________________________\n",
      "conv1d_3 (Conv1D)               (None, 50, 1024)     1049600     leaky_re_lu_2[0][0]              \n",
      "__________________________________________________________________________________________________\n",
      "leaky_re_lu_3 (LeakyReLU)       (None, 50, 1024)     0           conv1d_3[0][0]                   \n",
      "__________________________________________________________________________________________________\n",
      "tf.math.reduce_sum (TFOpLambda) (None, 1024)         0           leaky_re_lu_3[0][0]              \n",
      "__________________________________________________________________________________________________\n",
      "dense (Dense)                   (None, 1024)         1049600     tf.math.reduce_sum[0][0]         \n",
      "__________________________________________________________________________________________________\n",
      "leaky_re_lu_4 (LeakyReLU)       (None, 1024)         0           dense[0][0]                      \n",
      "__________________________________________________________________________________________________\n",
      "dense_1 (Dense)                 (None, 1024)         1049600     leaky_re_lu_4[0][0]              \n",
      "__________________________________________________________________________________________________\n",
      "leaky_re_lu_5 (LeakyReLU)       (None, 1024)         0           dense_1[0][0]                    \n",
      "__________________________________________________________________________________________________\n",
      "dense_2 (Dense)                 (None, 1024)         1049600     leaky_re_lu_5[0][0]              \n",
      "__________________________________________________________________________________________________\n",
      "leaky_re_lu_6 (LeakyReLU)       (None, 1024)         0           dense_2[0][0]                    \n",
      "__________________________________________________________________________________________________\n",
      "dense_3 (Dense)                 (None, 1024)         1049600     leaky_re_lu_6[0][0]              \n",
      "__________________________________________________________________________________________________\n",
      "leaky_re_lu_7 (LeakyReLU)       (None, 1024)         0           dense_3[0][0]                    \n",
      "__________________________________________________________________________________________________\n",
      "z_mean (Dense)                  (None, 128)          131200      leaky_re_lu_7[0][0]              \n",
      "__________________________________________________________________________________________________\n",
      "z_log_var (Dense)               (None, 128)          131200      leaky_re_lu_7[0][0]              \n",
      "__________________________________________________________________________________________________\n",
      "encoder (Functional)            multiple             7614720     inputs[0][0]                     \n",
      "__________________________________________________________________________________________________\n",
      "tf.stack (TFOpLambda)           (2, None, 128)       0           z_mean[0][0]                     \n",
      "                                                                 z_log_var[0][0]                  \n",
      "__________________________________________________________________________________________________\n",
      "decoder (Functional)            (None, 50, 3)        4535496     encoder[0][2]                    \n",
      "__________________________________________________________________________________________________\n",
      "encoder_gauss_distribution (Dis multiple             0           tf.stack[0][0]                   \n",
      "==================================================================================================\n",
      "Total params: 12,150,217\n",
      "Trainable params: 12,150,216\n",
      "Non-trainable params: 1\n",
      "__________________________________________________________________________________________________\n",
      "Preparing to load weights\n",
      "Found files: ['./end_beta_checkpoint/model_weights_end_223_1.0e-05.hdf5', './end_beta_checkpoint/model_weights_end_321_1.8e-05.hdf5', './end_beta_checkpoint/model_weights_end_437_3.2e-05.hdf5', './end_beta_checkpoint/model_weights_end_553_5.6e-05.hdf5', './end_beta_checkpoint/model_weights_end_745_1.0e-04.hdf5', './end_beta_checkpoint/model_weights_end_767_1.8e-04.hdf5', './end_beta_checkpoint/model_weights_end_867_3.2e-04.hdf5', './end_beta_checkpoint/model_weights_end_941_5.6e-04.hdf5', './end_beta_checkpoint/model_weights_end_998_1.0e-03.hdf5', './end_beta_checkpoint/model_weights_end_1088_1.8e-03.hdf5', './end_beta_checkpoint/model_weights_end_1161_3.2e-03.hdf5', './end_beta_checkpoint/model_weights_end_1225_5.6e-03.hdf5', './end_beta_checkpoint/model_weights_end_1304_1.0e-02.hdf5', './end_beta_checkpoint/model_weights_end_1363_1.8e-02.hdf5', './end_beta_checkpoint/model_weights_end_1414_3.2e-02.hdf5', './end_beta_checkpoint/model_weights_end_1446_5.6e-02.hdf5', './end_beta_checkpoint/model_weights_end_1474_1.0e-01.hdf5', './end_beta_checkpoint/model_weights_end_1489_1.8e-01.hdf5', './end_beta_checkpoint/model_weights_end_1525_3.2e-01.hdf5', './end_beta_checkpoint/model_weights_end_1546_5.6e-01.hdf5', './end_beta_checkpoint/model_weights_end_1694_1.0e-02.hdf5', './end_beta_checkpoint/model_weights_end_1733_1.8e-02.hdf5', './end_beta_checkpoint/model_weights_end_1764_3.2e-02.hdf5', './end_beta_checkpoint/model_weights_end_1788_5.6e-02.hdf5', './end_beta_checkpoint/model_weights_end_1812_1.0e-01.hdf5', './end_beta_checkpoint/model_weights_end_1834_1.8e-01.hdf5', './end_beta_checkpoint/model_weights_end_1855_3.2e-01.hdf5', './end_beta_checkpoint/model_weights_end_1975_3.2e-03.hdf5', './end_beta_checkpoint/model_weights_end_2033_5.6e-03.hdf5', './end_beta_checkpoint/model_weights_end_2100_1.0e-02.hdf5', './end_beta_checkpoint/model_weights_end_2143_1.8e-02.hdf5', './end_beta_checkpoint/model_weights_end_2179_3.2e-02.hdf5', './end_beta_checkpoint/model_weights_end_2202_5.6e-02.hdf5', './end_beta_checkpoint/model_weights_end_2217_1.0e-01.hdf5', './end_beta_checkpoint/model_weights_end_2342_1.0e-03.hdf5', './end_beta_checkpoint/model_weights_end_2413_1.8e-03.hdf5', './end_beta_checkpoint/model_weights_end_2502_3.2e-03.hdf5', './end_beta_checkpoint/model_weights_end_2516_5.6e-03.hdf5', './end_beta_checkpoint/model_weights_end_2593_1.0e-02.hdf5', './end_beta_checkpoint/model_weights_end_2632_1.8e-02.hdf5', './end_beta_checkpoint/model_weights_end_2683_3.2e-02.hdf5', './end_beta_checkpoint/model_weights_end_2788_3.2e-04.hdf5', './end_beta_checkpoint/model_weights_end_2861_5.6e-04.hdf5', './end_beta_checkpoint/model_weights_end_2917_1.0e-03.hdf5', './end_beta_checkpoint/model_weights_end_2983_1.8e-03.hdf5', './end_beta_checkpoint/model_weights_end_3037_3.2e-03.hdf5', './end_beta_checkpoint/model_weights_end_3075_5.6e-03.hdf5', './end_beta_checkpoint/model_weights_end_3110_1.0e-02.hdf5', './end_beta_checkpoint/model_weights_end_3215_1.0e-04.hdf5', './end_beta_checkpoint/model_weights_end_3314_1.8e-04.hdf5', './end_beta_checkpoint/model_weights_end_3367_3.2e-04.hdf5', './end_beta_checkpoint/model_weights_end_3420_5.6e-04.hdf5', './end_beta_checkpoint/model_weights_end_3507_1.0e-03.hdf5', './end_beta_checkpoint/model_weights_end_3559_1.8e-03.hdf5', './end_beta_checkpoint/model_weights_end_3569_3.2e-03.hdf5', './end_beta_checkpoint/model_weights_end_3650_3.2e-05.hdf5', './end_beta_checkpoint/model_weights_end_3720_5.6e-05.hdf5', './end_beta_checkpoint/model_weights_end_3730_1.0e-04.hdf5', './end_beta_checkpoint/model_weights_end_3809_1.8e-04.hdf5', './end_beta_checkpoint/model_weights_end_3879_3.2e-04.hdf5', './end_beta_checkpoint/model_weights_end_3998_5.6e-04.hdf5', './end_beta_checkpoint/model_weights_end_4062_1.0e-03.hdf5', './end_beta_checkpoint/model_weights_end_4139_1.0e-05.hdf5', './end_beta_checkpoint/model_weights_end_4187_1.8e-05.hdf5', './end_beta_checkpoint/model_weights_end_4234_3.2e-05.hdf5', './end_beta_checkpoint/model_weights_end_4282_5.6e-05.hdf5', './end_beta_checkpoint/model_weights_end_4335_1.0e-04.hdf5', './end_beta_checkpoint/model_weights_end_4413_1.8e-04.hdf5', './end_beta_checkpoint/model_weights_end_4482_3.2e-04.hdf5', './end_beta_checkpoint/model_weights_end_4578_1.0e-05.hdf5', './end_beta_checkpoint/model_weights_end_4669_1.8e-05.hdf5', './end_beta_checkpoint/model_weights_end_4744_3.2e-05.hdf5', './end_beta_checkpoint/model_weights_end_4821_5.6e-05.hdf5', './end_beta_checkpoint/model_weights_end_4924_1.0e-04.hdf5', './end_beta_checkpoint/model_weights_end_5025_1.0e-05.hdf5', './end_beta_checkpoint/model_weights_end_5042_1.8e-05.hdf5', './end_beta_checkpoint/model_weights_end_5130_3.2e-05.hdf5', './end_beta_checkpoint/model_weights_end_5188_5.6e-05.hdf5', './end_beta_checkpoint/model_weights_end_5243_1.0e-04.hdf5', './end_beta_checkpoint/model_weights_end_5312_1.8e-04.hdf5', './end_beta_checkpoint/model_weights_end_5389_3.2e-04.hdf5', './end_beta_checkpoint/model_weights_end_5453_5.6e-04.hdf5', './end_beta_checkpoint/model_weights_end_5504_1.0e-03.hdf5', './end_beta_checkpoint/model_weights_end_5561_1.8e-03.hdf5', './end_beta_checkpoint/model_weights_end_5571_3.2e-03.hdf5', './end_beta_checkpoint/model_weights_end_5622_5.6e-03.hdf5', './end_beta_checkpoint/model_weights_end_5671_1.0e-02.hdf5', './end_beta_checkpoint/model_weights_end_5704_1.8e-02.hdf5']\n"
     ]
    },
    {
     "name": "stdout",
     "output_type": "stream",
     "text": [
      "Loading file 1 of 88WARNING:tensorflow:AutoGraph could not transform <function build_and_compile_annealing_vae.<locals>.recon_loss at 0x7f96d0685d30> and will run it as-is.\n",
      "Please report this to the TensorFlow team. When filing the bug, set the verbosity to 10 (on Linux, `export AUTOGRAPH_VERBOSITY=10`) and attach the full output.\n",
      "Cause: module 'gast' has no attribute 'Index'\n",
      "To silence this warning, decorate the function with @tf.autograph.experimental.do_not_convert\n",
      "WARNING: AutoGraph could not transform <function build_and_compile_annealing_vae.<locals>.recon_loss at 0x7f96d0685d30> and will run it as-is.\n",
      "Please report this to the TensorFlow team. When filing the bug, set the verbosity to 10 (on Linux, `export AUTOGRAPH_VERBOSITY=10`) and attach the full output.\n",
      "Cause: module 'gast' has no attribute 'Index'\n",
      "To silence this warning, decorate the function with @tf.autograph.experimental.do_not_convert\n",
      "WARNING:tensorflow:AutoGraph could not transform <bound method sinkhorn_knopp_tf_scaling_stabilized_class.do_dense of <tensorflow.python.eager.function.TfMethodTarget object at 0x7f969c69e5b0>> and will run it as-is.\n",
      "Please report this to the TensorFlow team. When filing the bug, set the verbosity to 10 (on Linux, `export AUTOGRAPH_VERBOSITY=10`) and attach the full output.\n",
      "Cause: module 'gast' has no attribute 'Index'\n",
      "To silence this warning, decorate the function with @tf.autograph.experimental.do_not_convert\n",
      "WARNING: AutoGraph could not transform <bound method sinkhorn_knopp_tf_scaling_stabilized_class.do_dense of <tensorflow.python.eager.function.TfMethodTarget object at 0x7f969c69e5b0>> and will run it as-is.\n",
      "Please report this to the TensorFlow team. When filing the bug, set the verbosity to 10 (on Linux, `export AUTOGRAPH_VERBOSITY=10`) and attach the full output.\n",
      "Cause: module 'gast' has no attribute 'Index'\n",
      "To silence this warning, decorate the function with @tf.autograph.experimental.do_not_convert\n",
      "WARNING:tensorflow:AutoGraph could not transform <bound method sinkhorn_knopp_tf_stabilized_alt_class.do_dense of <tensorflow.python.eager.function.TfMethodTarget object at 0x7f969c5e83a0>> and will run it as-is.\n",
      "Please report this to the TensorFlow team. When filing the bug, set the verbosity to 10 (on Linux, `export AUTOGRAPH_VERBOSITY=10`) and attach the full output.\n",
      "Cause: module 'gast' has no attribute 'Index'\n",
      "To silence this warning, decorate the function with @tf.autograph.experimental.do_not_convert\n",
      "WARNING: AutoGraph could not transform <bound method sinkhorn_knopp_tf_stabilized_alt_class.do_dense of <tensorflow.python.eager.function.TfMethodTarget object at 0x7f969c5e83a0>> and will run it as-is.\n",
      "Please report this to the TensorFlow team. When filing the bug, set the verbosity to 10 (on Linux, `export AUTOGRAPH_VERBOSITY=10`) and attach the full output.\n",
      "Cause: module 'gast' has no attribute 'Index'\n",
      "To silence this warning, decorate the function with @tf.autograph.experimental.do_not_convert\n",
      "Loading file 23 of 88"
     ]
    }
   ],
   "source": [
    "%run /global/home/users/yifengh3/VAE/EMD_VAE/Study_B.py . --img_prefix ./plots/"
   ]
  },
  {
   "cell_type": "code",
   "execution_count": null,
   "id": "ea76854b",
   "metadata": {},
   "outputs": [],
   "source": [
    "# # release the memory :)\n",
    "# from numba import cuda \n",
    "# device = cuda.get_current_device()\n",
    "# device.reset()"
   ]
  }
 ],
 "metadata": {
  "kernelspec": {
   "display_name": "Python 3",
   "language": "python",
   "name": "python3"
  },
  "language_info": {
   "codemirror_mode": {
    "name": "ipython",
    "version": 3
   },
   "file_extension": ".py",
   "mimetype": "text/x-python",
   "name": "python",
   "nbconvert_exporter": "python",
   "pygments_lexer": "ipython3",
   "version": "3.8.8"
  }
 },
 "nbformat": 4,
 "nbformat_minor": 5
}
