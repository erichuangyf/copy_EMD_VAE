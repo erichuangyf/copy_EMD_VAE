{
 "cells": [
  {
   "cell_type": "code",
   "execution_count": 8,
   "id": "6c71b4cc",
   "metadata": {
    "scrolled": true
   },
   "outputs": [
    {
     "name": "stdout",
     "output_type": "stream",
     "text": [
      "/global/home/users/yifengh3/VAE/B_results/method2_beta2\n"
     ]
    }
   ],
   "source": [
    "%cd /global/home/users/yifengh3/VAE/B_results/method2_beta2"
   ]
  },
  {
   "cell_type": "code",
   "execution_count": 13,
   "id": "76a3f882",
   "metadata": {},
   "outputs": [
    {
     "name": "stdout",
     "output_type": "stream",
     "text": [
      "\u001b[0m\u001b[38;5;27mcheckpoint\u001b[0m/  \u001b[38;5;27mend_beta_checkpoint\u001b[0m/  log.csv  \u001b[38;5;27mplots\u001b[0m/  vae_args.dat\r\n"
     ]
    }
   ],
   "source": [
    "%ls"
   ]
  },
  {
   "cell_type": "code",
   "execution_count": 10,
   "id": "e58fe791",
   "metadata": {},
   "outputs": [],
   "source": [
    "%mkdir plots"
   ]
  },
  {
   "cell_type": "code",
   "execution_count": 14,
   "id": "056d589d",
   "metadata": {
    "scrolled": false
   },
   "outputs": [
    {
     "name": "stdout",
     "output_type": "stream",
     "text": [
      "Namespace(img_prefix='./plots/', model_dir='./end_beta_checkpoint', utils=None)\n",
      "Saving files with prefix ./plots/\n",
      "1 Physical GPUs, 0 Logical GPUs\n",
      "Arguments count: 4\n",
      "Argument      0: /global/home/users/yifengh3/VAE/EMD_VAE/Study_B.py\n",
      "Argument      1: ./end_beta_checkpoint\n",
      "Argument      2: --img_prefix\n",
      "Argument      3: ./plots/\n",
      "(1000000, 150)\n",
      "Memory in GB: 2.250075340270996\n"
     ]
    },
    {
     "ename": "FileNotFoundError",
     "evalue": "[Errno 2] No such file or directory: './end_beta_checkpoint/vae_args.dat'",
     "output_type": "error",
     "traceback": [
      "\u001b[0;31m---------------------------------------------------------------------------\u001b[0m",
      "\u001b[0;31mFileNotFoundError\u001b[0m                         Traceback (most recent call last)",
      "\u001b[0;32m~/VAE/EMD_VAE/Study_B.py\u001b[0m in \u001b[0;36m<module>\u001b[0;34m\u001b[0m\n\u001b[1;32m    303\u001b[0m \u001b[0mtrain_output_dir\u001b[0m \u001b[0;34m=\u001b[0m \u001b[0mmodel_dir\u001b[0m \u001b[0;31m#create_dir(osp.join(output_dir, experiment_name))\u001b[0m\u001b[0;34m\u001b[0m\u001b[0;34m\u001b[0m\u001b[0m\n\u001b[1;32m    304\u001b[0m \u001b[0;34m\u001b[0m\u001b[0m\n\u001b[0;32m--> 305\u001b[0;31m \u001b[0;32mwith\u001b[0m \u001b[0mopen\u001b[0m\u001b[0;34m(\u001b[0m\u001b[0mvae_args_file\u001b[0m\u001b[0;34m,\u001b[0m\u001b[0;34m'r'\u001b[0m\u001b[0;34m)\u001b[0m \u001b[0;32mas\u001b[0m \u001b[0mf\u001b[0m\u001b[0;34m:\u001b[0m\u001b[0;34m\u001b[0m\u001b[0;34m\u001b[0m\u001b[0m\n\u001b[0m\u001b[1;32m    306\u001b[0m   \u001b[0mvae_arg_dict\u001b[0m \u001b[0;34m=\u001b[0m \u001b[0mjson\u001b[0m\u001b[0;34m.\u001b[0m\u001b[0mloads\u001b[0m\u001b[0;34m(\u001b[0m\u001b[0mf\u001b[0m\u001b[0;34m.\u001b[0m\u001b[0mread\u001b[0m\u001b[0;34m(\u001b[0m\u001b[0;34m)\u001b[0m\u001b[0;34m)\u001b[0m\u001b[0;34m\u001b[0m\u001b[0;34m\u001b[0m\u001b[0m\n\u001b[1;32m    307\u001b[0m \u001b[0;34m\u001b[0m\u001b[0m\n",
      "\u001b[0;31mFileNotFoundError\u001b[0m: [Errno 2] No such file or directory: './end_beta_checkpoint/vae_args.dat'"
     ]
    }
   ],
   "source": [
    "%run /global/home/users/yifengh3/VAE/EMD_VAE/Study_B.py . --img_prefix ./plots/"
   ]
  },
  {
   "cell_type": "code",
   "execution_count": null,
   "id": "3e4796b0",
   "metadata": {},
   "outputs": [],
   "source": []
  }
 ],
 "metadata": {
  "kernelspec": {
   "display_name": "Python 3",
   "language": "python",
   "name": "python3"
  },
  "language_info": {
   "codemirror_mode": {
    "name": "ipython",
    "version": 3
   },
   "file_extension": ".py",
   "mimetype": "text/x-python",
   "name": "python",
   "nbconvert_exporter": "python",
   "pygments_lexer": "ipython3",
   "version": "3.8.8"
  }
 },
 "nbformat": 4,
 "nbformat_minor": 5
}
