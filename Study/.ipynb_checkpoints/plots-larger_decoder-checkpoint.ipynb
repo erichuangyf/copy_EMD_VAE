{
 "cells": [
  {
   "cell_type": "code",
   "execution_count": 1,
   "id": "6c71b4cc",
   "metadata": {
    "scrolled": true
   },
   "outputs": [
    {
     "name": "stdout",
     "output_type": "stream",
     "text": [
      "log.csv                              model_weights_end_1490_1.2e-02.hdf5\r\n",
      "model_weights_1046.hdf5              model_weights_end_1532_2.4e-02.hdf5\r\n",
      "model_weights_1086.hdf5              model_weights_end_1541_4.9e-02.hdf5\r\n",
      "model_weights_1178.hdf5              model_weights_end_1551_1.0e-01.hdf5\r\n",
      "model_weights_120.hdf5               model_weights_end_1560_2.0e-01.hdf5\r\n",
      "model_weights_1218.hdf5              model_weights_end_1572_4.1e-01.hdf5\r\n",
      "model_weights_1385.hdf5              model_weights_end_1579_8.4e-01.hdf5\r\n",
      "model_weights_1472.hdf5              model_weights_end_1591_1.7e+00.hdf5\r\n",
      "model_weights_1530.hdf5              model_weights_end_1600_3.4e+00.hdf5\r\n",
      "model_weights_160.hdf5               model_weights_end_1609_7.0e+00.hdf5\r\n",
      "model_weights_200.hdf5               model_weights_end_225_1.0e-04.hdf5\r\n",
      "model_weights_291.hdf5               model_weights_end_251_1.8e-04.hdf5\r\n",
      "model_weights_383.hdf5               model_weights_end_299_3.2e-04.hdf5\r\n",
      "model_weights_40.hdf5                model_weights_end_311_5.8e-04.hdf5\r\n",
      "model_weights_477.hdf5               model_weights_end_343_1.0e-03.hdf5\r\n",
      "model_weights_748.hdf5               model_weights_end_382_1.9e-03.hdf5\r\n",
      "model_weights_788.hdf5               model_weights_end_398_3.4e-03.hdf5\r\n",
      "model_weights_80.hdf5                model_weights_end_425_6.1e-03.hdf5\r\n",
      "model_weights_828.hdf5               model_weights_end_437_1.1e-02.hdf5\r\n",
      "model_weights_868.hdf5               model_weights_end_486_2.0e-02.hdf5\r\n",
      "model_weights_908.hdf5               model_weights_end_516_3.5e-02.hdf5\r\n",
      "model_weights_948.hdf5               model_weights_end_533_6.4e-02.hdf5\r\n",
      "model_weights_988.hdf5               model_weights_end_549_1.1e-01.hdf5\r\n",
      "model_weights_end_1006_2.9e-03.hdf5  model_weights_end_558_2.1e-01.hdf5\r\n",
      "model_weights_end_1095_1.4e-03.hdf5  model_weights_end_571_3.7e-01.hdf5\r\n",
      "model_weights_end_1102_7.0e-04.hdf5  model_weights_end_581_6.7e-01.hdf5\r\n",
      "model_weights_end_1138_3.5e-04.hdf5  model_weights_end_593_1.2e+00.hdf5\r\n",
      "model_weights_end_1232_1.7e-04.hdf5  model_weights_end_598_2.2e+00.hdf5\r\n",
      "model_weights_end_1237_8.4e-05.hdf5  model_weights_end_603_3.9e+00.hdf5\r\n",
      "model_weights_end_1245_4.1e-05.hdf5  model_weights_end_610_7.0e+00.hdf5\r\n",
      "model_weights_end_1256_2.0e-05.hdf5  model_weights_end_618_3.4e+00.hdf5\r\n",
      "model_weights_end_1268_1.0e-05.hdf5  model_weights_end_628_1.7e+00.hdf5\r\n",
      "model_weights_end_1283_2.0e-05.hdf5  model_weights_end_641_8.4e-01.hdf5\r\n",
      "model_weights_end_1293_4.1e-05.hdf5  model_weights_end_655_4.1e-01.hdf5\r\n",
      "model_weights_end_1298_8.4e-05.hdf5  model_weights_end_662_2.0e-01.hdf5\r\n",
      "model_weights_end_1329_1.7e-04.hdf5  model_weights_end_686_1.0e-01.hdf5\r\n",
      "model_weights_end_1338_3.5e-04.hdf5  model_weights_end_696_4.9e-02.hdf5\r\n",
      "model_weights_end_1345_7.0e-04.hdf5  model_weights_end_702_2.4e-02.hdf5\r\n",
      "model_weights_end_1387_1.4e-03.hdf5  model_weights_end_708_1.2e-02.hdf5\r\n",
      "model_weights_end_1402_2.9e-03.hdf5  model_weights_end_996_5.9e-03.hdf5\r\n",
      "model_weights_end_1432_5.9e-03.hdf5  vae_args.dat\r\n"
     ]
    }
   ],
   "source": [
    "%ls /global/home/users/yifengh3/B_result/B_train_decoder_fixed"
   ]
  },
  {
   "cell_type": "code",
   "execution_count": 2,
   "id": "ad4aff72",
   "metadata": {},
   "outputs": [
    {
     "name": "stdout",
     "output_type": "stream",
     "text": [
      "/global/home/users/yifengh3/B_result/B_train_decoder_fixed\n"
     ]
    }
   ],
   "source": [
    "%cd /global/home/users/yifengh3/B_result/B_train_decoder_fixed"
   ]
  },
  {
   "cell_type": "code",
   "execution_count": null,
   "id": "056d589d",
   "metadata": {
    "scrolled": false
   },
   "outputs": [
    {
     "name": "stdout",
     "output_type": "stream",
     "text": [
      "Namespace(img_prefix='./plots/', model_dir='.', utils=None)\n",
      "Saving files with prefix ./plots/\n",
      "1 Physical GPUs, 0 Logical GPUs\n",
      "Arguments count: 4\n",
      "Argument      0: /global/home/users/yifengh3/EMD_VAE/Study_B.py\n",
      "Argument      1: .\n",
      "Argument      2: --img_prefix\n",
      "Argument      3: ./plots/\n",
      "WARNING:tensorflow:Collective ops is not configured at program startup. Some performance features may not be enabled.\n",
      "INFO:tensorflow:Using MirroredStrategy with devices ('/device:CPU:0',)\n",
      "INFO:tensorflow:Single-worker MultiWorkerMirroredStrategy with local_devices = ('/device:CPU:0',), communication = CommunicationImplementation.AUTO\n",
      "(1000000, 150)\n",
      "Memory in GB: 2.250075340270996\n",
      "\n",
      "\n",
      " vae_arg_dict: {'encoder_conv_layers': [2048, 2048, 1028, 1024], 'dense_size': [1028, 1028, 1028, 512], 'decoder_sizes': [4096, 2048, 1028, 512, 512], 'numItermaxinner': 40, 'numIter': 10, 'reg_init': 1.0, 'reg_final': 0.01, 'stopThr': 0.001, 'num_inputs': 4, 'num_particles_in': 50}\n",
      "WARNING:tensorflow:From /global/home/users/yifengh3/anaconda3/envs/tf2/lib/python3.8/site-packages/tensorflow/python/ops/linalg/linear_operator_diag.py:167: calling LinearOperator.__init__ (from tensorflow.python.ops.linalg.linear_operator) with graph_parents is deprecated and will be removed in a future version.\n",
      "Instructions for updating:\n",
      "Do not pass `graph_parents`.  They will  no longer be used.\n",
      "Model: \"VAE\"\n",
      "__________________________________________________________________________________________________\n",
      "Layer (type)                    Output Shape         Param #     Connected to                     \n",
      "==================================================================================================\n",
      "inputs (InputLayer)             [(None, 50, 4)]      0                                            \n",
      "__________________________________________________________________________________________________\n",
      "conv1d (Conv1D)                 (None, 50, 2048)     10240       inputs[0][0]                     \n",
      "__________________________________________________________________________________________________\n",
      "re_lu (ReLU)                    (None, 50, 2048)     0           conv1d[0][0]                     \n",
      "__________________________________________________________________________________________________\n",
      "conv1d_1 (Conv1D)               (None, 50, 2048)     4196352     re_lu[0][0]                      \n",
      "__________________________________________________________________________________________________\n",
      "re_lu_1 (ReLU)                  (None, 50, 2048)     0           conv1d_1[0][0]                   \n",
      "__________________________________________________________________________________________________\n",
      "conv1d_2 (Conv1D)               (None, 50, 1028)     2106372     re_lu_1[0][0]                    \n",
      "__________________________________________________________________________________________________\n",
      "re_lu_2 (ReLU)                  (None, 50, 1028)     0           conv1d_2[0][0]                   \n",
      "__________________________________________________________________________________________________\n",
      "conv1d_3 (Conv1D)               (None, 50, 1024)     1053696     re_lu_2[0][0]                    \n",
      "__________________________________________________________________________________________________\n",
      "re_lu_3 (ReLU)                  (None, 50, 1024)     0           conv1d_3[0][0]                   \n",
      "__________________________________________________________________________________________________\n",
      "tf.math.reduce_sum (TFOpLambda) (None, 1024)         0           re_lu_3[0][0]                    \n",
      "__________________________________________________________________________________________________\n",
      "dense (Dense)                   (None, 1028)         1053700     tf.math.reduce_sum[0][0]         \n",
      "__________________________________________________________________________________________________\n",
      "re_lu_4 (ReLU)                  (None, 1028)         0           dense[0][0]                      \n",
      "__________________________________________________________________________________________________\n",
      "dense_1 (Dense)                 (None, 1028)         1057812     re_lu_4[0][0]                    \n",
      "__________________________________________________________________________________________________\n",
      "re_lu_5 (ReLU)                  (None, 1028)         0           dense_1[0][0]                    \n",
      "__________________________________________________________________________________________________\n",
      "dense_2 (Dense)                 (None, 1028)         1057812     re_lu_5[0][0]                    \n",
      "__________________________________________________________________________________________________\n",
      "re_lu_6 (ReLU)                  (None, 1028)         0           dense_2[0][0]                    \n",
      "__________________________________________________________________________________________________\n",
      "dense_3 (Dense)                 (None, 512)          526848      re_lu_6[0][0]                    \n",
      "__________________________________________________________________________________________________\n",
      "re_lu_7 (ReLU)                  (None, 512)          0           dense_3[0][0]                    \n",
      "__________________________________________________________________________________________________\n",
      "z_mean (Dense)                  (None, 128)          65664       re_lu_7[0][0]                    \n",
      "__________________________________________________________________________________________________\n",
      "z_log_var (Dense)               (None, 128)          65664       re_lu_7[0][0]                    \n",
      "__________________________________________________________________________________________________\n",
      "encoder (Functional)            multiple             11194160    inputs[0][0]                     \n",
      "__________________________________________________________________________________________________\n",
      "tf.stack (TFOpLambda)           (2, None, 128)       0           z_mean[0][0]                     \n",
      "                                                                 z_log_var[0][0]                  \n",
      "__________________________________________________________________________________________________\n",
      "decoder (Functional)            (None, 50, 3)        11917516    encoder[0][2]                    \n",
      "__________________________________________________________________________________________________\n",
      "encoder_gauss_distribution (Dis multiple             0           tf.stack[0][0]                   \n",
      "==================================================================================================\n",
      "Total params: 23,111,677\n",
      "Trainable params: 23,111,676\n",
      "Non-trainable params: 1\n",
      "__________________________________________________________________________________________________\n",
      "WARNING:tensorflow:AutoGraph could not transform <function build_and_compile_annealing_vae.<locals>.recon_loss at 0x7f864c7b2ca0> and will run it as-is.\n",
      "Please report this to the TensorFlow team. When filing the bug, set the verbosity to 10 (on Linux, `export AUTOGRAPH_VERBOSITY=10`) and attach the full output.\n",
      "Cause: module 'gast' has no attribute 'Index'\n",
      "To silence this warning, decorate the function with @tf.autograph.experimental.do_not_convert\n",
      "WARNING: AutoGraph could not transform <function build_and_compile_annealing_vae.<locals>.recon_loss at 0x7f864c7b2ca0> and will run it as-is.\n",
      "Please report this to the TensorFlow team. When filing the bug, set the verbosity to 10 (on Linux, `export AUTOGRAPH_VERBOSITY=10`) and attach the full output.\n",
      "Cause: module 'gast' has no attribute 'Index'\n",
      "To silence this warning, decorate the function with @tf.autograph.experimental.do_not_convert\n",
      "WARNING:tensorflow:AutoGraph could not transform <bound method sinkhorn_knopp_tf_scaling_stabilized_class.do_dense of <tensorflow.python.eager.function.TfMethodTarget object at 0x7f863c096d00>> and will run it as-is.\n",
      "Please report this to the TensorFlow team. When filing the bug, set the verbosity to 10 (on Linux, `export AUTOGRAPH_VERBOSITY=10`) and attach the full output.\n",
      "Cause: module 'gast' has no attribute 'Index'\n",
      "To silence this warning, decorate the function with @tf.autograph.experimental.do_not_convert\n",
      "WARNING: AutoGraph could not transform <bound method sinkhorn_knopp_tf_scaling_stabilized_class.do_dense of <tensorflow.python.eager.function.TfMethodTarget object at 0x7f863c096d00>> and will run it as-is.\n",
      "Please report this to the TensorFlow team. When filing the bug, set the verbosity to 10 (on Linux, `export AUTOGRAPH_VERBOSITY=10`) and attach the full output.\n",
      "Cause: module 'gast' has no attribute 'Index'\n",
      "To silence this warning, decorate the function with @tf.autograph.experimental.do_not_convert\n"
     ]
    },
    {
     "name": "stdout",
     "output_type": "stream",
     "text": [
      "WARNING:tensorflow:AutoGraph could not transform <bound method sinkhorn_knopp_tf_stabilized_alt_class.do_dense of <tensorflow.python.eager.function.TfMethodTarget object at 0x7f85fc34aca0>> and will run it as-is.\n",
      "Please report this to the TensorFlow team. When filing the bug, set the verbosity to 10 (on Linux, `export AUTOGRAPH_VERBOSITY=10`) and attach the full output.\n",
      "Cause: module 'gast' has no attribute 'Index'\n",
      "To silence this warning, decorate the function with @tf.autograph.experimental.do_not_convert\n",
      "WARNING: AutoGraph could not transform <bound method sinkhorn_knopp_tf_stabilized_alt_class.do_dense of <tensorflow.python.eager.function.TfMethodTarget object at 0x7f85fc34aca0>> and will run it as-is.\n",
      "Please report this to the TensorFlow team. When filing the bug, set the verbosity to 10 (on Linux, `export AUTOGRAPH_VERBOSITY=10`) and attach the full output.\n",
      "Cause: module 'gast' has no attribute 'Index'\n",
      "To silence this warning, decorate the function with @tf.autograph.experimental.do_not_convert\n"
     ]
    }
   ],
   "source": [
    "%run ~/EMD_VAE/Study_B.py . --img_prefix ./plots/"
   ]
  },
  {
   "cell_type": "code",
   "execution_count": null,
   "id": "3e4796b0",
   "metadata": {},
   "outputs": [],
   "source": []
  }
 ],
 "metadata": {
  "kernelspec": {
   "display_name": "Python 3",
   "language": "python",
   "name": "python3"
  },
  "language_info": {
   "codemirror_mode": {
    "name": "ipython",
    "version": 3
   },
   "file_extension": ".py",
   "mimetype": "text/x-python",
   "name": "python",
   "nbconvert_exporter": "python",
   "pygments_lexer": "ipython3",
   "version": "3.8.8"
  }
 },
 "nbformat": 4,
 "nbformat_minor": 5
}
