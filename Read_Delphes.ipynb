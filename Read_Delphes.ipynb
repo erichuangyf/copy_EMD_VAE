{
 "cells": [
  {
   "cell_type": "code",
   "execution_count": 12,
   "metadata": {},
   "outputs": [],
   "source": [
    "import ROOT\n",
    "import numpy as np\n",
    "import matplotlib.pyplot as plt\n",
    "import fastjet as fj\n",
    "import pandas as pd\n",
    "\n",
    "ROOT.gSystem.Load(\"libDelphes\")\n",
    "\n",
    "try:\n",
    "    ROOT.gInterpreter.Declare('#include \"classes/DelphesClasses.h\"')\n",
    "    ROOT.gInterpreter.Declare('#include \"external/ExRootAnalysis/ExRootTreeReader.h\"')\n",
    "except:\n",
    "    pass\n",
    "\n",
    "fnames = ['/media/sda1/mono_W_2/Events/1m_0/tag_1_delphes_events.root',\n",
    "         '/media/sda1/mono_W_2/Events/1m_1/tag_2_delphes_events.root',\n",
    "         '/media/sda1/mono_W_2/Events/1m_2/tag_1_delphes_events.root']"
   ]
  },
  {
   "cell_type": "code",
   "execution_count": 13,
   "metadata": {},
   "outputs": [],
   "source": [
    "chain = ROOT.TChain(\"Delphes\")\n",
    "for fname in fnames:\n",
    "    chain.Add(fname)\n",
    "\n",
    "treeReader = ROOT.ExRootTreeReader(chain)\n",
    "nEntries = treeReader.GetEntries()\n",
    "\n",
    "branchParticle = treeReader.UseBranch(\"Particle\")\n",
    "branchJet = treeReader.UseBranch(\"GenJet\")"
   ]
  },
  {
   "cell_type": "code",
   "execution_count": 15,
   "metadata": {},
   "outputs": [
    {
     "name": "stdout",
     "output_type": "stream",
     "text": [
      "0\n",
      "100000\n",
      "200000\n",
      "300000\n",
      "400000\n",
      "500000\n",
      "600000\n",
      "700000\n",
      "800000\n",
      "900000\n",
      "1000000\n",
      "1100000\n",
      "1200000\n",
      "1300000\n",
      "1400000\n",
      "1500000\n",
      "1600000\n",
      "1700000\n",
      "1800000\n",
      "1900000\n",
      "Number passing pT and eta cuts: 862444\n"
     ]
    }
   ],
   "source": [
    "numpass = 0\n",
    "passes = []\n",
    "\n",
    "for i, entry in enumerate(range(nEntries)):\n",
    "    if i%100000 == 0:\n",
    "        print(i)\n",
    "    treeReader.ReadEntry(entry)\n",
    "    jets = branchJet\n",
    "    jet = jets.At(0)\n",
    "\n",
    "    if np.logical_and.reduce([jet.PT < 600,jet.PT > 500,np.abs(jet.Eta)<2]):\n",
    "        numpass += 1\n",
    "        passes += [i]\n",
    "\n",
    "print(\"Number passing pT and eta cuts:\", numpass)"
   ]
  },
  {
   "cell_type": "code",
   "execution_count": 31,
   "metadata": {},
   "outputs": [
    {
     "name": "stdout",
     "output_type": "stream",
     "text": [
      "0\n",
      "100000\n",
      "200000\n",
      "300000\n",
      "400000\n",
      "500000\n",
      "600000\n",
      "700000\n",
      "800000\n",
      "900000\n",
      "1000000\n",
      "1100000\n",
      "1200000\n",
      "1300000\n",
      "1400000\n",
      "1500000\n",
      "1600000\n",
      "1700000\n",
      "1800000\n",
      "1900000\n",
      "Number passing pT and eta cuts: 602055\n"
     ]
    }
   ],
   "source": [
    "numpass = 0\n",
    "passes = []\n",
    "\n",
    "for i, entry in enumerate(range(nEntries)):\n",
    "    if i%100000 == 0:\n",
    "        print(i)\n",
    "    treeReader.ReadEntry(entry)\n",
    "    jets = branchJet\n",
    "    jet = jets.At(0)\n",
    "\n",
    "    if np.logical_and.reduce([jet.PT < 600,jet.PT > 500,\n",
    "                              np.abs(jet.Eta)<2,\n",
    "                              jet.Mass >75.,jet.Mass < 110.]):\n",
    "        numpass += 1\n",
    "        passes += [i]\n",
    "\n",
    "print(\"Number passing pT and eta cuts:\", numpass)"
   ]
  },
  {
   "cell_type": "code",
   "execution_count": 30,
   "metadata": {},
   "outputs": [
    {
     "data": {
      "text/plain": [
       "308.41021728515625"
      ]
     },
     "execution_count": 30,
     "metadata": {},
     "output_type": "execute_result"
    }
   ],
   "source": [
    "jet.Mass"
   ]
  },
  {
   "cell_type": "code",
   "execution_count": 32,
   "metadata": {},
   "outputs": [
    {
     "name": "stdout",
     "output_type": "stream",
     "text": [
      "0 of 602055\n",
      "10000 of 602055\n",
      "20000 of 602055\n",
      "30000 of 602055\n",
      "40000 of 602055\n",
      "50000 of 602055\n",
      "60000 of 602055\n",
      "70000 of 602055\n",
      "80000 of 602055\n",
      "90000 of 602055\n",
      "100000 of 602055\n",
      "110000 of 602055\n",
      "120000 of 602055\n",
      "130000 of 602055\n",
      "140000 of 602055\n",
      "150000 of 602055\n",
      "160000 of 602055\n",
      "170000 of 602055\n",
      "180000 of 602055\n",
      "190000 of 602055\n",
      "200000 of 602055\n",
      "210000 of 602055\n",
      "220000 of 602055\n",
      "230000 of 602055\n",
      "240000 of 602055\n",
      "250000 of 602055\n",
      "260000 of 602055\n",
      "270000 of 602055\n",
      "280000 of 602055\n",
      "290000 of 602055\n",
      "300000 of 602055\n",
      "310000 of 602055\n",
      "320000 of 602055\n",
      "330000 of 602055\n",
      "340000 of 602055\n",
      "350000 of 602055\n",
      "360000 of 602055\n",
      "370000 of 602055\n",
      "380000 of 602055\n",
      "390000 of 602055\n",
      "400000 of 602055\n",
      "410000 of 602055\n",
      "420000 of 602055\n",
      "430000 of 602055\n",
      "440000 of 602055\n",
      "450000 of 602055\n",
      "460000 of 602055\n",
      "470000 of 602055\n",
      "480000 of 602055\n",
      "490000 of 602055\n",
      "500000 of 602055\n",
      "510000 of 602055\n",
      "520000 of 602055\n",
      "530000 of 602055\n",
      "540000 of 602055\n",
      "550000 of 602055\n",
      "560000 of 602055\n",
      "570000 of 602055\n",
      "580000 of 602055\n",
      "590000 of 602055\n",
      "600000 of 602055\n"
     ]
    }
   ],
   "source": [
    "#nEntries=12\n",
    "numparticles_pre = np.zeros(numpass)\n",
    "numparticles_post = np.zeros(numpass)\n",
    "\n",
    "masses = np.zeros(numpass)\n",
    "masses2 = np.zeros(numpass)\n",
    "pTs = np.zeros(numpass)\n",
    "etas = np.zeros(numpass)\n",
    "\n",
    "jet_def = fj.JetDefinition(fj.antikt_algorithm, 0.07)\n",
    "\n",
    "# pt, eta, phi, m\n",
    "out_data = np.zeros((numpass,50,4))\n",
    "\n",
    "for i, entry in enumerate(passes):\n",
    "    if i%10000 == 0:\n",
    "        print(i, \"of\", numpass)\n",
    "    treeReader.ReadEntry(entry)\n",
    "    jets = branchJet\n",
    "    jet = jets.At(0)\n",
    "    \n",
    "    etas[i] = jet.Eta\n",
    "    masses[i] = jet.Mass\n",
    "    pTs[i] = jet.PT\n",
    "    \n",
    "    parts = jet.Constituents\n",
    "    numparticles_pre[i] = parts.GetEntries()\n",
    "    \n",
    "    parts_pj = []\n",
    "    for part in parts:\n",
    "        parts_pj += [fj.PseudoJet(part.Px,part.Py,part.Pz,part.E)]\n",
    "    sequence = fj.ClusterSequence(parts_pj,jet_def)\n",
    "    reclustered = fj.sorted_by_pt(sequence.inclusive_jets(ptmin=0.))\n",
    "    \n",
    "    newjet = fj.PseudoJet()\n",
    "    for j in range(min(50,len(reclustered))):\n",
    "        newjet += reclustered[j]\n",
    "    masses2[i] = newjet.m()\n",
    "    \n",
    "                   \n",
    "    numparticles_post[i] = len(reclustered)    \n",
    "    \n",
    "    \n",
    "    \n",
    "    numparts = min(50,len(reclustered))\n",
    "    for j in range(numparts):\n",
    "        particle = reclustered[j]\n",
    "        out_data[i,j,0] = particle.pt()\n",
    "        out_data[i,j,1] = particle.eta()\n",
    "        out_data[i,j,2] = particle.phi() - np.pi\n",
    "        out_data[i,j,3] = particle.E()\n",
    "        \n",
    "    for j in range(numparts,50):\n",
    "        out_data[i,j,1] = jet.Eta\n",
    "        out_data[i,j,2] = jet.Phi"
   ]
  },
  {
   "cell_type": "code",
   "execution_count": 33,
   "metadata": {},
   "outputs": [
    {
     "data": {
      "image/png": "[encoded data removed]",
      "text/plain": [
       "<Figure size 432x288 with 1 Axes>"
      ]
     },
     "metadata": {
      "needs_background": "light"
     },
     "output_type": "display_data"
    }
   ],
   "source": [
    "plt.hist(out_data[:,:,2].flatten(),bins=20)\n",
    "plt.show()"
   ]
  },
  {
   "cell_type": "code",
   "execution_count": 34,
   "metadata": {},
   "outputs": [
    {
     "data": {
      "image/png": "[encoded data removed]",
      "text/plain": [
       "<Figure size 432x288 with 1 Axes>"
      ]
     },
     "metadata": {
      "needs_background": "light"
     },
     "output_type": "display_data"
    },
    {
     "data": {
      "image/png": "[encoded data removed]",
      "text/plain": [
       "<Figure size 432x288 with 1 Axes>"
      ]
     },
     "metadata": {
      "needs_background": "light"
     },
     "output_type": "display_data"
    },
    {
     "data": {
      "image/png": "[encoded data removed]",
      "text/plain": [
       "<Figure size 432x288 with 1 Axes>"
      ]
     },
     "metadata": {
      "needs_background": "light"
     },
     "output_type": "display_data"
    },
    {
     "data": {
      "image/png": "[encoded data removed]",
      "text/plain": [
       "<Figure size 432x288 with 1 Axes>"
      ]
     },
     "metadata": {
      "needs_background": "light"
     },
     "output_type": "display_data"
    }
   ],
   "source": [
    "plt.hist(etas,bins=np.linspace(-3,3,60))\n",
    "plt.show()\n",
    "plt.hist(pTs,bins=np.linspace(450,700,80))\n",
    "plt.show()\n",
    "plt.hist(masses,bins=np.linspace(0,200,20))\n",
    "plt.show()\n",
    "plt.hist(masses2,bins=np.linspace(0,200,20))\n",
    "plt.show()"
   ]
  },
  {
   "cell_type": "code",
   "execution_count": 39,
   "metadata": {},
   "outputs": [
    {
     "data": {
      "image/png": "[encoded data removed]",
      "text/plain": [
       "<Figure size 432x288 with 1 Axes>"
      ]
     },
     "metadata": {
      "needs_background": "light"
     },
     "output_type": "display_data"
    }
   ],
   "source": [
    "plt.hist(numparticles_pre,histtype='step',bins = np.linspace(0,150,20))\n",
    "plt.hist(numparticles_post,histtype='step',bins = np.linspace(0,150,20))\n",
    "plt.show()"
   ]
  },
  {
   "cell_type": "code",
   "execution_count": 36,
   "metadata": {},
   "outputs": [],
   "source": [
    "out_data = out_data.reshape((-1,50*4))"
   ]
  },
  {
   "cell_type": "code",
   "execution_count": 40,
   "metadata": {},
   "outputs": [],
   "source": [
    "columns = []\n",
    "for i in range(50):\n",
    "    columns += ['pT' + str(i), 'eta' + str(i), 'phi' + str(i), 'E' + str(i)]"
   ]
  },
  {
   "cell_type": "code",
   "execution_count": 41,
   "metadata": {},
   "outputs": [],
   "source": [
    "outstore = pd.HDFStore(\"/home/jcollins/projects/EMD_VAE/in_data/monoW-data-3.h5\")\n",
    "dictionary = dict(zip(columns, out_data.T))\n",
    "out_df = pd.DataFrame(dictionary,columns=columns)\n",
    "outstore.append('particles',out_df)\n",
    "outstore.close()\n"
   ]
  },
  {
   "cell_type": "code",
   "execution_count": null,
   "metadata": {},
   "outputs": [],
   "source": []
  }
 ],
 "metadata": {
  "kernelspec": {
   "display_name": "Python 3",
   "language": "python",
   "name": "python3"
  },
  "language_info": {
   "codemirror_mode": {
    "name": "ipython",
    "version": 3
   },
   "file_extension": ".py",
   "mimetype": "text/x-python",
   "name": "python",
   "nbconvert_exporter": "python",
   "pygments_lexer": "ipython3",
   "version": "3.8.5"
  }
 },
 "nbformat": 4,
 "nbformat_minor": 4
}
